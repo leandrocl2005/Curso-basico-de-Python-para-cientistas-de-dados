{
 "cells": [
  {
   "cell_type": "code",
   "execution_count": 56,
   "id": "270891ce",
   "metadata": {},
   "outputs": [],
   "source": [
    "import sqlite3\n",
    "import pandas as pd"
   ]
  },
  {
   "cell_type": "markdown",
   "id": "127d61f7",
   "metadata": {},
   "source": [
    "# CONNECTION"
   ]
  },
  {
   "cell_type": "code",
   "execution_count": 39,
   "id": "9100cb0a",
   "metadata": {},
   "outputs": [],
   "source": [
    "conn = sqlite3.connect(\"afazeres.db\")"
   ]
  },
  {
   "cell_type": "markdown",
   "id": "b2aa1b74",
   "metadata": {},
   "source": [
    "# CREATE TABLE"
   ]
  },
  {
   "cell_type": "code",
   "execution_count": 40,
   "id": "c0076ae5",
   "metadata": {},
   "outputs": [],
   "source": [
    "conn.execute(\"\"\"\n",
    "    CREATE TABLE IF NOT EXISTS tasks\n",
    "    (\n",
    "        id INTEGER PRIMARY KEY AUTOINCREMENT,\n",
    "        description TEXT,\n",
    "        done INTEGER\n",
    "    )    \n",
    "\"\"\")\n",
    "conn.commit()"
   ]
  },
  {
   "cell_type": "markdown",
   "id": "97fe6470",
   "metadata": {},
   "source": [
    "# CREATE"
   ]
  },
  {
   "cell_type": "code",
   "execution_count": 60,
   "id": "2b873bc2",
   "metadata": {},
   "outputs": [],
   "source": [
    "conn.execute(\"\"\"\n",
    "    INSERT INTO tasks (description, done)\n",
    "    VALUES ('Estudar seaborn', 0);    \n",
    "\"\"\")\n",
    "conn.commit()"
   ]
  },
  {
   "cell_type": "markdown",
   "id": "b3130054",
   "metadata": {},
   "source": [
    "# READ"
   ]
  },
  {
   "cell_type": "code",
   "execution_count": 72,
   "id": "408aff54",
   "metadata": {},
   "outputs": [
    {
     "ename": "OperationalError",
     "evalue": "no such table: tasks",
     "output_type": "error",
     "traceback": [
      "\u001b[1;31m---------------------------------------------------------------------------\u001b[0m",
      "\u001b[1;31mOperationalError\u001b[0m                          Traceback (most recent call last)",
      "Cell \u001b[1;32mIn[72], line 1\u001b[0m\n\u001b[1;32m----> 1\u001b[0m results \u001b[38;5;241m=\u001b[39m \u001b[43mconn\u001b[49m\u001b[38;5;241;43m.\u001b[39;49m\u001b[43mexecute\u001b[49m\u001b[43m(\u001b[49m\u001b[38;5;124;43m\"\"\"\u001b[39;49m\n\u001b[0;32m      2\u001b[0m \u001b[38;5;124;43m    SELECT *\u001b[39;49m\n\u001b[0;32m      3\u001b[0m \u001b[38;5;124;43m    FROM tasks\u001b[39;49m\n\u001b[0;32m      4\u001b[0m \u001b[38;5;124;43m\"\"\"\u001b[39;49m\u001b[43m)\u001b[49m\u001b[38;5;241m.\u001b[39mfetchall()\n\u001b[0;32m      5\u001b[0m \u001b[38;5;28;01mfor\u001b[39;00m result \u001b[38;5;129;01min\u001b[39;00m results:\n\u001b[0;32m      6\u001b[0m     \u001b[38;5;28mprint\u001b[39m(result)\n",
      "\u001b[1;31mOperationalError\u001b[0m: no such table: tasks"
     ]
    }
   ],
   "source": [
    "results = conn.execute(\"\"\"\n",
    "    SELECT *\n",
    "    FROM tasks\n",
    "\"\"\").fetchall()\n",
    "for result in results:\n",
    "    print(result)"
   ]
  },
  {
   "cell_type": "code",
   "execution_count": 50,
   "id": "1485467a",
   "metadata": {},
   "outputs": [
    {
     "name": "stdout",
     "output_type": "stream",
     "text": [
      "('Estudar pandas',)\n",
      "('Lavar roupa',)\n"
     ]
    }
   ],
   "source": [
    "results = conn.execute(\"\"\"\n",
    "    SELECT description\n",
    "    FROM tasks\n",
    "    WHERE done=0\n",
    "\"\"\").fetchall()\n",
    "for result in results:\n",
    "    print(result)"
   ]
  },
  {
   "cell_type": "markdown",
   "id": "370c4922",
   "metadata": {},
   "source": [
    "# UPDATE"
   ]
  },
  {
   "cell_type": "code",
   "execution_count": 51,
   "id": "db9a9db4",
   "metadata": {},
   "outputs": [],
   "source": [
    "conn.execute(\"\"\"\n",
    "    UPDATE tasks\n",
    "    SET done=1\n",
    "    WHERE id=3\n",
    "\"\"\")\n",
    "conn.commit()"
   ]
  },
  {
   "cell_type": "markdown",
   "id": "540fab66",
   "metadata": {},
   "source": [
    "# DELETE"
   ]
  },
  {
   "cell_type": "code",
   "execution_count": 53,
   "id": "f18d22d2",
   "metadata": {},
   "outputs": [],
   "source": [
    "conn.execute(\"\"\"\n",
    "    DELETE FROM tasks\n",
    "    WHERE id=1\n",
    "\"\"\")\n",
    "conn.commit()"
   ]
  },
  {
   "cell_type": "markdown",
   "id": "e3d703ee",
   "metadata": {},
   "source": [
    "# Pandas query"
   ]
  },
  {
   "cell_type": "code",
   "execution_count": 66,
   "id": "31ce273a",
   "metadata": {},
   "outputs": [
    {
     "data": {
      "text/html": [
       "<div>\n",
       "<style scoped>\n",
       "    .dataframe tbody tr th:only-of-type {\n",
       "        vertical-align: middle;\n",
       "    }\n",
       "\n",
       "    .dataframe tbody tr th {\n",
       "        vertical-align: top;\n",
       "    }\n",
       "\n",
       "    .dataframe thead th {\n",
       "        text-align: right;\n",
       "    }\n",
       "</style>\n",
       "<table border=\"1\" class=\"dataframe\">\n",
       "  <thead>\n",
       "    <tr style=\"text-align: right;\">\n",
       "      <th></th>\n",
       "      <th>id</th>\n",
       "      <th>description</th>\n",
       "      <th>done</th>\n",
       "    </tr>\n",
       "  </thead>\n",
       "  <tbody>\n",
       "    <tr>\n",
       "      <th>0</th>\n",
       "      <td>2</td>\n",
       "      <td>Lavar louça</td>\n",
       "      <td>1</td>\n",
       "    </tr>\n",
       "    <tr>\n",
       "      <th>1</th>\n",
       "      <td>3</td>\n",
       "      <td>Lavar roupa</td>\n",
       "      <td>1</td>\n",
       "    </tr>\n",
       "    <tr>\n",
       "      <th>2</th>\n",
       "      <td>4</td>\n",
       "      <td>Estudar pandas</td>\n",
       "      <td>0</td>\n",
       "    </tr>\n",
       "    <tr>\n",
       "      <th>3</th>\n",
       "      <td>5</td>\n",
       "      <td>Estudar python</td>\n",
       "      <td>0</td>\n",
       "    </tr>\n",
       "    <tr>\n",
       "      <th>4</th>\n",
       "      <td>6</td>\n",
       "      <td>Estudar matplotlib</td>\n",
       "      <td>0</td>\n",
       "    </tr>\n",
       "    <tr>\n",
       "      <th>5</th>\n",
       "      <td>7</td>\n",
       "      <td>Estudar seaborn</td>\n",
       "      <td>0</td>\n",
       "    </tr>\n",
       "  </tbody>\n",
       "</table>\n",
       "</div>"
      ],
      "text/plain": [
       "   id         description  done\n",
       "0   2         Lavar louça     1\n",
       "1   3         Lavar roupa     1\n",
       "2   4      Estudar pandas     0\n",
       "3   5      Estudar python     0\n",
       "4   6  Estudar matplotlib     0\n",
       "5   7     Estudar seaborn     0"
      ]
     },
     "execution_count": 66,
     "metadata": {},
     "output_type": "execute_result"
    }
   ],
   "source": [
    "df = pd.read_sql_query(\n",
    "    \"\"\"\n",
    "       SELECT *\n",
    "       FROM tasks\n",
    "    \"\"\",\n",
    "    conn\n",
    ")\n",
    "df"
   ]
  },
  {
   "cell_type": "markdown",
   "id": "fcc59bc2",
   "metadata": {},
   "source": [
    "# AGRUPAMENTO E AGREGAÇÃO"
   ]
  },
  {
   "cell_type": "code",
   "execution_count": 67,
   "id": "cb77725a",
   "metadata": {},
   "outputs": [
    {
     "data": {
      "text/plain": [
       "0    4\n",
       "1    2\n",
       "Name: done, dtype: int64"
      ]
     },
     "execution_count": 67,
     "metadata": {},
     "output_type": "execute_result"
    }
   ],
   "source": [
    "df['done'].value_counts()"
   ]
  },
  {
   "cell_type": "code",
   "execution_count": 70,
   "id": "b8bd9fa5",
   "metadata": {},
   "outputs": [
    {
     "name": "stdout",
     "output_type": "stream",
     "text": [
      "(0, 4)\n",
      "(1, 2)\n"
     ]
    }
   ],
   "source": [
    "results = conn.execute(\"\"\"\n",
    "    SELECT done, COUNT(*) AS done_tasks\n",
    "    FROM tasks\n",
    "    GROUP BY done;      \n",
    "\"\"\").fetchall()\n",
    "\n",
    "for result in results:\n",
    "    print(result)"
   ]
  },
  {
   "cell_type": "markdown",
   "id": "0f4f7e9b",
   "metadata": {},
   "source": [
    "# DELETE TABLE"
   ]
  },
  {
   "cell_type": "code",
   "execution_count": 71,
   "id": "3f002525",
   "metadata": {},
   "outputs": [],
   "source": [
    "conn.execute(\"DROP TABLE tasks\")\n",
    "conn.commit()"
   ]
  },
  {
   "cell_type": "markdown",
   "id": "3dd43798",
   "metadata": {},
   "source": [
    "# RELACIONAMENTO"
   ]
  },
  {
   "cell_type": "code",
   "execution_count": 73,
   "id": "d68bd73f",
   "metadata": {},
   "outputs": [],
   "source": [
    "conn.execute(\"\"\"\n",
    "    CREATE TABLE categories \n",
    "    (\n",
    "      id    INTEGER PRIMARY KEY, \n",
    "      name  TEXT NOT NULL\n",
    "    );\n",
    "\"\"\")\n",
    "\n",
    "conn.execute(\n",
    "    \"\"\"\n",
    "        INSERT INTO categories (name)\n",
    "        VALUES\n",
    "          ('casa'),\n",
    "          ('laser'),\n",
    "          ('faculdade')\n",
    "    \"\"\"\n",
    ")\n",
    "conn.commit()"
   ]
  },
  {
   "cell_type": "code",
   "execution_count": 78,
   "id": "c3ee8edc",
   "metadata": {},
   "outputs": [],
   "source": [
    "conn.execute(\"\"\"\n",
    "    CREATE TABLE tasks \n",
    "    (\n",
    "      id            INTEGER PRIMARY KEY AUTOINCREMENT, \n",
    "      description   TEXT NOT NULL,\n",
    "      done          INTEGER,\n",
    "      category_id   INTEGER NOT NULL,\n",
    "      FOREIGN KEY (category_id) REFERENCES categories (id)\n",
    "    )\n",
    "\"\"\")\n",
    "conn.commit()"
   ]
  },
  {
   "cell_type": "markdown",
   "id": "9c47062d",
   "metadata": {},
   "source": [
    "# JOIN"
   ]
  },
  {
   "cell_type": "code",
   "execution_count": 79,
   "id": "e62f0537",
   "metadata": {},
   "outputs": [],
   "source": [
    "# insert many\n",
    "conn.execute(\n",
    "    \"\"\"\n",
    "    INSERT INTO 'tasks' (description, done, category_id)\n",
    "    VALUES\n",
    "      ('Assistir Netflix', 1, 2),\n",
    "      ('Estudar matplotlib', 0, 3),\n",
    "      ('Estudar seaborn', 0, 3),\n",
    "      ('Estudar Pandas', 0, 3),\n",
    "      ('Lavar louça', 0, 1)\n",
    "    \"\"\"\n",
    ")\n",
    "conn.commit()"
   ]
  },
  {
   "cell_type": "code",
   "execution_count": 82,
   "id": "9daeed55",
   "metadata": {},
   "outputs": [
    {
     "name": "stdout",
     "output_type": "stream",
     "text": [
      "(5, 'Lavar louça', 0, 'casa')\n",
      "(2, 'Estudar matplotlib', 0, 'faculdade')\n",
      "(3, 'Estudar seaborn', 0, 'faculdade')\n",
      "(4, 'Estudar Pandas', 0, 'faculdade')\n",
      "(1, 'Assistir Netflix', 1, 'laser')\n"
     ]
    }
   ],
   "source": [
    "tasks_with_categories = conn.execute(\n",
    "    \"\"\"\n",
    "    SELECT t.id, t.description, t.done, c.name \n",
    "    FROM tasks AS t \n",
    "    INNER JOIN categories AS c\n",
    "      ON c.id = t.category_id\n",
    "    ORDER BY c.name\n",
    "    \"\"\"\n",
    ").fetchall()\n",
    "\n",
    "for task in tasks_with_categories:\n",
    "    print(task)"
   ]
  },
  {
   "cell_type": "markdown",
   "id": "0f18d3bb",
   "metadata": {},
   "source": [
    "# Close connection"
   ]
  },
  {
   "cell_type": "code",
   "execution_count": 83,
   "id": "4afebae5",
   "metadata": {},
   "outputs": [],
   "source": [
    "conn.close()"
   ]
  },
  {
   "cell_type": "markdown",
   "id": "e6a0adac",
   "metadata": {},
   "source": [
    "# Exercícios"
   ]
  },
  {
   "cell_type": "code",
   "execution_count": 84,
   "id": "b9aeb1b5",
   "metadata": {},
   "outputs": [],
   "source": [
    "conn = sqlite3.connect('../datasets/chinook.db')"
   ]
  },
  {
   "cell_type": "markdown",
   "id": "ee25e41a",
   "metadata": {},
   "source": [
    "1. Fornecer uma consulta que mostre os clientes (apenas seus nomes completos, ID do cliente e país) que não estão nos EUA."
   ]
  },
  {
   "cell_type": "code",
   "execution_count": 92,
   "id": "cc79294d",
   "metadata": {},
   "outputs": [
    {
     "data": {
      "text/html": [
       "<div>\n",
       "<style scoped>\n",
       "    .dataframe tbody tr th:only-of-type {\n",
       "        vertical-align: middle;\n",
       "    }\n",
       "\n",
       "    .dataframe tbody tr th {\n",
       "        vertical-align: top;\n",
       "    }\n",
       "\n",
       "    .dataframe thead th {\n",
       "        text-align: right;\n",
       "    }\n",
       "</style>\n",
       "<table border=\"1\" class=\"dataframe\">\n",
       "  <thead>\n",
       "    <tr style=\"text-align: right;\">\n",
       "      <th></th>\n",
       "      <th>FullName</th>\n",
       "      <th>Country</th>\n",
       "      <th>CustomerId</th>\n",
       "    </tr>\n",
       "  </thead>\n",
       "  <tbody>\n",
       "    <tr>\n",
       "      <th>0</th>\n",
       "      <td>Luís Gonçalves</td>\n",
       "      <td>Brazil</td>\n",
       "      <td>1</td>\n",
       "    </tr>\n",
       "    <tr>\n",
       "      <th>1</th>\n",
       "      <td>Leonie Köhler</td>\n",
       "      <td>Germany</td>\n",
       "      <td>2</td>\n",
       "    </tr>\n",
       "    <tr>\n",
       "      <th>2</th>\n",
       "      <td>François Tremblay</td>\n",
       "      <td>Canada</td>\n",
       "      <td>3</td>\n",
       "    </tr>\n",
       "    <tr>\n",
       "      <th>3</th>\n",
       "      <td>Bjørn Hansen</td>\n",
       "      <td>Norway</td>\n",
       "      <td>4</td>\n",
       "    </tr>\n",
       "    <tr>\n",
       "      <th>4</th>\n",
       "      <td>František Wichterlová</td>\n",
       "      <td>Czech Republic</td>\n",
       "      <td>5</td>\n",
       "    </tr>\n",
       "    <tr>\n",
       "      <th>5</th>\n",
       "      <td>Helena Holý</td>\n",
       "      <td>Czech Republic</td>\n",
       "      <td>6</td>\n",
       "    </tr>\n",
       "    <tr>\n",
       "      <th>6</th>\n",
       "      <td>Astrid Gruber</td>\n",
       "      <td>Austria</td>\n",
       "      <td>7</td>\n",
       "    </tr>\n",
       "    <tr>\n",
       "      <th>7</th>\n",
       "      <td>Daan Peeters</td>\n",
       "      <td>Belgium</td>\n",
       "      <td>8</td>\n",
       "    </tr>\n",
       "    <tr>\n",
       "      <th>8</th>\n",
       "      <td>Kara Nielsen</td>\n",
       "      <td>Denmark</td>\n",
       "      <td>9</td>\n",
       "    </tr>\n",
       "    <tr>\n",
       "      <th>9</th>\n",
       "      <td>Eduardo Martins</td>\n",
       "      <td>Brazil</td>\n",
       "      <td>10</td>\n",
       "    </tr>\n",
       "    <tr>\n",
       "      <th>10</th>\n",
       "      <td>Alexandre Rocha</td>\n",
       "      <td>Brazil</td>\n",
       "      <td>11</td>\n",
       "    </tr>\n",
       "    <tr>\n",
       "      <th>11</th>\n",
       "      <td>Roberto Almeida</td>\n",
       "      <td>Brazil</td>\n",
       "      <td>12</td>\n",
       "    </tr>\n",
       "    <tr>\n",
       "      <th>12</th>\n",
       "      <td>Fernanda Ramos</td>\n",
       "      <td>Brazil</td>\n",
       "      <td>13</td>\n",
       "    </tr>\n",
       "    <tr>\n",
       "      <th>13</th>\n",
       "      <td>Mark Philips</td>\n",
       "      <td>Canada</td>\n",
       "      <td>14</td>\n",
       "    </tr>\n",
       "    <tr>\n",
       "      <th>14</th>\n",
       "      <td>Jennifer Peterson</td>\n",
       "      <td>Canada</td>\n",
       "      <td>15</td>\n",
       "    </tr>\n",
       "    <tr>\n",
       "      <th>15</th>\n",
       "      <td>Robert Brown</td>\n",
       "      <td>Canada</td>\n",
       "      <td>29</td>\n",
       "    </tr>\n",
       "    <tr>\n",
       "      <th>16</th>\n",
       "      <td>Edward Francis</td>\n",
       "      <td>Canada</td>\n",
       "      <td>30</td>\n",
       "    </tr>\n",
       "    <tr>\n",
       "      <th>17</th>\n",
       "      <td>Martha Silk</td>\n",
       "      <td>Canada</td>\n",
       "      <td>31</td>\n",
       "    </tr>\n",
       "    <tr>\n",
       "      <th>18</th>\n",
       "      <td>Aaron Mitchell</td>\n",
       "      <td>Canada</td>\n",
       "      <td>32</td>\n",
       "    </tr>\n",
       "    <tr>\n",
       "      <th>19</th>\n",
       "      <td>Ellie Sullivan</td>\n",
       "      <td>Canada</td>\n",
       "      <td>33</td>\n",
       "    </tr>\n",
       "    <tr>\n",
       "      <th>20</th>\n",
       "      <td>João Fernandes</td>\n",
       "      <td>Portugal</td>\n",
       "      <td>34</td>\n",
       "    </tr>\n",
       "    <tr>\n",
       "      <th>21</th>\n",
       "      <td>Madalena Sampaio</td>\n",
       "      <td>Portugal</td>\n",
       "      <td>35</td>\n",
       "    </tr>\n",
       "    <tr>\n",
       "      <th>22</th>\n",
       "      <td>Hannah Schneider</td>\n",
       "      <td>Germany</td>\n",
       "      <td>36</td>\n",
       "    </tr>\n",
       "    <tr>\n",
       "      <th>23</th>\n",
       "      <td>Fynn Zimmermann</td>\n",
       "      <td>Germany</td>\n",
       "      <td>37</td>\n",
       "    </tr>\n",
       "    <tr>\n",
       "      <th>24</th>\n",
       "      <td>Niklas Schröder</td>\n",
       "      <td>Germany</td>\n",
       "      <td>38</td>\n",
       "    </tr>\n",
       "    <tr>\n",
       "      <th>25</th>\n",
       "      <td>Camille Bernard</td>\n",
       "      <td>France</td>\n",
       "      <td>39</td>\n",
       "    </tr>\n",
       "    <tr>\n",
       "      <th>26</th>\n",
       "      <td>Dominique Lefebvre</td>\n",
       "      <td>France</td>\n",
       "      <td>40</td>\n",
       "    </tr>\n",
       "    <tr>\n",
       "      <th>27</th>\n",
       "      <td>Marc Dubois</td>\n",
       "      <td>France</td>\n",
       "      <td>41</td>\n",
       "    </tr>\n",
       "    <tr>\n",
       "      <th>28</th>\n",
       "      <td>Wyatt Girard</td>\n",
       "      <td>France</td>\n",
       "      <td>42</td>\n",
       "    </tr>\n",
       "    <tr>\n",
       "      <th>29</th>\n",
       "      <td>Isabelle Mercier</td>\n",
       "      <td>France</td>\n",
       "      <td>43</td>\n",
       "    </tr>\n",
       "    <tr>\n",
       "      <th>30</th>\n",
       "      <td>Terhi Hämäläinen</td>\n",
       "      <td>Finland</td>\n",
       "      <td>44</td>\n",
       "    </tr>\n",
       "    <tr>\n",
       "      <th>31</th>\n",
       "      <td>Ladislav Kovács</td>\n",
       "      <td>Hungary</td>\n",
       "      <td>45</td>\n",
       "    </tr>\n",
       "    <tr>\n",
       "      <th>32</th>\n",
       "      <td>Hugh O'Reilly</td>\n",
       "      <td>Ireland</td>\n",
       "      <td>46</td>\n",
       "    </tr>\n",
       "    <tr>\n",
       "      <th>33</th>\n",
       "      <td>Lucas Mancini</td>\n",
       "      <td>Italy</td>\n",
       "      <td>47</td>\n",
       "    </tr>\n",
       "    <tr>\n",
       "      <th>34</th>\n",
       "      <td>Johannes Van der Berg</td>\n",
       "      <td>Netherlands</td>\n",
       "      <td>48</td>\n",
       "    </tr>\n",
       "    <tr>\n",
       "      <th>35</th>\n",
       "      <td>Stanisław Wójcik</td>\n",
       "      <td>Poland</td>\n",
       "      <td>49</td>\n",
       "    </tr>\n",
       "    <tr>\n",
       "      <th>36</th>\n",
       "      <td>Enrique Muñoz</td>\n",
       "      <td>Spain</td>\n",
       "      <td>50</td>\n",
       "    </tr>\n",
       "    <tr>\n",
       "      <th>37</th>\n",
       "      <td>Joakim Johansson</td>\n",
       "      <td>Sweden</td>\n",
       "      <td>51</td>\n",
       "    </tr>\n",
       "    <tr>\n",
       "      <th>38</th>\n",
       "      <td>Emma Jones</td>\n",
       "      <td>United Kingdom</td>\n",
       "      <td>52</td>\n",
       "    </tr>\n",
       "    <tr>\n",
       "      <th>39</th>\n",
       "      <td>Phil Hughes</td>\n",
       "      <td>United Kingdom</td>\n",
       "      <td>53</td>\n",
       "    </tr>\n",
       "    <tr>\n",
       "      <th>40</th>\n",
       "      <td>Steve Murray</td>\n",
       "      <td>United Kingdom</td>\n",
       "      <td>54</td>\n",
       "    </tr>\n",
       "    <tr>\n",
       "      <th>41</th>\n",
       "      <td>Mark Taylor</td>\n",
       "      <td>Australia</td>\n",
       "      <td>55</td>\n",
       "    </tr>\n",
       "    <tr>\n",
       "      <th>42</th>\n",
       "      <td>Diego Gutiérrez</td>\n",
       "      <td>Argentina</td>\n",
       "      <td>56</td>\n",
       "    </tr>\n",
       "    <tr>\n",
       "      <th>43</th>\n",
       "      <td>Luis Rojas</td>\n",
       "      <td>Chile</td>\n",
       "      <td>57</td>\n",
       "    </tr>\n",
       "    <tr>\n",
       "      <th>44</th>\n",
       "      <td>Manoj Pareek</td>\n",
       "      <td>India</td>\n",
       "      <td>58</td>\n",
       "    </tr>\n",
       "    <tr>\n",
       "      <th>45</th>\n",
       "      <td>Puja Srivastava</td>\n",
       "      <td>India</td>\n",
       "      <td>59</td>\n",
       "    </tr>\n",
       "  </tbody>\n",
       "</table>\n",
       "</div>"
      ],
      "text/plain": [
       "                 FullName         Country  CustomerId\n",
       "0          Luís Gonçalves          Brazil           1\n",
       "1           Leonie Köhler         Germany           2\n",
       "2       François Tremblay          Canada           3\n",
       "3            Bjørn Hansen          Norway           4\n",
       "4   František Wichterlová  Czech Republic           5\n",
       "5             Helena Holý  Czech Republic           6\n",
       "6           Astrid Gruber         Austria           7\n",
       "7            Daan Peeters         Belgium           8\n",
       "8            Kara Nielsen         Denmark           9\n",
       "9         Eduardo Martins          Brazil          10\n",
       "10        Alexandre Rocha          Brazil          11\n",
       "11        Roberto Almeida          Brazil          12\n",
       "12         Fernanda Ramos          Brazil          13\n",
       "13           Mark Philips          Canada          14\n",
       "14      Jennifer Peterson          Canada          15\n",
       "15           Robert Brown          Canada          29\n",
       "16         Edward Francis          Canada          30\n",
       "17            Martha Silk          Canada          31\n",
       "18         Aaron Mitchell          Canada          32\n",
       "19         Ellie Sullivan          Canada          33\n",
       "20         João Fernandes        Portugal          34\n",
       "21       Madalena Sampaio        Portugal          35\n",
       "22       Hannah Schneider         Germany          36\n",
       "23        Fynn Zimmermann         Germany          37\n",
       "24        Niklas Schröder         Germany          38\n",
       "25        Camille Bernard          France          39\n",
       "26     Dominique Lefebvre          France          40\n",
       "27            Marc Dubois          France          41\n",
       "28           Wyatt Girard          France          42\n",
       "29       Isabelle Mercier          France          43\n",
       "30       Terhi Hämäläinen         Finland          44\n",
       "31        Ladislav Kovács         Hungary          45\n",
       "32          Hugh O'Reilly         Ireland          46\n",
       "33          Lucas Mancini           Italy          47\n",
       "34  Johannes Van der Berg     Netherlands          48\n",
       "35       Stanisław Wójcik          Poland          49\n",
       "36          Enrique Muñoz           Spain          50\n",
       "37       Joakim Johansson          Sweden          51\n",
       "38             Emma Jones  United Kingdom          52\n",
       "39            Phil Hughes  United Kingdom          53\n",
       "40           Steve Murray  United Kingdom          54\n",
       "41            Mark Taylor       Australia          55\n",
       "42        Diego Gutiérrez       Argentina          56\n",
       "43             Luis Rojas           Chile          57\n",
       "44           Manoj Pareek           India          58\n",
       "45        Puja Srivastava           India          59"
      ]
     },
     "execution_count": 92,
     "metadata": {},
     "output_type": "execute_result"
    }
   ],
   "source": [
    "df = pd.read_sql_query(\n",
    "    \"\"\"\n",
    "        SELECT FirstName || ' ' || LastName AS FullName, Country, CustomerId\n",
    "        FROM customers\n",
    "        WHERE Country <> 'USA'\n",
    "    \"\"\",\n",
    "    conn\n",
    ")\n",
    "df"
   ]
  },
  {
   "cell_type": "code",
   "execution_count": null,
   "id": "56694685",
   "metadata": {},
   "outputs": [],
   "source": []
  },
  {
   "cell_type": "code",
   "execution_count": null,
   "id": "44029f64",
   "metadata": {},
   "outputs": [],
   "source": []
  },
  {
   "cell_type": "code",
   "execution_count": null,
   "id": "0e3c1167",
   "metadata": {},
   "outputs": [],
   "source": []
  },
  {
   "cell_type": "code",
   "execution_count": null,
   "id": "c9b4def1",
   "metadata": {},
   "outputs": [],
   "source": []
  },
  {
   "cell_type": "code",
   "execution_count": null,
   "id": "449d6246",
   "metadata": {},
   "outputs": [],
   "source": [
    "conn.execute(\"\"\"\n",
    "    \n",
    "\"\"\")"
   ]
  }
 ],
 "metadata": {
  "kernelspec": {
   "display_name": "Python 3 (ipykernel)",
   "language": "python",
   "name": "python3"
  },
  "language_info": {
   "codemirror_mode": {
    "name": "ipython",
    "version": 3
   },
   "file_extension": ".py",
   "mimetype": "text/x-python",
   "name": "python",
   "nbconvert_exporter": "python",
   "pygments_lexer": "ipython3",
   "version": "3.11.0"
  }
 },
 "nbformat": 4,
 "nbformat_minor": 5
}
