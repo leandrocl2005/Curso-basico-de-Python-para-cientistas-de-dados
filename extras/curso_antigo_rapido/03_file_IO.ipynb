{
 "cells": [
  {
   "cell_type": "markdown",
   "id": "414d0d72",
   "metadata": {},
   "source": [
    "<h2>File I/O</h2>"
   ]
  },
  {
   "cell_type": "markdown",
   "id": "042e3f4e",
   "metadata": {},
   "source": [
    "Os próximos comandos criam um arquivo .txt no diretório onde seu Jupyter Notebook está sendo executado. O arquivo será composto de três linhas, representando três itens de uma cesta de compra."
   ]
  },
  {
   "cell_type": "code",
   "execution_count": null,
   "id": "160635ac",
   "metadata": {},
   "outputs": [],
   "source": [
    "# criando o arquivo para escrita ('w')\n",
    "f = open(\"listaCompras.txt\",\"w\")\n",
    "f.write('arroz\\n') # escrevendo 'arroz' na primeira linha\n",
    "f.write('banana\\n') # escrevendo 'banana' na segunda linha\n",
    "f.write('carne') # escrevendo 'carne' na terceira linha\n",
    "f.close() # fechando o arquivo"
   ]
  },
  {
   "cell_type": "markdown",
   "id": "bad09f5a",
   "metadata": {},
   "source": [
    "Os próximos comandos abrem um arquivo .txt no diretório onde seu Jupyter Notebook está sendo executado. Em seguido são lidas e impressas cada linha do arquivo até que não hajam mais linhas:"
   ]
  },
  {
   "cell_type": "code",
   "execution_count": null,
   "id": "d722cd33",
   "metadata": {},
   "outputs": [],
   "source": [
    "# abrindo o arquivo para leitura ('r')\n",
    "f = open(\"listaCompras.txt\",\"r\")\n",
    "line = f.readline() # lendo a primeira linha e guardando na variável line\n",
    "while line != \"\": # enquanto line tiver algum conteúdo\n",
    "    print(line) # imprime e linha\n",
    "    line = f.readline() # armazena a próxima linha na variável line"
   ]
  }
 ],
 "metadata": {
  "kernelspec": {
   "display_name": "Python 3 (ipykernel)",
   "language": "python",
   "name": "python3"
  },
  "language_info": {
   "codemirror_mode": {
    "name": "ipython",
    "version": 3
   },
   "file_extension": ".py",
   "mimetype": "text/x-python",
   "name": "python",
   "nbconvert_exporter": "python",
   "pygments_lexer": "ipython3",
   "version": "3.10.2"
  }
 },
 "nbformat": 4,
 "nbformat_minor": 5
}
