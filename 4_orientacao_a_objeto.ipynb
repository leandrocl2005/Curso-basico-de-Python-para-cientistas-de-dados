{
 "cells": [
  {
   "cell_type": "markdown",
   "metadata": {},
   "source": [
    "<h1>Python: Orientação a objetos</h1>"
   ]
  },
  {
   "cell_type": "markdown",
   "metadata": {},
   "source": [
    "Uma <b>classe</b> é um conjunto de <b>objetos</b> e <b>métodos</b>. Nos tutoriais anteriores vimos diversos exemplos de classes. Nesse tutorial criaremos nossa própria classe e nos atentaremos para os principais conceitos envolvidos nesse contexto."
   ]
  },
  {
   "cell_type": "markdown",
   "metadata": {},
   "source": [
    "<h3>Sumário</h3>\n",
    "<ol>\n",
    "    <li><a href='#cap1'>Criando classes</a></li>\n",
    "    <li><a href='#cap2'>Instanciando objetos</a></li>\n",
    "    <li><a href='#cap3'>Atributos</a></li>\n",
    "    <li><a href='#cap4'>Métodos</a></li>\n",
    "    <li><a href='#cap5'>Herança</a></li>\n",
    "    <li><a href='#cap6'>Funções utilizando objetos de uma classe</a></li>\n",
    "    <li><a href='#cap7'>Importando bibliotecas, classes e métodos</a></li>\n",
    "    <li><a href='#cap8'>Praticando com a biblioteca numpy</a></li>\n",
    "    <li><a href='#cap9'>Python zen</a></li>\n",
    "</ol>"
   ]
  },
  {
   "cell_type": "markdown",
   "metadata": {},
   "source": [
    "<h2> 1 - Criando Classes</h2>"
   ]
  },
  {
   "cell_type": "markdown",
   "metadata": {},
   "source": [
    "Como nosso objetivo é análise de dados, criaremos uma classe que se chama <b>Pessoa</b>. Para isso, utilizaremos a keyword <b>class</b>"
   ]
  },
  {
   "cell_type": "code",
   "execution_count": null,
   "metadata": {},
   "outputs": [],
   "source": [
    "class Pessoa(object):\n",
    "    pass"
   ]
  },
  {
   "cell_type": "markdown",
   "metadata": {},
   "source": [
    "Na linha 1 do comando acima, estamos criando uma classe chamada <b>Pessoa</b>. Assim como funções, uma classe tem sem próprio <b>escopo</b> e este é determinado por todas as linhas de comando que aparecem identadas em 4 espaços após os dois pontos. Nesse caso o escopo da classe Pessoa contém apenas a segunda linha e não faz nada, uma vez que a palavra <b>pass</b> apenas indica que deverá passar por essa linha sem fazer coisa alguma. "
   ]
  },
  {
   "cell_type": "markdown",
   "metadata": {},
   "source": [
    "<h2>2 - Instanciando objetos</h2>"
   ]
  },
  {
   "cell_type": "markdown",
   "metadata": {},
   "source": [
    "Para instânciar um objeto da classe Pessoa, basta digitar:"
   ]
  },
  {
   "cell_type": "code",
   "execution_count": null,
   "metadata": {},
   "outputs": [],
   "source": [
    "my_person = Pessoa()"
   ]
  },
  {
   "cell_type": "markdown",
   "metadata": {},
   "source": [
    "Na linha acima atribuímos um objeto do tipo Pessoa à variável my_person. Vejamos qual o tipo desse objeto:"
   ]
  },
  {
   "cell_type": "code",
   "execution_count": null,
   "metadata": {},
   "outputs": [],
   "source": [
    "type(my_person)"
   ]
  },
  {
   "cell_type": "markdown",
   "metadata": {},
   "source": [
    "my_person é um objeto do tipo Pessoa! O Python é completamente orientado a objetos, portanto entender como estes funcionam é essencial para um aprendizado mais profundo."
   ]
  },
  {
   "cell_type": "markdown",
   "metadata": {},
   "source": [
    "<h2>3 - Atributos</h2>"
   ]
  },
  {
   "cell_type": "markdown",
   "metadata": {},
   "source": [
    "Objetos possuem <b>atributos</b>. Atributos são características próprias de um objeto. Por exemplo, os atributos de um carro são marca, modelo, cor, etc. Os atributos de uma pessoa são nome, idade, escolaridade, etc. Os atributos de uma tabela são linhas, colunas, etc. Definiremos os atributos da nossa classe Pessoa."
   ]
  },
  {
   "cell_type": "code",
   "execution_count": null,
   "metadata": {
    "collapsed": true
   },
   "outputs": [],
   "source": [
    "class Pessoa(object):\n",
    "\n",
    "    def __init__(self, nome, idade):\n",
    "        self.nome = nome\n",
    "        self.idade = idade"
   ]
  },
  {
   "cell_type": "markdown",
   "metadata": {},
   "source": [
    "Agora, os atributos nome e idade são passados, durante o instanciamento da classe, como parâmetros da classe pessoa."
   ]
  },
  {
   "cell_type": "code",
   "execution_count": null,
   "metadata": {},
   "outputs": [],
   "source": [
    "skywalker = Pessoa('Lucas', 19)"
   ]
  },
  {
   "cell_type": "markdown",
   "metadata": {},
   "source": [
    "Para acessar os atributos do objeto my_tab faça o seguinte:"
   ]
  },
  {
   "cell_type": "code",
   "execution_count": null,
   "metadata": {},
   "outputs": [],
   "source": [
    "skywalker.nome"
   ]
  },
  {
   "cell_type": "code",
   "execution_count": null,
   "metadata": {},
   "outputs": [],
   "source": [
    "skywalker.idade"
   ]
  },
  {
   "cell_type": "markdown",
   "metadata": {},
   "source": [
    "Os parâmetros passados para uma classe durante um instanciamento seguem as mesmas regras de parâmetros de funções. Sendo possível passar parâmetros default."
   ]
  },
  {
   "cell_type": "code",
   "execution_count": null,
   "metadata": {
    "collapsed": true
   },
   "outputs": [],
   "source": [
    "class Pessoa(object):\n",
    "\n",
    "    def __init__(self, nome, idade, sexo=None, escolaridade=None):\n",
    "        self.nome = nome\n",
    "        self.idade = idade\n",
    "        self.sexo = sexo\n",
    "        self.escolaridade = escolaridade"
   ]
  },
  {
   "cell_type": "code",
   "execution_count": null,
   "metadata": {
    "collapsed": true
   },
   "outputs": [],
   "source": [
    "gates = Pessoa('Bill',idade=61,escolaridade='medio')"
   ]
  },
  {
   "cell_type": "code",
   "execution_count": null,
   "metadata": {},
   "outputs": [],
   "source": [
    "gates.nome"
   ]
  },
  {
   "cell_type": "code",
   "execution_count": null,
   "metadata": {},
   "outputs": [],
   "source": [
    "gates.idade"
   ]
  },
  {
   "cell_type": "code",
   "execution_count": null,
   "metadata": {
    "collapsed": true
   },
   "outputs": [],
   "source": [
    "gates.sexo"
   ]
  },
  {
   "cell_type": "code",
   "execution_count": null,
   "metadata": {},
   "outputs": [],
   "source": [
    "gates.escolaridade"
   ]
  },
  {
   "cell_type": "markdown",
   "metadata": {},
   "source": [
    "É possível, em objetos <b>mutáveis</b>, mudar um atributo após instanciamento."
   ]
  },
  {
   "cell_type": "code",
   "execution_count": null,
   "metadata": {
    "collapsed": true
   },
   "outputs": [],
   "source": [
    "gates.nome = 'William'"
   ]
  },
  {
   "cell_type": "code",
   "execution_count": null,
   "metadata": {},
   "outputs": [],
   "source": [
    "gates.nome"
   ]
  },
  {
   "cell_type": "markdown",
   "metadata": {},
   "source": [
    "<h2>4 - Métodos</h2>"
   ]
  },
  {
   "cell_type": "markdown",
   "metadata": {},
   "source": [
    "Métodos são funções que agem sobre atributos de uma classe ou mais classes. Os métodos podem inclusive alterar os valores de atributos de uma classe. Por exemplo, podemos criar um método que acrescenta 1 ano à idade de uma pessoa:"
   ]
  },
  {
   "cell_type": "code",
   "execution_count": null,
   "metadata": {
    "collapsed": true
   },
   "outputs": [],
   "source": [
    "class Pessoa(object):\n",
    "\n",
    "    def __init__(self, nome, idade, sexo=None, escolaridade=None):\n",
    "        self.nome = nome\n",
    "        self.idade = idade\n",
    "        self.sexo = sexo\n",
    "        self.escolaridade = escolaridade\n",
    "        \n",
    "    def fazAniversario(self):\n",
    "        self.idade = self.idade + 1"
   ]
  },
  {
   "cell_type": "markdown",
   "metadata": {},
   "source": [
    "Vejamos como usar o método <b>fazAniversario</b>:"
   ]
  },
  {
   "cell_type": "code",
   "execution_count": null,
   "metadata": {},
   "outputs": [],
   "source": [
    "# instanciando um objeto do tipo Pessoa\n",
    "gates = Pessoa('Bill',61)\n",
    "# aplicando o método fazAniversario\n",
    "gates.fazAniversario()\n",
    "# mostrando a idade\n",
    "gates.idade"
   ]
  },
  {
   "cell_type": "markdown",
   "metadata": {},
   "source": [
    "Os métodos podem também agir considerando dois ou mais objetos da classe. Criaremos um método para retornar qual a pessoa mais velha."
   ]
  },
  {
   "cell_type": "code",
   "execution_count": null,
   "metadata": {
    "collapsed": true
   },
   "outputs": [],
   "source": [
    "class Pessoa(object):\n",
    "\n",
    "    def __init__(self, nome, idade, sexo=None, escolaridade=None):\n",
    "        self.nome = nome\n",
    "        self.idade = idade\n",
    "        self.sexo = sexo\n",
    "        self.escolaridade = escolaridade\n",
    "        \n",
    "    def fazAniversario(self):\n",
    "        self.idade = self.idade + 1\n",
    "        \n",
    "    def comparaIdade(self,other):\n",
    "        if self.idade > other.idade:\n",
    "            return str(self.nome) + ' é mais velho'\n",
    "        elif self.idade < other.idade:\n",
    "            return str(other.nome) + ' é mais velho'\n",
    "        else:\n",
    "            return 'Mesma idade!'"
   ]
  },
  {
   "cell_type": "markdown",
   "metadata": {},
   "source": [
    "Vejamos como fica a sintaxe do método:"
   ]
  },
  {
   "cell_type": "code",
   "execution_count": null,
   "metadata": {
    "collapsed": true
   },
   "outputs": [],
   "source": [
    "une = Pessoa('Une',12)\n",
    "dune = Pessoa('Dune',15)\n",
    "te = Pessoa('Te',12)"
   ]
  },
  {
   "cell_type": "code",
   "execution_count": null,
   "metadata": {},
   "outputs": [],
   "source": [
    "une.comparaIdade(dune)"
   ]
  },
  {
   "cell_type": "code",
   "execution_count": null,
   "metadata": {},
   "outputs": [],
   "source": [
    "dune.comparaIdade(une)"
   ]
  },
  {
   "cell_type": "code",
   "execution_count": null,
   "metadata": {},
   "outputs": [],
   "source": [
    "te.comparaIdade(une)"
   ]
  },
  {
   "cell_type": "markdown",
   "metadata": {
    "collapsed": true
   },
   "source": [
    "<h3>4.1 - Métodos da classe string</h3>"
   ]
  },
  {
   "cell_type": "markdown",
   "metadata": {},
   "source": [
    "Agora você deve estar entendendo um pouco mais sobre a construção dos objetos do tutorial sobre estrutura de dados. Um objeto do tipo string faz parte de uma classe. Nessa classe há vários métodos e alguns semelhantes aos que vimos."
   ]
  },
  {
   "cell_type": "code",
   "execution_count": null,
   "metadata": {},
   "outputs": [],
   "source": [
    "my_str = 'gato'\n",
    "my_str.replace('g','r')"
   ]
  },
  {
   "cell_type": "markdown",
   "metadata": {},
   "source": [
    "Observe que no comando acima, <b>replace</b> é um método da classe string e esta interagindo com objetos desta classe."
   ]
  },
  {
   "cell_type": "markdown",
   "metadata": {},
   "source": [
    "<h2>5 - Herança</h2>"
   ]
  },
  {
   "cell_type": "markdown",
   "metadata": {},
   "source": [
    "As vezes queremos usar os métodos e atributos já definidos por outra classe numa nova classe. Por exemplo, um atleta é uma pessoa. Logo, para criar uma classe <b>Atleta</b> queremos \"herdar\" os métodos e atributos da classe pessoa e acrescentar alguns novos."
   ]
  },
  {
   "cell_type": "code",
   "execution_count": null,
   "metadata": {},
   "outputs": [],
   "source": [
    "class Atleta(Pessoa):\n",
    "    \n",
    "    def __init__(self, nome, idade, modalidade=None, num_ouros=0):\n",
    "        Pessoa.__init__(self, nome, idade)\n",
    "        self.modalidade = modalidade\n",
    "        self.num_ouros = num_ouros\n",
    "        \n",
    "    def ganhaOuro(self):\n",
    "        self.num_ouros = self.num_ouros + 1"
   ]
  },
  {
   "cell_type": "markdown",
   "metadata": {},
   "source": [
    "Na quarta linha, importamos todos os atributos da classe Pessoa. Logo nosso atleta terá nome e idade. Nas linhas 5 e 6 acrescentamos os atributos modalidade, cujo o valor default é None, e o atributo num_ouros, cujo o valor default é 0."
   ]
  },
  {
   "cell_type": "code",
   "execution_count": null,
   "metadata": {},
   "outputs": [],
   "source": [
    "hypolito = Atleta('Diego',31)"
   ]
  },
  {
   "cell_type": "code",
   "execution_count": null,
   "metadata": {},
   "outputs": [],
   "source": [
    "hypolito.nome"
   ]
  },
  {
   "cell_type": "code",
   "execution_count": null,
   "metadata": {},
   "outputs": [],
   "source": [
    "hypolito.idade"
   ]
  },
  {
   "cell_type": "code",
   "execution_count": null,
   "metadata": {},
   "outputs": [],
   "source": [
    "hypolito.num_ouros"
   ]
  },
  {
   "cell_type": "code",
   "execution_count": null,
   "metadata": {
    "collapsed": true
   },
   "outputs": [],
   "source": [
    "# utilizando um método da classe pai (Pessoa)\n",
    "hypolito.fazAniversario()"
   ]
  },
  {
   "cell_type": "code",
   "execution_count": null,
   "metadata": {},
   "outputs": [],
   "source": [
    "hypolito.idade"
   ]
  },
  {
   "cell_type": "code",
   "execution_count": null,
   "metadata": {
    "collapsed": true
   },
   "outputs": [],
   "source": [
    "# utilizando um método da classe filha (Atleta)\n",
    "hypolito.ganhaOuro()"
   ]
  },
  {
   "cell_type": "code",
   "execution_count": null,
   "metadata": {},
   "outputs": [],
   "source": [
    "hypolito.num_ouros"
   ]
  },
  {
   "cell_type": "markdown",
   "metadata": {},
   "source": [
    "<h2>6 - Funções utilizando objetos de uma classe</h2> "
   ]
  },
  {
   "cell_type": "markdown",
   "metadata": {},
   "source": [
    "A diferença entre funções e métodos é que, métodos são funções dentro do escopo de uma classe. Vejamos um exemplo de função, fora do escopo das classes Pessoa e Atleta, utilizando objetos dessas classes."
   ]
  },
  {
   "cell_type": "code",
   "execution_count": null,
   "metadata": {
    "collapsed": true
   },
   "outputs": [],
   "source": [
    "def somaIdades(pessoa1,pessoa2):\n",
    "    return pessoa1.idade + pessoa2.idade"
   ]
  },
  {
   "cell_type": "markdown",
   "metadata": {},
   "source": [
    "Vejamos alguns exemplos de utilização da função acima criada:"
   ]
  },
  {
   "cell_type": "code",
   "execution_count": null,
   "metadata": {},
   "outputs": [],
   "source": [
    "gates = Pessoa('Bill',61)\n",
    "hypolito = Atleta('Diego',31)\n",
    "somaIdades(gates,hypolito)"
   ]
  },
  {
   "cell_type": "markdown",
   "metadata": {},
   "source": [
    "<h2>7 - Importando bibliotecas, classes e métodos</h2>"
   ]
  },
  {
   "cell_type": "markdown",
   "metadata": {},
   "source": [
    "Bibliotecas são aquivos contendo uma variedade de classes e métodos. Para entender como funciona uma biblioteca, utilizaremos o que já havíamos feito antes com as classes Pessoa e Atleta. Salve o script abaixo num arquivo .py com o nome de <b>pessoas.py</b> e coloque este arquivo na mesma pasta em que se encontra este tutorial."
   ]
  },
  {
   "cell_type": "code",
   "execution_count": null,
   "metadata": {
    "collapsed": true
   },
   "outputs": [],
   "source": [
    "class Pessoa(object):\n",
    "\n",
    "    def __init__(self, nome, idade, sexo=None, escolaridade=None):\n",
    "        self.nome = nome\n",
    "        self.idade = idade\n",
    "        self.sexo = sexo\n",
    "        self.escolaridade = escolaridade\n",
    "        \n",
    "    def fazAniversario(self):\n",
    "        self.idade = self.idade + 1\n",
    "        \n",
    "    def comparaIdade(self,other):\n",
    "        if self.idade > other.idade:\n",
    "            return str(self.nome) + ' é mais velho'\n",
    "        elif self.idade < other.idade:\n",
    "            return str(other.nome) + ' é mais velho'\n",
    "        else:\n",
    "            return 'Mesma idade!'\n",
    "        \n",
    "class Atleta(Pessoa):\n",
    "    \n",
    "    def __init__(self, nome, idade, modalidade=None, num_ouros=0):\n",
    "        Pessoa.__init__(self, nome, idade)\n",
    "        self.modalidade = modalidade\n",
    "        self.num_ouros = num_ouros\n",
    "        \n",
    "    def ganhaOuro(self):\n",
    "        self.num_ouros = self.num_ouros + 1\n",
    "\n",
    "def somaIdades(pessoa1,pessoa2):\n",
    "    return pessoa1.idade + pessoa2.idade"
   ]
  },
  {
   "cell_type": "markdown",
   "metadata": {
    "collapsed": true
   },
   "source": [
    "Agora, na item <b>Kernel</b> do menu deste notebook, escolha a opção <b>Restart &amp; clear all output</b>. Isso garantirá que tudo que fizemos anteriormente não afetará o que faremos daqui em diante. Isto quer dizer que todos os métodos e classes que criamos anteriormente não estarão mais na memória."
   ]
  },
  {
   "cell_type": "code",
   "execution_count": 1,
   "metadata": {},
   "outputs": [
    {
     "ename": "NameError",
     "evalue": "name 'Pessoa' is not defined",
     "output_type": "error",
     "traceback": [
      "\u001b[0;31m---------------------------------------------------------------------------\u001b[0m",
      "\u001b[0;31mNameError\u001b[0m                                 Traceback (most recent call last)",
      "\u001b[0;32m<ipython-input-1-cbfeab969cd3>\u001b[0m in \u001b[0;36m<module>\u001b[0;34m()\u001b[0m\n\u001b[0;32m----> 1\u001b[0;31m \u001b[0mgates\u001b[0m \u001b[0;34m=\u001b[0m \u001b[0mPessoa\u001b[0m\u001b[0;34m(\u001b[0m\u001b[0;34m'Bill'\u001b[0m\u001b[0;34m,\u001b[0m\u001b[0;36m61\u001b[0m\u001b[0;34m)\u001b[0m\u001b[0;34m\u001b[0m\u001b[0m\n\u001b[0m",
      "\u001b[0;31mNameError\u001b[0m: name 'Pessoa' is not defined"
     ]
    }
   ],
   "source": [
    "gates = Pessoa('Bill',61)"
   ]
  },
  {
   "cell_type": "markdown",
   "metadata": {},
   "source": [
    "Observe que Pessa não está definido, isso porque exercutamos a opção <b>Restart &amp; clear all output</b>. Carregaremos tudo que foi feito anteriormente usando a keyword <b>import</b>. Importaremos todas as classes e métodos diretamente do arquivo <b>pessoas.py</b>."
   ]
  },
  {
   "cell_type": "code",
   "execution_count": 2,
   "metadata": {
    "collapsed": true
   },
   "outputs": [],
   "source": [
    "import pessoas"
   ]
  },
  {
   "cell_type": "markdown",
   "metadata": {},
   "source": [
    "É possível ver tudo que importamos utilizando a built-in function <b>help</b>."
   ]
  },
  {
   "cell_type": "code",
   "execution_count": 3,
   "metadata": {},
   "outputs": [
    {
     "name": "stdout",
     "output_type": "stream",
     "text": [
      "Help on module pessoas:\n",
      "\n",
      "NAME\n",
      "    pessoas\n",
      "\n",
      "CLASSES\n",
      "    builtins.object\n",
      "        Pessoa\n",
      "            Atleta\n",
      "    \n",
      "    class Atleta(Pessoa)\n",
      "     |  Method resolution order:\n",
      "     |      Atleta\n",
      "     |      Pessoa\n",
      "     |      builtins.object\n",
      "     |  \n",
      "     |  Methods defined here:\n",
      "     |  \n",
      "     |  __init__(self, nome, idade, modalidade=None, num_ouros=0)\n",
      "     |  \n",
      "     |  ganhaOuro(self)\n",
      "     |  \n",
      "     |  ----------------------------------------------------------------------\n",
      "     |  Methods inherited from Pessoa:\n",
      "     |  \n",
      "     |  comparaIdade(self, other)\n",
      "     |  \n",
      "     |  fazAniversario(self)\n",
      "     |  \n",
      "     |  ----------------------------------------------------------------------\n",
      "     |  Data descriptors inherited from Pessoa:\n",
      "     |  \n",
      "     |  __dict__\n",
      "     |      dictionary for instance variables (if defined)\n",
      "     |  \n",
      "     |  __weakref__\n",
      "     |      list of weak references to the object (if defined)\n",
      "    \n",
      "    class Pessoa(builtins.object)\n",
      "     |  Methods defined here:\n",
      "     |  \n",
      "     |  __init__(self, nome, idade, sexo=None, escolaridade=None)\n",
      "     |  \n",
      "     |  comparaIdade(self, other)\n",
      "     |  \n",
      "     |  fazAniversario(self)\n",
      "     |  \n",
      "     |  ----------------------------------------------------------------------\n",
      "     |  Data descriptors defined here:\n",
      "     |  \n",
      "     |  __dict__\n",
      "     |      dictionary for instance variables (if defined)\n",
      "     |  \n",
      "     |  __weakref__\n",
      "     |      list of weak references to the object (if defined)\n",
      "\n",
      "FUNCTIONS\n",
      "    somaIdades(pessoa1, pessoa2)\n",
      "\n",
      "FILE\n",
      "    /home/leandro/pastaSeminario/pessoas.py\n",
      "\n",
      "\n"
     ]
    }
   ],
   "source": [
    "help(pessoas)"
   ]
  },
  {
   "cell_type": "markdown",
   "metadata": {},
   "source": [
    "Tentaremos agora instanciar um objeto da classe Pessoa."
   ]
  },
  {
   "cell_type": "code",
   "execution_count": 4,
   "metadata": {},
   "outputs": [
    {
     "ename": "NameError",
     "evalue": "name 'Pessoa' is not defined",
     "output_type": "error",
     "traceback": [
      "\u001b[0;31m---------------------------------------------------------------------------\u001b[0m",
      "\u001b[0;31mNameError\u001b[0m                                 Traceback (most recent call last)",
      "\u001b[0;32m<ipython-input-4-00501e5d998f>\u001b[0m in \u001b[0;36m<module>\u001b[0;34m()\u001b[0m\n\u001b[0;32m----> 1\u001b[0;31m \u001b[0mgates\u001b[0m \u001b[0;34m=\u001b[0m \u001b[0mPessoa\u001b[0m\u001b[0;34m(\u001b[0m\u001b[0;34m'Bill'\u001b[0m\u001b[0;34m,\u001b[0m \u001b[0;36m61\u001b[0m\u001b[0;34m)\u001b[0m\u001b[0;34m\u001b[0m\u001b[0m\n\u001b[0m",
      "\u001b[0;31mNameError\u001b[0m: name 'Pessoa' is not defined"
     ]
    }
   ],
   "source": [
    "gates = Pessoa('Bill', 61)"
   ]
  },
  {
   "cell_type": "markdown",
   "metadata": {},
   "source": [
    "Novamente não foi possível, mesmo após termos importado a biblioteca <b>pessoas.py</b>. Não se preocupe, o que aconteceu foi apenas um erro de sintaxe. Como pode haver outras bibliotecas com uma classe chamada Pessoa, é necessário dizer de qual biblioteca você está importando o objeto. Assim a sintaxe fica da seguinte forma:"
   ]
  },
  {
   "cell_type": "code",
   "execution_count": 5,
   "metadata": {
    "collapsed": true
   },
   "outputs": [],
   "source": [
    "gates = pessoas.Pessoa('Bill', 61)"
   ]
  },
  {
   "cell_type": "markdown",
   "metadata": {},
   "source": [
    "As vezes os nomes das bibliotecas podem ser grandes ou serão usados diversas vezes. Você pode substituir um nome de uma biblioteca utilizando <b>as</b> como no exemplo a seguir."
   ]
  },
  {
   "cell_type": "code",
   "execution_count": 6,
   "metadata": {
    "collapsed": true
   },
   "outputs": [],
   "source": [
    "import pessoas as pes"
   ]
  },
  {
   "cell_type": "code",
   "execution_count": 7,
   "metadata": {
    "collapsed": true
   },
   "outputs": [],
   "source": [
    "gates = pes.Pessoa('Bill',61)"
   ]
  },
  {
   "cell_type": "markdown",
   "metadata": {},
   "source": [
    "Para executar um método, continua da mesma forma."
   ]
  },
  {
   "cell_type": "code",
   "execution_count": 8,
   "metadata": {
    "collapsed": true
   },
   "outputs": [],
   "source": [
    "gates.fazAniversario()"
   ]
  },
  {
   "cell_type": "markdown",
   "metadata": {},
   "source": [
    "Para utilizar uma função fora da classe, mas na biblioteca, é necessário novamente fazer referência a biblioteca que está sendo utilizada."
   ]
  },
  {
   "cell_type": "code",
   "execution_count": 9,
   "metadata": {
    "collapsed": true
   },
   "outputs": [],
   "source": [
    "hypolito = pes.Atleta('Diego',31)"
   ]
  },
  {
   "cell_type": "code",
   "execution_count": 10,
   "metadata": {},
   "outputs": [
    {
     "data": {
      "text/plain": [
       "93"
      ]
     },
     "execution_count": 10,
     "metadata": {},
     "output_type": "execute_result"
    }
   ],
   "source": [
    "pes.somaIdades(gates,hypolito)"
   ]
  },
  {
   "cell_type": "markdown",
   "metadata": {},
   "source": [
    "Se não houver ambiguidade em relação aos nomes de funções, você pode importar uma função diretamente."
   ]
  },
  {
   "cell_type": "code",
   "execution_count": 11,
   "metadata": {
    "collapsed": true
   },
   "outputs": [],
   "source": [
    "# importando apenas a função somaIdades\n",
    "from pessoas import somaIdades"
   ]
  },
  {
   "cell_type": "markdown",
   "metadata": {},
   "source": [
    "Dessa forma você não precisará fazer referência a biblioteca."
   ]
  },
  {
   "cell_type": "code",
   "execution_count": 12,
   "metadata": {},
   "outputs": [
    {
     "data": {
      "text/plain": [
       "93"
      ]
     },
     "execution_count": 12,
     "metadata": {},
     "output_type": "execute_result"
    }
   ],
   "source": [
    "somaIdades(gates,hypolito)"
   ]
  },
  {
   "cell_type": "markdown",
   "metadata": {},
   "source": [
    "<h2>8 - Praticando com a biblioteca numpy</h2>"
   ]
  },
  {
   "cell_type": "markdown",
   "metadata": {},
   "source": [
    "Uma importante biblioteca para ciência de dados é a biblioteca <b>numpy</b>. Importaremos a biblioteca numpy como np."
   ]
  },
  {
   "cell_type": "code",
   "execution_count": 13,
   "metadata": {
    "collapsed": true
   },
   "outputs": [],
   "source": [
    "import numpy as np"
   ]
  },
  {
   "cell_type": "markdown",
   "metadata": {},
   "source": [
    "Uma das classes mais utilizadas da biliblioteca numpy é o array. Instanciaremos um objeto dessa classe:"
   ]
  },
  {
   "cell_type": "code",
   "execution_count": 14,
   "metadata": {},
   "outputs": [
    {
     "data": {
      "text/plain": [
       "numpy.ndarray"
      ]
     },
     "execution_count": 14,
     "metadata": {},
     "output_type": "execute_result"
    }
   ],
   "source": [
    "arr = np.array([[1,2,-1],[2,3,0]])\n",
    "type(arr)"
   ]
  },
  {
   "cell_type": "code",
   "execution_count": 15,
   "metadata": {},
   "outputs": [
    {
     "data": {
      "text/plain": [
       "array([[ 1,  2, -1],\n",
       "       [ 2,  3,  0]])"
      ]
     },
     "execution_count": 15,
     "metadata": {},
     "output_type": "execute_result"
    }
   ],
   "source": [
    "arr"
   ]
  },
  {
   "cell_type": "markdown",
   "metadata": {},
   "source": [
    "Observe que o parâmetro de entrada é uma lista de listas. Vejamos alguns atributos dessa classe:"
   ]
  },
  {
   "cell_type": "code",
   "execution_count": 16,
   "metadata": {},
   "outputs": [
    {
     "data": {
      "text/plain": [
       "(2, 3)"
      ]
     },
     "execution_count": 16,
     "metadata": {},
     "output_type": "execute_result"
    }
   ],
   "source": [
    "# para saber as dimensões na matriz\n",
    "arr.shape"
   ]
  },
  {
   "cell_type": "code",
   "execution_count": 17,
   "metadata": {},
   "outputs": [
    {
     "data": {
      "text/plain": [
       "2"
      ]
     },
     "execution_count": 17,
     "metadata": {},
     "output_type": "execute_result"
    }
   ],
   "source": [
    "# para saber o número de linha s \n",
    "arr.ndim"
   ]
  },
  {
   "cell_type": "markdown",
   "metadata": {},
   "source": [
    "A maioria das classes possuem métodos. Vejamos alguns métodos internos:"
   ]
  },
  {
   "cell_type": "code",
   "execution_count": 18,
   "metadata": {},
   "outputs": [
    {
     "data": {
      "text/plain": [
       "1.1666666666666667"
      ]
     },
     "execution_count": 18,
     "metadata": {},
     "output_type": "execute_result"
    }
   ],
   "source": [
    "# calcula a média dos valores da array\n",
    "arr.mean()"
   ]
  },
  {
   "cell_type": "code",
   "execution_count": 19,
   "metadata": {},
   "outputs": [
    {
     "data": {
      "text/plain": [
       "1.3437096247164249"
      ]
     },
     "execution_count": 19,
     "metadata": {},
     "output_type": "execute_result"
    }
   ],
   "source": [
    "# calcula o desvio padrão dos valores da array\n",
    "arr.std()"
   ]
  },
  {
   "cell_type": "markdown",
   "metadata": {},
   "source": [
    "Dentro da biblioteca numpy existe outra biblioteca chamada <b>linalg</b> e dentro desta última existe uma função chamada <b>det</b>. No exemplo a seguir importaremos diretamente a função det:"
   ]
  },
  {
   "cell_type": "code",
   "execution_count": 20,
   "metadata": {
    "collapsed": true
   },
   "outputs": [],
   "source": [
    "from numpy.linalg import det"
   ]
  },
  {
   "cell_type": "markdown",
   "metadata": {},
   "source": [
    "Utilizaremos a função <b>det</b> para calcular o determinante de uma matriz 2x2."
   ]
  },
  {
   "cell_type": "code",
   "execution_count": 21,
   "metadata": {},
   "outputs": [
    {
     "data": {
      "text/plain": [
       "0.5"
      ]
     },
     "execution_count": 21,
     "metadata": {},
     "output_type": "execute_result"
    }
   ],
   "source": [
    "arr = np.array([[1,6],[0,0.5]])\n",
    "det(arr)"
   ]
  },
  {
   "cell_type": "markdown",
   "metadata": {},
   "source": [
    "<h2>9 - Python zen</h2>"
   ]
  },
  {
   "cell_type": "markdown",
   "metadata": {},
   "source": [
    "Python trás suas próprias dicas de programação. Para vê-las, basta importar a biblioteca this:"
   ]
  },
  {
   "cell_type": "code",
   "execution_count": 22,
   "metadata": {},
   "outputs": [
    {
     "name": "stdout",
     "output_type": "stream",
     "text": [
      "The Zen of Python, by Tim Peters\n",
      "\n",
      "Beautiful is better than ugly.\n",
      "Explicit is better than implicit.\n",
      "Simple is better than complex.\n",
      "Complex is better than complicated.\n",
      "Flat is better than nested.\n",
      "Sparse is better than dense.\n",
      "Readability counts.\n",
      "Special cases aren't special enough to break the rules.\n",
      "Although practicality beats purity.\n",
      "Errors should never pass silently.\n",
      "Unless explicitly silenced.\n",
      "In the face of ambiguity, refuse the temptation to guess.\n",
      "There should be one-- and preferably only one --obvious way to do it.\n",
      "Although that way may not be obvious at first unless you're Dutch.\n",
      "Now is better than never.\n",
      "Although never is often better than *right* now.\n",
      "If the implementation is hard to explain, it's a bad idea.\n",
      "If the implementation is easy to explain, it may be a good idea.\n",
      "Namespaces are one honking great idea -- let's do more of those!\n"
     ]
    }
   ],
   "source": [
    "import this"
   ]
  },
  {
   "cell_type": "markdown",
   "metadata": {},
   "source": [
    "No próximo tutorial passaremos aos estudo das bibliotecas utilizadas em ciência de dados, a saber:\n",
    "<ul>\n",
    "    <li>matplotlib</li>\n",
    "    <li>seaborn</li>\n",
    "    <li>numpy</li>\n",
    "    <li>pandas</li>\n",
    "    <li>sklearn</li>\n",
    "</ul>"
   ]
  },
  {
   "cell_type": "code",
   "execution_count": null,
   "metadata": {
    "collapsed": true
   },
   "outputs": [],
   "source": []
  }
 ],
 "metadata": {
  "kernelspec": {
   "display_name": "Python 3 (ipykernel)",
   "language": "python",
   "name": "python3"
  },
  "language_info": {
   "codemirror_mode": {
    "name": "ipython",
    "version": 3
   },
   "file_extension": ".py",
   "mimetype": "text/x-python",
   "name": "python",
   "nbconvert_exporter": "python",
   "pygments_lexer": "ipython3",
   "version": "3.10.2"
  }
 },
 "nbformat": 4,
 "nbformat_minor": 2
}
