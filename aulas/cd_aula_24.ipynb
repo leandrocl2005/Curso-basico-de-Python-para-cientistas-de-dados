{
 "cells": [
  {
   "cell_type": "markdown",
   "id": "98fd96ac",
   "metadata": {},
   "source": [
    "# Atividade avaliativa (Entrega 31/07/2023)"
   ]
  },
  {
   "cell_type": "markdown",
   "id": "0a592bab",
   "metadata": {},
   "source": [
    "Faça uma submissão no desafio https://www.kaggle.com/competitions/dogs-vs-cats-redux-kernels-edition/submissions"
   ]
  },
  {
   "cell_type": "markdown",
   "id": "be940564",
   "metadata": {},
   "source": [
    "- **Meta 10**: 0.4\n",
    "- **Meta 07**: 1.2\n",
    "- **Meta 04**: 7\n",
    "- **Meta 00**: >= 18"
   ]
  },
  {
   "cell_type": "code",
   "execution_count": null,
   "id": "7daaa14a",
   "metadata": {},
   "outputs": [],
   "source": []
  }
 ],
 "metadata": {
  "kernelspec": {
   "display_name": "Python 3 (ipykernel)",
   "language": "python",
   "name": "python3"
  },
  "language_info": {
   "codemirror_mode": {
    "name": "ipython",
    "version": 3
   },
   "file_extension": ".py",
   "mimetype": "text/x-python",
   "name": "python",
   "nbconvert_exporter": "python",
   "pygments_lexer": "ipython3",
   "version": "3.11.0"
  }
 },
 "nbformat": 4,
 "nbformat_minor": 5
}
