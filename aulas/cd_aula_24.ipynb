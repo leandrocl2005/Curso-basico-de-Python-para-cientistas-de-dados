{
 "cells": [
  {
   "cell_type": "markdown",
   "id": "336bc8b5",
   "metadata": {
    "id": "336bc8b5"
   },
   "source": [
    "# Word Embeeding e LSTM"
   ]
  },
  {
   "cell_type": "markdown",
   "id": "2cb1b29d",
   "metadata": {
    "id": "2cb1b29d"
   },
   "source": [
    "Quando os dados são textos, devemos de alguma forma transformar estes em vetores numéricos para que a maioria dos modelos possam ser treinados. Veremos algumas formas de vetorizar texto."
   ]
  },
  {
   "cell_type": "markdown",
   "id": "80000ef2",
   "metadata": {
    "id": "80000ef2"
   },
   "source": [
    "Utilizaremos dados do Twitter que podem ser baixados em:"
   ]
  },
  {
   "cell_type": "markdown",
   "id": "99b88fd9",
   "metadata": {
    "id": "99b88fd9"
   },
   "source": [
    "- https://www.kaggle.com/datasets/kazanova/sentiment140\n",
    "- target: the polarity of the tweet (0 = negative, 2 = neutral, 4 = positive)"
   ]
  },
  {
   "cell_type": "code",
   "execution_count": 2,
   "id": "eab3cab5",
   "metadata": {
    "id": "eab3cab5"
   },
   "outputs": [],
   "source": [
    "import pandas as pd\n",
    "import numpy as np\n",
    "\n",
    "# texto\n",
    "import re\n",
    "import string\n",
    "from gensim.parsing.preprocessing import remove_stopwords\n",
    "from nltk.tokenize import word_tokenize # Slow!\n",
    "from nltk import PorterStemmer\n",
    "from nltk import WordNetLemmatizer\n",
    "from sklearn.feature_extraction.text import TfidfVectorizer\n",
    "\n",
    "# modelo\n",
    "from sklearn.naive_bayes import BernoulliNB\n",
    "\n",
    "# métricas\n",
    "from sklearn.metrics import classification_report\n",
    "\n",
    "# utils\n",
    "from collections import Counter\n",
    "from sklearn.model_selection import train_test_split\n",
    "\n",
    "# keras\n",
    "from tensorflow.keras.preprocessing.text import one_hot\n",
    "from tensorflow.keras.preprocessing.sequence import pad_sequences\n",
    "from tensorflow.keras.layers import Embedding, Input, Flatten, Dense, LSTM, Bidirectional\n",
    "from tensorflow.keras.preprocessing.sequence import pad_sequences\n",
    "from tensorflow.keras.utils import to_categorical\n",
    "from tensorflow.keras.models import Model, Sequential\n",
    "\n",
    "import warnings\n",
    "warnings.filterwarnings('ignore')"
   ]
  },
  {
   "cell_type": "code",
   "execution_count": 140,
   "id": "e8787676",
   "metadata": {
    "id": "e8787676"
   },
   "outputs": [
    {
     "data": {
      "text/html": [
       "<div>\n",
       "<style scoped>\n",
       "    .dataframe tbody tr th:only-of-type {\n",
       "        vertical-align: middle;\n",
       "    }\n",
       "\n",
       "    .dataframe tbody tr th {\n",
       "        vertical-align: top;\n",
       "    }\n",
       "\n",
       "    .dataframe thead th {\n",
       "        text-align: right;\n",
       "    }\n",
       "</style>\n",
       "<table border=\"1\" class=\"dataframe\">\n",
       "  <thead>\n",
       "    <tr style=\"text-align: right;\">\n",
       "      <th></th>\n",
       "      <th>Sentiment</th>\n",
       "      <th>ID</th>\n",
       "      <th>Date</th>\n",
       "      <th>Query</th>\n",
       "      <th>User</th>\n",
       "      <th>Tweet</th>\n",
       "    </tr>\n",
       "  </thead>\n",
       "  <tbody>\n",
       "    <tr>\n",
       "      <th>0</th>\n",
       "      <td>0</td>\n",
       "      <td>1467810369</td>\n",
       "      <td>Mon Apr 06 22:19:45 PDT 2009</td>\n",
       "      <td>NO_QUERY</td>\n",
       "      <td>_TheSpecialOne_</td>\n",
       "      <td>@switchfoot http://twitpic.com/2y1zl - Awww, t...</td>\n",
       "    </tr>\n",
       "    <tr>\n",
       "      <th>1</th>\n",
       "      <td>0</td>\n",
       "      <td>1467810672</td>\n",
       "      <td>Mon Apr 06 22:19:49 PDT 2009</td>\n",
       "      <td>NO_QUERY</td>\n",
       "      <td>scotthamilton</td>\n",
       "      <td>is upset that he can't update his Facebook by ...</td>\n",
       "    </tr>\n",
       "    <tr>\n",
       "      <th>2</th>\n",
       "      <td>0</td>\n",
       "      <td>1467810917</td>\n",
       "      <td>Mon Apr 06 22:19:53 PDT 2009</td>\n",
       "      <td>NO_QUERY</td>\n",
       "      <td>mattycus</td>\n",
       "      <td>@Kenichan I dived many times for the ball. Man...</td>\n",
       "    </tr>\n",
       "  </tbody>\n",
       "</table>\n",
       "</div>"
      ],
      "text/plain": [
       "   Sentiment          ID                          Date     Query  \\\n",
       "0          0  1467810369  Mon Apr 06 22:19:45 PDT 2009  NO_QUERY   \n",
       "1          0  1467810672  Mon Apr 06 22:19:49 PDT 2009  NO_QUERY   \n",
       "2          0  1467810917  Mon Apr 06 22:19:53 PDT 2009  NO_QUERY   \n",
       "\n",
       "              User                                              Tweet  \n",
       "0  _TheSpecialOne_  @switchfoot http://twitpic.com/2y1zl - Awww, t...  \n",
       "1    scotthamilton  is upset that he can't update his Facebook by ...  \n",
       "2         mattycus  @Kenichan I dived many times for the ball. Man...  "
      ]
     },
     "execution_count": 140,
     "metadata": {},
     "output_type": "execute_result"
    }
   ],
   "source": [
    "df = pd.read_csv(\n",
    "    \"../datasets/Tweets/tweets.csv\", encoding='latin-1',\n",
    "    names=[\"Sentiment\", \"ID\", \"Date\", \"Query\", \"User\", \"Tweet\"]\n",
    ")\n",
    "# df = df.sample(50000)\n",
    "df.head(3)"
   ]
  },
  {
   "cell_type": "markdown",
   "id": "5943697a",
   "metadata": {
    "id": "5943697a"
   },
   "source": [
    "## Limpeza de dados textuais"
   ]
  },
  {
   "cell_type": "code",
   "execution_count": 133,
   "id": "ce4eb04b",
   "metadata": {
    "id": "ce4eb04b"
   },
   "outputs": [],
   "source": [
    "# removendo colunas desnecessárias\n",
    "df.drop(['ID', 'Date', 'Query', 'User'], axis=1, inplace=True)"
   ]
  },
  {
   "cell_type": "code",
   "execution_count": 134,
   "id": "9ec76e86",
   "metadata": {
    "id": "9ec76e86"
   },
   "outputs": [],
   "source": [
    "# deixando todos os caracteres minúsculos\n",
    "df['Tweet'] = df['Tweet'].map(str.lower)"
   ]
  },
  {
   "cell_type": "code",
   "execution_count": 135,
   "id": "227d8c0a",
   "metadata": {
    "id": "227d8c0a"
   },
   "outputs": [],
   "source": [
    "# removendo pontuações e marcações de usuários\n",
    "def RemovePunctuation(x):\n",
    "    x = ' '.join(re.sub(\"(@[A-Za-z0-9]+)\",\" \",x).split())\n",
    "    return re.sub(\"[\"+string.punctuation+\"]\", r\" \", x)\n",
    "df['Tweet'] = df['Tweet'].map(RemovePunctuation)"
   ]
  },
  {
   "cell_type": "code",
   "execution_count": 136,
   "id": "f86d1521",
   "metadata": {
    "id": "f86d1521"
   },
   "outputs": [],
   "source": [
    "# removendo números\n",
    "def RemoveNumbers(x):\n",
    "    res = re.sub(r'[0-9]+',r' ',x)\n",
    "    return res\n",
    "df['Tweet'] = df['Tweet'].map(RemoveNumbers)"
   ]
  },
  {
   "cell_type": "code",
   "execution_count": 137,
   "id": "f5681c5f",
   "metadata": {
    "id": "f5681c5f"
   },
   "outputs": [],
   "source": [
    "# removendo stopwords\n",
    "df['Tweet'] = df['Tweet'].map(remove_stopwords)"
   ]
  },
  {
   "cell_type": "code",
   "execution_count": 138,
   "id": "59549b53",
   "metadata": {
    "id": "59549b53"
   },
   "outputs": [],
   "source": [
    "# removendo caracteres isolados\n",
    "def removeSingleChars(text):\n",
    "    words = text.split()\n",
    "    return \" \".join([w for w in words if len(w) > 1])\n",
    "df['Tweet'] = df['Tweet'].map(removeSingleChars)"
   ]
  },
  {
   "cell_type": "code",
   "execution_count": null,
   "id": "5a0e174c",
   "metadata": {
    "id": "5a0e174c"
   },
   "outputs": [],
   "source": [
    "### PULAR ###\n",
    "\n",
    "# extraindo a raiz da palavra\n",
    "# para português: # st = nltk.SnowballStemmer('portuguese')\n",
    "# Lemmatization vs Stemmering (Lemma is a word)\n",
    "\n",
    "st = PorterStemmer()\n",
    "def stemming_on_text(data):\n",
    "    data_split = data.split()\n",
    "    text = [st.stem(word) for word in data_split]\n",
    "    return text\n",
    "df['Tweet']= df['Tweet'].map(stemming_on_text)"
   ]
  },
  {
   "cell_type": "code",
   "execution_count": 139,
   "id": "d6d430ff",
   "metadata": {
    "id": "d6d430ff",
    "outputId": "b8a1e81c-68d6-4885-d7c2-6d2282c082bf"
   },
   "outputs": [
    {
     "data": {
      "text/plain": [
       "176056                              think max cat gone\n",
       "1367324                              glad friday night\n",
       "1024054                          kee watch show comedy\n",
       "651799                                            work\n",
       "1577285                               bye awhile later\n",
       "                              ...                     \n",
       "127061                      minute studying exam today\n",
       "806745     haha signed twitter go autoblogs great know\n",
       "975142              prepare leave http plurk com uhijo\n",
       "673932                                   ruehl closing\n",
       "1286418                                     mean think\n",
       "Name: Tweet, Length: 50000, dtype: object"
      ]
     },
     "execution_count": 139,
     "metadata": {},
     "output_type": "execute_result"
    }
   ],
   "source": [
    "lm = WordNetLemmatizer()\n",
    "def lemmatizer_on_text(data):\n",
    "    data_split = data.split()\n",
    "    array = [lm.lemmatize(word) for word in data_split]\n",
    "    text = \" \".join(array)\n",
    "    return text\n",
    "df['Tweet'].map(lemmatizer_on_text)"
   ]
  },
  {
   "cell_type": "code",
   "execution_count": null,
   "id": "dda32dd6",
   "metadata": {
    "id": "dda32dd6"
   },
   "outputs": [],
   "source": [
    "df.to_csv('../datasets/Tweets/clean_tweets.csv', index=None, encoding=\"utf-8\")"
   ]
  },
  {
   "cell_type": "markdown",
   "id": "23aacf84",
   "metadata": {
    "id": "23aacf84"
   },
   "source": [
    "## Limpando a memória"
   ]
  },
  {
   "cell_type": "code",
   "execution_count": 162,
   "id": "913428cd",
   "metadata": {
    "id": "913428cd",
    "outputId": "ebd6e03f-4693-4da2-8f57-18b24628df48"
   },
   "outputs": [
    {
     "name": "stdout",
     "output_type": "stream",
     "text": [
      "                             X: 434.9 MiB\n",
      "                            df: 136.0 MiB\n",
      "                             y: 15.3 MiB\n",
      "                       y_train: 14.4 MiB\n",
      "                     all_words:  8.0 MiB\n",
      "                           _22:  6.0 MiB\n",
      "                          _130:  6.0 MiB\n",
      "                          _139:  4.9 MiB\n",
      "                           _44:  3.6 MiB\n",
      "                       x_train:  1.5 MiB\n"
     ]
    }
   ],
   "source": [
    "import sys\n",
    "def sizeof_fmt(num, suffix='B'):\n",
    "    ''' by Fred Cirera,  https://stackoverflow.com/a/1094933/1870254, modified'''\n",
    "    for unit in ['','Ki','Mi','Gi','Ti','Pi','Ei','Zi']:\n",
    "        if abs(num) < 1024.0:\n",
    "            return \"%3.1f %s%s\" % (num, unit, suffix)\n",
    "        num /= 1024.0\n",
    "    return \"%.1f %s%s\" % (num, 'Yi', suffix)\n",
    "\n",
    "for name, size in sorted(((name, sys.getsizeof(value)) for name, value in list(\n",
    "                          locals().items())), key= lambda x: -x[1])[:10]:\n",
    "    print(\"{:>30}: {:>8}\".format(name, sizeof_fmt(size)))"
   ]
  },
  {
   "cell_type": "code",
   "execution_count": 142,
   "id": "3b2a2905",
   "metadata": {
    "id": "3b2a2905"
   },
   "outputs": [],
   "source": [
    "del df\n",
    "del X_train_pad\n",
    "del _43"
   ]
  },
  {
   "cell_type": "markdown",
   "id": "bacc0f0e",
   "metadata": {
    "id": "bacc0f0e"
   },
   "source": [
    "## Continuando ..."
   ]
  },
  {
   "cell_type": "markdown",
   "id": "1428b684",
   "metadata": {
    "id": "1428b684"
   },
   "source": [
    "# Vetorização com TF-IDF"
   ]
  },
  {
   "cell_type": "code",
   "execution_count": 143,
   "id": "10586408",
   "metadata": {
    "id": "10586408"
   },
   "outputs": [],
   "source": [
    "df = pd.read_csv('../datasets/Tweets/clean_tweets.csv')\n",
    "df = df.sample(1000000)\n",
    "df.dropna(inplace=True)\n",
    "X = df['Tweet']\n",
    "y = df['Sentiment']\n",
    "# del df\n",
    "X_train, X_test, y_train, y_test = train_test_split(X,y,test_size = 0.05, random_state =42)"
   ]
  },
  {
   "cell_type": "markdown",
   "id": "db2769ab",
   "metadata": {
    "id": "db2769ab"
   },
   "source": [
    "https://towardsdatascience.com/tf-term-frequency-idf-inverse-document-frequency-from-scratch-in-python-6c2b61b78558"
   ]
  },
  {
   "cell_type": "code",
   "execution_count": 144,
   "id": "ef11194a",
   "metadata": {
    "id": "ef11194a",
    "outputId": "3471d31e-a025-4a9e-e197-3c88c5aa0ecb"
   },
   "outputs": [
    {
     "name": "stdout",
     "output_type": "stream",
     "text": [
      "CPU times: total: 18.7 s\n",
      "Wall time: 22.3 s\n"
     ]
    },
    {
     "data": {
      "text/html": [
       "<style>#sk-container-id-2 {color: black;background-color: white;}#sk-container-id-2 pre{padding: 0;}#sk-container-id-2 div.sk-toggleable {background-color: white;}#sk-container-id-2 label.sk-toggleable__label {cursor: pointer;display: block;width: 100%;margin-bottom: 0;padding: 0.3em;box-sizing: border-box;text-align: center;}#sk-container-id-2 label.sk-toggleable__label-arrow:before {content: \"▸\";float: left;margin-right: 0.25em;color: #696969;}#sk-container-id-2 label.sk-toggleable__label-arrow:hover:before {color: black;}#sk-container-id-2 div.sk-estimator:hover label.sk-toggleable__label-arrow:before {color: black;}#sk-container-id-2 div.sk-toggleable__content {max-height: 0;max-width: 0;overflow: hidden;text-align: left;background-color: #f0f8ff;}#sk-container-id-2 div.sk-toggleable__content pre {margin: 0.2em;color: black;border-radius: 0.25em;background-color: #f0f8ff;}#sk-container-id-2 input.sk-toggleable__control:checked~div.sk-toggleable__content {max-height: 200px;max-width: 100%;overflow: auto;}#sk-container-id-2 input.sk-toggleable__control:checked~label.sk-toggleable__label-arrow:before {content: \"▾\";}#sk-container-id-2 div.sk-estimator input.sk-toggleable__control:checked~label.sk-toggleable__label {background-color: #d4ebff;}#sk-container-id-2 div.sk-label input.sk-toggleable__control:checked~label.sk-toggleable__label {background-color: #d4ebff;}#sk-container-id-2 input.sk-hidden--visually {border: 0;clip: rect(1px 1px 1px 1px);clip: rect(1px, 1px, 1px, 1px);height: 1px;margin: -1px;overflow: hidden;padding: 0;position: absolute;width: 1px;}#sk-container-id-2 div.sk-estimator {font-family: monospace;background-color: #f0f8ff;border: 1px dotted black;border-radius: 0.25em;box-sizing: border-box;margin-bottom: 0.5em;}#sk-container-id-2 div.sk-estimator:hover {background-color: #d4ebff;}#sk-container-id-2 div.sk-parallel-item::after {content: \"\";width: 100%;border-bottom: 1px solid gray;flex-grow: 1;}#sk-container-id-2 div.sk-label:hover label.sk-toggleable__label {background-color: #d4ebff;}#sk-container-id-2 div.sk-serial::before {content: \"\";position: absolute;border-left: 1px solid gray;box-sizing: border-box;top: 0;bottom: 0;left: 50%;z-index: 0;}#sk-container-id-2 div.sk-serial {display: flex;flex-direction: column;align-items: center;background-color: white;padding-right: 0.2em;padding-left: 0.2em;position: relative;}#sk-container-id-2 div.sk-item {position: relative;z-index: 1;}#sk-container-id-2 div.sk-parallel {display: flex;align-items: stretch;justify-content: center;background-color: white;position: relative;}#sk-container-id-2 div.sk-item::before, #sk-container-id-2 div.sk-parallel-item::before {content: \"\";position: absolute;border-left: 1px solid gray;box-sizing: border-box;top: 0;bottom: 0;left: 50%;z-index: -1;}#sk-container-id-2 div.sk-parallel-item {display: flex;flex-direction: column;z-index: 1;position: relative;background-color: white;}#sk-container-id-2 div.sk-parallel-item:first-child::after {align-self: flex-end;width: 50%;}#sk-container-id-2 div.sk-parallel-item:last-child::after {align-self: flex-start;width: 50%;}#sk-container-id-2 div.sk-parallel-item:only-child::after {width: 0;}#sk-container-id-2 div.sk-dashed-wrapped {border: 1px dashed gray;margin: 0 0.4em 0.5em 0.4em;box-sizing: border-box;padding-bottom: 0.4em;background-color: white;}#sk-container-id-2 div.sk-label label {font-family: monospace;font-weight: bold;display: inline-block;line-height: 1.2em;}#sk-container-id-2 div.sk-label-container {text-align: center;}#sk-container-id-2 div.sk-container {/* jupyter's `normalize.less` sets `[hidden] { display: none; }` but bootstrap.min.css set `[hidden] { display: none !important; }` so we also need the `!important` here to be able to override the default hidden behavior on the sphinx rendered scikit-learn.org. See: https://github.com/scikit-learn/scikit-learn/issues/21755 */display: inline-block !important;position: relative;}#sk-container-id-2 div.sk-text-repr-fallback {display: none;}</style><div id=\"sk-container-id-2\" class=\"sk-top-container\"><div class=\"sk-text-repr-fallback\"><pre>TfidfVectorizer(max_features=500000, ngram_range=(1, 2))</pre><b>In a Jupyter environment, please rerun this cell to show the HTML representation or trust the notebook. <br />On GitHub, the HTML representation is unable to render, please try loading this page with nbviewer.org.</b></div><div class=\"sk-container\" hidden><div class=\"sk-item\"><div class=\"sk-estimator sk-toggleable\"><input class=\"sk-toggleable__control sk-hidden--visually\" id=\"sk-estimator-id-2\" type=\"checkbox\" checked><label for=\"sk-estimator-id-2\" class=\"sk-toggleable__label sk-toggleable__label-arrow\">TfidfVectorizer</label><div class=\"sk-toggleable__content\"><pre>TfidfVectorizer(max_features=500000, ngram_range=(1, 2))</pre></div></div></div></div></div>"
      ],
      "text/plain": [
       "TfidfVectorizer(max_features=500000, ngram_range=(1, 2))"
      ]
     },
     "execution_count": 144,
     "metadata": {},
     "output_type": "execute_result"
    }
   ],
   "source": [
    "%%time\n",
    "vectoriser = TfidfVectorizer(ngram_range=(1,2), max_features=500000)\n",
    "vectoriser.fit(X_train)"
   ]
  },
  {
   "cell_type": "code",
   "execution_count": 145,
   "id": "eb52ee3c",
   "metadata": {
    "id": "eb52ee3c"
   },
   "outputs": [
    {
     "name": "stdout",
     "output_type": "stream",
     "text": [
      "CPU times: total: 10.8 s\n",
      "Wall time: 13.1 s\n"
     ]
    }
   ],
   "source": [
    "%%time\n",
    "X_train = vectoriser.transform(X_train)\n",
    "X_test  = vectoriser.transform(X_test)"
   ]
  },
  {
   "cell_type": "code",
   "execution_count": 147,
   "id": "f54e95c2",
   "metadata": {
    "id": "f54e95c2",
    "outputId": "2f11c4fe-1afd-4f2e-8b2d-69fa8482300f"
   },
   "outputs": [
    {
     "name": "stdout",
     "output_type": "stream",
     "text": [
      "CPU times: total: 297 ms\n",
      "Wall time: 347 ms\n"
     ]
    },
    {
     "data": {
      "text/html": [
       "<style>#sk-container-id-3 {color: black;background-color: white;}#sk-container-id-3 pre{padding: 0;}#sk-container-id-3 div.sk-toggleable {background-color: white;}#sk-container-id-3 label.sk-toggleable__label {cursor: pointer;display: block;width: 100%;margin-bottom: 0;padding: 0.3em;box-sizing: border-box;text-align: center;}#sk-container-id-3 label.sk-toggleable__label-arrow:before {content: \"▸\";float: left;margin-right: 0.25em;color: #696969;}#sk-container-id-3 label.sk-toggleable__label-arrow:hover:before {color: black;}#sk-container-id-3 div.sk-estimator:hover label.sk-toggleable__label-arrow:before {color: black;}#sk-container-id-3 div.sk-toggleable__content {max-height: 0;max-width: 0;overflow: hidden;text-align: left;background-color: #f0f8ff;}#sk-container-id-3 div.sk-toggleable__content pre {margin: 0.2em;color: black;border-radius: 0.25em;background-color: #f0f8ff;}#sk-container-id-3 input.sk-toggleable__control:checked~div.sk-toggleable__content {max-height: 200px;max-width: 100%;overflow: auto;}#sk-container-id-3 input.sk-toggleable__control:checked~label.sk-toggleable__label-arrow:before {content: \"▾\";}#sk-container-id-3 div.sk-estimator input.sk-toggleable__control:checked~label.sk-toggleable__label {background-color: #d4ebff;}#sk-container-id-3 div.sk-label input.sk-toggleable__control:checked~label.sk-toggleable__label {background-color: #d4ebff;}#sk-container-id-3 input.sk-hidden--visually {border: 0;clip: rect(1px 1px 1px 1px);clip: rect(1px, 1px, 1px, 1px);height: 1px;margin: -1px;overflow: hidden;padding: 0;position: absolute;width: 1px;}#sk-container-id-3 div.sk-estimator {font-family: monospace;background-color: #f0f8ff;border: 1px dotted black;border-radius: 0.25em;box-sizing: border-box;margin-bottom: 0.5em;}#sk-container-id-3 div.sk-estimator:hover {background-color: #d4ebff;}#sk-container-id-3 div.sk-parallel-item::after {content: \"\";width: 100%;border-bottom: 1px solid gray;flex-grow: 1;}#sk-container-id-3 div.sk-label:hover label.sk-toggleable__label {background-color: #d4ebff;}#sk-container-id-3 div.sk-serial::before {content: \"\";position: absolute;border-left: 1px solid gray;box-sizing: border-box;top: 0;bottom: 0;left: 50%;z-index: 0;}#sk-container-id-3 div.sk-serial {display: flex;flex-direction: column;align-items: center;background-color: white;padding-right: 0.2em;padding-left: 0.2em;position: relative;}#sk-container-id-3 div.sk-item {position: relative;z-index: 1;}#sk-container-id-3 div.sk-parallel {display: flex;align-items: stretch;justify-content: center;background-color: white;position: relative;}#sk-container-id-3 div.sk-item::before, #sk-container-id-3 div.sk-parallel-item::before {content: \"\";position: absolute;border-left: 1px solid gray;box-sizing: border-box;top: 0;bottom: 0;left: 50%;z-index: -1;}#sk-container-id-3 div.sk-parallel-item {display: flex;flex-direction: column;z-index: 1;position: relative;background-color: white;}#sk-container-id-3 div.sk-parallel-item:first-child::after {align-self: flex-end;width: 50%;}#sk-container-id-3 div.sk-parallel-item:last-child::after {align-self: flex-start;width: 50%;}#sk-container-id-3 div.sk-parallel-item:only-child::after {width: 0;}#sk-container-id-3 div.sk-dashed-wrapped {border: 1px dashed gray;margin: 0 0.4em 0.5em 0.4em;box-sizing: border-box;padding-bottom: 0.4em;background-color: white;}#sk-container-id-3 div.sk-label label {font-family: monospace;font-weight: bold;display: inline-block;line-height: 1.2em;}#sk-container-id-3 div.sk-label-container {text-align: center;}#sk-container-id-3 div.sk-container {/* jupyter's `normalize.less` sets `[hidden] { display: none; }` but bootstrap.min.css set `[hidden] { display: none !important; }` so we also need the `!important` here to be able to override the default hidden behavior on the sphinx rendered scikit-learn.org. See: https://github.com/scikit-learn/scikit-learn/issues/21755 */display: inline-block !important;position: relative;}#sk-container-id-3 div.sk-text-repr-fallback {display: none;}</style><div id=\"sk-container-id-3\" class=\"sk-top-container\"><div class=\"sk-text-repr-fallback\"><pre>BernoulliNB()</pre><b>In a Jupyter environment, please rerun this cell to show the HTML representation or trust the notebook. <br />On GitHub, the HTML representation is unable to render, please try loading this page with nbviewer.org.</b></div><div class=\"sk-container\" hidden><div class=\"sk-item\"><div class=\"sk-estimator sk-toggleable\"><input class=\"sk-toggleable__control sk-hidden--visually\" id=\"sk-estimator-id-3\" type=\"checkbox\" checked><label for=\"sk-estimator-id-3\" class=\"sk-toggleable__label sk-toggleable__label-arrow\">BernoulliNB</label><div class=\"sk-toggleable__content\"><pre>BernoulliNB()</pre></div></div></div></div></div>"
      ],
      "text/plain": [
       "BernoulliNB()"
      ]
     },
     "execution_count": 147,
     "metadata": {},
     "output_type": "execute_result"
    }
   ],
   "source": [
    "%%time\n",
    "BNBmodel = BernoulliNB()\n",
    "BNBmodel.fit(X_train, y_train)"
   ]
  },
  {
   "cell_type": "code",
   "execution_count": null,
   "id": "6e9eb230",
   "metadata": {
    "id": "6e9eb230",
    "outputId": "501cf722-b680-45ec-beb8-ae3cd5a43e72"
   },
   "outputs": [
    {
     "name": "stdout",
     "output_type": "stream",
     "text": [
      "              precision    recall  f1-score   support\n",
      "\n",
      "           0       0.77      0.78      0.77     39447\n",
      "           4       0.78      0.77      0.77     40033\n",
      "\n",
      "    accuracy                           0.77     79480\n",
      "   macro avg       0.77      0.77      0.77     79480\n",
      "weighted avg       0.77      0.77      0.77     79480\n",
      "\n"
     ]
    }
   ],
   "source": [
    "y_pred = BNBmodel.predict(X_test)\n",
    "print(classification_report(y_pred, y_test)) # 77%"
   ]
  },
  {
   "cell_type": "markdown",
   "id": "27711d62",
   "metadata": {
    "id": "27711d62"
   },
   "source": [
    "## Vetorização com OneHot"
   ]
  },
  {
   "cell_type": "code",
   "execution_count": 152,
   "id": "4e0a462b",
   "metadata": {
    "id": "4e0a462b"
   },
   "outputs": [],
   "source": [
    "df = pd.read_csv('../datasets/Tweets/clean_tweets.csv')\n",
    "df.dropna(inplace=True)\n",
    "df = df.sample(1000000)\n",
    "X = df['Tweet']\n",
    "y = df['Sentiment']"
   ]
  },
  {
   "cell_type": "code",
   "execution_count": 154,
   "id": "ef3f1492",
   "metadata": {
    "id": "ef3f1492"
   },
   "outputs": [
    {
     "data": {
      "text/plain": [
       "234111"
      ]
     },
     "execution_count": 154,
     "metadata": {},
     "output_type": "execute_result"
    }
   ],
   "source": [
    "all_words = set()\n",
    "for row in df['Tweet'].values:\n",
    "    for word in row.split():\n",
    "        all_words.add(word)\n",
    "len(all_words)"
   ]
  },
  {
   "cell_type": "code",
   "execution_count": 155,
   "id": "150c62b3",
   "metadata": {
    "id": "150c62b3",
    "outputId": "de7cd833-6a44-489e-ecc8-76233d260c5f"
   },
   "outputs": [
    {
     "name": "stdout",
     "output_type": "stream",
     "text": [
      "CPU times: total: 6.53 s\n",
      "Wall time: 7.6 s\n"
     ]
    }
   ],
   "source": [
    "%%time\n",
    "# não haverá unicidade com 500\n",
    "# mesma palavra mesmo encoding (não considera contexto)\n",
    "# vetor muito grande se unicidade\n",
    "df[\"Tweet\"] = df[\"Tweet\"].map(lambda x: one_hot(x, 500))"
   ]
  },
  {
   "cell_type": "code",
   "execution_count": 156,
   "id": "5c00c67f",
   "metadata": {
    "id": "5c00c67f",
    "outputId": "6d0f796a-5c59-4b16-fae5-5b3020c912ce"
   },
   "outputs": [
    {
     "data": {
      "text/plain": [
       "131081       [52, 180, 174, 60, 299, 243, 220, 396]\n",
       "193446     [153, 258, 330, 439, 172, 361, 272, 451]\n",
       "475614                  [395, 336, 60, 148, 10, 10]\n",
       "1590455                          [410, 274, 31, 19]\n",
       "1369221                   [348, 336, 215, 380, 490]\n",
       "Name: Tweet, dtype: object"
      ]
     },
     "execution_count": 156,
     "metadata": {},
     "output_type": "execute_result"
    }
   ],
   "source": [
    "df[\"Tweet\"].head()"
   ]
  },
  {
   "cell_type": "code",
   "execution_count": 157,
   "id": "f92b6abd",
   "metadata": {
    "id": "f92b6abd",
    "outputId": "bf3da040-fd5e-4772-cc71-1eb75fc9d102"
   },
   "outputs": [
    {
     "name": "stdout",
     "output_type": "stream",
     "text": [
      "114 1\n"
     ]
    }
   ],
   "source": [
    "df[\"Tweet_count_words\"] = df[\"Tweet\"].map(len)\n",
    "print(df['Tweet_count_words'].max(), df['Tweet_count_words'].min())"
   ]
  },
  {
   "cell_type": "code",
   "execution_count": 158,
   "id": "656052c2",
   "metadata": {
    "id": "656052c2"
   },
   "outputs": [],
   "source": [
    "X = pad_sequences(\n",
    "    df[\"Tweet\"],\n",
    "    maxlen=114,\n",
    "    padding='post',\n",
    "    truncating='post',\n",
    "    value=0.0)\n",
    "y = df['Sentiment']"
   ]
  },
  {
   "cell_type": "code",
   "execution_count": 161,
   "id": "8e2b9344",
   "metadata": {
    "id": "8e2b9344",
    "outputId": "737bd561-2faf-40f0-df30-7f7f63d027d6"
   },
   "outputs": [
    {
     "data": {
      "text/plain": [
       "array([[ 52, 180, 174,  60, 299, 243, 220, 396,   0,   0,   0,   0,   0,\n",
       "          0,   0,   0,   0,   0,   0,   0],\n",
       "       [153, 258, 330, 439, 172, 361, 272, 451,   0,   0,   0,   0,   0,\n",
       "          0,   0,   0,   0,   0,   0,   0]])"
      ]
     },
     "execution_count": 161,
     "metadata": {},
     "output_type": "execute_result"
    }
   ],
   "source": [
    "X[:2, :20]"
   ]
  },
  {
   "cell_type": "code",
   "execution_count": 163,
   "id": "6a0ca85b",
   "metadata": {
    "id": "6a0ca85b"
   },
   "outputs": [],
   "source": [
    "del df\n",
    "X_train, X_test, y_train, y_test = train_test_split(\n",
    "    X,y,test_size = 0.05, random_state =42)"
   ]
  },
  {
   "cell_type": "code",
   "execution_count": 67,
   "id": "184164c5",
   "metadata": {
    "id": "184164c5",
    "outputId": "a193561a-98f7-4abf-e170-7f6b6967fb86"
   },
   "outputs": [
    {
     "name": "stdout",
     "output_type": "stream",
     "text": [
      "              precision    recall  f1-score   support\n",
      "\n",
      "           0       0.62      0.50      0.56     30698\n",
      "           4       0.39      0.51      0.44     19302\n",
      "\n",
      "    accuracy                           0.51     50000\n",
      "   macro avg       0.51      0.51      0.50     50000\n",
      "weighted avg       0.53      0.51      0.51     50000\n",
      "\n"
     ]
    }
   ],
   "source": [
    "BNBmodel = BernoulliNB()\n",
    "BNBmodel.fit(X_train, y_train)\n",
    "y_pred = BNBmodel.predict(X_test)\n",
    "print(classification_report(y_pred, y_test)) # 50%"
   ]
  },
  {
   "cell_type": "markdown",
   "id": "678b4efe",
   "metadata": {
    "id": "678b4efe"
   },
   "source": [
    "## Exercícios"
   ]
  },
  {
   "cell_type": "markdown",
   "id": "15afeec4",
   "metadata": {
    "id": "15afeec4"
   },
   "source": [
    "Resolva o mesmo problema transformando textos com as duas técnicas abaixo:"
   ]
  },
  {
   "cell_type": "markdown",
   "id": "5a88bfdb",
   "metadata": {
    "id": "5a88bfdb"
   },
   "source": [
    "Count vectorizing (1,2 Ngrams), Bag of words e One Hot Encoding N-Grams\n",
    "- https://medium.com/analytics-vidhya/fundamentals-of-bag-of-words-and-tf-idf-9846d301ff22"
   ]
  },
  {
   "cell_type": "markdown",
   "id": "eb43baf5",
   "metadata": {
    "id": "eb43baf5"
   },
   "source": [
    "## Vetorização com Embeedings"
   ]
  },
  {
   "cell_type": "markdown",
   "id": "21014c9e",
   "metadata": {
    "id": "21014c9e"
   },
   "source": [
    "https://www.kaggle.com/code/rajmehra03/a-detailed-explanation-of-keras-embedding-layer"
   ]
  },
  {
   "cell_type": "code",
   "execution_count": 164,
   "id": "d306acd2",
   "metadata": {
    "id": "d306acd2"
   },
   "outputs": [],
   "source": [
    "df = pd.read_csv('../datasets/Tweets/clean_tweets.csv')\n",
    "df.dropna(inplace=True)\n",
    "df = df.sample(100000)\n",
    "X = df['Tweet']\n",
    "y = df['Sentiment'].map({0:0, 4:1})"
   ]
  },
  {
   "cell_type": "code",
   "execution_count": 165,
   "id": "92ac4f14",
   "metadata": {
    "colab": {
     "base_uri": "https://localhost:8080/"
    },
    "id": "92ac4f14",
    "outputId": "81f9d942-4e18-43b0-8912-1fdfc6633fb4"
   },
   "outputs": [
    {
     "data": {
      "text/plain": [
       "55968"
      ]
     },
     "execution_count": 165,
     "metadata": {},
     "output_type": "execute_result"
    }
   ],
   "source": [
    "all_words = set()\n",
    "for row in df['Tweet'].values:\n",
    "    for word in row.split():\n",
    "        all_words.add(word)\n",
    "len(all_words)"
   ]
  },
  {
   "cell_type": "code",
   "execution_count": 166,
   "id": "3d879f2f",
   "metadata": {
    "colab": {
     "base_uri": "https://localhost:8080/"
    },
    "id": "3d879f2f",
    "outputId": "0a601cb4-3512-4e87-f45a-c04960bb81b6"
   },
   "outputs": [
    {
     "name": "stdout",
     "output_type": "stream",
     "text": [
      "274 2\n"
     ]
    }
   ],
   "source": [
    "df[\"Tweet_count_words\"] = df[\"Tweet\"].map(len)\n",
    "print(df['Tweet_count_words'].max(), df['Tweet_count_words'].min())"
   ]
  },
  {
   "cell_type": "code",
   "execution_count": 167,
   "id": "e774ec9e",
   "metadata": {
    "id": "e774ec9e"
   },
   "outputs": [],
   "source": [
    "X_train, X_test, y_train, y_test = train_test_split(\n",
    "    X,y,test_size = 0.05, random_state =42)"
   ]
  },
  {
   "cell_type": "code",
   "execution_count": 168,
   "id": "d704ee2d",
   "metadata": {
    "id": "d704ee2d"
   },
   "outputs": [],
   "source": [
    "from keras.preprocessing.text import Tokenizer\n",
    "tokenizer = Tokenizer()\n",
    "tokenizer.fit_on_texts(X_train)"
   ]
  },
  {
   "cell_type": "code",
   "execution_count": 169,
   "id": "6e85f2b9",
   "metadata": {
    "id": "6e85f2b9"
   },
   "outputs": [],
   "source": [
    "word_index=tokenizer.word_index\n",
    "vocab_size = len(word_index)+1"
   ]
  },
  {
   "cell_type": "code",
   "execution_count": 172,
   "id": "f2b5fa20",
   "metadata": {
    "id": "f2b5fa20"
   },
   "outputs": [],
   "source": [
    "X_train = tokenizer.texts_to_sequences(X_train)\n",
    "X_test = tokenizer.texts_to_sequences(X_test)"
   ]
  },
  {
   "cell_type": "code",
   "execution_count": 173,
   "id": "ff8bc398",
   "metadata": {
    "id": "ff8bc398"
   },
   "outputs": [],
   "source": [
    "maxlen = 100\n",
    "X_train_pad = pad_sequences(X_train, padding='post', maxlen=maxlen)\n",
    "X_test_pad = pad_sequences(X_test, padding='post', maxlen=maxlen)"
   ]
  },
  {
   "cell_type": "code",
   "execution_count": 174,
   "id": "495078d4",
   "metadata": {
    "id": "495078d4"
   },
   "outputs": [],
   "source": [
    "model = Sequential([\n",
    "    Embedding(vocab_size, 20, input_length=maxlen),\n",
    "    Bidirectional(LSTM(64)),\n",
    "    Dense(10, activation='relu'),\n",
    "    Dense(1, activation='sigmoid')\n",
    "])\n",
    "\n",
    "# compiles model\n",
    "model.compile(\n",
    "    loss='binary_crossentropy',\n",
    "    optimizer='adam',\n",
    "    metrics=['accuracy']\n",
    ")"
   ]
  },
  {
   "cell_type": "code",
   "execution_count": 175,
   "id": "d0e1ab9f",
   "metadata": {
    "colab": {
     "base_uri": "https://localhost:8080/"
    },
    "id": "d0e1ab9f",
    "outputId": "9f27399a-5ba0-481a-badb-06c2bd61736d"
   },
   "outputs": [
    {
     "name": "stdout",
     "output_type": "stream",
     "text": [
      "Epoch 1/2\n",
      "1485/1485 [==============================] - 106s 64ms/step - loss: 0.5383 - accuracy: 0.7289\n",
      "Epoch 2/2\n",
      "1485/1485 [==============================] - 94s 63ms/step - loss: 0.4353 - accuracy: 0.8027\n",
      "CPU times: total: 2min 8s\n",
      "Wall time: 3min 20s\n"
     ]
    },
    {
     "data": {
      "text/plain": [
       "<keras.src.callbacks.History at 0x23a3c14c090>"
      ]
     },
     "execution_count": 175,
     "metadata": {},
     "output_type": "execute_result"
    }
   ],
   "source": [
    "%%time\n",
    "model.fit(X_train_pad, y_train, batch_size=64, epochs=2, verbose=1)"
   ]
  },
  {
   "cell_type": "code",
   "execution_count": 176,
   "id": "13601742",
   "metadata": {
    "colab": {
     "base_uri": "https://localhost:8080/"
    },
    "id": "13601742",
    "outputId": "a60cf760-feaf-437c-c1d8-e3ff7e7bf093"
   },
   "outputs": [
    {
     "name": "stdout",
     "output_type": "stream",
     "text": [
      "157/157 [==============================] - 3s 11ms/step\n",
      "              precision    recall  f1-score   support\n",
      "\n",
      "         0.0       0.77      0.74      0.76      2615\n",
      "         1.0       0.73      0.76      0.74      2385\n",
      "\n",
      "    accuracy                           0.75      5000\n",
      "   macro avg       0.75      0.75      0.75      5000\n",
      "weighted avg       0.75      0.75      0.75      5000\n",
      "\n"
     ]
    }
   ],
   "source": [
    "y_pred = model.predict(X_test_pad)\n",
    "print(classification_report(y_pred.ravel().round(0), y_test)) # 77%"
   ]
  },
  {
   "cell_type": "code",
   "execution_count": 243,
   "id": "bdcc4d87",
   "metadata": {},
   "outputs": [
    {
     "data": {
      "text/plain": [
       "array([[1.        , 0.93474545],\n",
       "       [0.93474545, 1.        ]])"
      ]
     },
     "execution_count": 243,
     "metadata": {},
     "output_type": "execute_result"
    }
   ],
   "source": [
    "np.corrcoef(np.array([\n",
    "    [2,2,5,6],\n",
    "    [2,1,0,3],\n",
    "    [5,1,-1,2]\n",
    "]).ravel(), np.array([\n",
    "    [1, 1.8,6,5],\n",
    "    [2,1,1,4],\n",
    "    [6,1,0,2]\n",
    "]).ravel())"
   ]
  },
  {
   "cell_type": "markdown",
   "id": "d8b5b94f",
   "metadata": {
    "id": "d8b5b94f"
   },
   "source": [
    "- https://www.analyticsvidhya.com/blog/2022/01/sentiment-analysis-with-lstm/"
   ]
  },
  {
   "cell_type": "markdown",
   "id": "7434f745",
   "metadata": {},
   "source": [
    "# Séries temporais com LSTM"
   ]
  },
  {
   "cell_type": "code",
   "execution_count": 177,
   "id": "ec577c3a",
   "metadata": {},
   "outputs": [],
   "source": [
    "import yfinance as yf\n",
    "# modelo\n",
    "import tensorflow as tf\n",
    "from tensorflow.keras.models import Sequential\n",
    "from tensorflow.keras.layers import Dense, LSTM, Dropout, Flatten\n",
    "from tensorflow.keras import initializers, activations\n",
    "from tensorflow.keras.layers import Activation\n",
    "# transform\n",
    "from sklearn.preprocessing import MinMaxScaler \n",
    "# utils\n",
    "import math\n",
    "import numpy as np\n",
    "# eda\n",
    "from sktime.utils.plotting import plot_series\n",
    "import matplotlib.pyplot as plt"
   ]
  },
  {
   "cell_type": "code",
   "execution_count": 178,
   "id": "88bd3623",
   "metadata": {},
   "outputs": [
    {
     "data": {
      "image/png": "[encoded data removed]",
      "text/plain": [
       "<Figure size 1600x400 with 1 Axes>"
      ]
     },
     "metadata": {},
     "output_type": "display_data"
    }
   ],
   "source": [
    "from sktime.datasets import load_airline\n",
    "data = load_airline()\n",
    "plot_series(data)\n",
    "plt.show()"
   ]
  },
  {
   "cell_type": "code",
   "execution_count": 179,
   "id": "cb3a387f",
   "metadata": {},
   "outputs": [],
   "source": [
    "values = data.values\n",
    "training_data_len = math.ceil(len(values)* 0.8)\n",
    "\n",
    "scaler = MinMaxScaler(feature_range=(0,1))\n",
    "scaled_data = scaler.fit_transform(values.reshape(-1,1))\n",
    "train_data = scaled_data[0: training_data_len, :]\n",
    "\n",
    "x_train = []\n",
    "y_train = []\n",
    "\n",
    "window_size = 60\n",
    "for i in range(window_size, len(train_data)):\n",
    "    x_train.append(train_data[i-window_size:i, 0])\n",
    "    y_train.append(train_data[i, 0])\n",
    "    \n",
    "x_train, y_train = np.array(x_train), np.array(y_train)\n",
    "x_train = np.reshape(x_train, (x_train.shape[0], x_train.shape[1], 1))\n",
    "\n",
    "\n",
    "test_data = scaled_data[training_data_len-window_size: , : ]\n",
    "x_test = []\n",
    "y_test = values[training_data_len:]\n",
    "\n",
    "for i in range(window_size, len(test_data)):\n",
    "    x_test.append(test_data[i-window_size:i, 0])\n",
    "\n",
    "x_test = np.array(x_test)\n",
    "x_test = np.reshape(x_test, (x_test.shape[0], x_test.shape[1], 1))"
   ]
  },
  {
   "cell_type": "code",
   "execution_count": 180,
   "id": "7d2e35a8",
   "metadata": {},
   "outputs": [
    {
     "data": {
      "text/plain": [
       "((56, 60, 1), (28, 60, 1), (56,), (28,))"
      ]
     },
     "execution_count": 180,
     "metadata": {},
     "output_type": "execute_result"
    }
   ],
   "source": [
    "x_train.shape, x_test.shape, y_train.shape, y_test.shape"
   ]
  },
  {
   "cell_type": "code",
   "execution_count": 182,
   "id": "fbeccc2d",
   "metadata": {},
   "outputs": [],
   "source": [
    "def get_model(x_train):\n",
    "    model = Sequential([\n",
    "        LSTM(80, \n",
    "             input_shape=(x_train.shape[1], x_train.shape[2]),\n",
    "             return_sequences=True,\n",
    "        ),\n",
    "        LSTM(80, return_sequences=False),\n",
    "        Dense(10),\n",
    "        Dense(1)\n",
    "    ])\n",
    "    model.compile(optimizer=\"adam\",loss='mean_squared_error',metrics=['mape'])\n",
    "    return model"
   ]
  },
  {
   "cell_type": "code",
   "execution_count": 187,
   "id": "75dbe63b",
   "metadata": {},
   "outputs": [],
   "source": [
    "model = get_model(x_train)\n",
    "history = model.fit(\n",
    "    x_train, y_train, \n",
    "    batch_size= 1, \n",
    "    epochs=50,\n",
    "    verbose=0)"
   ]
  },
  {
   "cell_type": "code",
   "execution_count": 184,
   "id": "c3e8424b",
   "metadata": {},
   "outputs": [
    {
     "name": "stdout",
     "output_type": "stream",
     "text": [
      "1/1 [==============================] - 1s 1s/step\n",
      "RMSE 27.672672816685267\n"
     ]
    }
   ],
   "source": [
    "y_pred = model.predict(x_test)\n",
    "y_pred = scaler.inverse_transform(y_pred)\n",
    "print(\"RMSE\", np.sqrt(np.mean(y_pred - y_test)**2))"
   ]
  },
  {
   "cell_type": "code",
   "execution_count": 185,
   "id": "64e88490",
   "metadata": {},
   "outputs": [],
   "source": [
    "result_df = pd.DataFrame({'pred': y_pred.ravel(), 'test': y_test.ravel()})\n",
    "result_df.index = data[training_data_len:].index\n",
    "y_pred = result_df['pred']\n",
    "y_test = result_df['test']"
   ]
  },
  {
   "cell_type": "code",
   "execution_count": 186,
   "id": "dc9837d7",
   "metadata": {},
   "outputs": [
    {
     "data": {
      "text/plain": [
       "(<Figure size 1600x400 with 1 Axes>, <AxesSubplot: ylabel='pred'>)"
      ]
     },
     "execution_count": 186,
     "metadata": {},
     "output_type": "execute_result"
    },
    {
     "data": {
      "image/png": "[encoded data removed]",
      "text/plain": [
       "<Figure size 1600x400 with 1 Axes>"
      ]
     },
     "metadata": {},
     "output_type": "display_data"
    }
   ],
   "source": [
    "plot_series(y_pred, y_test, labels=['pred', 'test'])"
   ]
  },
  {
   "cell_type": "markdown",
   "id": "06baf5ed",
   "metadata": {},
   "source": [
    "## Mercado de ações: Endôgenea com LSTM"
   ]
  },
  {
   "cell_type": "markdown",
   "id": "c006c39b",
   "metadata": {},
   "source": [
    "- https://medium.com/the-handbook-of-coding-in-finance/stock-prices-prediction-using-long-short-term-memory-lstm-model-in-python-734dd1ed6827\n",
    "- https://machinelearningmastery.com/time-series-prediction-lstm-recurrent-neural-networks-python-keras/"
   ]
  },
  {
   "cell_type": "code",
   "execution_count": 215,
   "id": "d0574780",
   "metadata": {},
   "outputs": [
    {
     "name": "stdout",
     "output_type": "stream",
     "text": [
      "[*********************100%***********************]  1 of 1 completed\n"
     ]
    }
   ],
   "source": [
    "df = yf.download(\n",
    "    'TAEE3.SA',\n",
    "    start='2020-01-01',\n",
    "    end='2022-12-31')"
   ]
  },
  {
   "cell_type": "code",
   "execution_count": 216,
   "id": "48c4855e",
   "metadata": {},
   "outputs": [
    {
     "data": {
      "text/html": [
       "<div>\n",
       "<style scoped>\n",
       "    .dataframe tbody tr th:only-of-type {\n",
       "        vertical-align: middle;\n",
       "    }\n",
       "\n",
       "    .dataframe tbody tr th {\n",
       "        vertical-align: top;\n",
       "    }\n",
       "\n",
       "    .dataframe thead th {\n",
       "        text-align: right;\n",
       "    }\n",
       "</style>\n",
       "<table border=\"1\" class=\"dataframe\">\n",
       "  <thead>\n",
       "    <tr style=\"text-align: right;\">\n",
       "      <th></th>\n",
       "      <th>Open</th>\n",
       "      <th>High</th>\n",
       "      <th>Low</th>\n",
       "      <th>Close</th>\n",
       "      <th>Adj Close</th>\n",
       "      <th>Volume</th>\n",
       "    </tr>\n",
       "    <tr>\n",
       "      <th>Date</th>\n",
       "      <th></th>\n",
       "      <th></th>\n",
       "      <th></th>\n",
       "      <th></th>\n",
       "      <th></th>\n",
       "      <th></th>\n",
       "    </tr>\n",
       "  </thead>\n",
       "  <tbody>\n",
       "    <tr>\n",
       "      <th>2020-01-02</th>\n",
       "      <td>10.29</td>\n",
       "      <td>10.42</td>\n",
       "      <td>10.01</td>\n",
       "      <td>10.11</td>\n",
       "      <td>7.206005</td>\n",
       "      <td>55500</td>\n",
       "    </tr>\n",
       "    <tr>\n",
       "      <th>2020-01-03</th>\n",
       "      <td>10.19</td>\n",
       "      <td>10.35</td>\n",
       "      <td>10.08</td>\n",
       "      <td>10.29</td>\n",
       "      <td>7.334302</td>\n",
       "      <td>39400</td>\n",
       "    </tr>\n",
       "    <tr>\n",
       "      <th>2020-01-06</th>\n",
       "      <td>10.28</td>\n",
       "      <td>10.43</td>\n",
       "      <td>10.14</td>\n",
       "      <td>10.34</td>\n",
       "      <td>7.369939</td>\n",
       "      <td>22200</td>\n",
       "    </tr>\n",
       "    <tr>\n",
       "      <th>2020-01-07</th>\n",
       "      <td>10.58</td>\n",
       "      <td>10.58</td>\n",
       "      <td>10.11</td>\n",
       "      <td>10.24</td>\n",
       "      <td>7.298663</td>\n",
       "      <td>36400</td>\n",
       "    </tr>\n",
       "    <tr>\n",
       "      <th>2020-01-08</th>\n",
       "      <td>10.26</td>\n",
       "      <td>10.30</td>\n",
       "      <td>10.10</td>\n",
       "      <td>10.24</td>\n",
       "      <td>7.298663</td>\n",
       "      <td>52700</td>\n",
       "    </tr>\n",
       "  </tbody>\n",
       "</table>\n",
       "</div>"
      ],
      "text/plain": [
       "             Open   High    Low  Close  Adj Close  Volume\n",
       "Date                                                     \n",
       "2020-01-02  10.29  10.42  10.01  10.11   7.206005   55500\n",
       "2020-01-03  10.19  10.35  10.08  10.29   7.334302   39400\n",
       "2020-01-06  10.28  10.43  10.14  10.34   7.369939   22200\n",
       "2020-01-07  10.58  10.58  10.11  10.24   7.298663   36400\n",
       "2020-01-08  10.26  10.30  10.10  10.24   7.298663   52700"
      ]
     },
     "execution_count": 216,
     "metadata": {},
     "output_type": "execute_result"
    }
   ],
   "source": [
    "df.head()"
   ]
  },
  {
   "cell_type": "code",
   "execution_count": 217,
   "id": "97970418",
   "metadata": {},
   "outputs": [
    {
     "data": {
      "text/plain": [
       "<AxesSubplot: xlabel='Date'>"
      ]
     },
     "execution_count": 217,
     "metadata": {},
     "output_type": "execute_result"
    },
    {
     "data": {
      "image/png": "[encoded data removed]",
      "text/plain": [
       "<Figure size 640x480 with 1 Axes>"
      ]
     },
     "metadata": {},
     "output_type": "display_data"
    }
   ],
   "source": [
    "df['Close'].plot()"
   ]
  },
  {
   "cell_type": "code",
   "execution_count": 218,
   "id": "ea8be66f",
   "metadata": {},
   "outputs": [],
   "source": [
    "close_prices = df['Close']\n",
    "values = close_prices.values\n",
    "training_data_len = math.ceil(len(values)* 0.8)\n",
    "\n",
    "scaler = MinMaxScaler(feature_range=(0,1))\n",
    "scaled_data = scaler.fit_transform(values.reshape(-1,1))\n",
    "train_data = scaled_data[0: training_data_len, :]\n",
    "\n",
    "x_train = []\n",
    "y_train = []\n",
    "\n",
    "for i in range(60, len(train_data)):\n",
    "    x_train.append(train_data[i-60:i, 0])\n",
    "    y_train.append(train_data[i, 0])\n",
    "    \n",
    "x_train, y_train = np.array(x_train), np.array(y_train)\n",
    "x_train = np.reshape(x_train, (x_train.shape[0], x_train.shape[1], 1))\n",
    "\n",
    "\n",
    "test_data = scaled_data[training_data_len-60: , : ]\n",
    "x_test = []\n",
    "y_test = values[training_data_len:]\n",
    "\n",
    "for i in range(60, len(test_data)):\n",
    "    x_test.append(test_data[i-60:i, 0])\n",
    "\n",
    "x_test = np.array(x_test)\n",
    "x_test = np.reshape(x_test, (x_test.shape[0], x_test.shape[1], 1))"
   ]
  },
  {
   "cell_type": "code",
   "execution_count": 219,
   "id": "a81777e9",
   "metadata": {},
   "outputs": [
    {
     "data": {
      "text/plain": [
       "((536, 60, 1), (149, 60, 1), (745, 6))"
      ]
     },
     "execution_count": 219,
     "metadata": {},
     "output_type": "execute_result"
    }
   ],
   "source": [
    "x_train.shape, x_test.shape, df.shape"
   ]
  },
  {
   "cell_type": "code",
   "execution_count": 220,
   "id": "08afbe16",
   "metadata": {},
   "outputs": [],
   "source": [
    "def get_model(x_train):\n",
    "    model = Sequential([\n",
    "        LSTM(100, \n",
    "             return_sequences=True, \n",
    "             activation=\"tanh\", \n",
    "             input_shape=(x_train.shape[1], x_train.shape[2])),\n",
    "        LSTM(100, return_sequences=False, activation=\"tanh\"),\n",
    "        Dense(10),\n",
    "        Dense(1)\n",
    "    ])\n",
    "    model.compile(optimizer=\"adam\",loss='mean_squared_error',metrics=['mape'])\n",
    "    return model"
   ]
  },
  {
   "cell_type": "code",
   "execution_count": 221,
   "id": "8c216248",
   "metadata": {},
   "outputs": [
    {
     "name": "stdout",
     "output_type": "stream",
     "text": [
      "Epoch 1/10\n",
      "34/34 [==============================] - 4s 31ms/step - loss: 0.0392 - mape: 34.2475\n",
      "Epoch 2/10\n",
      "34/34 [==============================] - 1s 33ms/step - loss: 0.0036 - mape: 13.9383\n",
      "Epoch 3/10\n",
      "34/34 [==============================] - 1s 32ms/step - loss: 0.0026 - mape: 9.5634\n",
      "Epoch 4/10\n",
      "34/34 [==============================] - 1s 31ms/step - loss: 0.0025 - mape: 9.4333\n",
      "Epoch 5/10\n",
      "34/34 [==============================] - 1s 32ms/step - loss: 0.0026 - mape: 9.7197\n",
      "Epoch 6/10\n",
      "34/34 [==============================] - 1s 32ms/step - loss: 0.0023 - mape: 9.0230\n",
      "Epoch 7/10\n",
      "34/34 [==============================] - 1s 33ms/step - loss: 0.0025 - mape: 9.2744\n",
      "Epoch 8/10\n",
      "34/34 [==============================] - 1s 32ms/step - loss: 0.0023 - mape: 9.0375\n",
      "Epoch 9/10\n",
      "34/34 [==============================] - 1s 33ms/step - loss: 0.0019 - mape: 8.4717\n",
      "Epoch 10/10\n",
      "34/34 [==============================] - 1s 31ms/step - loss: 0.0019 - mape: 8.3215\n",
      "CPU times: total: 7.47 s\n",
      "Wall time: 14.6 s\n"
     ]
    },
    {
     "data": {
      "text/plain": [
       "<keras.src.callbacks.History at 0x23a2a5869d0>"
      ]
     },
     "execution_count": 221,
     "metadata": {},
     "output_type": "execute_result"
    }
   ],
   "source": [
    "%%time\n",
    "model = get_model(x_train)\n",
    "model.fit(x_train, y_train, batch_size= 16, epochs=10)"
   ]
  },
  {
   "cell_type": "code",
   "execution_count": 222,
   "id": "b25d9a69",
   "metadata": {},
   "outputs": [
    {
     "name": "stdout",
     "output_type": "stream",
     "text": [
      "5/5 [==============================] - 1s 19ms/step\n",
      "RMSE 0.033051145156757944\n"
     ]
    }
   ],
   "source": [
    "y_pred = model.predict(x_test)\n",
    "y_pred = scaler.inverse_transform(y_pred)\n",
    "print(\"RMSE\", np.sqrt(np.mean(y_pred - y_test)**2))"
   ]
  },
  {
   "cell_type": "code",
   "execution_count": 223,
   "id": "b1e00914",
   "metadata": {},
   "outputs": [
    {
     "name": "stdout",
     "output_type": "stream",
     "text": [
      "MAE 0.8315761642710356\n"
     ]
    }
   ],
   "source": [
    "print(\"MAE\", np.mean(abs(y_pred - y_test)))"
   ]
  },
  {
   "cell_type": "code",
   "execution_count": 224,
   "id": "311ee38b",
   "metadata": {},
   "outputs": [
    {
     "data": {
      "text/plain": [
       "PeriodIndex(['2020-01-02', '2020-01-03', '2020-01-06', '2020-01-07',\n",
       "             '2020-01-08', '2020-01-09', '2020-01-10', '2020-01-13',\n",
       "             '2020-01-14', '2020-01-15',\n",
       "             ...\n",
       "             '2022-12-16', '2022-12-19', '2022-12-20', '2022-12-21',\n",
       "             '2022-12-22', '2022-12-23', '2022-12-26', '2022-12-27',\n",
       "             '2022-12-28', '2022-12-29'],\n",
       "            dtype='period[D]', name='Date', length=745)"
      ]
     },
     "execution_count": 224,
     "metadata": {},
     "output_type": "execute_result"
    }
   ],
   "source": [
    "df.index = df.index.to_period(freq='D')\n",
    "df.index"
   ]
  },
  {
   "cell_type": "code",
   "execution_count": 225,
   "id": "ff348337",
   "metadata": {},
   "outputs": [],
   "source": [
    "df[\"Pred\"] = 1\n",
    "df[\"Pred\"][len(train_data):] = y_pred.ravel()"
   ]
  },
  {
   "cell_type": "code",
   "execution_count": 226,
   "id": "1970dea6",
   "metadata": {},
   "outputs": [
    {
     "data": {
      "image/png": "[encoded data removed]",
      "text/plain": [
       "<Figure size 1600x400 with 1 Axes>"
      ]
     },
     "metadata": {},
     "output_type": "display_data"
    }
   ],
   "source": [
    "train = df.iloc[:len(train_data)]['Close']\n",
    "test = df.iloc[len(train_data):]['Close']\n",
    "pred = df.iloc[len(train_data):]['Pred']\n",
    "plot_series(train[-20:], test, pred, labels=['train', 'test', 'pred'])\n",
    "plt.show()"
   ]
  },
  {
   "cell_type": "markdown",
   "id": "7e2afbc9",
   "metadata": {},
   "source": [
    "## Mercado de ações: Exôgeneas com LSTM"
   ]
  },
  {
   "cell_type": "code",
   "execution_count": 227,
   "id": "922fee89",
   "metadata": {},
   "outputs": [
    {
     "name": "stdout",
     "output_type": "stream",
     "text": [
      "[*********************100%***********************]  1 of 1 completed\n"
     ]
    }
   ],
   "source": [
    "df = yf.download(\n",
    "    'TAEE3.SA',\n",
    "    start='2020-01-01',\n",
    "    end='2022-12-31')"
   ]
  },
  {
   "cell_type": "code",
   "execution_count": 228,
   "id": "92fbc1d6",
   "metadata": {},
   "outputs": [],
   "source": [
    "data = df.drop(['Adj Close'], axis=1)\n",
    "values = data.values\n",
    "training_data_len = math.ceil(len(values)* 0.8)\n",
    "window_size = 60\n",
    "\n",
    "train_data = df[:training_data_len].copy()\n",
    "test_data = df[training_data_len-window_size:].copy()\n",
    "\n",
    "scalerx = MinMaxScaler(); \n",
    "scalery = MinMaxScaler();\n",
    "xtrain_scaled = pd.DataFrame(scalerx.fit_transform(train_data), columns=train_data.columns)\n",
    "ytrain_scaled = pd.DataFrame(scalery.fit_transform(train_data['Close'].values.reshape(-1,1)))\n",
    "xtest_scaled = pd.DataFrame(scalerx.transform(test_data), columns=test_data.columns)\n",
    "ytest_scaled = pd.DataFrame(scalery.transform(test_data['Close'].values.reshape(-1,1)))\n",
    "\n",
    "x_train = []; y_train = []\n",
    "for i in range(window_size, len(xtrain_scaled)):\n",
    "    x_train.append(xtrain_scaled[i-window_size:i])\n",
    "    y_train.append(ytrain_scaled[0][i])\n",
    "\n",
    "x_test = []; y_test = []\n",
    "for i in range(window_size, len(xtest_scaled)):\n",
    "    x_test.append(xtest_scaled[i-window_size:i])\n",
    "    y_test.append(ytest_scaled[0][i])\n",
    "\n",
    "x_train, y_train = np.array(x_train), np.array(y_train)\n",
    "x_test, y_test = np.array(x_test), np.array(y_test)"
   ]
  },
  {
   "cell_type": "code",
   "execution_count": 111,
   "id": "d9cebd55",
   "metadata": {},
   "outputs": [
    {
     "data": {
      "text/plain": [
       "((536, 60, 6), (149, 60, 6), (536,), (149,))"
      ]
     },
     "execution_count": 111,
     "metadata": {},
     "output_type": "execute_result"
    }
   ],
   "source": [
    "x_train.shape, x_test.shape, y_train.shape, y_test.shape"
   ]
  },
  {
   "cell_type": "code",
   "execution_count": 229,
   "id": "5cf0c42e",
   "metadata": {},
   "outputs": [
    {
     "name": "stdout",
     "output_type": "stream",
     "text": [
      "Epoch 1/10\n",
      "34/34 [==============================] - 4s 33ms/step - loss: 0.0220 - mape: 22.8239\n",
      "Epoch 2/10\n",
      "34/34 [==============================] - 1s 32ms/step - loss: 0.0034 - mape: 11.2873\n",
      "Epoch 3/10\n",
      "34/34 [==============================] - 1s 33ms/step - loss: 0.0025 - mape: 9.3284\n",
      "Epoch 4/10\n",
      "34/34 [==============================] - 1s 32ms/step - loss: 0.0021 - mape: 8.9953\n",
      "Epoch 5/10\n",
      "34/34 [==============================] - 1s 35ms/step - loss: 0.0019 - mape: 8.4654\n",
      "Epoch 6/10\n",
      "34/34 [==============================] - 1s 33ms/step - loss: 0.0017 - mape: 8.2145\n",
      "Epoch 7/10\n",
      "34/34 [==============================] - 1s 32ms/step - loss: 0.0017 - mape: 8.2239\n",
      "Epoch 8/10\n",
      "34/34 [==============================] - 1s 35ms/step - loss: 0.0016 - mape: 7.9225\n",
      "Epoch 9/10\n",
      "34/34 [==============================] - 1s 35ms/step - loss: 0.0020 - mape: 8.6739\n",
      "Epoch 10/10\n",
      "34/34 [==============================] - 1s 33ms/step - loss: 0.0017 - mape: 8.0703\n"
     ]
    },
    {
     "data": {
      "text/plain": [
       "<keras.src.callbacks.History at 0x23a3821b310>"
      ]
     },
     "execution_count": 229,
     "metadata": {},
     "output_type": "execute_result"
    }
   ],
   "source": [
    "model = get_model(x_train)\n",
    "model.fit(x_train, y_train, batch_size=16, epochs=10)"
   ]
  },
  {
   "cell_type": "code",
   "execution_count": 230,
   "id": "86ef5309",
   "metadata": {},
   "outputs": [
    {
     "name": "stdout",
     "output_type": "stream",
     "text": [
      "5/5 [==============================] - 1s 18ms/step\n",
      "RMSE 12.422649977046525\n"
     ]
    }
   ],
   "source": [
    "y_pred = model.predict(x_test)\n",
    "y_pred = scalery.inverse_transform(y_pred)\n",
    "print(\"RMSE\", np.sqrt(np.mean(y_pred - y_test)**2))"
   ]
  },
  {
   "cell_type": "code",
   "execution_count": 231,
   "id": "a64736c4",
   "metadata": {},
   "outputs": [
    {
     "name": "stdout",
     "output_type": "stream",
     "text": [
      "MAE 12.422649977046525\n"
     ]
    }
   ],
   "source": [
    "print(\"MAE\", np.mean(abs(y_pred - y_test)))"
   ]
  },
  {
   "cell_type": "code",
   "execution_count": 232,
   "id": "a0032f93",
   "metadata": {},
   "outputs": [
    {
     "data": {
      "text/plain": [
       "PeriodIndex(['2020-01-02', '2020-01-03', '2020-01-06', '2020-01-07',\n",
       "             '2020-01-08', '2020-01-09', '2020-01-10', '2020-01-13',\n",
       "             '2020-01-14', '2020-01-15',\n",
       "             ...\n",
       "             '2022-12-16', '2022-12-19', '2022-12-20', '2022-12-21',\n",
       "             '2022-12-22', '2022-12-23', '2022-12-26', '2022-12-27',\n",
       "             '2022-12-28', '2022-12-29'],\n",
       "            dtype='period[D]', name='Date', length=745)"
      ]
     },
     "execution_count": 232,
     "metadata": {},
     "output_type": "execute_result"
    }
   ],
   "source": [
    "df.index = df.index.to_period(freq='D')\n",
    "df.index"
   ]
  },
  {
   "cell_type": "code",
   "execution_count": 233,
   "id": "8d40ee7c",
   "metadata": {},
   "outputs": [],
   "source": [
    "df[\"Pred\"] = 1\n",
    "df[\"Pred\"][len(train_data):] = y_pred.ravel()"
   ]
  },
  {
   "cell_type": "code",
   "execution_count": 234,
   "id": "eb1085bb",
   "metadata": {},
   "outputs": [
    {
     "data": {
      "image/png": "[encoded data removed]",
      "text/plain": [
       "<Figure size 1600x400 with 1 Axes>"
      ]
     },
     "metadata": {},
     "output_type": "display_data"
    }
   ],
   "source": [
    "train = df.iloc[:len(train_data)]['Close']\n",
    "test = df.iloc[len(train_data):]['Close']\n",
    "pred = df.iloc[len(train_data):]['Pred']\n",
    "plot_series(train[-20:], test, pred, labels=['train', 'test', 'pred'])\n",
    "plt.show()"
   ]
  },
  {
   "cell_type": "markdown",
   "id": "98fd96ac",
   "metadata": {
    "id": "98fd96ac"
   },
   "source": [
    "# Atividade avaliativa"
   ]
  },
  {
   "cell_type": "markdown",
   "id": "0a592bab",
   "metadata": {
    "id": "0a592bab"
   },
   "source": [
    "Faça uma submissão no desafio https://www.kaggle.com/competitions/dogs-vs-cats-redux-kernels-edition/submissions"
   ]
  },
  {
   "cell_type": "markdown",
   "id": "be940564",
   "metadata": {
    "id": "be940564"
   },
   "source": [
    "- **Meta 10**: 0.4\n",
    "- **Meta 07**: 1.2\n",
    "- **Meta 04**: 7\n",
    "- **Meta 00**: >= 18"
   ]
  },
  {
   "cell_type": "code",
   "execution_count": null,
   "id": "7daaa14a",
   "metadata": {
    "id": "7daaa14a"
   },
   "outputs": [],
   "source": []
  }
 ],
 "metadata": {
  "accelerator": "GPU",
  "colab": {
   "gpuType": "T4",
   "provenance": []
  },
  "kernelspec": {
   "display_name": "Python 3 (ipykernel)",
   "language": "python",
   "name": "python3"
  },
  "language_info": {
   "codemirror_mode": {
    "name": "ipython",
    "version": 3
   },
   "file_extension": ".py",
   "mimetype": "text/x-python",
   "name": "python",
   "nbconvert_exporter": "python",
   "pygments_lexer": "ipython3",
   "version": "3.8.6"
  }
 },
 "nbformat": 4,
 "nbformat_minor": 5
}
