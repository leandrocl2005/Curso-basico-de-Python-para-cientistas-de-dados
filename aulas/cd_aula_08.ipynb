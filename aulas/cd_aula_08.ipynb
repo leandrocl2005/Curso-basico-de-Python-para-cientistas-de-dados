{
 "cells": [
  {
   "cell_type": "markdown",
   "id": "c6b46664",
   "metadata": {},
   "source": [
    "# Estudo de caso do Olist E-Commerce Brasileiro"
   ]
  },
  {
   "cell_type": "markdown",
   "id": "f70ceb14",
   "metadata": {},
   "source": [
    "https://www.kaggle.com/datasets/olistbr/brazilian-ecommerce"
   ]
  },
  {
   "cell_type": "markdown",
   "id": "4c013dc2",
   "metadata": {},
   "source": [
    "### Perguntas"
   ]
  },
  {
   "cell_type": "markdown",
   "id": "2b73a995",
   "metadata": {},
   "source": [
    "As perguntas são importantes para definir e monitorar indicadores de desempenho em uma empresa. Além disso, determinadas perguntas podem gerar insights para identificar oportunidades de melhoria nos serviços prestados."
   ]
  },
  {
   "cell_type": "markdown",
   "id": "c9e38dab",
   "metadata": {},
   "source": [
    "1. Qual região ou cidade no Brasil responsável pela maioria das vendas?"
   ]
  },
  {
   "cell_type": "code",
   "execution_count": 1,
   "id": "c7de77fc",
   "metadata": {},
   "outputs": [],
   "source": [
    "# TODO"
   ]
  },
  {
   "cell_type": "markdown",
   "id": "4bfdb9b9",
   "metadata": {},
   "source": [
    "2. Qual a relação da satisfação do cliente em relação a outros fatores, por exemplo, o valor do frete, tempo de entrega e categoria de produto? "
   ]
  },
  {
   "cell_type": "code",
   "execution_count": 2,
   "id": "841fa18d",
   "metadata": {},
   "outputs": [],
   "source": [
    "# TODO"
   ]
  },
  {
   "cell_type": "markdown",
   "id": "c56200a4",
   "metadata": {},
   "source": [
    "3. Qual a relação entre categoria de produtos e vendas? Quais as 5 categorias mais vendidas? E as 5 categorias mais vendidas por estado? "
   ]
  },
  {
   "cell_type": "code",
   "execution_count": 3,
   "id": "43a6521f",
   "metadata": {},
   "outputs": [],
   "source": [
    "# TODO"
   ]
  },
  {
   "cell_type": "markdown",
   "id": "082e1bcb",
   "metadata": {},
   "source": [
    "4. Quais os 3 melhores vendedores por ano em relação ao número de venda? E em relação a satisfação do cliente?"
   ]
  },
  {
   "cell_type": "code",
   "execution_count": 4,
   "id": "ae80f8a5",
   "metadata": {},
   "outputs": [],
   "source": [
    "# TODO"
   ]
  },
  {
   "cell_type": "markdown",
   "id": "eabdc539",
   "metadata": {},
   "source": [
    "5. Quais os métodos de pagamentos preferidos por estado?"
   ]
  },
  {
   "cell_type": "code",
   "execution_count": 5,
   "id": "33275615",
   "metadata": {},
   "outputs": [],
   "source": [
    "# TODO"
   ]
  },
  {
   "cell_type": "markdown",
   "id": "dca646e1",
   "metadata": {},
   "source": [
    "6. Qual a taxa de retenção de clientes e o churn por estado ao longo dos anos?"
   ]
  },
  {
   "cell_type": "code",
   "execution_count": 7,
   "id": "8681ec98",
   "metadata": {},
   "outputs": [],
   "source": [
    "# TODO\n",
    "# Referência: https://www.zendesk.com.br/blog/indice-retencao-clientes/"
   ]
  },
  {
   "cell_type": "markdown",
   "id": "8aac8067",
   "metadata": {},
   "source": [
    "7. Faça um gráfico mostrando o volume vendas trimestrais. "
   ]
  },
  {
   "cell_type": "code",
   "execution_count": 8,
   "id": "7d6ed73c",
   "metadata": {},
   "outputs": [],
   "source": [
    "# TODO"
   ]
  },
  {
   "cell_type": "markdown",
   "id": "8ad5da06",
   "metadata": {},
   "source": [
    "8. Quais dias da semana os consumidores costumam mais comprar? E em quais meses do ano?"
   ]
  },
  {
   "cell_type": "code",
   "execution_count": 9,
   "id": "63afc921",
   "metadata": {},
   "outputs": [],
   "source": [
    "# TODO"
   ]
  },
  {
   "cell_type": "markdown",
   "id": "99e08909",
   "metadata": {},
   "source": [
    "9. Faça um gráfico de vendas em relação à faixas de preços do produto."
   ]
  },
  {
   "cell_type": "code",
   "execution_count": 10,
   "id": "b172e48e",
   "metadata": {},
   "outputs": [],
   "source": [
    "# TODO"
   ]
  },
  {
   "cell_type": "markdown",
   "id": "f55b1fba",
   "metadata": {},
   "source": [
    "10. Qual o tempo médio em que uma <i>review</i> é respondida?"
   ]
  },
  {
   "cell_type": "code",
   "execution_count": null,
   "id": "9d736899",
   "metadata": {},
   "outputs": [],
   "source": [
    "# TODO"
   ]
  }
 ],
 "metadata": {
  "kernelspec": {
   "display_name": "Python 3 (ipykernel)",
   "language": "python",
   "name": "python3"
  },
  "language_info": {
   "codemirror_mode": {
    "name": "ipython",
    "version": 3
   },
   "file_extension": ".py",
   "mimetype": "text/x-python",
   "name": "python",
   "nbconvert_exporter": "python",
   "pygments_lexer": "ipython3",
   "version": "3.8.6"
  }
 },
 "nbformat": 4,
 "nbformat_minor": 5
}
