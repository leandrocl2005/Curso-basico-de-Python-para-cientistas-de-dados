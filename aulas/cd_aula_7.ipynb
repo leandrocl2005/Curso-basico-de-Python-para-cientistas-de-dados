{
 "cells": [
  {
   "cell_type": "code",
   "execution_count": 83,
   "id": "c305c3e3",
   "metadata": {},
   "outputs": [],
   "source": [
    "# Bibliotecas\n",
    "\n",
    "# Mongo connector\n",
    "# !pip install pymongo\n",
    "\n",
    "from pymongo import MongoClient # Mongo connector\n",
    "import sqlite3 # SQLite3 connecor (already in python)\n",
    "\n",
    "from bson.objectid import ObjectId # basic data structure\n",
    "import datetime # basic data structure\n",
    "\n",
    "import pandas as pd # advanced data structure\n",
    "\n",
    "import matplotlib.pyplot as plt # visual eda\n",
    "\n",
    "import pprint # json printer"
   ]
  },
  {
   "cell_type": "markdown",
   "id": "f012ca7a",
   "metadata": {},
   "source": [
    "<h1>Mongo</h1>"
   ]
  },
  {
   "cell_type": "code",
   "execution_count": 98,
   "id": "3dd19a2b",
   "metadata": {},
   "outputs": [],
   "source": [
    "username = \"leandrocl2006\"\n",
    "password = \"YOUR_PASSWORD\" !!! Não upe seu password para o Github !!! "
   ]
  },
  {
   "cell_type": "markdown",
   "id": "77f5895a",
   "metadata": {},
   "source": [
    "### Conexão"
   ]
  },
  {
   "cell_type": "code",
   "execution_count": 99,
   "id": "49b82bd8",
   "metadata": {},
   "outputs": [],
   "source": [
    "CONNECTION_STRING = f\"mongodb+srv://{username}:{password}\"\n",
    "CONNECTION_STRING += \"@cluster0.svbzbe8.mongodb.net/\"\n",
    "CONNECTION_STRING += \"?retryWrites=true&w=majority\"\n",
    "  \n",
    "client = MongoClient(CONNECTION_STRING)"
   ]
  },
  {
   "cell_type": "markdown",
   "id": "682390fe",
   "metadata": {},
   "source": [
    "### Criando database, collection e inserindo um registro"
   ]
  },
  {
   "cell_type": "code",
   "execution_count": 4,
   "id": "38a74bdc",
   "metadata": {},
   "outputs": [],
   "source": [
    "# Create and insert data on database\n",
    "\n",
    "## database\n",
    "db = client['test-database']\n",
    "\n",
    "## collection\n",
    "collection = db['posts']\n",
    "\n",
    "## data\n",
    "post = {\"author\": \"Mike\",\n",
    "        \"text\": \"My first blog post!\",\n",
    "        \"tags\": [\"mongodb\", \"python\", \"pymongo\"],\n",
    "        \"date\": datetime.datetime.utcnow()}\n",
    "\n",
    "# insert one document\n",
    "posts = db.posts # collection\n",
    "post_id = posts.insert_one(post).inserted_id"
   ]
  },
  {
   "cell_type": "markdown",
   "id": "4fc9f191",
   "metadata": {},
   "source": [
    "### Mostrando um documento por id"
   ]
  },
  {
   "cell_type": "code",
   "execution_count": 5,
   "id": "465a3bd4",
   "metadata": {},
   "outputs": [
    {
     "data": {
      "text/plain": [
       "{'_id': ObjectId('646cc62012c0ddc99b0eddea'),\n",
       " 'author': 'Mike',\n",
       " 'text': 'My first blog post!',\n",
       " 'tags': ['mongodb', 'python', 'pymongo'],\n",
       " 'date': datetime.datetime(2023, 5, 23, 13, 56, 48, 616000)}"
      ]
     },
     "execution_count": 5,
     "metadata": {},
     "output_type": "execute_result"
    }
   ],
   "source": [
    "# read one\n",
    "posts.find_one(post_id)"
   ]
  },
  {
   "cell_type": "markdown",
   "id": "d30ca33d",
   "metadata": {},
   "source": [
    "## Inserindo e listando todos os registros"
   ]
  },
  {
   "cell_type": "code",
   "execution_count": 6,
   "id": "cb0ffa52",
   "metadata": {},
   "outputs": [
    {
     "name": "stdout",
     "output_type": "stream",
     "text": [
      "{'_id': ObjectId('646cc62012c0ddc99b0eddea'),\n",
      " 'author': 'Mike',\n",
      " 'date': datetime.datetime(2023, 5, 23, 13, 56, 48, 616000),\n",
      " 'tags': ['mongodb', 'python', 'pymongo'],\n",
      " 'text': 'My first blog post!'}\n",
      "{'_id': ObjectId('646cc62212c0ddc99b0eddeb'),\n",
      " 'author': 'Ted Biller',\n",
      " 'date': datetime.datetime(2023, 5, 23, 13, 56, 50, 403000),\n",
      " 'tags': ['mongodb', 'python', 'database'],\n",
      " 'text': 'My second blog post!'}\n"
     ]
    }
   ],
   "source": [
    "# another data\n",
    "another_post = {\"author\": \"Ted Biller\",\n",
    "        \"text\": \"My second blog post!\",\n",
    "        \"tags\": [\"mongodb\", \"python\", \"database\"],\n",
    "        \"date\": datetime.datetime.utcnow()}\n",
    "\n",
    "# insert another one\n",
    "posts.insert_one(another_post)\n",
    "\n",
    "# read and print all\n",
    "for post in posts.find():\n",
    "    pprint.pprint(post)"
   ]
  },
  {
   "cell_type": "markdown",
   "id": "518a2bb0",
   "metadata": {},
   "source": [
    "## Inserindo vários registros"
   ]
  },
  {
   "cell_type": "code",
   "execution_count": 7,
   "id": "fd220492",
   "metadata": {},
   "outputs": [],
   "source": [
    "new_posts = [{\"author\": \"Mike\",\n",
    "              \"text\": \"Another post again!\",\n",
    "              \"tags\": [\"bulk\", \"insert\"],\n",
    "              \"date\": datetime.datetime(2009, 11, 12, 11, 14)},\n",
    "             {\"author\": \"Eliot\",\n",
    "              \"title\": \"MongoDB is fun\",\n",
    "              \"text\": \"and pretty easy too!\",\n",
    "              \"date\": datetime.datetime(2009, 11, 10, 10, 45)}]\n",
    "result = posts.insert_many(new_posts)"
   ]
  },
  {
   "cell_type": "code",
   "execution_count": 8,
   "id": "78bbd6ce",
   "metadata": {},
   "outputs": [
    {
     "data": {
      "text/plain": [
       "[ObjectId('646cc62212c0ddc99b0eddec'), ObjectId('646cc62212c0ddc99b0edded')]"
      ]
     },
     "execution_count": 8,
     "metadata": {},
     "output_type": "execute_result"
    }
   ],
   "source": [
    "result.inserted_ids"
   ]
  },
  {
   "cell_type": "markdown",
   "id": "5a37cd22",
   "metadata": {},
   "source": [
    "## Filtro por author"
   ]
  },
  {
   "cell_type": "code",
   "execution_count": 9,
   "id": "227716c9",
   "metadata": {},
   "outputs": [
    {
     "name": "stdout",
     "output_type": "stream",
     "text": [
      "{'_id': ObjectId('646cc62012c0ddc99b0eddea'),\n",
      " 'author': 'Mike',\n",
      " 'date': datetime.datetime(2023, 5, 23, 13, 56, 48, 616000),\n",
      " 'tags': ['mongodb', 'python', 'pymongo'],\n",
      " 'text': 'My first blog post!'}\n",
      "{'_id': ObjectId('646cc62212c0ddc99b0eddec'),\n",
      " 'author': 'Mike',\n",
      " 'date': datetime.datetime(2009, 11, 12, 11, 14),\n",
      " 'tags': ['bulk', 'insert'],\n",
      " 'text': 'Another post again!'}\n"
     ]
    }
   ],
   "source": [
    "for post in posts.find({\"author\": \"Mike\"}):\n",
    "    pprint.pprint(post)"
   ]
  },
  {
   "cell_type": "markdown",
   "id": "5f889659",
   "metadata": {},
   "source": [
    "### Contagem com filtro"
   ]
  },
  {
   "cell_type": "code",
   "execution_count": 10,
   "id": "20412e04",
   "metadata": {},
   "outputs": [
    {
     "data": {
      "text/plain": [
       "2"
      ]
     },
     "execution_count": 10,
     "metadata": {},
     "output_type": "execute_result"
    }
   ],
   "source": [
    "# posts with author Mike\n",
    "posts.count_documents({\"author\": \"Mike\"})"
   ]
  },
  {
   "cell_type": "code",
   "execution_count": 11,
   "id": "d68ec49c",
   "metadata": {},
   "outputs": [
    {
     "data": {
      "text/plain": [
       "4"
      ]
     },
     "execution_count": 11,
     "metadata": {},
     "output_type": "execute_result"
    }
   ],
   "source": [
    "# all posts\n",
    "posts.count_documents({})"
   ]
  },
  {
   "cell_type": "markdown",
   "id": "0eee1a46",
   "metadata": {},
   "source": [
    "### Delete documents"
   ]
  },
  {
   "cell_type": "code",
   "execution_count": 12,
   "id": "41995179",
   "metadata": {},
   "outputs": [
    {
     "data": {
      "text/plain": [
       "1"
      ]
     },
     "execution_count": 12,
     "metadata": {},
     "output_type": "execute_result"
    }
   ],
   "source": [
    "result = posts.delete_one({\"text\": \"My second blog post!\"})\n",
    "result.deleted_count"
   ]
  },
  {
   "cell_type": "code",
   "execution_count": 13,
   "id": "4704c3f7",
   "metadata": {},
   "outputs": [
    {
     "data": {
      "text/plain": [
       "2"
      ]
     },
     "execution_count": 13,
     "metadata": {},
     "output_type": "execute_result"
    }
   ],
   "source": [
    "result = posts.delete_many({\"author\": \"Mike\"})\n",
    "result.deleted_count"
   ]
  },
  {
   "cell_type": "code",
   "execution_count": 14,
   "id": "425fca8f",
   "metadata": {},
   "outputs": [
    {
     "data": {
      "text/plain": [
       "1"
      ]
     },
     "execution_count": 14,
     "metadata": {},
     "output_type": "execute_result"
    }
   ],
   "source": [
    "posts.count_documents({})"
   ]
  },
  {
   "cell_type": "markdown",
   "id": "80d44052",
   "metadata": {},
   "source": [
    "### Update a document"
   ]
  },
  {
   "cell_type": "code",
   "execution_count": 15,
   "id": "d979a9a1",
   "metadata": {},
   "outputs": [
    {
     "data": {
      "text/plain": [
       "(1, 1)"
      ]
     },
     "execution_count": 15,
     "metadata": {},
     "output_type": "execute_result"
    }
   ],
   "source": [
    "_filter = {'author': \"Eliot\", 'text': 'and pretty easy too!'}\n",
    "_new = {'author': \"Eliot\", 'text': 'and pretty easy and cool too!'}\n",
    "result = posts.replace_one(_filter, _new)\n",
    "result.matched_count, result.modified_count"
   ]
  },
  {
   "cell_type": "code",
   "execution_count": 16,
   "id": "bd59ed15",
   "metadata": {},
   "outputs": [
    {
     "data": {
      "text/plain": [
       "{'_id': ObjectId('646cc62212c0ddc99b0edded'),\n",
       " 'author': 'Eliot',\n",
       " 'text': 'and pretty easy and cool too!'}"
      ]
     },
     "execution_count": 16,
     "metadata": {},
     "output_type": "execute_result"
    }
   ],
   "source": [
    "posts.find_one({'author': 'Eliot'})"
   ]
  },
  {
   "cell_type": "code",
   "execution_count": 17,
   "id": "cba4f699",
   "metadata": {},
   "outputs": [],
   "source": [
    "posts.find_one({\"_id\": ObjectId(\"646cc0ccc91ac2b9f4507160\")})"
   ]
  },
  {
   "cell_type": "markdown",
   "id": "d4d1fe5a",
   "metadata": {},
   "source": [
    "### Criando Pandas dataframe e salvando em .csv"
   ]
  },
  {
   "cell_type": "code",
   "execution_count": 18,
   "id": "d47268e1",
   "metadata": {},
   "outputs": [
    {
     "data": {
      "text/html": [
       "<div>\n",
       "<style scoped>\n",
       "    .dataframe tbody tr th:only-of-type {\n",
       "        vertical-align: middle;\n",
       "    }\n",
       "\n",
       "    .dataframe tbody tr th {\n",
       "        vertical-align: top;\n",
       "    }\n",
       "\n",
       "    .dataframe thead th {\n",
       "        text-align: right;\n",
       "    }\n",
       "</style>\n",
       "<table border=\"1\" class=\"dataframe\">\n",
       "  <thead>\n",
       "    <tr style=\"text-align: right;\">\n",
       "      <th></th>\n",
       "      <th>_id</th>\n",
       "      <th>author</th>\n",
       "      <th>text</th>\n",
       "    </tr>\n",
       "  </thead>\n",
       "  <tbody>\n",
       "    <tr>\n",
       "      <th>0</th>\n",
       "      <td>646cc62212c0ddc99b0edded</td>\n",
       "      <td>Eliot</td>\n",
       "      <td>and pretty easy and cool too!</td>\n",
       "    </tr>\n",
       "  </tbody>\n",
       "</table>\n",
       "</div>"
      ],
      "text/plain": [
       "                        _id author                           text\n",
       "0  646cc62212c0ddc99b0edded  Eliot  and pretty easy and cool too!"
      ]
     },
     "execution_count": 18,
     "metadata": {},
     "output_type": "execute_result"
    }
   ],
   "source": [
    "df = pd.DataFrame(list(posts.find()))\n",
    "df"
   ]
  },
  {
   "cell_type": "code",
   "execution_count": 19,
   "id": "8c75e6f1",
   "metadata": {},
   "outputs": [],
   "source": [
    "df.to_csv('posts.csv', index=None)"
   ]
  },
  {
   "cell_type": "markdown",
   "id": "8c1c9df8",
   "metadata": {},
   "source": [
    "### Lendo arquivo .csv salvo"
   ]
  },
  {
   "cell_type": "code",
   "execution_count": 20,
   "id": "5e76171f",
   "metadata": {},
   "outputs": [
    {
     "data": {
      "text/html": [
       "<div>\n",
       "<style scoped>\n",
       "    .dataframe tbody tr th:only-of-type {\n",
       "        vertical-align: middle;\n",
       "    }\n",
       "\n",
       "    .dataframe tbody tr th {\n",
       "        vertical-align: top;\n",
       "    }\n",
       "\n",
       "    .dataframe thead th {\n",
       "        text-align: right;\n",
       "    }\n",
       "</style>\n",
       "<table border=\"1\" class=\"dataframe\">\n",
       "  <thead>\n",
       "    <tr style=\"text-align: right;\">\n",
       "      <th></th>\n",
       "      <th>_id</th>\n",
       "      <th>author</th>\n",
       "      <th>text</th>\n",
       "    </tr>\n",
       "  </thead>\n",
       "  <tbody>\n",
       "    <tr>\n",
       "      <th>0</th>\n",
       "      <td>646cc62212c0ddc99b0edded</td>\n",
       "      <td>Eliot</td>\n",
       "      <td>and pretty easy and cool too!</td>\n",
       "    </tr>\n",
       "  </tbody>\n",
       "</table>\n",
       "</div>"
      ],
      "text/plain": [
       "                        _id author                           text\n",
       "0  646cc62212c0ddc99b0edded  Eliot  and pretty easy and cool too!"
      ]
     },
     "execution_count": 20,
     "metadata": {},
     "output_type": "execute_result"
    }
   ],
   "source": [
    "df = pd.read_csv('posts.csv')\n",
    "df"
   ]
  },
  {
   "cell_type": "markdown",
   "id": "30cc91a0",
   "metadata": {},
   "source": [
    "### Fechando conexão"
   ]
  },
  {
   "cell_type": "code",
   "execution_count": 28,
   "id": "4d0954a3",
   "metadata": {},
   "outputs": [],
   "source": [
    "client.close()"
   ]
  },
  {
   "cell_type": "markdown",
   "id": "4cf1c38e",
   "metadata": {},
   "source": [
    "### Referência"
   ]
  },
  {
   "cell_type": "markdown",
   "id": "a8d621e3",
   "metadata": {},
   "source": [
    "- https://pymongo.readthedocs.io/en/stable/tutorial.html"
   ]
  },
  {
   "cell_type": "markdown",
   "id": "8e773136",
   "metadata": {},
   "source": [
    "# SQlite3"
   ]
  },
  {
   "cell_type": "markdown",
   "id": "8a00e78c",
   "metadata": {},
   "source": [
    "### Conexão"
   ]
  },
  {
   "cell_type": "code",
   "execution_count": 78,
   "id": "e7d2b918",
   "metadata": {},
   "outputs": [],
   "source": [
    "# connection\n",
    "conn = sqlite3.connect(\"todo-app.db\")"
   ]
  },
  {
   "cell_type": "markdown",
   "id": "823799e0",
   "metadata": {},
   "source": [
    "### Criando tabela e inserindo um registro"
   ]
  },
  {
   "cell_type": "code",
   "execution_count": 30,
   "id": "afb33e3a",
   "metadata": {},
   "outputs": [],
   "source": [
    "# create table\n",
    "cursor = conn.cursor()\n",
    "conn.execute(\"\"\"\n",
    "    create table if not exists tasks (\n",
    "        id integer primary key autoincrement,\n",
    "        description text,\n",
    "        done integer)\"\"\")\n",
    "    \n",
    "# data\n",
    "task = (\"Lavar a louça\", 1)\n",
    "\n",
    "# insert data\n",
    "conn.execute(\n",
    "    \"insert into tasks (description, done) values (?, ?)\", task\n",
    ")\n",
    "conn.commit()"
   ]
  },
  {
   "cell_type": "markdown",
   "id": "464fe4e5",
   "metadata": {},
   "source": [
    "### Inserindo vários registros"
   ]
  },
  {
   "cell_type": "code",
   "execution_count": 35,
   "id": "81d355e3",
   "metadata": {},
   "outputs": [],
   "source": [
    "# insert many\n",
    "conn.execute(\n",
    "    \"\"\"\n",
    "    INSERT INTO 'tasks' (description, done) VALUES\n",
    "      ('Assistir Netflix', 1),\n",
    "      ('Estudar matplotlib', 0),\n",
    "      ('Estudar seaborn', 0),\n",
    "      ('Estudar Pandas', 0);\n",
    "    \"\"\"\n",
    ")\n",
    "conn.commit()"
   ]
  },
  {
   "cell_type": "markdown",
   "id": "935528c6",
   "metadata": {},
   "source": [
    "### Mostrando um registro por id"
   ]
  },
  {
   "cell_type": "code",
   "execution_count": 41,
   "id": "2dc4a0d6",
   "metadata": {},
   "outputs": [
    {
     "data": {
      "text/plain": [
       "(3, 'Estudar matplotlib', 0)"
      ]
     },
     "execution_count": 41,
     "metadata": {},
     "output_type": "execute_result"
    }
   ],
   "source": [
    "task = conn.execute(\n",
    "    \"\"\"\n",
    "        SELECT *\n",
    "        FROM tasks\n",
    "        WHERE id = 3\n",
    "    \"\"\").fetchone()\n",
    "task"
   ]
  },
  {
   "cell_type": "markdown",
   "id": "91956320",
   "metadata": {},
   "source": [
    "### Mostrando todos os registros"
   ]
  },
  {
   "cell_type": "code",
   "execution_count": 37,
   "id": "380f107e",
   "metadata": {},
   "outputs": [
    {
     "name": "stdout",
     "output_type": "stream",
     "text": [
      "(1, 'Lavar a louça', 1)\n",
      "(2, 'Assistir Netflix', 1)\n",
      "(3, 'Estudar matplotlib', 0)\n",
      "(4, 'Estudar seaborn', 0)\n",
      "(5, 'Estudar Pandas', 0)\n"
     ]
    }
   ],
   "source": [
    "tasks = conn.execute(\n",
    "    \"\"\"\n",
    "        SELECT * \n",
    "        FROM tasks\n",
    "    \"\"\").fetchall()\n",
    "for task in tasks:\n",
    "    print(task)"
   ]
  },
  {
   "cell_type": "markdown",
   "id": "4fef26ec",
   "metadata": {},
   "source": [
    "### Mostrando registros por filtro"
   ]
  },
  {
   "cell_type": "code",
   "execution_count": 39,
   "id": "c9fa264e",
   "metadata": {},
   "outputs": [
    {
     "name": "stdout",
     "output_type": "stream",
     "text": [
      "(1, 'Lavar a louça', 1)\n",
      "(2, 'Assistir Netflix', 1)\n"
     ]
    }
   ],
   "source": [
    "tasks = conn.execute(\n",
    "    \"\"\"\n",
    "        SELECT * \n",
    "        FROM tasks\n",
    "        WHERE done = 1\n",
    "    \"\"\").fetchall()\n",
    "for task in tasks:\n",
    "    print(task)"
   ]
  },
  {
   "cell_type": "markdown",
   "id": "c955e6a4",
   "metadata": {},
   "source": [
    "### Atualizando um registro"
   ]
  },
  {
   "cell_type": "code",
   "execution_count": 42,
   "id": "bdb4404b",
   "metadata": {},
   "outputs": [],
   "source": [
    "conn.execute(\n",
    "    \"\"\"\n",
    "        UPDATE tasks\n",
    "        SET done = 0 \n",
    "        WHERE id = 1\n",
    "    \"\"\")\n",
    "conn.commit()"
   ]
  },
  {
   "cell_type": "code",
   "execution_count": 43,
   "id": "a8ee9671",
   "metadata": {},
   "outputs": [
    {
     "data": {
      "text/plain": [
       "(1, 'Lavar a louça', 0)"
      ]
     },
     "execution_count": 43,
     "metadata": {},
     "output_type": "execute_result"
    }
   ],
   "source": [
    "task = conn.execute(\n",
    "    \"\"\"\n",
    "        SELECT *\n",
    "        FROM tasks\n",
    "        WHERE id = 1\n",
    "    \"\"\").fetchone()\n",
    "task"
   ]
  },
  {
   "cell_type": "markdown",
   "id": "ab1a184d",
   "metadata": {},
   "source": [
    "### Contando registros"
   ]
  },
  {
   "cell_type": "code",
   "execution_count": 59,
   "id": "88f13b33",
   "metadata": {},
   "outputs": [
    {
     "data": {
      "text/plain": [
       "4"
      ]
     },
     "execution_count": 59,
     "metadata": {},
     "output_type": "execute_result"
    }
   ],
   "source": [
    "# number of tasks undone\n",
    "count = conn.execute(\n",
    "    \"\"\"\n",
    "        SELECT COUNT()\n",
    "        FROM tasks \n",
    "        WHERE done = 0\n",
    "    \"\"\").fetchone()[0]\n",
    "count"
   ]
  },
  {
   "cell_type": "markdown",
   "id": "bd1c7e6b",
   "metadata": {},
   "source": [
    "### Add new column to table"
   ]
  },
  {
   "cell_type": "code",
   "execution_count": 60,
   "id": "9ddd275f",
   "metadata": {},
   "outputs": [],
   "source": [
    "conn.execute(\n",
    "    \"\"\"\n",
    "        ALTER TABLE tasks\n",
    "        ADD COLUMN category TEXT\n",
    "        DEFAULT 'sem categoria'\n",
    "    \"\"\")\n",
    "conn.commit()"
   ]
  },
  {
   "cell_type": "code",
   "execution_count": 61,
   "id": "085d2996",
   "metadata": {},
   "outputs": [
    {
     "name": "stdout",
     "output_type": "stream",
     "text": [
      "(1, 'Lavar a louça', 0, 'sem categoria')\n",
      "(2, 'Assistir Netflix', 1, 'sem categoria')\n",
      "(3, 'Estudar matplotlib', 0, 'sem categoria')\n",
      "(4, 'Estudar seaborn', 0, 'sem categoria')\n",
      "(5, 'Estudar Pandas', 0, 'sem categoria')\n"
     ]
    }
   ],
   "source": [
    "tasks = conn.execute(\n",
    "    \"\"\"\n",
    "        SELECT * \n",
    "        FROM tasks\n",
    "    \"\"\").fetchall()\n",
    "for task in tasks:\n",
    "    print(task)"
   ]
  },
  {
   "cell_type": "markdown",
   "id": "3d518ccd",
   "metadata": {},
   "source": [
    "### Update many"
   ]
  },
  {
   "cell_type": "code",
   "execution_count": 62,
   "id": "d2b212b5",
   "metadata": {},
   "outputs": [],
   "source": [
    "# update many\n",
    "for i in range(1,6):\n",
    "    _id = i\n",
    "    if _id == 1:\n",
    "        category = \"casa\"\n",
    "    elif _id == 2:\n",
    "        category = \"laser\"\n",
    "    else:\n",
    "        category = \"faculdade\"\n",
    "    \n",
    "    conn.execute(\n",
    "        \"\"\"\n",
    "            UPDATE tasks\n",
    "            SET category = '{}' \n",
    "            WHERE id = '{}' \n",
    "        \"\"\".format(category, _id))\n",
    "conn.commit()"
   ]
  },
  {
   "cell_type": "code",
   "execution_count": 63,
   "id": "bb2ea208",
   "metadata": {},
   "outputs": [
    {
     "name": "stdout",
     "output_type": "stream",
     "text": [
      "(1, 'Lavar a louça', 0, 'casa')\n",
      "(2, 'Assistir Netflix', 1, 'laser')\n",
      "(3, 'Estudar matplotlib', 0, 'faculdade')\n",
      "(4, 'Estudar seaborn', 0, 'faculdade')\n",
      "(5, 'Estudar Pandas', 0, 'faculdade')\n"
     ]
    }
   ],
   "source": [
    "tasks = conn.execute(\n",
    "    \"\"\"\n",
    "        SELECT * \n",
    "        FROM tasks\n",
    "    \"\"\").fetchall()\n",
    "for task in tasks:\n",
    "    print(task)"
   ]
  },
  {
   "cell_type": "markdown",
   "id": "bdef2924",
   "metadata": {},
   "source": [
    "### Convert table to Pandas dataframe"
   ]
  },
  {
   "cell_type": "code",
   "execution_count": 79,
   "id": "328fea3e",
   "metadata": {},
   "outputs": [
    {
     "data": {
      "text/html": [
       "<div>\n",
       "<style scoped>\n",
       "    .dataframe tbody tr th:only-of-type {\n",
       "        vertical-align: middle;\n",
       "    }\n",
       "\n",
       "    .dataframe tbody tr th {\n",
       "        vertical-align: top;\n",
       "    }\n",
       "\n",
       "    .dataframe thead th {\n",
       "        text-align: right;\n",
       "    }\n",
       "</style>\n",
       "<table border=\"1\" class=\"dataframe\">\n",
       "  <thead>\n",
       "    <tr style=\"text-align: right;\">\n",
       "      <th></th>\n",
       "      <th>id</th>\n",
       "      <th>description</th>\n",
       "      <th>done</th>\n",
       "      <th>category</th>\n",
       "    </tr>\n",
       "  </thead>\n",
       "  <tbody>\n",
       "    <tr>\n",
       "      <th>0</th>\n",
       "      <td>1</td>\n",
       "      <td>Lavar a louça</td>\n",
       "      <td>0</td>\n",
       "      <td>casa</td>\n",
       "    </tr>\n",
       "    <tr>\n",
       "      <th>1</th>\n",
       "      <td>2</td>\n",
       "      <td>Assistir Netflix</td>\n",
       "      <td>1</td>\n",
       "      <td>laser</td>\n",
       "    </tr>\n",
       "    <tr>\n",
       "      <th>2</th>\n",
       "      <td>3</td>\n",
       "      <td>Estudar matplotlib</td>\n",
       "      <td>0</td>\n",
       "      <td>faculdade</td>\n",
       "    </tr>\n",
       "    <tr>\n",
       "      <th>3</th>\n",
       "      <td>4</td>\n",
       "      <td>Estudar seaborn</td>\n",
       "      <td>0</td>\n",
       "      <td>faculdade</td>\n",
       "    </tr>\n",
       "    <tr>\n",
       "      <th>4</th>\n",
       "      <td>5</td>\n",
       "      <td>Estudar Pandas</td>\n",
       "      <td>0</td>\n",
       "      <td>faculdade</td>\n",
       "    </tr>\n",
       "  </tbody>\n",
       "</table>\n",
       "</div>"
      ],
      "text/plain": [
       "   id         description  done   category\n",
       "0   1       Lavar a louça     0       casa\n",
       "1   2    Assistir Netflix     1      laser\n",
       "2   3  Estudar matplotlib     0  faculdade\n",
       "3   4     Estudar seaborn     0  faculdade\n",
       "4   5      Estudar Pandas     0  faculdade"
      ]
     },
     "execution_count": 79,
     "metadata": {},
     "output_type": "execute_result"
    }
   ],
   "source": [
    "df = pd.read_sql_query(\"SELECT * FROM tasks\", conn, index_col='id')\n",
    "df = df.reset_index()\n",
    "df"
   ]
  },
  {
   "cell_type": "code",
   "execution_count": 80,
   "id": "ad4e038f",
   "metadata": {},
   "outputs": [],
   "source": [
    "df.to_csv(\"tarefas.csv\",index=None)"
   ]
  },
  {
   "cell_type": "code",
   "execution_count": 81,
   "id": "4949adc8",
   "metadata": {},
   "outputs": [
    {
     "data": {
      "text/html": [
       "<div>\n",
       "<style scoped>\n",
       "    .dataframe tbody tr th:only-of-type {\n",
       "        vertical-align: middle;\n",
       "    }\n",
       "\n",
       "    .dataframe tbody tr th {\n",
       "        vertical-align: top;\n",
       "    }\n",
       "\n",
       "    .dataframe thead th {\n",
       "        text-align: right;\n",
       "    }\n",
       "</style>\n",
       "<table border=\"1\" class=\"dataframe\">\n",
       "  <thead>\n",
       "    <tr style=\"text-align: right;\">\n",
       "      <th></th>\n",
       "      <th>id</th>\n",
       "      <th>description</th>\n",
       "      <th>done</th>\n",
       "      <th>category</th>\n",
       "    </tr>\n",
       "  </thead>\n",
       "  <tbody>\n",
       "    <tr>\n",
       "      <th>0</th>\n",
       "      <td>1</td>\n",
       "      <td>Lavar a louça</td>\n",
       "      <td>0</td>\n",
       "      <td>casa</td>\n",
       "    </tr>\n",
       "    <tr>\n",
       "      <th>1</th>\n",
       "      <td>2</td>\n",
       "      <td>Assistir Netflix</td>\n",
       "      <td>1</td>\n",
       "      <td>laser</td>\n",
       "    </tr>\n",
       "    <tr>\n",
       "      <th>2</th>\n",
       "      <td>3</td>\n",
       "      <td>Estudar matplotlib</td>\n",
       "      <td>0</td>\n",
       "      <td>faculdade</td>\n",
       "    </tr>\n",
       "    <tr>\n",
       "      <th>3</th>\n",
       "      <td>4</td>\n",
       "      <td>Estudar seaborn</td>\n",
       "      <td>0</td>\n",
       "      <td>faculdade</td>\n",
       "    </tr>\n",
       "    <tr>\n",
       "      <th>4</th>\n",
       "      <td>5</td>\n",
       "      <td>Estudar Pandas</td>\n",
       "      <td>0</td>\n",
       "      <td>faculdade</td>\n",
       "    </tr>\n",
       "  </tbody>\n",
       "</table>\n",
       "</div>"
      ],
      "text/plain": [
       "   id         description  done   category\n",
       "0   1       Lavar a louça     0       casa\n",
       "1   2    Assistir Netflix     1      laser\n",
       "2   3  Estudar matplotlib     0  faculdade\n",
       "3   4     Estudar seaborn     0  faculdade\n",
       "4   5      Estudar Pandas     0  faculdade"
      ]
     },
     "execution_count": 81,
     "metadata": {},
     "output_type": "execute_result"
    }
   ],
   "source": [
    "df = pd.read_csv(\"tarefas.csv\")\n",
    "df"
   ]
  },
  {
   "cell_type": "markdown",
   "id": "c64aa68f",
   "metadata": {},
   "source": [
    "### EDA example"
   ]
  },
  {
   "cell_type": "code",
   "execution_count": 67,
   "id": "83c6f4eb",
   "metadata": {},
   "outputs": [
    {
     "data": {
      "text/plain": [
       "faculdade    0.6\n",
       "casa         0.2\n",
       "laser        0.2\n",
       "Name: category, dtype: float64"
      ]
     },
     "execution_count": 67,
     "metadata": {},
     "output_type": "execute_result"
    }
   ],
   "source": [
    "df_temp = df[\"category\"].value_counts(normalize=True)\n",
    "df_temp"
   ]
  },
  {
   "cell_type": "code",
   "execution_count": 72,
   "id": "4a670dfe",
   "metadata": {},
   "outputs": [
    {
     "data": {
      "image/png": "[encoded data removed]",
      "text/plain": [
       "<Figure size 400x400 with 1 Axes>"
      ]
     },
     "metadata": {},
     "output_type": "display_data"
    }
   ],
   "source": [
    "plt.figure(figsize=(4,4))\n",
    "\n",
    "x = list(range(1,len(df_temp)+1))    # posições no eixo x das barras\n",
    "heights = df_temp.values # Valores\n",
    "\n",
    "# Criando o gráfico\n",
    "plt.bar(x, heights,\n",
    "    color=len(df_temp)*[\"#073B4C\"],       # Cores das barras\n",
    "    tick_label=df_temp.index,             # Rótulo das barras\n",
    ")\n",
    "\n",
    "# Propriedades gerais\n",
    "\n",
    "## Título\n",
    "plt.title(\n",
    "    \"Porcentagem de tarefas\\npor categoria\",    # Texto\n",
    "    fontsize=14,                               # Fonte de tamanho 14\n",
    "    fontweight='bold'                          # Fonte em negrito\n",
    ")\n",
    "\n",
    "## Rótulo do eixo horizontal\n",
    "plt.xlabel(\n",
    "    \"Categorias\",                          # Texto\n",
    "    fontsize=12,                         # Fonte de tamanho 12\n",
    "    fontweight='bold'                    # Fonte em negrito\n",
    ")\n",
    "plt.xticks(rotation=85)                 # rotação de 85° no rótulo x\n",
    "\n",
    "## Rótulo do eixo vertical\n",
    "plt.ylabel(\n",
    "    \"PORCENTAGEM (%)\",                  # Texto\n",
    "    fontsize=12,                        # Fonte de tamanho 12\n",
    "    fontweight='bold'                   # Fonte em negrito    \n",
    ")\n",
    "\n",
    "## Marcações do eixo vertical\n",
    "positions = [(i+1) * 0.1 for i in range(1, int(10*max(df_temp.values)+1))]\n",
    "label_positions = list(map(lambda x: int(100*x), positions))\n",
    "plt.yticks(positions, label_positions)\n",
    "\n",
    "## Valores nas barras\n",
    "for i, task in enumerate(df_temp.index):\n",
    "    plt.text(\n",
    "        0.6 + i,                                   # posição x do texto\n",
    "        df_temp[task] + 0.02,                      # posição y do texto\n",
    "        \"{:.2f} %\".format(100*df_temp[task]),      # texto\n",
    "        va='center',                               # alinhamento centralizado\n",
    "        fontweight='bold'                          # fonte em negrito\n",
    "    )\n",
    "\n",
    "# Mostrando o gráfico\n",
    "plt.show()"
   ]
  },
  {
   "cell_type": "markdown",
   "id": "6947919b",
   "metadata": {},
   "source": [
    "### Fechando conexão"
   ]
  },
  {
   "cell_type": "code",
   "execution_count": 82,
   "id": "550853a1",
   "metadata": {},
   "outputs": [],
   "source": [
    "conn.close()"
   ]
  },
  {
   "cell_type": "code",
   "execution_count": null,
   "id": "c5c82d23",
   "metadata": {},
   "outputs": [],
   "source": []
  }
 ],
 "metadata": {
  "kernelspec": {
   "display_name": "Python 3 (ipykernel)",
   "language": "python",
   "name": "python3"
  },
  "language_info": {
   "codemirror_mode": {
    "name": "ipython",
    "version": 3
   },
   "file_extension": ".py",
   "mimetype": "text/x-python",
   "name": "python",
   "nbconvert_exporter": "python",
   "pygments_lexer": "ipython3",
   "version": "3.11.0"
  }
 },
 "nbformat": 4,
 "nbformat_minor": 5
}
