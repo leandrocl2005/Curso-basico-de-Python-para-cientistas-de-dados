{
 "cells": [
  {
   "cell_type": "markdown",
   "id": "fa7969a0",
   "metadata": {},
   "source": [
    "# Redução e ampliação de dimensão"
   ]
  },
  {
   "cell_type": "markdown",
   "id": "e4fd244f",
   "metadata": {},
   "source": [
    "Uma planilha, em termos dimensionais, possue duas dimensões (número de linhas e número de colunas). **Alta Dimensão** é ruim, por questões de desempenho dos modelos de aprendizado de máquina. No entanto, **Baixa Dimensão** é ruim, por não revelar todos os padrões com confiança estatística mínima para tomada de decisões. "
   ]
  },
  {
   "cell_type": "markdown",
   "id": "9892af25",
   "metadata": {},
   "source": [
    "Em relação ao métodos, existem métodos lineares e não lineares."
   ]
  },
  {
   "cell_type": "markdown",
   "id": "98cc8d96",
   "metadata": {},
   "source": [
    "Em relação aos métodos de redução de dimensão, existem **engenharia de variáveis** e **seleção de variáveis**."
   ]
  },
  {
   "cell_type": "markdown",
   "id": "caf0a4eb",
   "metadata": {},
   "source": [
    "### Sumário"
   ]
  },
  {
   "cell_type": "markdown",
   "id": "1311739b",
   "metadata": {},
   "source": [
    "- Redução de dimensão\n",
    "    - Seleção de variáveis\n",
    "        - Exclusão de poucas correlacionadas com a variável de interesse\n",
    "        - Exclusão de variáveis correlacionadas\n",
    "        - Exclusão de variáveis pouco importantes\n",
    "        - Kbest\n",
    "        - Variance Threshold\n",
    "        - Select From Model\n",
    "        - Outros métodos\n",
    "    - Engenharia de variáveis (uso do conhecimento de negócio para extração de novas características)\n",
    "    - Transformações\n",
    "        - PCA\n",
    "        - PCA kernel\n",
    "        - Outros métodos\n",
    "- Ampliação de dimensão\n",
    "    - SMOTE"
   ]
  },
  {
   "cell_type": "markdown",
   "id": "4858a380",
   "metadata": {},
   "source": [
    "### Bibliotecas"
   ]
  },
  {
   "cell_type": "code",
   "execution_count": 190,
   "id": "6472135b",
   "metadata": {},
   "outputs": [],
   "source": [
    "# data structure\n",
    "import pandas as pd\n",
    "import numpy as np\n",
    "import math\n",
    "\n",
    "# stats\n",
    "from scipy.stats import skew\n",
    "\n",
    "# feature selection\n",
    "from sklearn.feature_selection import SelectKBest, r_regression\n",
    "from sklearn.feature_selection import VarianceThreshold\n",
    "from sklearn.feature_selection import SelectFromModel\n",
    "\n",
    "# feature transfoms\n",
    "from sklearn.decomposition import PCA\n",
    "from sklearn.decomposition import KernelPCA\n",
    "from sklearn.preprocessing import PolynomialFeatures\n",
    "\n",
    "# target balance\n",
    "from imblearn.over_sampling import SMOTE, ADASYN\n",
    "\n",
    "# visual info\n",
    "import seaborn as sns\n",
    "import matplotlib.pyplot as plt\n",
    "from mpl_toolkits.mplot3d import axes3d\n",
    "\n",
    "# model selection\n",
    "from sklearn.model_selection import train_test_split\n",
    "\n",
    "# models\n",
    "from catboost import CatBoostRegressor\n",
    "from sklearn.linear_model import LinearRegression\n",
    "from sklearn.ensemble import RandomForestRegressor, RandomForestClassifier\n",
    "\n",
    "# model evaluation\n",
    "from sklearn.metrics import mean_squared_error\n",
    "from sklearn.metrics import classification_report"
   ]
  },
  {
   "cell_type": "markdown",
   "id": "db13a084",
   "metadata": {},
   "source": [
    "### Baseline (House prices)"
   ]
  },
  {
   "cell_type": "markdown",
   "id": "8b34461c",
   "metadata": {},
   "source": [
    "Lembremos como foi o pré-processamento do conjunto de dado House Prices (https://www.kaggle.com/competitions/house-prices-advanced-regression-techniques)"
   ]
  },
  {
   "cell_type": "code",
   "execution_count": 191,
   "id": "36579541",
   "metadata": {},
   "outputs": [],
   "source": [
    "# read train and test\n",
    "train = pd.read_csv('../datasets/housing_prices/train.csv')\n",
    "test = pd.read_csv('../datasets/housing_prices/test.csv')\n",
    "\n",
    "# concatenate train and test\n",
    "all_data = pd.concat(\n",
    "    (train.loc[:,'MSSubClass':'SaleCondition'],\n",
    "     test.loc[:,'MSSubClass':'SaleCondition']))\n",
    "\n",
    "# apply log in target\n",
    "train[\"SalePrice\"] = np.log1p(train[\"SalePrice\"])\n",
    "\n",
    "# remove assymetry of numerics\n",
    "numeric_feats = all_data.dtypes[all_data.dtypes != \"object\"].index\n",
    "skewed_feats = all_data[numeric_feats].apply(lambda x: skew(x.dropna()))\n",
    "skewed_feats = skewed_feats[skewed_feats > 0.75]\n",
    "skewed_feats = skewed_feats.index\n",
    "all_data[skewed_feats] = np.log1p(all_data[skewed_feats]) \n",
    "\n",
    "# transform categorics\n",
    "all_data = pd.get_dummies(all_data)\n",
    "\n",
    "# fill missed data\n",
    "all_data = all_data.fillna(all_data.mean())\n",
    "\n",
    "X = all_data[:train.shape[0]] # Kaggle train\n",
    "test = all_data[train.shape[0]:] # Kaggle test\n",
    "y = train.SalePrice # target\n",
    "\n",
    "# split train and test\n",
    "X_train, X_test, y_train, y_test = train_test_split(\n",
    "    X,y,test_size=0.25,random_state=42)"
   ]
  },
  {
   "cell_type": "markdown",
   "id": "a855bf58",
   "metadata": {},
   "source": [
    "Vejamos qual a dimensão:"
   ]
  },
  {
   "cell_type": "code",
   "execution_count": 192,
   "id": "c04fb5b4",
   "metadata": {},
   "outputs": [
    {
     "data": {
      "text/plain": [
       "(2919, 287)"
      ]
     },
     "execution_count": 192,
     "metadata": {},
     "output_type": "execute_result"
    }
   ],
   "source": [
    "all_data.shape"
   ]
  },
  {
   "cell_type": "markdown",
   "id": "d5b7bc43",
   "metadata": {},
   "source": [
    "Ficamos com 288 colunas!!! Com as ferramentas de hoje o pré-processamento e a modelagem deste conjunto de dados ainda são viáveis. No entanto, em problemas maiores, teremos que reduzir o número de variáveis para conseguirmos rodar o código em tempo hábil de fazer a entrega do modelo. Veremos algumas técnicas. Antes de mais nada, consideraremos alguns modelos como base, veremos importância de variáveis e correlações."
   ]
  },
  {
   "cell_type": "markdown",
   "id": "e518c74e",
   "metadata": {},
   "source": [
    "### RMSE do baseline com CatBoost"
   ]
  },
  {
   "cell_type": "code",
   "execution_count": 193,
   "id": "71a1889a",
   "metadata": {},
   "outputs": [
    {
     "data": {
      "text/plain": [
       "0.014244880079955231"
      ]
     },
     "execution_count": 193,
     "metadata": {},
     "output_type": "execute_result"
    }
   ],
   "source": [
    "# train CatBoost\n",
    "cat = CatBoostRegressor()\n",
    "cat.fit(X_train, y_train, verbose=False)\n",
    "\n",
    "# evaluate CatBoost\n",
    "y_pred = cat.predict(X_test)\n",
    "mean_squared_error(y_test, y_pred, squared=True)"
   ]
  },
  {
   "cell_type": "markdown",
   "id": "89fda0fe",
   "metadata": {},
   "source": [
    "### RMSE do baseline com Regressão Linear"
   ]
  },
  {
   "cell_type": "code",
   "execution_count": 194,
   "id": "6676d97b",
   "metadata": {},
   "outputs": [
    {
     "data": {
      "text/plain": [
       "0.018694821647436896"
      ]
     },
     "execution_count": 194,
     "metadata": {},
     "output_type": "execute_result"
    }
   ],
   "source": [
    "# train Linear Regression\n",
    "linear = LinearRegression()\n",
    "linear.fit(X_train, y_train)\n",
    "\n",
    "# evaluate Linear Regression\n",
    "y_pred = linear.predict(X_test)\n",
    "mean_squared_error(y_test, y_pred, squared=True)"
   ]
  },
  {
   "cell_type": "markdown",
   "id": "746628ce",
   "metadata": {},
   "source": [
    "# Redução de dimensão"
   ]
  },
  {
   "cell_type": "markdown",
   "id": "c87c4504",
   "metadata": {},
   "source": [
    "### Importância de cada variável"
   ]
  },
  {
   "cell_type": "code",
   "execution_count": 195,
   "id": "64d31e41",
   "metadata": {},
   "outputs": [
    {
     "data": {
      "text/html": [
       "<div>\n",
       "<style scoped>\n",
       "    .dataframe tbody tr th:only-of-type {\n",
       "        vertical-align: middle;\n",
       "    }\n",
       "\n",
       "    .dataframe tbody tr th {\n",
       "        vertical-align: top;\n",
       "    }\n",
       "\n",
       "    .dataframe thead th {\n",
       "        text-align: right;\n",
       "    }\n",
       "</style>\n",
       "<table border=\"1\" class=\"dataframe\">\n",
       "  <thead>\n",
       "    <tr style=\"text-align: right;\">\n",
       "      <th></th>\n",
       "      <th>columns</th>\n",
       "      <th>importance</th>\n",
       "    </tr>\n",
       "  </thead>\n",
       "  <tbody>\n",
       "    <tr>\n",
       "      <th>3</th>\n",
       "      <td>OverallQual</td>\n",
       "      <td>21.687524</td>\n",
       "    </tr>\n",
       "    <tr>\n",
       "      <th>15</th>\n",
       "      <td>GrLivArea</td>\n",
       "      <td>14.380249</td>\n",
       "    </tr>\n",
       "    <tr>\n",
       "      <th>11</th>\n",
       "      <td>TotalBsmtSF</td>\n",
       "      <td>5.010352</td>\n",
       "    </tr>\n",
       "    <tr>\n",
       "      <th>23</th>\n",
       "      <td>Fireplaces</td>\n",
       "      <td>3.922132</td>\n",
       "    </tr>\n",
       "    <tr>\n",
       "      <th>8</th>\n",
       "      <td>BsmtFinSF1</td>\n",
       "      <td>3.426744</td>\n",
       "    </tr>\n",
       "  </tbody>\n",
       "</table>\n",
       "</div>"
      ],
      "text/plain": [
       "        columns  importance\n",
       "3   OverallQual   21.687524\n",
       "15    GrLivArea   14.380249\n",
       "11  TotalBsmtSF    5.010352\n",
       "23   Fireplaces    3.922132\n",
       "8    BsmtFinSF1    3.426744"
      ]
     },
     "execution_count": 195,
     "metadata": {},
     "output_type": "execute_result"
    }
   ],
   "source": [
    "cat_importances_df = pd.DataFrame({\n",
    "    \"columns\": all_data.columns, \n",
    "    \"importance\": cat.feature_importances_\n",
    "})\n",
    "cat_importances_df.sort_values('importance', ascending=False).head(5)"
   ]
  },
  {
   "cell_type": "markdown",
   "id": "6d8eb7c8",
   "metadata": {},
   "source": [
    "### Correlação de cada variável com a variável de interesse"
   ]
  },
  {
   "cell_type": "code",
   "execution_count": 196,
   "id": "22bbc1c6",
   "metadata": {},
   "outputs": [
    {
     "data": {
      "text/html": [
       "<div>\n",
       "<style scoped>\n",
       "    .dataframe tbody tr th:only-of-type {\n",
       "        vertical-align: middle;\n",
       "    }\n",
       "\n",
       "    .dataframe tbody tr th {\n",
       "        vertical-align: top;\n",
       "    }\n",
       "\n",
       "    .dataframe thead th {\n",
       "        text-align: right;\n",
       "    }\n",
       "</style>\n",
       "<table border=\"1\" class=\"dataframe\">\n",
       "  <thead>\n",
       "    <tr style=\"text-align: right;\">\n",
       "      <th></th>\n",
       "      <th>columns</th>\n",
       "      <th>correlation</th>\n",
       "    </tr>\n",
       "  </thead>\n",
       "  <tbody>\n",
       "    <tr>\n",
       "      <th>287</th>\n",
       "      <td>SalePrice</td>\n",
       "      <td>1.000000</td>\n",
       "    </tr>\n",
       "    <tr>\n",
       "      <th>3</th>\n",
       "      <td>OverallQual</td>\n",
       "      <td>0.817185</td>\n",
       "    </tr>\n",
       "    <tr>\n",
       "      <th>15</th>\n",
       "      <td>GrLivArea</td>\n",
       "      <td>0.730254</td>\n",
       "    </tr>\n",
       "    <tr>\n",
       "      <th>25</th>\n",
       "      <td>GarageCars</td>\n",
       "      <td>0.680625</td>\n",
       "    </tr>\n",
       "    <tr>\n",
       "      <th>26</th>\n",
       "      <td>GarageArea</td>\n",
       "      <td>0.650888</td>\n",
       "    </tr>\n",
       "  </tbody>\n",
       "</table>\n",
       "</div>"
      ],
      "text/plain": [
       "         columns  correlation\n",
       "287    SalePrice     1.000000\n",
       "3    OverallQual     0.817185\n",
       "15     GrLivArea     0.730254\n",
       "25    GarageCars     0.680625\n",
       "26    GarageArea     0.650888"
      ]
     },
     "execution_count": 196,
     "metadata": {},
     "output_type": "execute_result"
    }
   ],
   "source": [
    "df_temp = X.copy()\n",
    "df_temp['SalePrice'] = y\n",
    "sale_price_corrs = df_temp.corr()[\"SalePrice\"]\n",
    "\n",
    "corr_df = pd.DataFrame({\n",
    "    \"columns\": sale_price_corrs.index, \n",
    "    \"correlation\": sale_price_corrs.values\n",
    "})\n",
    "corr_df.sort_values('correlation', ascending=False).head(5)"
   ]
  },
  {
   "cell_type": "code",
   "execution_count": 197,
   "id": "4b15a5fe",
   "metadata": {},
   "outputs": [
    {
     "data": {
      "text/html": [
       "<div>\n",
       "<style scoped>\n",
       "    .dataframe tbody tr th:only-of-type {\n",
       "        vertical-align: middle;\n",
       "    }\n",
       "\n",
       "    .dataframe tbody tr th {\n",
       "        vertical-align: top;\n",
       "    }\n",
       "\n",
       "    .dataframe thead th {\n",
       "        text-align: right;\n",
       "    }\n",
       "</style>\n",
       "<table border=\"1\" class=\"dataframe\">\n",
       "  <thead>\n",
       "    <tr style=\"text-align: right;\">\n",
       "      <th></th>\n",
       "      <th>columns</th>\n",
       "      <th>correlation</th>\n",
       "    </tr>\n",
       "  </thead>\n",
       "  <tbody>\n",
       "    <tr>\n",
       "      <th>169</th>\n",
       "      <td>ExterQual_TA</td>\n",
       "      <td>-0.595882</td>\n",
       "    </tr>\n",
       "    <tr>\n",
       "      <th>226</th>\n",
       "      <td>KitchenQual_TA</td>\n",
       "      <td>-0.538237</td>\n",
       "    </tr>\n",
       "    <tr>\n",
       "      <th>184</th>\n",
       "      <td>BsmtQual_TA</td>\n",
       "      <td>-0.477611</td>\n",
       "    </tr>\n",
       "    <tr>\n",
       "      <th>247</th>\n",
       "      <td>GarageFinish_Unf</td>\n",
       "      <td>-0.432012</td>\n",
       "    </tr>\n",
       "    <tr>\n",
       "      <th>244</th>\n",
       "      <td>GarageType_Detchd</td>\n",
       "      <td>-0.388638</td>\n",
       "    </tr>\n",
       "  </tbody>\n",
       "</table>\n",
       "</div>"
      ],
      "text/plain": [
       "               columns  correlation\n",
       "169       ExterQual_TA    -0.595882\n",
       "226     KitchenQual_TA    -0.538237\n",
       "184        BsmtQual_TA    -0.477611\n",
       "247   GarageFinish_Unf    -0.432012\n",
       "244  GarageType_Detchd    -0.388638"
      ]
     },
     "execution_count": 197,
     "metadata": {},
     "output_type": "execute_result"
    }
   ],
   "source": [
    "corr_df.sort_values('correlation', ascending=True).head(5)"
   ]
  },
  {
   "cell_type": "markdown",
   "id": "ce092783",
   "metadata": {},
   "source": [
    "### Correlação entre colunas"
   ]
  },
  {
   "cell_type": "code",
   "execution_count": 198,
   "id": "6b9dc855",
   "metadata": {},
   "outputs": [
    {
     "data": {
      "image/png": "[encoded data removed]",
      "text/plain": [
       "<Figure size 640x480 with 2 Axes>"
      ]
     },
     "metadata": {},
     "output_type": "display_data"
    }
   ],
   "source": [
    "sns.heatmap(all_data.iloc[:,0:20].corr());\n",
    "plt.show()"
   ]
  },
  {
   "cell_type": "markdown",
   "id": "dc7e6c00",
   "metadata": {},
   "source": [
    "Podemos excluir variáveis preditoras que correlacionam com outras, podemos excluir aquelas que não se correlacionam com a variável de interesse e, por fim, podemo excluir aquelas menos importantes. Existem funções na biblioteca Scikit-Learn para tal."
   ]
  },
  {
   "cell_type": "markdown",
   "id": "aacea25e",
   "metadata": {},
   "source": [
    "## Seleção de variáveis (Variance Threshold)"
   ]
  },
  {
   "cell_type": "code",
   "execution_count": 199,
   "id": "79003a93",
   "metadata": {},
   "outputs": [],
   "source": [
    "selector = VarianceThreshold(0.05) # threshold = 0.22\n",
    "X_new = selector.fit_transform(X)"
   ]
  },
  {
   "cell_type": "code",
   "execution_count": 200,
   "id": "36d7afa5",
   "metadata": {},
   "outputs": [
    {
     "data": {
      "text/plain": [
       "(1460, 119)"
      ]
     },
     "execution_count": 200,
     "metadata": {},
     "output_type": "execute_result"
    }
   ],
   "source": [
    "X_new.shape"
   ]
  },
  {
   "cell_type": "code",
   "execution_count": 201,
   "id": "456c6f14",
   "metadata": {},
   "outputs": [],
   "source": [
    "# split train and test\n",
    "X_train, X_test, y_train, y_test = train_test_split(X_new, y, test_size=0.25, random_state=42)"
   ]
  },
  {
   "cell_type": "code",
   "execution_count": 202,
   "id": "63a6c405",
   "metadata": {},
   "outputs": [
    {
     "data": {
      "text/plain": [
       "0.01522967567551422"
      ]
     },
     "execution_count": 202,
     "metadata": {},
     "output_type": "execute_result"
    }
   ],
   "source": [
    "# train CatBoost\n",
    "cat = CatBoostRegressor()\n",
    "cat.fit(X_train, y_train, verbose=False)\n",
    "\n",
    "# evaluate CatBoost\n",
    "y_pred = cat.predict(X_test)\n",
    "mean_squared_error(y_test, y_pred, squared=True)"
   ]
  },
  {
   "cell_type": "code",
   "execution_count": 203,
   "id": "c86fd46c",
   "metadata": {},
   "outputs": [
    {
     "data": {
      "text/plain": [
       "0.0174897614186863"
      ]
     },
     "execution_count": 203,
     "metadata": {},
     "output_type": "execute_result"
    }
   ],
   "source": [
    "# train Linear Regression\n",
    "linear = LinearRegression()\n",
    "linear.fit(X_train, y_train)\n",
    "\n",
    "# evaluate Linear Regression\n",
    "y_pred = linear.predict(X_test)\n",
    "mean_squared_error(y_test, y_pred, squared=True)"
   ]
  },
  {
   "cell_type": "markdown",
   "id": "1ae0bfc6",
   "metadata": {},
   "source": [
    "## Seleção de variáveis (Kbest)"
   ]
  },
  {
   "cell_type": "code",
   "execution_count": 204,
   "id": "9d52e417",
   "metadata": {},
   "outputs": [],
   "source": [
    "transformer = SelectKBest(r_regression, k=10)\n",
    "\n",
    "X_new = transformer.fit_transform(X, y)\n",
    "\n",
    "# split train and test\n",
    "X_train, X_test, y_train, y_test = train_test_split(\n",
    "    X_new,y,test_size=0.25,random_state=42)"
   ]
  },
  {
   "cell_type": "code",
   "execution_count": 205,
   "id": "b5131de7",
   "metadata": {},
   "outputs": [
    {
     "name": "stdout",
     "output_type": "stream",
     "text": [
      "X_new number of columns: 10\n",
      "RMSE: 0.0174897614186863\n"
     ]
    }
   ],
   "source": [
    "# train CatBoost\n",
    "model = CatBoostRegressor()\n",
    "model.fit(X_train, y_train, verbose=False)\n",
    "\n",
    "print(\"X_new number of columns:\", X_new.shape[1])\n",
    "print(\"RMSE:\", mean_squared_error(y_test, y_pred, squared=True))"
   ]
  },
  {
   "cell_type": "code",
   "execution_count": 206,
   "id": "f3c9d99d",
   "metadata": {},
   "outputs": [
    {
     "name": "stdout",
     "output_type": "stream",
     "text": [
      "X_new number of columns: 10\n",
      "RMSE: 0.0174897614186863\n"
     ]
    }
   ],
   "source": [
    "# train Linear Regression\n",
    "model = LinearRegression()\n",
    "model.fit(X_train, y_train)\n",
    "\n",
    "print(\"X_new number of columns:\", X_new.shape[1])\n",
    "print(\"RMSE:\", mean_squared_error(y_test, y_pred, squared=True))"
   ]
  },
  {
   "cell_type": "markdown",
   "id": "002b17ce",
   "metadata": {},
   "source": [
    "## Seleção de variáveis (Select From Model)"
   ]
  },
  {
   "cell_type": "code",
   "execution_count": 207,
   "id": "fb2a46ec",
   "metadata": {},
   "outputs": [],
   "source": [
    "transformer = SelectFromModel(estimator=RandomForestRegressor())\n",
    "X_new = transformer.fit_transform(X, y)"
   ]
  },
  {
   "cell_type": "code",
   "execution_count": 208,
   "id": "46166351",
   "metadata": {},
   "outputs": [
    {
     "name": "stdout",
     "output_type": "stream",
     "text": [
      "X_new number of columns: 21\n",
      "RMSE: 0.0174897614186863\n"
     ]
    }
   ],
   "source": [
    "# train CatBoost\n",
    "model = CatBoostRegressor()\n",
    "model.fit(X_train, y_train, verbose=False)\n",
    "\n",
    "print(\"X_new number of columns:\", X_new.shape[1])\n",
    "print(\"RMSE:\", mean_squared_error(y_test, y_pred, squared=True))"
   ]
  },
  {
   "cell_type": "code",
   "execution_count": 209,
   "id": "94de75e7",
   "metadata": {},
   "outputs": [
    {
     "name": "stdout",
     "output_type": "stream",
     "text": [
      "X_new number of columns: 21\n",
      "RMSE: 0.0174897614186863\n"
     ]
    }
   ],
   "source": [
    "# train Linear Regression\n",
    "model = LinearRegression()\n",
    "model.fit(X_train, y_train)\n",
    "\n",
    "print(\"X_new number of columns:\", X_new.shape[1])\n",
    "print(\"RMSE:\", mean_squared_error(y_test, y_pred, squared=True))"
   ]
  },
  {
   "cell_type": "markdown",
   "id": "d6825bc6",
   "metadata": {},
   "source": [
    "Para mais seleção de variáveis: https://scikit-learn.org/stable/modules/feature_selection.html#univariate-feature-selection"
   ]
  },
  {
   "cell_type": "markdown",
   "id": "c9262daa",
   "metadata": {},
   "source": [
    "## Redução de dimensão com PCA"
   ]
  },
  {
   "cell_type": "markdown",
   "id": "03bd8ec1",
   "metadata": {},
   "source": [
    "Outra forma de reduzir a dimensão é projetar ${\\mathbb{R}}^{287}$num subespaço $W$ cuja base preserva a variabilidade dos dados após projeção. Para encontrar um subespaço com essas propriedades, a técnica PCA é indicada."
   ]
  },
  {
   "cell_type": "markdown",
   "id": "42a12bae",
   "metadata": {},
   "source": [
    "https://leandrocruvinel.medium.com/pca-na-m%C3%A3o-e-no-python-d559e9c8f053"
   ]
  },
  {
   "cell_type": "code",
   "execution_count": 210,
   "id": "b7c4827f",
   "metadata": {},
   "outputs": [],
   "source": [
    "pca = PCA(n_components=10)\n",
    "pca.fit(X)\n",
    "\n",
    "X_new = pca.transform(X)\n",
    "\n",
    "X_train, X_test, y_train, y_test = train_test_split(\n",
    "    X_new, y, test_size=0.25, random_state=42)"
   ]
  },
  {
   "cell_type": "code",
   "execution_count": 211,
   "id": "dc4238d0",
   "metadata": {},
   "outputs": [
    {
     "name": "stdout",
     "output_type": "stream",
     "text": [
      "X_new number of columns: 10\n",
      "RMSE: 0.042936516582131684\n"
     ]
    }
   ],
   "source": [
    "# train CatBoost\n",
    "model = CatBoostRegressor()\n",
    "model.fit(X_train, y_train, verbose=False)\n",
    "\n",
    "# evaluate CatBoost\n",
    "y_pred = model.predict(X_test)\n",
    "print(\"X_new number of columns:\", X_new.shape[1])\n",
    "print(\"RMSE:\", mean_squared_error(y_test, y_pred, squared=True))"
   ]
  },
  {
   "cell_type": "code",
   "execution_count": 212,
   "id": "e3a7dcd5",
   "metadata": {},
   "outputs": [
    {
     "name": "stdout",
     "output_type": "stream",
     "text": [
      "X_new number of columns: 10\n",
      "RMSE: 0.042936516582131684\n"
     ]
    }
   ],
   "source": [
    "# train Linear Regression\n",
    "model = LinearRegression()\n",
    "model.fit(X_train, y_train)\n",
    "\n",
    "# evaluate Linear Regression\n",
    "print(\"X_new number of columns:\", X_new.shape[1])\n",
    "print(\"RMSE:\", mean_squared_error(y_test, y_pred, squared=True))"
   ]
  },
  {
   "cell_type": "markdown",
   "id": "26fbd066",
   "metadata": {},
   "source": [
    "## Redução de dimensão com Kernel PCA"
   ]
  },
  {
   "cell_type": "markdown",
   "id": "a3d13020",
   "metadata": {},
   "source": [
    "Características não lineares podem diminuir a precisão do PCA, uma vez que PCA é uma técnica linear. Para que a técnica tenha bons resultados, mesmo nessas condições, mapeamos o espaço ${\\mathbb{R}}^{288}$ através de uma função $\\varphi$ não linear e, então, aplicamos PCA. Essa técnica recebe o nome de kernel PCA. O mapeamento é determinado através de um kernel $k$ de Mercer."
   ]
  },
  {
   "cell_type": "markdown",
   "id": "b6d8ce37",
   "metadata": {},
   "source": [
    "https://en.wikipedia.org/wiki/Kernel_principal_component_analysis"
   ]
  },
  {
   "cell_type": "markdown",
   "id": "3ed8ad80",
   "metadata": {},
   "source": [
    "Tentaremos melhorar utilizando o Kernel Cosseno:"
   ]
  },
  {
   "cell_type": "markdown",
   "id": "d2677702",
   "metadata": {},
   "source": [
    "$$k(x, y) = \\frac{x y^\\top}{\\|x\\| \\|y\\|}$$"
   ]
  },
  {
   "cell_type": "code",
   "execution_count": 213,
   "id": "620a33d6",
   "metadata": {},
   "outputs": [],
   "source": [
    "kernel_pca = KernelPCA(n_components=10, kernel='cosine')\n",
    "\n",
    "X_new = kernel_pca.fit_transform(X)\n",
    "\n",
    "X_train, X_test, y_train, y_test = train_test_split(\n",
    "    X_new, y, test_size=0.25, random_state=42)"
   ]
  },
  {
   "cell_type": "code",
   "execution_count": 214,
   "id": "6d05d1cf",
   "metadata": {},
   "outputs": [
    {
     "name": "stdout",
     "output_type": "stream",
     "text": [
      "X_new number of columns: 10\n",
      "RMSE: 0.047379591657339404\n"
     ]
    }
   ],
   "source": [
    "# train CatBoost\n",
    "model = CatBoostRegressor()\n",
    "model.fit(X_train, y_train, verbose=False)\n",
    "\n",
    "# evaluate CatBoost\n",
    "y_pred = model.predict(X_test)\n",
    "print(\"X_new number of columns:\", X_new.shape[1])\n",
    "print(\"RMSE:\", mean_squared_error(y_test, y_pred, squared=True))"
   ]
  },
  {
   "cell_type": "code",
   "execution_count": 215,
   "id": "c83a00e9",
   "metadata": {},
   "outputs": [
    {
     "name": "stdout",
     "output_type": "stream",
     "text": [
      "X_new number of columns: 10\n",
      "RMSE: 0.047379591657339404\n"
     ]
    }
   ],
   "source": [
    "# train Linear Regression\n",
    "model = LinearRegression()\n",
    "model.fit(X_train, y_train)\n",
    "\n",
    "# evaluate Linear Regression\n",
    "print(\"X_new number of columns:\", X_new.shape[1])\n",
    "print(\"RMSE:\", mean_squared_error(y_test, y_pred, squared=True))"
   ]
  },
  {
   "cell_type": "markdown",
   "id": "680da415",
   "metadata": {},
   "source": [
    "### PCA com variabilidade fixa ao invés de componentes"
   ]
  },
  {
   "cell_type": "markdown",
   "id": "4456a496",
   "metadata": {},
   "source": [
    "Caso o número de variáveis, no nosso caso 10, não for fixo, podemos determinar a variabilidade que queremos manter. Vejamos um exemplo mantendo 0.99999 de variabilidade."
   ]
  },
  {
   "cell_type": "code",
   "execution_count": 216,
   "id": "e22f0e80",
   "metadata": {},
   "outputs": [],
   "source": [
    "pca = PCA(0.99999)\n",
    "\n",
    "X_new = pca.fit_transform(X)\n",
    "\n",
    "X_train, X_test, y_train, y_test = train_test_split(\n",
    "    X_new, y, test_size=0.25, random_state=42)"
   ]
  },
  {
   "cell_type": "code",
   "execution_count": 217,
   "id": "49ef9d2d",
   "metadata": {},
   "outputs": [
    {
     "name": "stdout",
     "output_type": "stream",
     "text": [
      "X_new number of columns: 136\n",
      "RMSE: 0.028393691743218135\n"
     ]
    }
   ],
   "source": [
    "# train CatBoost\n",
    "model = CatBoostRegressor()\n",
    "model.fit(X_train, y_train, verbose=False)\n",
    "\n",
    "# evaluate CatBoost\n",
    "y_pred = model.predict(X_test)\n",
    "print(\"X_new number of columns:\", X_new.shape[1])\n",
    "print(\"RMSE:\", mean_squared_error(y_test, y_pred, squared=True))"
   ]
  },
  {
   "cell_type": "code",
   "execution_count": 218,
   "id": "a7ceac76",
   "metadata": {},
   "outputs": [
    {
     "name": "stdout",
     "output_type": "stream",
     "text": [
      "X_new number of columns: 136\n",
      "RMSE: 0.028393691743218135\n"
     ]
    }
   ],
   "source": [
    "# train Linear Regression\n",
    "model = LinearRegression()\n",
    "model.fit(X_train, y_train)\n",
    "\n",
    "# evaluate Linear Regression\n",
    "print(\"X_new number of columns:\", X_new.shape[1])\n",
    "print(\"RMSE:\", mean_squared_error(y_test, y_pred, squared=True))"
   ]
  },
  {
   "cell_type": "markdown",
   "id": "507e6010",
   "metadata": {},
   "source": [
    "Podemos tunar o PCA e determinar os melhores parâmetros."
   ]
  },
  {
   "cell_type": "code",
   "execution_count": 219,
   "id": "01439516",
   "metadata": {},
   "outputs": [],
   "source": [
    "pca = PCA(n_components=37)\n",
    "pca.fit(X)\n",
    "\n",
    "X_new = pca.fit_transform(X)\n",
    "\n",
    "X_train, X_test, y_train, y_test = train_test_split(X_new,y,test_size=0.25,random_state=42)"
   ]
  },
  {
   "cell_type": "code",
   "execution_count": 220,
   "id": "28832592",
   "metadata": {},
   "outputs": [
    {
     "name": "stdout",
     "output_type": "stream",
     "text": [
      "X_new number of columns: 37\n",
      "RMSE: 0.026339835808029077\n"
     ]
    }
   ],
   "source": [
    "# train CatBoost\n",
    "model = CatBoostRegressor()\n",
    "model.fit(X_train, y_train, verbose=False)\n",
    "\n",
    "# evaluate CatBoost\n",
    "y_pred = model.predict(X_test)\n",
    "print(\"X_new number of columns:\", X_new.shape[1])\n",
    "print(\"RMSE:\", mean_squared_error(y_test, y_pred, squared=True))"
   ]
  },
  {
   "cell_type": "code",
   "execution_count": 221,
   "id": "0733762a",
   "metadata": {},
   "outputs": [
    {
     "name": "stdout",
     "output_type": "stream",
     "text": [
      "X_new number of columns: 37\n",
      "RMSE: 0.026339835808029077\n"
     ]
    }
   ],
   "source": [
    "# train Linear Regression\n",
    "model = LinearRegression()\n",
    "model.fit(X_train, y_train)\n",
    "\n",
    "# evaluate Linear Regression\n",
    "print(\"X_new number of columns:\", X_new.shape[1])\n",
    "print(\"RMSE:\", mean_squared_error(y_test, y_pred, squared=True))"
   ]
  },
  {
   "cell_type": "markdown",
   "id": "3e2c5827",
   "metadata": {},
   "source": [
    "## Novas variáveis com PCA"
   ]
  },
  {
   "cell_type": "code",
   "execution_count": 222,
   "id": "d78972ea",
   "metadata": {},
   "outputs": [
    {
     "data": {
      "text/plain": [
       "(1460, 2)"
      ]
     },
     "execution_count": 222,
     "metadata": {},
     "output_type": "execute_result"
    }
   ],
   "source": [
    "pca = PCA(n_components=2)\n",
    "\n",
    "new_features = pca.fit_transform(X)\n",
    "\n",
    "new_features.shape"
   ]
  },
  {
   "cell_type": "code",
   "execution_count": 223,
   "id": "d1fb6038",
   "metadata": {},
   "outputs": [
    {
     "name": "stdout",
     "output_type": "stream",
     "text": [
      "X (1460, 287)\n",
      "X_new (1460, 289)\n"
     ]
    }
   ],
   "source": [
    "X_new = X.copy()\n",
    "X_new[['c1','c2']] = new_features\n",
    "print(\"X\", X.shape)\n",
    "print(\"X_new\", X_new.shape)"
   ]
  },
  {
   "cell_type": "code",
   "execution_count": 224,
   "id": "c4781fe7",
   "metadata": {},
   "outputs": [],
   "source": [
    "X_train, X_test, y_train, y_test = train_test_split(X_new,y,test_size=0.25,random_state=42)"
   ]
  },
  {
   "cell_type": "code",
   "execution_count": 225,
   "id": "387a4617",
   "metadata": {},
   "outputs": [
    {
     "name": "stdout",
     "output_type": "stream",
     "text": [
      "X_new number of columns: 289\n",
      "RMSE: 0.015285055124235052\n"
     ]
    }
   ],
   "source": [
    "# train CatBoost\n",
    "model = CatBoostRegressor()\n",
    "model.fit(X_train, y_train, verbose=False)\n",
    "\n",
    "# evaluate CatBoost\n",
    "y_pred = model.predict(X_test)\n",
    "print(\"X_new number of columns:\", X_new.shape[1])\n",
    "print(\"RMSE:\", mean_squared_error(y_test, y_pred, squared=True))"
   ]
  },
  {
   "cell_type": "code",
   "execution_count": 226,
   "id": "1ddc07c2",
   "metadata": {},
   "outputs": [
    {
     "name": "stdout",
     "output_type": "stream",
     "text": [
      "X_new number of columns: 289\n",
      "RMSE: 0.015285055124235052\n"
     ]
    }
   ],
   "source": [
    "# train Linear Regression\n",
    "model = LinearRegression()\n",
    "model.fit(X_train, y_train)\n",
    "\n",
    "# evaluate Linear Regression\n",
    "print(\"X_new number of columns:\", X_new.shape[1])\n",
    "print(\"RMSE:\", mean_squared_error(y_test, y_pred, squared=True))"
   ]
  },
  {
   "cell_type": "markdown",
   "id": "b1b340fe",
   "metadata": {},
   "source": [
    "Observe que a estratégia resultou em uma melhoria do baseline com Regressão Linear."
   ]
  },
  {
   "cell_type": "markdown",
   "id": "af4421a7",
   "metadata": {},
   "source": [
    "Outros métodos de decomposição podem ser vistos aqui https://scikit-learn.org/stable/modules/classes.html#module-sklearn.decomposition"
   ]
  },
  {
   "cell_type": "markdown",
   "id": "3da59ce1",
   "metadata": {},
   "source": [
    "Podemos usar decomposições tanto para redução quanto para aumento das dimensões do conjunto de dados."
   ]
  },
  {
   "cell_type": "markdown",
   "id": "32ada4a6",
   "metadata": {},
   "source": [
    "## Novas variáveis polinômiais"
   ]
  },
  {
   "cell_type": "code",
   "execution_count": 227,
   "id": "46667cf3",
   "metadata": {},
   "outputs": [
    {
     "data": {
      "text/html": [
       "<div>\n",
       "<style scoped>\n",
       "    .dataframe tbody tr th:only-of-type {\n",
       "        vertical-align: middle;\n",
       "    }\n",
       "\n",
       "    .dataframe tbody tr th {\n",
       "        vertical-align: top;\n",
       "    }\n",
       "\n",
       "    .dataframe thead th {\n",
       "        text-align: right;\n",
       "    }\n",
       "</style>\n",
       "<table border=\"1\" class=\"dataframe\">\n",
       "  <thead>\n",
       "    <tr style=\"text-align: right;\">\n",
       "      <th></th>\n",
       "      <th>x1</th>\n",
       "      <th>x2</th>\n",
       "    </tr>\n",
       "  </thead>\n",
       "  <tbody>\n",
       "    <tr>\n",
       "      <th>0</th>\n",
       "      <td>1</td>\n",
       "      <td>4</td>\n",
       "    </tr>\n",
       "    <tr>\n",
       "      <th>1</th>\n",
       "      <td>2</td>\n",
       "      <td>5</td>\n",
       "    </tr>\n",
       "    <tr>\n",
       "      <th>2</th>\n",
       "      <td>3</td>\n",
       "      <td>0</td>\n",
       "    </tr>\n",
       "  </tbody>\n",
       "</table>\n",
       "</div>"
      ],
      "text/plain": [
       "   x1  x2\n",
       "0   1   4\n",
       "1   2   5\n",
       "2   3   0"
      ]
     },
     "execution_count": 227,
     "metadata": {},
     "output_type": "execute_result"
    }
   ],
   "source": [
    "df = pd.DataFrame({'x1':[1,2,3], 'x2':[4,5,0]})\n",
    "df"
   ]
  },
  {
   "cell_type": "code",
   "execution_count": 228,
   "id": "3ef29718",
   "metadata": {},
   "outputs": [
    {
     "data": {
      "text/plain": [
       "array([[ 1.,  1.,  4.,  1.,  4., 16.],\n",
       "       [ 1.,  2.,  5.,  4., 10., 25.],\n",
       "       [ 1.,  3.,  0.,  9.,  0.,  0.]])"
      ]
     },
     "execution_count": 228,
     "metadata": {},
     "output_type": "execute_result"
    }
   ],
   "source": [
    "poly = PolynomialFeatures(2)\n",
    "poly.fit_transform(df) # x1^0 x1 x2 x1^2 x1x2 x2^2"
   ]
  },
  {
   "cell_type": "code",
   "execution_count": 229,
   "id": "7209d1de",
   "metadata": {},
   "outputs": [],
   "source": [
    "# !pip install imbalanced-learn"
   ]
  },
  {
   "cell_type": "markdown",
   "id": "55118660",
   "metadata": {},
   "source": [
    "## Novas linhas com SMOTE"
   ]
  },
  {
   "cell_type": "markdown",
   "id": "1deb1c6a",
   "metadata": {},
   "source": [
    "https://imbalanced-learn.org/stable/over_sampling.html"
   ]
  },
  {
   "cell_type": "markdown",
   "id": "1e0d0608",
   "metadata": {},
   "source": [
    "Quando temos dados desbalanceados, alguns algoritmos sofrem de subajuste. Podemos balancear as classes usando SMOTE no conjunto de dados restrito a classe menos frequente."
   ]
  },
  {
   "cell_type": "code",
   "execution_count": 230,
   "id": "530ab952",
   "metadata": {},
   "outputs": [
    {
     "data": {
      "text/plain": [
       "Machine failure\n",
       "0    0.984256\n",
       "1    0.015744\n",
       "Name: proportion, dtype: float64"
      ]
     },
     "execution_count": 230,
     "metadata": {},
     "output_type": "execute_result"
    }
   ],
   "source": [
    "train = pd.read_csv('../datasets/machine_failure/train.csv')\n",
    "test = pd.read_csv('../datasets/machine_failure/test.csv')\n",
    "\n",
    "train.drop(['id', 'Product ID'], axis=1, inplace=True)\n",
    "test.drop(['id', 'Product ID'], axis=1, inplace=True)\n",
    "\n",
    "train = pd.get_dummies(train, drop_first=True, dtype=float)\n",
    "test = pd.get_dummies(test, drop_first=True, dtype=float)\n",
    "\n",
    "X = train.drop(\"Machine failure\", axis=1)\n",
    "y = train['Machine failure']\n",
    "\n",
    "y.value_counts(normalize=True) # desbalanceado"
   ]
  },
  {
   "cell_type": "code",
   "execution_count": 231,
   "id": "48ab1d30",
   "metadata": {},
   "outputs": [],
   "source": [
    "X_train, X_test, y_train, y_test = train_test_split(\n",
    "    X, y, test_size=0.25,random_state=42)"
   ]
  },
  {
   "cell_type": "code",
   "execution_count": 232,
   "id": "00257720",
   "metadata": {},
   "outputs": [
    {
     "name": "stdout",
     "output_type": "stream",
     "text": [
      "              precision    recall  f1-score   support\n",
      "\n",
      "           0       1.00      1.00      1.00     33698\n",
      "           1       0.76      0.99      0.86       410\n",
      "\n",
      "    accuracy                           1.00     34108\n",
      "   macro avg       0.88      0.99      0.93     34108\n",
      "weighted avg       1.00      1.00      1.00     34108\n",
      "\n"
     ]
    }
   ],
   "source": [
    "model = RandomForestClassifier()\n",
    "model.fit(X_train, y_train)\n",
    "\n",
    "y_pred = model.predict(X_test)\n",
    "print(classification_report(y_pred, y_test))"
   ]
  },
  {
   "cell_type": "code",
   "execution_count": 233,
   "id": "287e708d",
   "metadata": {},
   "outputs": [],
   "source": [
    "y_submission = model.predict_proba(test)[:,1]\n",
    "sample_submission = pd.read_csv(\"../datasets/machine_failure/sample_submission.csv\",index_col=0)\n",
    "sample_submission['Machine failure'] = y_submission\n",
    "sample_submission.to_csv(\"rf_without_smoth.csv\")"
   ]
  },
  {
   "cell_type": "markdown",
   "id": "59ed126d",
   "metadata": {},
   "source": [
    "<b>Public score:</b> 0.94128"
   ]
  },
  {
   "cell_type": "code",
   "execution_count": 234,
   "id": "b1c5f309",
   "metadata": {},
   "outputs": [
    {
     "data": {
      "text/plain": [
       "Machine failure\n",
       "0    134281\n",
       "1    134281\n",
       "Name: count, dtype: int64"
      ]
     },
     "execution_count": 234,
     "metadata": {},
     "output_type": "execute_result"
    }
   ],
   "source": [
    "X_new, y_new = SMOTE().fit_resample(X, y)\n",
    "\n",
    "y_new.value_counts()"
   ]
  },
  {
   "cell_type": "code",
   "execution_count": 235,
   "id": "f0c99963",
   "metadata": {},
   "outputs": [],
   "source": [
    "X_train, X_test, y_train, y_test = train_test_split(\n",
    "    X_new, y_new, test_size=0.25,random_state=42)"
   ]
  },
  {
   "cell_type": "code",
   "execution_count": 236,
   "id": "6fac426b",
   "metadata": {},
   "outputs": [
    {
     "name": "stdout",
     "output_type": "stream",
     "text": [
      "              precision    recall  f1-score   support\n",
      "\n",
      "           0       0.99      0.99      0.99     33362\n",
      "           1       0.99      0.99      0.99     33779\n",
      "\n",
      "    accuracy                           0.99     67141\n",
      "   macro avg       0.99      0.99      0.99     67141\n",
      "weighted avg       0.99      0.99      0.99     67141\n",
      "\n"
     ]
    }
   ],
   "source": [
    "model = RandomForestClassifier()\n",
    "model.fit(X_train, y_train)\n",
    "\n",
    "y_pred = model.predict(X_test)\n",
    "print(classification_report(y_pred, y_test))"
   ]
  },
  {
   "cell_type": "code",
   "execution_count": 237,
   "id": "6ce859d8",
   "metadata": {},
   "outputs": [],
   "source": [
    "y_submission = model.predict_proba(test)[:,1]\n",
    "sample_submission = pd.read_csv(\"../datasets/machine_failure/sample_submission.csv\",index_col=0)\n",
    "sample_submission['Machine failure'] = y_submission\n",
    "sample_submission.to_csv(\"rf_with_smoth.csv\")"
   ]
  },
  {
   "cell_type": "markdown",
   "id": "5f432eef",
   "metadata": {},
   "source": [
    "<b>Public score:</b> 0.95828"
   ]
  },
  {
   "cell_type": "markdown",
   "id": "daa1e2b2",
   "metadata": {},
   "source": [
    "## Melhorando ajuste da regressão linear com variáveis polinomiais"
   ]
  },
  {
   "cell_type": "markdown",
   "id": "44c29c31",
   "metadata": {},
   "source": [
    "Vejamos como podemos melhorar o ajuste de um modelo de regressão linear no treino aumentando o número de variáveis polinomiais. Consideremos o conjunto de dados de produção de Cobb Douglas."
   ]
  },
  {
   "cell_type": "code",
   "execution_count": 250,
   "id": "8cd5ca17",
   "metadata": {},
   "outputs": [
    {
     "data": {
      "text/html": [
       "<div>\n",
       "<style scoped>\n",
       "    .dataframe tbody tr th:only-of-type {\n",
       "        vertical-align: middle;\n",
       "    }\n",
       "\n",
       "    .dataframe tbody tr th {\n",
       "        vertical-align: top;\n",
       "    }\n",
       "\n",
       "    .dataframe thead th {\n",
       "        text-align: right;\n",
       "    }\n",
       "</style>\n",
       "<table border=\"1\" class=\"dataframe\">\n",
       "  <thead>\n",
       "    <tr style=\"text-align: right;\">\n",
       "      <th></th>\n",
       "      <th>year</th>\n",
       "      <th>P</th>\n",
       "      <th>L</th>\n",
       "      <th>K</th>\n",
       "    </tr>\n",
       "  </thead>\n",
       "  <tbody>\n",
       "    <tr>\n",
       "      <th>0</th>\n",
       "      <td>1899</td>\n",
       "      <td>100</td>\n",
       "      <td>100</td>\n",
       "      <td>100</td>\n",
       "    </tr>\n",
       "    <tr>\n",
       "      <th>1</th>\n",
       "      <td>1900</td>\n",
       "      <td>101</td>\n",
       "      <td>105</td>\n",
       "      <td>107</td>\n",
       "    </tr>\n",
       "    <tr>\n",
       "      <th>2</th>\n",
       "      <td>1901</td>\n",
       "      <td>112</td>\n",
       "      <td>110</td>\n",
       "      <td>114</td>\n",
       "    </tr>\n",
       "  </tbody>\n",
       "</table>\n",
       "</div>"
      ],
      "text/plain": [
       "   year    P    L    K\n",
       "0  1899  100  100  100\n",
       "1  1900  101  105  107\n",
       "2  1901  112  110  114"
      ]
     },
     "execution_count": 250,
     "metadata": {},
     "output_type": "execute_result"
    }
   ],
   "source": [
    "df = pd.read_csv('https://raw.githubusercontent.com/leandrocl2005/calculo-2/main/data/cobb-douglas.csv')\n",
    "\n",
    "# P (produção)\n",
    "# L (qtdade trabalho em horas)\n",
    "# K (capital investido)\n",
    "df.head(3)"
   ]
  },
  {
   "cell_type": "code",
   "execution_count": 251,
   "id": "fba88e80",
   "metadata": {},
   "outputs": [
    {
     "data": {
      "text/plain": [
       "156.84075610571165"
      ]
     },
     "execution_count": 251,
     "metadata": {},
     "output_type": "execute_result"
    }
   ],
   "source": [
    "# linear regression baseline\n",
    "X = df.drop([\"year\", \"P\"], axis=1)\n",
    "y = df[\"P\"]\n",
    "\n",
    "model = LinearRegression()\n",
    "model.fit(X, y)\n",
    "\n",
    "y_pred = model.predict(X)\n",
    "mean_squared_error(y_pred, y, squared=True)"
   ]
  },
  {
   "cell_type": "code",
   "execution_count": 252,
   "id": "3d086a5d",
   "metadata": {},
   "outputs": [],
   "source": [
    "# Criando a grade 2D de pontos (x, y)\n",
    "x = np.arange(100, 210, 10) # usando o máximo e o mínimo de L\n",
    "y = np.arange(100, 440, 10) # usando o máximo e o mínimo de K\n",
    "X, Y = np.meshgrid(x,y)\n",
    "\n",
    "# Z = aX + bY + c\n",
    "Z = model.intercept_\n",
    "Z += X * model.coef_[0]\n",
    "Z += Y * model.coef_[1]"
   ]
  },
  {
   "cell_type": "code",
   "execution_count": 254,
   "id": "968d37ea",
   "metadata": {},
   "outputs": [
    {
     "data": {
      "image/png": "[encoded data removed]",
      "text/plain": [
       "<Figure size 640x480 with 1 Axes>"
      ]
     },
     "metadata": {},
     "output_type": "display_data"
    }
   ],
   "source": [
    "# Visualizando os resultados\n",
    "fig = plt.figure()\n",
    "ax = fig.add_subplot(projection='3d')\n",
    "\n",
    "# plot the fitted curve\n",
    "ax.plot_wireframe(X, Y, Z, label = 'prediction')\n",
    "\n",
    "# plot the target values\n",
    "ax.scatter(df['L'], df['K'], df['P'], c = 'r', label = 'datapoints', alpha = 0.7)\n",
    "ax.set_xlabel(\"Trabalho (hrs)\")\n",
    "\n",
    "ax.view_init(0, -10)\n",
    "plt.legend()\n",
    "plt.show()"
   ]
  },
  {
   "cell_type": "markdown",
   "id": "0344cdfd",
   "metadata": {},
   "source": [
    "Faremos o mesmo experimento, agora usando variáveis polinomiais."
   ]
  },
  {
   "cell_type": "code",
   "execution_count": 255,
   "id": "ff3904c9",
   "metadata": {},
   "outputs": [
    {
     "data": {
      "text/html": [
       "<div>\n",
       "<style scoped>\n",
       "    .dataframe tbody tr th:only-of-type {\n",
       "        vertical-align: middle;\n",
       "    }\n",
       "\n",
       "    .dataframe tbody tr th {\n",
       "        vertical-align: top;\n",
       "    }\n",
       "\n",
       "    .dataframe thead th {\n",
       "        text-align: right;\n",
       "    }\n",
       "</style>\n",
       "<table border=\"1\" class=\"dataframe\">\n",
       "  <thead>\n",
       "    <tr style=\"text-align: right;\">\n",
       "      <th></th>\n",
       "      <th>year</th>\n",
       "      <th>P</th>\n",
       "      <th>L</th>\n",
       "      <th>K</th>\n",
       "    </tr>\n",
       "  </thead>\n",
       "  <tbody>\n",
       "    <tr>\n",
       "      <th>0</th>\n",
       "      <td>1899</td>\n",
       "      <td>100</td>\n",
       "      <td>100</td>\n",
       "      <td>100</td>\n",
       "    </tr>\n",
       "    <tr>\n",
       "      <th>1</th>\n",
       "      <td>1900</td>\n",
       "      <td>101</td>\n",
       "      <td>105</td>\n",
       "      <td>107</td>\n",
       "    </tr>\n",
       "    <tr>\n",
       "      <th>2</th>\n",
       "      <td>1901</td>\n",
       "      <td>112</td>\n",
       "      <td>110</td>\n",
       "      <td>114</td>\n",
       "    </tr>\n",
       "  </tbody>\n",
       "</table>\n",
       "</div>"
      ],
      "text/plain": [
       "   year    P    L    K\n",
       "0  1899  100  100  100\n",
       "1  1900  101  105  107\n",
       "2  1901  112  110  114"
      ]
     },
     "execution_count": 255,
     "metadata": {},
     "output_type": "execute_result"
    }
   ],
   "source": [
    "df = pd.read_csv('https://raw.githubusercontent.com/leandrocl2005/calculo-2/main/data/cobb-douglas.csv')\n",
    "\n",
    "# P (produção)\n",
    "# L (qtdade trabalho em horas)\n",
    "# K (capital investido)\n",
    "df.head(3)"
   ]
  },
  {
   "cell_type": "code",
   "execution_count": 256,
   "id": "e3d25da7",
   "metadata": {},
   "outputs": [],
   "source": [
    "# variáveis polinomiais\n",
    "x1 = df['L'].values\n",
    "x2 = df['K'].values\n",
    "\n",
    "df['x1^0*x2^0'] = 1\n",
    "df['x1*x2'] = x1 * x2\n",
    "df['x1*x2^2'] = x1 * x2 * x2\n",
    "df['x1^2*x2^0'] = x1 * x1\n",
    "df['x1^2*x2'] = x1 * x1 * x2"
   ]
  },
  {
   "cell_type": "code",
   "execution_count": 257,
   "id": "44b87710",
   "metadata": {},
   "outputs": [
    {
     "data": {
      "text/html": [
       "<div>\n",
       "<style scoped>\n",
       "    .dataframe tbody tr th:only-of-type {\n",
       "        vertical-align: middle;\n",
       "    }\n",
       "\n",
       "    .dataframe tbody tr th {\n",
       "        vertical-align: top;\n",
       "    }\n",
       "\n",
       "    .dataframe thead th {\n",
       "        text-align: right;\n",
       "    }\n",
       "</style>\n",
       "<table border=\"1\" class=\"dataframe\">\n",
       "  <thead>\n",
       "    <tr style=\"text-align: right;\">\n",
       "      <th></th>\n",
       "      <th>year</th>\n",
       "      <th>P</th>\n",
       "      <th>L</th>\n",
       "      <th>K</th>\n",
       "      <th>x1^0*x2^0</th>\n",
       "      <th>x1*x2</th>\n",
       "      <th>x1*x2^2</th>\n",
       "      <th>x1^2*x2^0</th>\n",
       "      <th>x1^2*x2</th>\n",
       "    </tr>\n",
       "  </thead>\n",
       "  <tbody>\n",
       "    <tr>\n",
       "      <th>0</th>\n",
       "      <td>1899</td>\n",
       "      <td>100</td>\n",
       "      <td>100</td>\n",
       "      <td>100</td>\n",
       "      <td>1</td>\n",
       "      <td>10000</td>\n",
       "      <td>1000000</td>\n",
       "      <td>10000</td>\n",
       "      <td>1000000</td>\n",
       "    </tr>\n",
       "    <tr>\n",
       "      <th>1</th>\n",
       "      <td>1900</td>\n",
       "      <td>101</td>\n",
       "      <td>105</td>\n",
       "      <td>107</td>\n",
       "      <td>1</td>\n",
       "      <td>11235</td>\n",
       "      <td>1202145</td>\n",
       "      <td>11025</td>\n",
       "      <td>1179675</td>\n",
       "    </tr>\n",
       "    <tr>\n",
       "      <th>2</th>\n",
       "      <td>1901</td>\n",
       "      <td>112</td>\n",
       "      <td>110</td>\n",
       "      <td>114</td>\n",
       "      <td>1</td>\n",
       "      <td>12540</td>\n",
       "      <td>1429560</td>\n",
       "      <td>12100</td>\n",
       "      <td>1379400</td>\n",
       "    </tr>\n",
       "  </tbody>\n",
       "</table>\n",
       "</div>"
      ],
      "text/plain": [
       "   year    P    L    K  x1^0*x2^0  x1*x2  x1*x2^2  x1^2*x2^0  x1^2*x2\n",
       "0  1899  100  100  100          1  10000  1000000      10000  1000000\n",
       "1  1900  101  105  107          1  11235  1202145      11025  1179675\n",
       "2  1901  112  110  114          1  12540  1429560      12100  1379400"
      ]
     },
     "execution_count": 257,
     "metadata": {},
     "output_type": "execute_result"
    }
   ],
   "source": [
    "df.head(3)"
   ]
  },
  {
   "cell_type": "code",
   "execution_count": 258,
   "id": "e678483a",
   "metadata": {},
   "outputs": [
    {
     "data": {
      "text/plain": [
       "74.53117776138266"
      ]
     },
     "execution_count": 258,
     "metadata": {},
     "output_type": "execute_result"
    }
   ],
   "source": [
    "X = df.drop([\"year\", \"P\"], axis=1)\n",
    "y = df[\"P\"]\n",
    "\n",
    "model = LinearRegression()\n",
    "model.fit(X, y)\n",
    "\n",
    "y_pred = model.predict(X)\n",
    "mean_squared_error(y_pred, y, squared=True)"
   ]
  },
  {
   "cell_type": "markdown",
   "id": "fad0ad52",
   "metadata": {},
   "source": [
    "Observe o quanto o ajuste melhorou."
   ]
  },
  {
   "cell_type": "code",
   "execution_count": 259,
   "id": "71dff6d3",
   "metadata": {},
   "outputs": [
    {
     "data": {
      "text/html": [
       "<div>\n",
       "<style scoped>\n",
       "    .dataframe tbody tr th:only-of-type {\n",
       "        vertical-align: middle;\n",
       "    }\n",
       "\n",
       "    .dataframe tbody tr th {\n",
       "        vertical-align: top;\n",
       "    }\n",
       "\n",
       "    .dataframe thead th {\n",
       "        text-align: right;\n",
       "    }\n",
       "</style>\n",
       "<table border=\"1\" class=\"dataframe\">\n",
       "  <thead>\n",
       "    <tr style=\"text-align: right;\">\n",
       "      <th></th>\n",
       "      <th>P</th>\n",
       "      <th>P_pred</th>\n",
       "    </tr>\n",
       "  </thead>\n",
       "  <tbody>\n",
       "    <tr>\n",
       "      <th>20</th>\n",
       "      <td>218</td>\n",
       "      <td>229.363487</td>\n",
       "    </tr>\n",
       "    <tr>\n",
       "      <th>21</th>\n",
       "      <td>231</td>\n",
       "      <td>228.398489</td>\n",
       "    </tr>\n",
       "    <tr>\n",
       "      <th>22</th>\n",
       "      <td>279</td>\n",
       "      <td>263.302824</td>\n",
       "    </tr>\n",
       "    <tr>\n",
       "      <th>23</th>\n",
       "      <td>240</td>\n",
       "      <td>257.811715</td>\n",
       "    </tr>\n",
       "  </tbody>\n",
       "</table>\n",
       "</div>"
      ],
      "text/plain": [
       "      P      P_pred\n",
       "20  218  229.363487\n",
       "21  231  228.398489\n",
       "22  279  263.302824\n",
       "23  240  257.811715"
      ]
     },
     "execution_count": 259,
     "metadata": {},
     "output_type": "execute_result"
    }
   ],
   "source": [
    "# Criando a coluna de predições\n",
    "z_pred = model.intercept_ + np.matmul(df.drop(['year','P'], axis=1).values, model.coef_.reshape(-1,1))\n",
    "df[\"P_pred\"] = z_pred\n",
    "df[[\"P\", \"P_pred\"]].tail(4)"
   ]
  },
  {
   "cell_type": "code",
   "execution_count": 260,
   "id": "4617189d",
   "metadata": {},
   "outputs": [],
   "source": [
    "# Criando a grade 2D de pontos (x, y)\n",
    "x = np.arange(100, 210, 10) # usando o máximo e o mínimo de L\n",
    "y = np.arange(100, 440, 10) # usando o máximo e o mínimo de K\n",
    "X,Y = np.meshgrid(x,y)\n",
    "\n",
    "Z = model.intercept_\n",
    "Z += X * model.coef_[0]\n",
    "Z += Y * model.coef_[1]\n",
    "Z += 1 * model.coef_[2]\n",
    "Z += X * Y * model.coef_[3]\n",
    "Z += X * Y * Y * model.coef_[4]\n",
    "Z += X * X * model.coef_[5]\n",
    "Z += X * X * Y * model.coef_[6]"
   ]
  },
  {
   "cell_type": "code",
   "execution_count": 248,
   "id": "56d020e7",
   "metadata": {},
   "outputs": [
    {
     "data": {
      "image/png": "[encoded data removed]",
      "text/plain": [
       "<Figure size 640x480 with 1 Axes>"
      ]
     },
     "metadata": {},
     "output_type": "display_data"
    }
   ],
   "source": [
    "# Visualizando os resultados\n",
    "\n",
    "fig = plt.figure()\n",
    "ax = fig.add_subplot(projection='3d')\n",
    "\n",
    "# plot the fitted curve\n",
    "ax.plot_wireframe(X, Y, Z, label = 'prediction')\n",
    "\n",
    "# plot the target values\n",
    "ax.scatter(df['L'], df['K'], df['P'], c = 'r', label = 'datapoints', alpha = 0.7)\n",
    "ax.set_xlabel(\"Trabalho (hrs)\")\n",
    "\n",
    "ax.view_init(30, 220)\n",
    "plt.legend()\n",
    "plt.show()"
   ]
  },
  {
   "cell_type": "code",
   "execution_count": null,
   "id": "f37d2d25",
   "metadata": {},
   "outputs": [],
   "source": []
  },
  {
   "cell_type": "markdown",
   "id": "b16cebad",
   "metadata": {},
   "source": [
    "## Referência\n",
    "\n",
    "- https://towardsdatascience.com/dimensionality-reduction-for-machine-learning-80a46c2ebb7e\n",
    "- Cobb Douglas dataset: Cálculo Vol. 2 - James Stewart - Traduação da 6ª edição norte americana"
   ]
  },
  {
   "cell_type": "code",
   "execution_count": null,
   "id": "7e273df3",
   "metadata": {},
   "outputs": [],
   "source": []
  }
 ],
 "metadata": {
  "kernelspec": {
   "display_name": "Python 3 (ipykernel)",
   "language": "python",
   "name": "python3"
  },
  "language_info": {
   "codemirror_mode": {
    "name": "ipython",
    "version": 3
   },
   "file_extension": ".py",
   "mimetype": "text/x-python",
   "name": "python",
   "nbconvert_exporter": "python",
   "pygments_lexer": "ipython3",
   "version": "3.11.0"
  }
 },
 "nbformat": 4,
 "nbformat_minor": 5
}
