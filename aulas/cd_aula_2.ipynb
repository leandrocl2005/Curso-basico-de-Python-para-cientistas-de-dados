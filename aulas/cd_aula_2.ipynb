{
 "cells": [
  {
   "cell_type": "markdown",
   "id": "90b4e0e7",
   "metadata": {},
   "source": [
    "# Condicionais, repetição, funções, classes e bibliotecas"
   ]
  },
  {
   "cell_type": "markdown",
   "id": "ec978f0a",
   "metadata": {},
   "source": [
    "### Exemplos de condicionais"
   ]
  },
  {
   "cell_type": "code",
   "execution_count": 4,
   "id": "35b6d723",
   "metadata": {},
   "outputs": [
    {
     "name": "stdout",
     "output_type": "stream",
     "text": [
      "12\n",
      "jovem\n"
     ]
    }
   ],
   "source": [
    "# imprimir \"jovem\" se idade for menor que 18\n",
    "idade = int(input())\n",
    "if idade < 18:\n",
    "    print(\"jovem\")"
   ]
  },
  {
   "cell_type": "code",
   "execution_count": 7,
   "id": "ecc0f8e4",
   "metadata": {},
   "outputs": [
    {
     "name": "stdout",
     "output_type": "stream",
     "text": [
      "32\n",
      "adulto\n"
     ]
    }
   ],
   "source": [
    "# imprimir \"jovem\" se idade for menor que 18\n",
    "# caso contrario, imprimir adulto\n",
    "idade = int(input())\n",
    "if idade < 18:\n",
    "    print(\"jovem\")\n",
    "else:\n",
    "    print(\"adulto\")"
   ]
  },
  {
   "cell_type": "code",
   "execution_count": 8,
   "id": "221255d0",
   "metadata": {},
   "outputs": [
    {
     "name": "stdout",
     "output_type": "stream",
     "text": [
      "65\n",
      "idoso\n"
     ]
    }
   ],
   "source": [
    "# imprimir \"jovem\" se idade for menor que 18\n",
    "# se for maior ou igual a 18 e menor que 60, imprimir \"adulto\"\n",
    "# se for maior ou igual a 60, imprimir \"idoso\"\n",
    "idade = int(input())\n",
    "if idade < 18:\n",
    "    print(\"jovem\")\n",
    "elif idade < 60:\n",
    "    print(\"adulto\")\n",
    "else:\n",
    "    print(\"idoso\")"
   ]
  },
  {
   "cell_type": "markdown",
   "id": "1678b74c",
   "metadata": {},
   "source": [
    "### Exemplos de repetição"
   ]
  },
  {
   "cell_type": "code",
   "execution_count": 11,
   "id": "a8e81fbf",
   "metadata": {},
   "outputs": [
    {
     "name": "stdout",
     "output_type": "stream",
     "text": [
      "x = 7\n"
     ]
    }
   ],
   "source": [
    "x = 1\n",
    "x = x + 2 # x agora eh 3\n",
    "x = x + 2 # x agora eh 5\n",
    "x = x + 2 # x agora eh 7\n",
    "print('x =', x)"
   ]
  },
  {
   "cell_type": "code",
   "execution_count": 13,
   "id": "7d368ea2",
   "metadata": {},
   "outputs": [
    {
     "name": "stdout",
     "output_type": "stream",
     "text": [
      "x = 7\n"
     ]
    }
   ],
   "source": [
    "x = 1\n",
    "for i in [0,1,2]: # range(2)\n",
    "    x = x + 2\n",
    "print('x =', x)"
   ]
  },
  {
   "cell_type": "code",
   "execution_count": 14,
   "id": "d063dd5b",
   "metadata": {},
   "outputs": [
    {
     "name": "stdout",
     "output_type": "stream",
     "text": [
      "x = 13\n"
     ]
    }
   ],
   "source": [
    "x = 1\n",
    "x = x + 2 # x agora eh 3\n",
    "x = x + 4 # x agora eh 7\n",
    "x = x + 6 # x agora eh 13\n",
    "print('x =', x)"
   ]
  },
  {
   "cell_type": "code",
   "execution_count": 15,
   "id": "0171e2d1",
   "metadata": {},
   "outputs": [
    {
     "name": "stdout",
     "output_type": "stream",
     "text": [
      "x = 13\n"
     ]
    }
   ],
   "source": [
    "x = 1\n",
    "for i in [2,4,6]: # range(2,7,2)\n",
    "    x = x + i\n",
    "print('x =', x)"
   ]
  },
  {
   "cell_type": "markdown",
   "id": "d6301232",
   "metadata": {},
   "source": [
    "### Exemplo de função"
   ]
  },
  {
   "cell_type": "code",
   "execution_count": 16,
   "id": "174a0f0a",
   "metadata": {},
   "outputs": [
    {
     "name": "stdout",
     "output_type": "stream",
     "text": [
      "81\n"
     ]
    }
   ],
   "source": [
    "# funcao que calcula o quadrado de x\n",
    "def quadrado(x):\n",
    "    resultado = x * x\n",
    "    return resultado\n",
    "\n",
    "# usando a funcao\n",
    "x = 9\n",
    "print(quadrado(9))"
   ]
  },
  {
   "cell_type": "markdown",
   "id": "3e33e96e",
   "metadata": {},
   "source": [
    "### POO"
   ]
  },
  {
   "cell_type": "code",
   "execution_count": 29,
   "id": "69ab4fc2",
   "metadata": {},
   "outputs": [
    {
     "name": "stdout",
     "output_type": "stream",
     "text": [
      "20 18\n",
      "153.86 43.96\n",
      "9 12\n"
     ]
    }
   ],
   "source": [
    "# Referência: https://www.pythoncheatsheet.org/cheatsheet/oop-basics\n",
    "\n",
    "from abc import ABC, abstractmethod\n",
    "\n",
    "# classe abstrata\n",
    "class Shape(ABC):\n",
    "    @abstractmethod\n",
    "    def area(self): # declarado, mas sem implementação\n",
    "        pass\n",
    "    \n",
    "    @abstractmethod\n",
    "    def perimeter(self): # declarado, mas sem implementação\n",
    "        pass\n",
    "\n",
    "# retangulo\n",
    "class Rectangle(Shape):\n",
    "    def __init__(self, width, height):\n",
    "        self.width = width\n",
    "        self.height = height\n",
    "\n",
    "    # Implement the area method for Rectangles\n",
    "    def area(self):\n",
    "        return self.width * self.height\n",
    "    \n",
    "    def perimeter(self):\n",
    "        return 2 * self.width + 2 * self.height\n",
    "    \n",
    "# quadrado\n",
    "class Square(Rectangle): # Quadrado herda retângulo com todos os métodos\n",
    "    def __init__(self, side_lenght):\n",
    "        self.side_lenght = side_lenght\n",
    "        self.width = side_lenght\n",
    "        self.height = side_lenght\n",
    "        \n",
    "    def perimeter(self):\n",
    "        return 4 * self.side_lenght\n",
    "\n",
    "# circulo\n",
    "class Circle(Shape):\n",
    "    def __init__(self, radius):\n",
    "        self.radius = radius\n",
    "\n",
    "    def area(self):\n",
    "        return 3.14 * self.radius ** 2\n",
    "    \n",
    "    def perimeter(self):\n",
    "        return 6.28 * self.radius\n",
    "\n",
    "\n",
    "shapes = [Rectangle(4, 5), Circle(7), Square(3)]\n",
    "for shape in shapes:\n",
    "    print(shape.area(), shape.perimeter())"
   ]
  },
  {
   "cell_type": "markdown",
   "id": "56a20353",
   "metadata": {},
   "source": [
    "### Exemplo de bibliotecas"
   ]
  },
  {
   "cell_type": "code",
   "execution_count": 30,
   "id": "b58c5322",
   "metadata": {},
   "outputs": [
    {
     "data": {
      "text/plain": [
       "120"
      ]
     },
     "execution_count": 30,
     "metadata": {},
     "output_type": "execute_result"
    }
   ],
   "source": [
    "import math\n",
    "# calcula o fatorial de 5\n",
    "math.factorial(5)"
   ]
  },
  {
   "cell_type": "code",
   "execution_count": 31,
   "id": "0a658911",
   "metadata": {},
   "outputs": [
    {
     "data": {
      "text/plain": [
       "9.0"
      ]
     },
     "execution_count": 31,
     "metadata": {},
     "output_type": "execute_result"
    }
   ],
   "source": [
    "from math import sqrt\n",
    "# calcula a raiz de 81\n",
    "sqrt(81)"
   ]
  },
  {
   "cell_type": "code",
   "execution_count": 32,
   "id": "ce6c12f0",
   "metadata": {},
   "outputs": [
    {
     "data": {
      "text/plain": [
       "'pedra'"
      ]
     },
     "execution_count": 32,
     "metadata": {},
     "output_type": "execute_result"
    }
   ],
   "source": [
    "from random import choice\n",
    "# sorteia um iterador aleatorio de um iteravel\n",
    "choice([\"pedra\", \"papel\", \"tesoura\"])"
   ]
  },
  {
   "cell_type": "code",
   "execution_count": 34,
   "id": "82c40b9e",
   "metadata": {},
   "outputs": [],
   "source": [
    "# instalando a biblioteca holidays\n",
    "# !pip install holidays"
   ]
  },
  {
   "cell_type": "code",
   "execution_count": 35,
   "id": "eefe6445",
   "metadata": {},
   "outputs": [
    {
     "data": {
      "text/plain": [
       "True"
      ]
     },
     "execution_count": 35,
     "metadata": {},
     "output_type": "execute_result"
    }
   ],
   "source": [
    "from datetime import date\n",
    "import holidays\n",
    "br_holidays = holidays.BR()\n",
    "date(2023,4,21) in br_holidays"
   ]
  },
  {
   "cell_type": "code",
   "execution_count": null,
   "id": "dcaf9cbb",
   "metadata": {},
   "outputs": [],
   "source": []
  }
 ],
 "metadata": {
  "kernelspec": {
   "display_name": "Python 3 (ipykernel)",
   "language": "python",
   "name": "python3"
  },
  "language_info": {
   "codemirror_mode": {
    "name": "ipython",
    "version": 3
   },
   "file_extension": ".py",
   "mimetype": "text/x-python",
   "name": "python",
   "nbconvert_exporter": "python",
   "pygments_lexer": "ipython3",
   "version": "3.11.0"
  }
 },
 "nbformat": 4,
 "nbformat_minor": 5
}
