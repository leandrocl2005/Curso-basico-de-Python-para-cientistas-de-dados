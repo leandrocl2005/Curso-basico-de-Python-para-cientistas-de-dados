{
 "cells": [
  {
   "cell_type": "markdown",
   "id": "f660a7fc",
   "metadata": {},
   "source": [
    "# Séries temporais"
   ]
  },
  {
   "cell_type": "markdown",
   "id": "a29aeda6",
   "metadata": {},
   "source": [
    "<b>Sumário</b>\n",
    "\n",
    "- Exemplo de série temporal\n",
    "- Índice com datas\n",
    "- Agrupamento por intervalo de data e agregação\n",
    "- Visualizando séries temporais\n",
    "    - Visualizando séries temporais com Pandas\n",
    "    - Visualizando séries temporais com Sktime\n",
    "- Filtro por intervalo de data\n",
    "- Janelas de tempos com shift\n",
    "- Séries temporais como regressão supervisionada\n",
    "    - Média móvel\n",
    "- Horizonte de previsão com Sktime\n",
    "- Modelagem com Sktime\n",
    "    - Auto ARIMA\n",
    "    - Exponencial Smoothing\n",
    "    - Prophet (Facebook)\n",
    "- Modelagem com Sktime e variáveis exôgeneas\n",
    "    - Auto Arima com variáveis exôgenas\n",
    "- Separação de treino e teste com Sktime\n",
    "- Modelos de regressão do Sklearn com Sktime\n",
    "    - Gradient boosting apenas com a endogênea\n",
    "    - Gradient boosting com exôgeneas"
   ]
  },
  {
   "cell_type": "code",
   "execution_count": 1,
   "id": "dd6ec181",
   "metadata": {},
   "outputs": [],
   "source": [
    "# libraries\n",
    "\n",
    "## data\n",
    "import datetime\n",
    "\n",
    "## data structure\n",
    "import numpy as np\n",
    "import pandas as pd\n",
    "\n",
    "## ead\n",
    "import matplotlib.pyplot as plt\n",
    "from sktime.utils.plotting import plot_series\n",
    "\n",
    "## preprocessing\n",
    "from sktime.forecasting.compose import make_reduction\n",
    "\n",
    "## train test split\n",
    "from sktime.forecasting.model_selection import temporal_train_test_split\n",
    "from sklearn.model_selection import train_test_split\n",
    "\n",
    "## sktime models\n",
    "from sktime.forecasting.naive import NaiveForecaster\n",
    "from sktime.forecasting.arima import AutoARIMA\n",
    "from sktime.forecasting.exp_smoothing import ExponentialSmoothing\n",
    "from sktime.forecasting.fbprophet import Prophet\n",
    "\n",
    "## sklearn regressor models\n",
    "from sklearn.neighbors import KNeighborsRegressor\n",
    "from sklearn.ensemble import GradientBoostingRegressor\n",
    "\n",
    "## LightGBM model\n",
    "from lightgbm import LGBMRegressor\n",
    "\n",
    "## feature selection\n",
    "from sklearn.feature_selection import SelectKBest, r_regression\n",
    "\n",
    "## forecasting horizon \n",
    "from sktime.forecasting.base import ForecastingHorizon\n",
    "\n",
    "## metrics\n",
    "from sklearn.metrics import mean_absolute_error\n",
    "from sktime.performance_metrics.forecasting import (\n",
    "    MeanAbsoluteError,\n",
    ")"
   ]
  },
  {
   "cell_type": "code",
   "execution_count": 2,
   "id": "3827b1d0",
   "metadata": {},
   "outputs": [],
   "source": [
    "# Dados\n",
    "df = pd.DataFrame({\n",
    "    'date': ['2013-01-01', '2013-01-02', '2013-01-03', '2013-01-04',\n",
    "             '2013-01-05', '2013-01-06', '2013-01-07', '2013-01-08',\n",
    "             '2013-01-09', '2013-01-10', '2013-01-11', '2013-01-12',\n",
    "             '2013-01-13', '2013-01-14', '2013-01-15', '2013-01-16',\n",
    "             '2013-01-17', '2013-01-18', '2013-01-19', '2013-01-20',\n",
    "             '2013-01-21', '2013-01-22', '2013-01-23', '2013-01-24',\n",
    "             '2013-01-25', '2013-01-26', '2013-01-27', '2013-01-28',\n",
    "             '2013-01-29', '2013-01-30'],\n",
    "    'sales': [\n",
    "        2,4,5,3,5,10,2,5,3,10,\n",
    "        1,5,6,2,6,11,3,5,4,10,\n",
    "        2,7,8,1,5,12,3,5,2,11\n",
    "    ],\n",
    "    'onpromotion': [\n",
    "        1,0,1,0,0,5,0,0,0,4,\n",
    "        0,2,1,1,0,4,0,0,1,6,\n",
    "        0,3,2,0,1,8,0,0,1,4\n",
    "    ]\n",
    "})"
   ]
  },
  {
   "cell_type": "markdown",
   "id": "5075f479",
   "metadata": {},
   "source": [
    "## Data no índice"
   ]
  },
  {
   "cell_type": "code",
   "execution_count": 3,
   "id": "f36e80a1",
   "metadata": {},
   "outputs": [],
   "source": [
    "df['date'] = pd.to_datetime(df['date'])\n",
    "df['date'] = df['date'].dt.to_period('D') # sktime\n",
    "df.set_index('date', inplace=True)"
   ]
  },
  {
   "cell_type": "markdown",
   "id": "dc920c4d",
   "metadata": {},
   "source": [
    "## Fitro por data"
   ]
  },
  {
   "cell_type": "code",
   "execution_count": 4,
   "id": "8dadb225",
   "metadata": {},
   "outputs": [],
   "source": [
    "df[(df.index > '2013-01-20') & (df.index < '2013-01-23')]"
   ]
  },
  {
   "cell_type": "code",
   "execution_count": 5,
   "id": "04d0b735",
   "metadata": {},
   "outputs": [],
   "source": [
    "df[df.index.to_series().between(\n",
    "    '2013-01-13','2013-01-15')]"
   ]
  },
  {
   "cell_type": "markdown",
   "id": "fff6119e",
   "metadata": {},
   "source": [
    "## Visualizando séries"
   ]
  },
  {
   "cell_type": "code",
   "execution_count": 6,
   "id": "b19e320a",
   "metadata": {},
   "outputs": [],
   "source": [
    "plt.figure(figsize=(16,3))\n",
    "df['sales'].plot()\n",
    "plt.show()"
   ]
  },
  {
   "cell_type": "code",
   "execution_count": 7,
   "id": "0b9bbbe8",
   "metadata": {},
   "outputs": [],
   "source": [
    "plot_series(df['sales'])\n",
    "plt.xticks(rotation=75)\n",
    "plt.show()"
   ]
  },
  {
   "cell_type": "markdown",
   "id": "d82ca1b4",
   "metadata": {},
   "source": [
    "## Janelas de tempos com shift"
   ]
  },
  {
   "cell_type": "code",
   "execution_count": 8,
   "id": "a35efcff",
   "metadata": {},
   "outputs": [],
   "source": [
    "df['t'] = df['sales']\n",
    "df['t-1'] = df['sales'].shift(1)\n",
    "df['t-2'] = df['sales'].shift(2)\n",
    "\n",
    "df_shifted = df[['t','t-1','t-2']].dropna()\n",
    "df_shifted.head(5)"
   ]
  },
  {
   "cell_type": "markdown",
   "id": "b6d0fedc",
   "metadata": {},
   "source": [
    "## Média móvel dos últimos dois dias"
   ]
  },
  {
   "cell_type": "code",
   "execution_count": 9,
   "id": "3911ee15",
   "metadata": {},
   "outputs": [],
   "source": [
    "df_shifted['mean'] = (\n",
    "    df_shifted['t-1'] + df_shifted['t-2'])/2"
   ]
  },
  {
   "cell_type": "code",
   "execution_count": 10,
   "id": "dfbe2291",
   "metadata": {},
   "outputs": [],
   "source": [
    "n = 6\n",
    "y_train = df_shifted['t'][:-n]\n",
    "y_test = df_shifted['t'][-n:]\n",
    "y_pred = df_shifted['mean'][-n:]"
   ]
  },
  {
   "cell_type": "code",
   "execution_count": 11,
   "id": "54e2b48d",
   "metadata": {},
   "outputs": [],
   "source": [
    "plot_series(\n",
    "    y_train, y_test, y_pred,\n",
    "    labels=['train', 'test', 'pred']\n",
    ")\n",
    "plt.show()"
   ]
  },
  {
   "cell_type": "code",
   "execution_count": 12,
   "id": "5348db1a",
   "metadata": {},
   "outputs": [],
   "source": [
    "mean_absolute_error(y_pred, y_test)"
   ]
  },
  {
   "cell_type": "markdown",
   "id": "ef0e1a13",
   "metadata": {},
   "source": [
    "## Modelagem com Sktime"
   ]
  },
  {
   "cell_type": "markdown",
   "id": "1e158a2f",
   "metadata": {},
   "source": [
    "### Modelo Naive"
   ]
  },
  {
   "cell_type": "code",
   "execution_count": 13,
   "id": "2e957277",
   "metadata": {},
   "outputs": [],
   "source": [
    "# model\n",
    "forecaster = NaiveForecaster()\n",
    "\n",
    "# forecast horizon\n",
    "fh = np.arange(1,7) # 1,2,3,4,5,6\n",
    "\n",
    "# train\n",
    "forecaster.fit(y_train)\n",
    "\n",
    "# predict\n",
    "y_pred = forecaster.predict(fh)"
   ]
  },
  {
   "cell_type": "code",
   "execution_count": 14,
   "id": "19d6f1e3",
   "metadata": {},
   "outputs": [],
   "source": [
    "plot_series(\n",
    "    y_train, y_test, y_pred,\n",
    "    labels=['train', 'test', 'pred']\n",
    ")\n",
    "plt.xticks(rotation=70)\n",
    "plt.legend()\n",
    "plt.show()"
   ]
  },
  {
   "cell_type": "code",
   "execution_count": 15,
   "id": "6c427b07",
   "metadata": {},
   "outputs": [],
   "source": [
    "mean_absolute_error(y_pred, y_test)"
   ]
  },
  {
   "cell_type": "markdown",
   "id": "6248d92c",
   "metadata": {},
   "source": [
    "### Modelo auto ARIMA"
   ]
  },
  {
   "cell_type": "code",
   "execution_count": 16,
   "id": "7b1772cc",
   "metadata": {},
   "outputs": [],
   "source": [
    "# model\n",
    "forecaster = AutoARIMA()\n",
    "\n",
    "# forecast horizon\n",
    "fh = np.arange(1,7)\n",
    "\n",
    "# train\n",
    "forecaster.fit(y_train)\n",
    "\n",
    "# predict\n",
    "y_pred = forecaster.predict(fh)"
   ]
  },
  {
   "cell_type": "code",
   "execution_count": 17,
   "id": "d01d6b69",
   "metadata": {},
   "outputs": [],
   "source": [
    "plot_series(\n",
    "    y_train, y_test, y_pred,\n",
    "    labels=['train', 'test', 'pred']\n",
    ")\n",
    "plt.legend()\n",
    "plt.show()"
   ]
  },
  {
   "cell_type": "code",
   "execution_count": 18,
   "id": "12e038b8",
   "metadata": {},
   "outputs": [],
   "source": [
    "mean_absolute_error(y_pred, y_test)"
   ]
  },
  {
   "cell_type": "markdown",
   "id": "dd4619d8",
   "metadata": {},
   "source": [
    "### Modelo suavizamento exponencial"
   ]
  },
  {
   "cell_type": "code",
   "execution_count": 19,
   "id": "8be7ed6c",
   "metadata": {},
   "outputs": [],
   "source": [
    "forecaster = ExponentialSmoothing()\n",
    "\n",
    "fh = np.arange(1,7)\n",
    "\n",
    "forecaster.fit(y_train)\n",
    "\n",
    "y_pred = forecaster.predict(fh)"
   ]
  },
  {
   "cell_type": "code",
   "execution_count": 20,
   "id": "148ed211",
   "metadata": {},
   "outputs": [],
   "source": [
    "plot_series(\n",
    "    y_train, y_test, y_pred,\n",
    "    labels=['train', 'test', 'pred']\n",
    ")\n",
    "plt.xticks(rotation=70)\n",
    "plt.legend()\n",
    "plt.show()"
   ]
  },
  {
   "cell_type": "code",
   "execution_count": 21,
   "id": "1883439a",
   "metadata": {},
   "outputs": [],
   "source": [
    "mean_absolute_error(y_pred, y_test)"
   ]
  },
  {
   "cell_type": "markdown",
   "id": "400350f4",
   "metadata": {},
   "source": [
    "### Modelagem com Prophet (Facebook)"
   ]
  },
  {
   "cell_type": "code",
   "execution_count": 22,
   "id": "c9a43fd8",
   "metadata": {},
   "outputs": [],
   "source": [
    "forecaster = Prophet()\n",
    "\n",
    "fh = np.arange(1,7)\n",
    "\n",
    "forecaster.fit(y_train)\n",
    "\n",
    "y_pred = forecaster.predict(fh)"
   ]
  },
  {
   "cell_type": "code",
   "execution_count": 23,
   "id": "864ae842",
   "metadata": {},
   "outputs": [],
   "source": [
    "plot_series(\n",
    "    y_train, y_test, y_pred,\n",
    "    labels=['train', 'test', 'pred']\n",
    ")\n",
    "plt.xticks(rotation=70)\n",
    "plt.legend()\n",
    "plt.show()"
   ]
  },
  {
   "cell_type": "code",
   "execution_count": 24,
   "id": "b8bc7c78",
   "metadata": {},
   "outputs": [],
   "source": [
    "mean_absolute_error(y_pred, y_test)"
   ]
  },
  {
   "cell_type": "markdown",
   "id": "9a5f064a",
   "metadata": {},
   "source": [
    "## Modelagem com Sktime e variáveis exôgeneas"
   ]
  },
  {
   "cell_type": "markdown",
   "id": "b1cb06b9",
   "metadata": {},
   "source": [
    "### Auto ARIMA"
   ]
  },
  {
   "cell_type": "code",
   "execution_count": 25,
   "id": "b74da9f4",
   "metadata": {},
   "outputs": [],
   "source": [
    "y = df['sales'] # endôgenea\n",
    "X = df[['onpromotion']] # exôgenea\n",
    "\n",
    "y_train = y[:-n]\n",
    "y_test = y[-n:]\n",
    "\n",
    "X_train = X.iloc[:-n,:]\n",
    "X_test = X.iloc[-n:,:]"
   ]
  },
  {
   "cell_type": "code",
   "execution_count": 26,
   "id": "199c26f9",
   "metadata": {},
   "outputs": [],
   "source": [
    "# model\n",
    "forecaster = AutoARIMA(suppress_warnings=True)\n",
    "\n",
    "# train\n",
    "forecaster.fit(y_train, X_train)\n",
    "\n",
    "# forescat horizon\n",
    "fh = np.arange(1,7)\n",
    "\n",
    "# predict\n",
    "y_pred = forecaster.predict(fh, X=X_test)"
   ]
  },
  {
   "cell_type": "code",
   "execution_count": 27,
   "id": "82a6ac6e",
   "metadata": {},
   "outputs": [],
   "source": [
    "plot_series(\n",
    "    y_train, y_test, y_pred,\n",
    "    labels=['train', 'test', 'pred']\n",
    ")\n",
    "plt.xticks(rotation=70)\n",
    "plt.legend()\n",
    "plt.show()"
   ]
  },
  {
   "cell_type": "markdown",
   "id": "031b19d7",
   "metadata": {},
   "source": [
    "### Separação de treino e teste com Sktime"
   ]
  },
  {
   "cell_type": "code",
   "execution_count": 28,
   "id": "9e39ae46",
   "metadata": {},
   "outputs": [],
   "source": [
    "# forescat horizon\n",
    "fh = ForecastingHorizon(\n",
    "    pd.PeriodIndex(\n",
    "        pd.date_range('2013-01-25', periods=6, freq=\"D\")\n",
    "    ),\n",
    "    is_relative=False)\n",
    "\n",
    "# train test split\n",
    "y_train, y_test, X_train, X_test = temporal_train_test_split(\n",
    "    y, X, fh=fh\n",
    ")\n",
    "\n",
    "# model\n",
    "forecaster = AutoARIMA(suppress_warnings=True)\n",
    "\n",
    "# train\n",
    "forecaster.fit(y_train, X_train)\n",
    "\n",
    "# forescat horizon\n",
    "fh = np.arange(1,7)\n",
    "\n",
    "# predict\n",
    "y_pred = forecaster.predict(fh, X=X_test)"
   ]
  },
  {
   "cell_type": "code",
   "execution_count": 29,
   "id": "d4b09aa2",
   "metadata": {},
   "outputs": [],
   "source": [
    "plot_series(\n",
    "    y_train, y_test, y_pred,\n",
    "    labels=['train', 'test', 'pred']\n",
    ")\n",
    "plt.xticks(rotation=70)\n",
    "plt.legend()\n",
    "plt.show()"
   ]
  },
  {
   "cell_type": "code",
   "execution_count": 30,
   "id": "3863df7d",
   "metadata": {},
   "outputs": [],
   "source": [
    "mean_absolute_error(y_pred, y_test)"
   ]
  },
  {
   "cell_type": "markdown",
   "id": "770b5d0d",
   "metadata": {},
   "source": [
    "## Regressão com Sktime"
   ]
  },
  {
   "cell_type": "markdown",
   "id": "b3d41277",
   "metadata": {},
   "source": [
    "### Gradiente Boosting com apenas uma variável endogênea"
   ]
  },
  {
   "cell_type": "code",
   "execution_count": 31,
   "id": "526f9c90",
   "metadata": {},
   "outputs": [],
   "source": [
    "# get model\n",
    "regressor = GradientBoostingRegressor()\n",
    "\n",
    "# convert data to tabular and ajust model\n",
    "forecaster = make_reduction(\n",
    "    regressor, \n",
    "    window_length=10, \n",
    "    strategy=\"recursive\")\n",
    "\n",
    "# fit model\n",
    "forecaster.fit(y_train)\n",
    "\n",
    "# get predictions\n",
    "y_pred = forecaster.predict(fh)"
   ]
  },
  {
   "cell_type": "code",
   "execution_count": 32,
   "id": "c3120c7e",
   "metadata": {},
   "outputs": [],
   "source": [
    "plot_series(\n",
    "    y_train, y_test, y_pred,\n",
    "    labels=['train', 'test', 'pred']\n",
    ")\n",
    "plt.xticks(rotation=70)\n",
    "plt.legend()\n",
    "plt.show()"
   ]
  },
  {
   "cell_type": "code",
   "execution_count": 33,
   "id": "ca523e5a",
   "metadata": {},
   "outputs": [],
   "source": [
    "mean_absolute_error(y_pred, y_test)"
   ]
  },
  {
   "cell_type": "markdown",
   "id": "4a90516b",
   "metadata": {},
   "source": [
    "### Gradiente Boosting com variáveis exôgeneas"
   ]
  },
  {
   "cell_type": "code",
   "execution_count": 34,
   "id": "89a2102a",
   "metadata": {},
   "outputs": [],
   "source": [
    "# get model\n",
    "regressor = GradientBoostingRegressor()\n",
    "\n",
    "# convert data to tabular and ajust model\n",
    "forecaster = make_reduction(\n",
    "    regressor, \n",
    "    window_length=10, \n",
    "    strategy=\"recursive\")\n",
    "\n",
    "# fit model\n",
    "forecaster.fit(y_train, X_train)\n",
    "\n",
    "# get predictions\n",
    "y_pred = forecaster.predict(fh, X=X_test)"
   ]
  },
  {
   "cell_type": "code",
   "execution_count": 35,
   "id": "9232cc03",
   "metadata": {},
   "outputs": [],
   "source": [
    "plot_series(\n",
    "    y_train, y_test, y_pred,\n",
    "    labels=['train', 'test', 'pred']\n",
    ")\n",
    "plt.xticks(rotation=70)\n",
    "plt.legend()\n",
    "plt.show()"
   ]
  },
  {
   "cell_type": "code",
   "execution_count": 36,
   "id": "80a7d5c0",
   "metadata": {},
   "outputs": [],
   "source": [
    "mean_absolute_error(y_pred, y_test)"
   ]
  },
  {
   "cell_type": "markdown",
   "id": "6287561a",
   "metadata": {},
   "source": [
    "## Exercício"
   ]
  },
  {
   "cell_type": "code",
   "execution_count": 37,
   "id": "b749d110",
   "metadata": {},
   "outputs": [],
   "source": [
    "from sktime.datasets import load_lynx, load_airline, load_macroeconomic"
   ]
  },
  {
   "cell_type": "markdown",
   "id": "5d9efab5",
   "metadata": {},
   "source": [
    "Treine pelo menos três modelos (pelo menos um de regressão) para cada um dos datasets acima, observe que o macroeconomic possuem variáveis exôgeneas. Considere os 4 últimos períodos como conjunto de teste. Quais dos modelos que você treinou foram melhores em cada caso?"
   ]
  },
  {
   "cell_type": "code",
   "execution_count": null,
   "id": "5903f0af",
   "metadata": {},
   "outputs": [],
   "source": []
  }
 ],
 "metadata": {
  "kernelspec": {
   "display_name": "Python 3 (ipykernel)",
   "language": "python",
   "name": "python3"
  },
  "language_info": {
   "codemirror_mode": {
    "name": "ipython",
    "version": 3
   },
   "file_extension": ".py",
   "mimetype": "text/x-python",
   "name": "python",
   "nbconvert_exporter": "python",
   "pygments_lexer": "ipython3",
   "version": "3.8.6"
  }
 },
 "nbformat": 4,
 "nbformat_minor": 5
}
