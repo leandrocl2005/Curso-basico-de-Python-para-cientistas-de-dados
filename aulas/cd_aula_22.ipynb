{
  "nbformat": 4,
  "nbformat_minor": 0,
  "metadata": {
    "colab": {
      "provenance": [],
      "gpuType": "T4"
    },
    "kernelspec": {
      "name": "python3",
      "display_name": "Python 3"
    },
    "language_info": {
      "name": "python"
    },
    "accelerator": "GPU"
  },
  "cells": [
    {
      "cell_type": "markdown",
      "source": [
        "# Deep Learning, GPU's e modelos pré-treinados"
      ],
      "metadata": {
        "id": "8HWA4LiKLRSn"
      }
    },
    {
      "cell_type": "markdown",
      "source": [
        "## Montando o drive para acessar os dados"
      ],
      "metadata": {
        "id": "hIzBCo64LM0v"
      }
    },
    {
      "cell_type": "code",
      "source": [
        "from google.colab import drive\n",
        "drive.mount('/content/drive')"
      ],
      "metadata": {
        "colab": {
          "base_uri": "https://localhost:8080/"
        },
        "id": "j_Bq6X8qLLMf",
        "outputId": "b07e3492-071d-4398-f415-1581e57d035f"
      },
      "execution_count": null,
      "outputs": [
        {
          "output_type": "stream",
          "name": "stdout",
          "text": [
            "Drive already mounted at /content/drive; to attempt to forcibly remount, call drive.mount(\"/content/drive\", force_remount=True).\n"
          ]
        }
      ]
    },
    {
      "cell_type": "markdown",
      "source": [
        "## Testando se há GPU"
      ],
      "metadata": {
        "id": "6Xo8Te0NMEOu"
      }
    },
    {
      "cell_type": "code",
      "source": [
        "import tensorflow as tf\n",
        "tf.config.list_physical_devices('GPU')"
      ],
      "metadata": {
        "colab": {
          "base_uri": "https://localhost:8080/"
        },
        "id": "KVnYfc5c-ifT",
        "outputId": "7853849c-74a2-4304-8a0c-c723c9634560"
      },
      "execution_count": null,
      "outputs": [
        {
          "output_type": "execute_result",
          "data": {
            "text/plain": [
              "[PhysicalDevice(name='/physical_device:GPU:0', device_type='GPU')]"
            ]
          },
          "metadata": {},
          "execution_count": 34
        }
      ]
    },
    {
      "cell_type": "code",
      "source": [
        "# Versão do linux do colab\n",
        "# !cat /etc/*release\n",
        "\n",
        "# Versão das bibliotecas\n",
        "# !pip freeze"
      ],
      "metadata": {
        "id": "yYOTv5r7Vcl6"
      },
      "execution_count": null,
      "outputs": []
    },
    {
      "cell_type": "markdown",
      "source": [
        "## Adaptando os imports da aula passada para uso de GPU"
      ],
      "metadata": {
        "id": "Su_2o41dMJge"
      }
    },
    {
      "cell_type": "markdown",
      "source": [
        "Observe que dessa vez vamos utilizar o keras do tensorflow."
      ],
      "metadata": {
        "id": "6CohJeSHMQRW"
      }
    },
    {
      "cell_type": "code",
      "source": [
        "# data structure\n",
        "import pandas as pd\n",
        "import numpy as np\n",
        "import itertools\n",
        "\n",
        "# utils\n",
        "from sklearn.preprocessing import LabelEncoder\n",
        "import glob\n",
        "import os\n",
        "from shutil import copyfile\n",
        "\n",
        "# metrics\n",
        "from sklearn.metrics import confusion_matrix\n",
        "\n",
        "# train test split\n",
        "from sklearn.model_selection import train_test_split\n",
        "\n",
        "# graphics\n",
        "import matplotlib.pyplot as plt\n",
        "import seaborn as sns\n",
        "\n",
        "# keras with tensorflow\n",
        "from tensorflow import keras\n",
        "from tensorflow.keras.models import Sequential, model_from_json, load_model\n",
        "from tensorflow.keras.layers import Dense, Dropout, Activation, Flatten, Conv2D, MaxPool2D\n",
        "from tensorflow.keras.utils import to_categorical\n",
        "from tensorflow.keras.regularizers import l2\n",
        "from tensorflow.keras.layers import MaxPooling2D as MaxPool2D\n",
        "from tensorflow.keras.optimizers.legacy import RMSprop\n",
        "from tensorflow.keras.callbacks import ReduceLROnPlateau\n",
        "from tensorflow.keras.preprocessing.image import load_img\n",
        "from tensorflow.keras.preprocessing.image import img_to_array\n",
        "from tensorflow.keras.applications.imagenet_utils import decode_predictions\n",
        "from tensorflow.keras.applications import vgg16\n",
        "from tensorflow.keras import layers, Model\n",
        "\n",
        "def make_history_plot(history):\n",
        "    import matplotlib.pyplot as plt\n",
        "\n",
        "    plt.plot(history.history[\"loss\"], \"b\")\n",
        "    plt.xlabel(\"Epochs\")\n",
        "    plt.ylabel(\"Validation score\")\n",
        "    plt.show()\n",
        "\n",
        "\n",
        "def plot_confusion_matrix(\n",
        "    cm, classes, normalize=False, title=\"Confusion matrix\", cmap=plt.cm.Blues\n",
        "):\n",
        "    \"\"\"\n",
        "    This function prints and plots the confusion matrix.\n",
        "    Normalization can be applied by setting `normalize=True`.\n",
        "    \"\"\"\n",
        "    plt.imshow(cm, interpolation=\"nearest\", cmap=cmap)\n",
        "    plt.title(title)\n",
        "    plt.colorbar()\n",
        "    tick_marks = np.arange(len(classes))\n",
        "    plt.xticks(tick_marks, classes, rotation=45)\n",
        "    plt.yticks(tick_marks, classes)\n",
        "\n",
        "    if normalize:\n",
        "        cm = cm.astype(\"float\") / cm.sum(axis=1)[:, np.newaxis]\n",
        "\n",
        "    thresh = cm.max() / 2.0\n",
        "    for i, j in itertools.product(range(cm.shape[0]), range(cm.shape[1])):\n",
        "        plt.text(\n",
        "            j,\n",
        "            i,\n",
        "            cm[i, j],\n",
        "            horizontalalignment=\"center\",\n",
        "            color=\"white\" if cm[i, j] > thresh else \"black\",\n",
        "        )\n",
        "\n",
        "    plt.tight_layout()\n",
        "    plt.ylabel(\"True label\")\n",
        "    plt.xlabel(\"Predicted label\")"
      ],
      "metadata": {
        "id": "1pFF73DMzcEg"
      },
      "execution_count": null,
      "outputs": []
    },
    {
      "cell_type": "markdown",
      "source": [
        "## Comparando o tempo do código da aula passada com GPU e tensorflow"
      ],
      "metadata": {
        "id": "S2nwJCiKNSn2"
      }
    },
    {
      "cell_type": "code",
      "source": [
        "%%time\n",
        "# load\n",
        "train = pd.read_csv(\"/content/drive/MyDrive/datasets/digits/train.csv\")\n",
        "\n",
        "# get target\n",
        "Y_train = train[\"label\"]\n",
        "\n",
        "# drop 'label' column\n",
        "X_train = train.drop(labels = [\"label\"],axis = 1)\n",
        "\n",
        "# free some space\n",
        "del train\n",
        "\n",
        "# normalize the data\n",
        "X_train = X_train / 255.0\n",
        "\n",
        "# reshape image in 3 dimensions (height = 28px, width = 28px , canal = 1)\n",
        "X_train = X_train.values.reshape(-1,28,28,1)\n",
        "\n",
        "# encode labels to one hot vectors (ex : 2 -> [0,0,1,0,0,0,0,0,0,0])\n",
        "Y_train = to_categorical(Y_train, num_classes = 10)\n",
        "\n",
        "# set the random seed\n",
        "random_seed = 2\n",
        "\n",
        "# split the train and the validation set for the fitting\n",
        "X_train, X_val, Y_train, Y_val = train_test_split(\n",
        "    X_train, Y_train, test_size = 0.1,\n",
        "    random_state=random_seed)\n",
        "\n",
        "# define cnn model\n",
        "def tensor_keras_model():\n",
        "    model = Sequential()\n",
        "    model.add(Conv2D(filters = 32, kernel_size = (5,5),padding = 'Same',\n",
        "                     activation ='relu', input_shape = (28,28,1)))\n",
        "    model.add(Conv2D(filters = 32, kernel_size = (5,5),padding = 'Same',\n",
        "                     activation ='relu'))\n",
        "    model.add(MaxPool2D(pool_size=(2,2)))\n",
        "    model.add(Dropout(0.25))\n",
        "    model.add(Conv2D(filters = 64, kernel_size = (3,3),padding = 'Same',\n",
        "                     activation ='relu'))\n",
        "    model.add(Conv2D(filters = 64, kernel_size = (3,3),padding = 'Same',\n",
        "                     activation ='relu'))\n",
        "    model.add(MaxPool2D(pool_size=(2,2), strides=(2,2)))\n",
        "    model.add(Dropout(0.25))\n",
        "    model.add(Flatten())\n",
        "    model.add(Dense(256, activation = \"relu\"))\n",
        "    model.add(Dropout(0.5))\n",
        "    model.add(Dense(10, activation = \"softmax\"))\n",
        "    optimizer = RMSprop(\n",
        "        learning_rate=0.001, rho=0.9,\n",
        "        epsilon=1e-08, decay=0.0)\n",
        "    model.compile(optimizer = optimizer,\n",
        "                  loss=\"categorical_crossentropy\",\n",
        "                  metrics=[\"accuracy\"])\n",
        "\n",
        "    return model\n",
        "\n",
        "# instanciate model\n",
        "model = tensor_keras_model()\n",
        "\n",
        "model.fit(\n",
        "    X_train, Y_train,\n",
        "    batch_size = 86,\n",
        "    epochs = 3, # rise it, if you can\n",
        "    validation_data = (X_val, Y_val), verbose = 2)\n",
        "\n",
        "# predict the values from the validation dataset\n",
        "Y_pred = model.predict(X_val)\n",
        "\n",
        "# convert predictions classes to one hot vectors\n",
        "Y_pred_classes = np.argmax(Y_pred,axis = 1)\n",
        "\n",
        "# convert validation observations to one hot vectors\n",
        "Y_true = np.argmax(Y_val,axis = 1)\n",
        "\n",
        "# compute the confusion matrix\n",
        "confusion_mtx = confusion_matrix(Y_true, Y_pred_classes)\n",
        "\n",
        "# plot the confusion matrix\n",
        "plot_confusion_matrix(confusion_mtx, classes = range(10))"
      ],
      "metadata": {
        "id": "5lC3MFFeYOKS",
        "colab": {
          "base_uri": "https://localhost:8080/",
          "height": 662
        },
        "outputId": "efe04071-ceef-4d18-ec43-c6ea4bcc0d55"
      },
      "execution_count": null,
      "outputs": [
        {
          "output_type": "stream",
          "name": "stdout",
          "text": [
            "Epoch 1/3\n",
            "440/440 - 6s - loss: 0.2517 - accuracy: 0.9191 - val_loss: 0.0595 - val_accuracy: 0.9810 - 6s/epoch - 15ms/step\n",
            "Epoch 2/3\n",
            "440/440 - 4s - loss: 0.0764 - accuracy: 0.9774 - val_loss: 0.0412 - val_accuracy: 0.9874 - 4s/epoch - 8ms/step\n",
            "Epoch 3/3\n",
            "440/440 - 4s - loss: 0.0568 - accuracy: 0.9838 - val_loss: 0.0353 - val_accuracy: 0.9917 - 4s/epoch - 9ms/step\n",
            "132/132 [==============================] - 0s 2ms/step\n",
            "CPU times: user 15.7 s, sys: 845 ms, total: 16.5 s\n",
            "Wall time: 27.5 s\n"
          ]
        },
        {
          "output_type": "display_data",
          "data": {
            "text/plain": [
              "<Figure size 640x480 with 2 Axes>"
            ],
            "image/png": "[encoded data removed]"
          },
          "metadata": {}
        }
      ]
    },
    {
      "cell_type": "markdown",
      "source": [
        "Resultado no computador pessoal sem GPU e com 3 épocas\n",
        "- CPU times: total: 10min 27s\n",
        "- Wall time: 4min 46s"
      ],
      "metadata": {
        "id": "5QcP2JBI8a5O"
      }
    },
    {
      "cell_type": "markdown",
      "source": [
        "## Aumentando o número de épocas e o batch"
      ],
      "metadata": {
        "id": "xND7RFMbNPFW"
      }
    },
    {
      "cell_type": "code",
      "source": [
        "%%time\n",
        "model.fit(\n",
        "    X_train, Y_train,\n",
        "    batch_size = 264,\n",
        "    epochs = 30, # rise it, if you can\n",
        "    validation_data = (X_val, Y_val), verbose = 2)"
      ],
      "metadata": {
        "colab": {
          "base_uri": "https://localhost:8080/"
        },
        "id": "3D1_3Fa18b2E",
        "outputId": "7b8153f0-cf6f-4942-cf0c-6b1056f6bbc3"
      },
      "execution_count": null,
      "outputs": [
        {
          "output_type": "stream",
          "name": "stdout",
          "text": [
            "Epoch 1/30\n",
            "144/144 - 3s - loss: 0.0372 - accuracy: 0.9884 - val_loss: 0.0326 - val_accuracy: 0.9924 - 3s/epoch - 20ms/step\n",
            "Epoch 2/30\n",
            "144/144 - 3s - loss: 0.0316 - accuracy: 0.9907 - val_loss: 0.0385 - val_accuracy: 0.9905 - 3s/epoch - 18ms/step\n",
            "Epoch 3/30\n",
            "144/144 - 2s - loss: 0.0276 - accuracy: 0.9911 - val_loss: 0.0374 - val_accuracy: 0.9900 - 2s/epoch - 17ms/step\n",
            "Epoch 4/30\n",
            "144/144 - 3s - loss: 0.0229 - accuracy: 0.9930 - val_loss: 0.0381 - val_accuracy: 0.9879 - 3s/epoch - 18ms/step\n",
            "Epoch 5/30\n",
            "144/144 - 3s - loss: 0.0229 - accuracy: 0.9933 - val_loss: 0.0296 - val_accuracy: 0.9929 - 3s/epoch - 18ms/step\n",
            "Epoch 6/30\n",
            "144/144 - 3s - loss: 0.0203 - accuracy: 0.9935 - val_loss: 0.0282 - val_accuracy: 0.9931 - 3s/epoch - 18ms/step\n",
            "Epoch 7/30\n",
            "144/144 - 3s - loss: 0.0193 - accuracy: 0.9941 - val_loss: 0.0372 - val_accuracy: 0.9910 - 3s/epoch - 18ms/step\n",
            "Epoch 8/30\n",
            "144/144 - 3s - loss: 0.0169 - accuracy: 0.9949 - val_loss: 0.0303 - val_accuracy: 0.9929 - 3s/epoch - 18ms/step\n",
            "Epoch 9/30\n",
            "144/144 - 3s - loss: 0.0167 - accuracy: 0.9947 - val_loss: 0.0348 - val_accuracy: 0.9890 - 3s/epoch - 18ms/step\n",
            "Epoch 10/30\n",
            "144/144 - 3s - loss: 0.0163 - accuracy: 0.9948 - val_loss: 0.0354 - val_accuracy: 0.9921 - 3s/epoch - 17ms/step\n",
            "Epoch 11/30\n",
            "144/144 - 3s - loss: 0.0158 - accuracy: 0.9950 - val_loss: 0.0312 - val_accuracy: 0.9926 - 3s/epoch - 18ms/step\n",
            "Epoch 12/30\n",
            "144/144 - 3s - loss: 0.0151 - accuracy: 0.9955 - val_loss: 0.0273 - val_accuracy: 0.9936 - 3s/epoch - 19ms/step\n",
            "Epoch 13/30\n",
            "144/144 - 3s - loss: 0.0141 - accuracy: 0.9957 - val_loss: 0.0247 - val_accuracy: 0.9950 - 3s/epoch - 18ms/step\n",
            "Epoch 14/30\n",
            "144/144 - 3s - loss: 0.0135 - accuracy: 0.9958 - val_loss: 0.0240 - val_accuracy: 0.9943 - 3s/epoch - 18ms/step\n",
            "Epoch 15/30\n",
            "144/144 - 2s - loss: 0.0131 - accuracy: 0.9959 - val_loss: 0.0308 - val_accuracy: 0.9924 - 2s/epoch - 17ms/step\n",
            "Epoch 16/30\n",
            "144/144 - 3s - loss: 0.0121 - accuracy: 0.9961 - val_loss: 0.0273 - val_accuracy: 0.9938 - 3s/epoch - 17ms/step\n",
            "Epoch 17/30\n",
            "144/144 - 3s - loss: 0.0115 - accuracy: 0.9962 - val_loss: 0.0304 - val_accuracy: 0.9933 - 3s/epoch - 19ms/step\n",
            "Epoch 18/30\n",
            "144/144 - 3s - loss: 0.0112 - accuracy: 0.9968 - val_loss: 0.0314 - val_accuracy: 0.9933 - 3s/epoch - 18ms/step\n",
            "Epoch 19/30\n",
            "144/144 - 3s - loss: 0.0109 - accuracy: 0.9965 - val_loss: 0.0272 - val_accuracy: 0.9933 - 3s/epoch - 18ms/step\n",
            "Epoch 20/30\n",
            "144/144 - 3s - loss: 0.0109 - accuracy: 0.9966 - val_loss: 0.0262 - val_accuracy: 0.9924 - 3s/epoch - 18ms/step\n",
            "Epoch 21/30\n",
            "144/144 - 3s - loss: 0.0117 - accuracy: 0.9966 - val_loss: 0.0271 - val_accuracy: 0.9936 - 3s/epoch - 18ms/step\n",
            "Epoch 22/30\n",
            "144/144 - 3s - loss: 0.0109 - accuracy: 0.9967 - val_loss: 0.0305 - val_accuracy: 0.9938 - 3s/epoch - 18ms/step\n",
            "Epoch 23/30\n",
            "144/144 - 3s - loss: 0.0103 - accuracy: 0.9969 - val_loss: 0.0283 - val_accuracy: 0.9933 - 3s/epoch - 18ms/step\n",
            "Epoch 24/30\n",
            "144/144 - 3s - loss: 0.0098 - accuracy: 0.9970 - val_loss: 0.0262 - val_accuracy: 0.9936 - 3s/epoch - 18ms/step\n",
            "Epoch 25/30\n",
            "144/144 - 3s - loss: 0.0094 - accuracy: 0.9972 - val_loss: 0.0344 - val_accuracy: 0.9931 - 3s/epoch - 17ms/step\n",
            "Epoch 26/30\n",
            "144/144 - 3s - loss: 0.0101 - accuracy: 0.9972 - val_loss: 0.0298 - val_accuracy: 0.9936 - 3s/epoch - 18ms/step\n",
            "Epoch 27/30\n",
            "144/144 - 3s - loss: 0.0087 - accuracy: 0.9971 - val_loss: 0.0566 - val_accuracy: 0.9914 - 3s/epoch - 17ms/step\n",
            "Epoch 28/30\n",
            "144/144 - 3s - loss: 0.0104 - accuracy: 0.9969 - val_loss: 0.0412 - val_accuracy: 0.9926 - 3s/epoch - 19ms/step\n",
            "Epoch 29/30\n",
            "144/144 - 3s - loss: 0.0106 - accuracy: 0.9969 - val_loss: 0.0427 - val_accuracy: 0.9924 - 3s/epoch - 19ms/step\n",
            "Epoch 30/30\n",
            "144/144 - 3s - loss: 0.0087 - accuracy: 0.9975 - val_loss: 0.0459 - val_accuracy: 0.9936 - 3s/epoch - 19ms/step\n"
          ]
        },
        {
          "output_type": "execute_result",
          "data": {
            "text/plain": [
              "<keras.callbacks.History at 0x789ef1a76fb0>"
            ]
          },
          "metadata": {},
          "execution_count": 66
        }
      ]
    },
    {
      "cell_type": "markdown",
      "source": [
        "## Comparando os resultados"
      ],
      "metadata": {
        "id": "If5IFF5UNj8G"
      }
    },
    {
      "cell_type": "code",
      "source": [
        "# predict the values from the validation dataset\n",
        "Y_pred = model.predict(X_val)\n",
        "\n",
        "# convert predictions classes to one hot vectors\n",
        "Y_pred_classes = np.argmax(Y_pred,axis = 1)\n",
        "\n",
        "# convert validation observations to one hot vectors\n",
        "Y_true = np.argmax(Y_val,axis = 1)\n",
        "\n",
        "# compute the confusion matrix\n",
        "confusion_mtx = confusion_matrix(Y_true, Y_pred_classes)\n",
        "\n",
        "# plot the confusion matrix\n",
        "plot_confusion_matrix(confusion_mtx, classes = range(10))"
      ],
      "metadata": {
        "colab": {
          "base_uri": "https://localhost:8080/",
          "height": 523
        },
        "id": "lzKFf9sFNiul",
        "outputId": "a1d3f621-8496-4705-c01c-33c289dc8300"
      },
      "execution_count": null,
      "outputs": [
        {
          "output_type": "stream",
          "name": "stdout",
          "text": [
            "132/132 [==============================] - 0s 2ms/step\n"
          ]
        },
        {
          "output_type": "display_data",
          "data": {
            "text/plain": [
              "<Figure size 640x480 with 2 Axes>"
            ],
            "image/png": "[encoded data removed]"
          },
          "metadata": {}
        }
      ]
    },
    {
      "cell_type": "markdown",
      "source": [
        "## Salvando pesos do modelo"
      ],
      "metadata": {
        "id": "KwQLQ4t3OtpG"
      }
    },
    {
      "cell_type": "code",
      "source": [
        "# serialize model to JSON\n",
        "model_json = model.to_json()\n",
        "with open(\"model.json\", \"w\") as json_file:\n",
        "    json_file.write(model_json)\n",
        "\n",
        "# serialize weights to HDF5\n",
        "model.save_weights(\"model.h5\")\n",
        "print(\"Saved model to disk\")"
      ],
      "metadata": {
        "id": "Jj0wzi5vBNEn",
        "colab": {
          "base_uri": "https://localhost:8080/"
        },
        "outputId": "969468b8-f3dd-4138-bf89-43cf636da8b4"
      },
      "execution_count": null,
      "outputs": [
        {
          "output_type": "stream",
          "name": "stdout",
          "text": [
            "Saved model to disk\n"
          ]
        }
      ]
    },
    {
      "cell_type": "markdown",
      "source": [
        "## Carregando pesos salvos do json"
      ],
      "metadata": {
        "id": "aHcBdlzvOhVs"
      }
    },
    {
      "cell_type": "code",
      "source": [
        "# load json and create model\n",
        "json_file = open('model.json', 'r')\n",
        "loaded_model_json = json_file.read()\n",
        "json_file.close()\n",
        "loaded_model = model_from_json(loaded_model_json)\n",
        "\n",
        "# load weights into new model\n",
        "loaded_model.load_weights(\"model.h5\")\n",
        "print(\"Loaded model from disk\")"
      ],
      "metadata": {
        "colab": {
          "base_uri": "https://localhost:8080/"
        },
        "id": "eBDY8dc1O0Hl",
        "outputId": "481faa97-5efe-4725-b09c-dda29835d17e"
      },
      "execution_count": null,
      "outputs": [
        {
          "output_type": "stream",
          "name": "stdout",
          "text": [
            "Loaded model from disk\n"
          ]
        }
      ]
    },
    {
      "cell_type": "markdown",
      "source": [
        "## Fazendo classificações"
      ],
      "metadata": {
        "id": "X0ZMRSVnP91M"
      }
    },
    {
      "cell_type": "code",
      "source": [
        "for i in range(1,11):\n",
        "  plt.subplot(1,10,i)\n",
        "  plt.imshow(X_val[200+i-1].reshape(28,28))\n",
        "  plt.title(str(200+i-1))\n",
        "  plt.axis('off')\n",
        "plt.tight_layout()\n",
        "plt.show()"
      ],
      "metadata": {
        "colab": {
          "base_uri": "https://localhost:8080/",
          "height": 106
        },
        "id": "bfOmDIdpPBTk",
        "outputId": "0d3f6efa-f8ed-40f7-8329-c47b5b3971ed"
      },
      "execution_count": null,
      "outputs": [
        {
          "output_type": "display_data",
          "data": {
            "text/plain": [
              "<Figure size 640x480 with 10 Axes>"
            ],
            "image/png": "[encoded data removed]"
          },
          "metadata": {}
        }
      ]
    },
    {
      "cell_type": "code",
      "source": [
        "np.argmax(loaded_model.predict(X_val[200:210]), axis=-1)"
      ],
      "metadata": {
        "colab": {
          "base_uri": "https://localhost:8080/"
        },
        "id": "b-eijyR5PLkM",
        "outputId": "d92837b5-97a1-4f8a-a8f3-3e4f8bd7b194"
      },
      "execution_count": null,
      "outputs": [
        {
          "output_type": "stream",
          "name": "stdout",
          "text": [
            "1/1 [==============================] - 0s 34ms/step\n"
          ]
        },
        {
          "output_type": "execute_result",
          "data": {
            "text/plain": [
              "array([2, 0, 3, 5, 1, 6, 6, 1, 3, 7])"
            ]
          },
          "metadata": {},
          "execution_count": 59
        }
      ]
    },
    {
      "cell_type": "markdown",
      "source": [
        "## Usando modelos pré-treinados VGG"
      ],
      "metadata": {
        "id": "UIumG23UWoqG"
      }
    },
    {
      "cell_type": "markdown",
      "source": [
        "O objetivo é organizar as fotos das férias em pastas separadas por tipo de foto"
      ],
      "metadata": {
        "id": "wmmsENE1Zm10"
      }
    },
    {
      "cell_type": "code",
      "source": [
        "from tensorflow.keras.applications.vgg16 import VGG16\n",
        "vgg_model = VGG16(weights='imagenet')"
      ],
      "metadata": {
        "id": "sXb1Bg3BUtG8"
      },
      "execution_count": null,
      "outputs": []
    },
    {
      "cell_type": "code",
      "source": [
        "vgg_model.summary()"
      ],
      "metadata": {
        "colab": {
          "base_uri": "https://localhost:8080/"
        },
        "id": "g91rXG_ebZBF",
        "outputId": "86108d0b-1758-450e-cad0-6b1cc71349c2"
      },
      "execution_count": null,
      "outputs": [
        {
          "output_type": "stream",
          "name": "stdout",
          "text": [
            "Model: \"vgg16\"\n",
            "_________________________________________________________________\n",
            " Layer (type)                Output Shape              Param #   \n",
            "=================================================================\n",
            " input_5 (InputLayer)        [(None, 224, 224, 3)]     0         \n",
            "                                                                 \n",
            " block1_conv1 (Conv2D)       (None, 224, 224, 64)      1792      \n",
            "                                                                 \n",
            " block1_conv2 (Conv2D)       (None, 224, 224, 64)      36928     \n",
            "                                                                 \n",
            " block1_pool (MaxPooling2D)  (None, 112, 112, 64)      0         \n",
            "                                                                 \n",
            " block2_conv1 (Conv2D)       (None, 112, 112, 128)     73856     \n",
            "                                                                 \n",
            " block2_conv2 (Conv2D)       (None, 112, 112, 128)     147584    \n",
            "                                                                 \n",
            " block2_pool (MaxPooling2D)  (None, 56, 56, 128)       0         \n",
            "                                                                 \n",
            " block3_conv1 (Conv2D)       (None, 56, 56, 256)       295168    \n",
            "                                                                 \n",
            " block3_conv2 (Conv2D)       (None, 56, 56, 256)       590080    \n",
            "                                                                 \n",
            " block3_conv3 (Conv2D)       (None, 56, 56, 256)       590080    \n",
            "                                                                 \n",
            " block3_pool (MaxPooling2D)  (None, 28, 28, 256)       0         \n",
            "                                                                 \n",
            " block4_conv1 (Conv2D)       (None, 28, 28, 512)       1180160   \n",
            "                                                                 \n",
            " block4_conv2 (Conv2D)       (None, 28, 28, 512)       2359808   \n",
            "                                                                 \n",
            " block4_conv3 (Conv2D)       (None, 28, 28, 512)       2359808   \n",
            "                                                                 \n",
            " block4_pool (MaxPooling2D)  (None, 14, 14, 512)       0         \n",
            "                                                                 \n",
            " block5_conv1 (Conv2D)       (None, 14, 14, 512)       2359808   \n",
            "                                                                 \n",
            " block5_conv2 (Conv2D)       (None, 14, 14, 512)       2359808   \n",
            "                                                                 \n",
            " block5_conv3 (Conv2D)       (None, 14, 14, 512)       2359808   \n",
            "                                                                 \n",
            " block5_pool (MaxPooling2D)  (None, 7, 7, 512)         0         \n",
            "                                                                 \n",
            " flatten (Flatten)           (None, 25088)             0         \n",
            "                                                                 \n",
            " fc1 (Dense)                 (None, 4096)              102764544 \n",
            "                                                                 \n",
            " fc2 (Dense)                 (None, 4096)              16781312  \n",
            "                                                                 \n",
            " predictions (Dense)         (None, 1000)              4097000   \n",
            "                                                                 \n",
            "=================================================================\n",
            "Total params: 138,357,544\n",
            "Trainable params: 138,357,544\n",
            "Non-trainable params: 0\n",
            "_________________________________________________________________\n"
          ]
        }
      ]
    },
    {
      "cell_type": "code",
      "source": [
        "flowers = ['daisy', 'pot']\n",
        "birds = [\n",
        "    'goldfinch', 'European_gallinule', 'brambling',\n",
        "    'peacock', 'indigo_bunting', 'lorikeet',\n",
        "    'bulbul', 'great_grey_owl', 'hen',\n",
        "]"
      ],
      "metadata": {
        "id": "aO6eLamAUtJb"
      },
      "execution_count": null,
      "outputs": []
    },
    {
      "cell_type": "code",
      "source": [
        "# folder name\n",
        "FOLDER_NAME = \"/content/drive/MyDrive/datasets/vacationImages\"\n",
        "\n",
        "# number of files\n",
        "num_files = len(glob.glob(FOLDER_NAME + \"/*.jpg\"))\n",
        "print(num_files)"
      ],
      "metadata": {
        "colab": {
          "base_uri": "https://localhost:8080/"
        },
        "id": "_AdZWxX4UtMQ",
        "outputId": "543cb3d9-f6be-4e19-d59c-d91fdcdbd3df"
      },
      "execution_count": null,
      "outputs": [
        {
          "output_type": "stream",
          "name": "stdout",
          "text": [
            "21\n"
          ]
        }
      ]
    },
    {
      "cell_type": "code",
      "source": [
        "# create new folders\n",
        "os.mkdir(FOLDER_NAME + \"/flowers\")\n",
        "os.mkdir(FOLDER_NAME + \"/birds\")\n",
        "os.mkdir(FOLDER_NAME + \"/none\")"
      ],
      "metadata": {
        "id": "DQ7ueCgzZOPE"
      },
      "execution_count": null,
      "outputs": []
    },
    {
      "cell_type": "code",
      "source": [
        "# classify image with model\n",
        "def predict_image(filename, model):\n",
        "    original = load_img(filename,target_size=(224, 224))\n",
        "    numpy_image = img_to_array(original)\n",
        "    image_batch = np.expand_dims(numpy_image, axis=0)\n",
        "    processed_image = vgg16.preprocess_input(image_batch.copy())\n",
        "    return decode_predictions(\n",
        "        vgg_model.predict(processed_image))[0][0][1]"
      ],
      "metadata": {
        "id": "PkWgI1G6Z5fT"
      },
      "execution_count": null,
      "outputs": []
    },
    {
      "cell_type": "code",
      "source": [
        "for i in range(num_files):\n",
        "    filename = FOLDER_NAME + \"/\" + str(i) + \".jpg\"\n",
        "    pred = predict_image(filename, vgg_model)\n",
        "    if  pred in flowers:\n",
        "        copyfile(filename, FOLDER_NAME + '/flowers/' + str(pred) + \".jpg\")\n",
        "    elif pred in birds:\n",
        "        copyfile(filename, FOLDER_NAME + '/birds/' + str(pred) + \".jpg\")\n",
        "    else:\n",
        "        copyfile(filename, FOLDER_NAME + '/none/' + str(pred) + \".jpg\")"
      ],
      "metadata": {
        "colab": {
          "base_uri": "https://localhost:8080/"
        },
        "id": "-ZcgBIoVZuxz",
        "outputId": "575ce8e3-31db-4806-b4a5-43807c3144bd"
      },
      "execution_count": null,
      "outputs": [
        {
          "output_type": "stream",
          "name": "stdout",
          "text": [
            "1/1 [==============================] - 0s 19ms/step\n",
            "1/1 [==============================] - 0s 18ms/step\n",
            "1/1 [==============================] - 0s 27ms/step\n",
            "1/1 [==============================] - 0s 21ms/step\n",
            "1/1 [==============================] - 0s 21ms/step\n",
            "1/1 [==============================] - 0s 17ms/step\n",
            "1/1 [==============================] - 0s 18ms/step\n",
            "1/1 [==============================] - 0s 18ms/step\n",
            "1/1 [==============================] - 0s 18ms/step\n",
            "1/1 [==============================] - 0s 21ms/step\n",
            "1/1 [==============================] - 0s 20ms/step\n",
            "1/1 [==============================] - 0s 20ms/step\n",
            "1/1 [==============================] - 0s 18ms/step\n",
            "1/1 [==============================] - 0s 18ms/step\n",
            "1/1 [==============================] - 0s 24ms/step\n",
            "1/1 [==============================] - 0s 19ms/step\n",
            "1/1 [==============================] - 0s 18ms/step\n",
            "1/1 [==============================] - 0s 18ms/step\n",
            "1/1 [==============================] - 0s 21ms/step\n",
            "1/1 [==============================] - 0s 18ms/step\n",
            "1/1 [==============================] - 0s 18ms/step\n"
          ]
        }
      ]
    },
    {
      "cell_type": "markdown",
      "source": [
        "## Extendendo modelos pré-treinados"
      ],
      "metadata": {
        "id": "YJ-rWLVba2wT"
      }
    },
    {
      "cell_type": "code",
      "source": [
        "train = pd.read_csv(\"/content/drive/MyDrive/datasets/digits/train.csv\")\n",
        "\n",
        "X = train.drop([\"label\"],axis = 1)\n",
        "y = train[\"label\"]\n",
        "\n",
        "X = X / 255.0\n",
        "X = X.values.reshape(-1,28,28,1)\n",
        "\n",
        "y = to_categorical(y, num_classes=10)\n",
        "\n",
        "X_train, X_val, y_train, y_val = train_test_split(X, y,test_size=0.1,random_state=42)\n",
        "\n",
        "# main model\n",
        "vgg = VGG16(include_top=False, weights='imagenet')\n",
        "\n",
        "# first layers\n",
        "x_in = layers.Input(shape=(32, 32, 1))\n",
        "x = Conv2D(3, 1)(x_in) # Expand to 3 channel with Convolution\n",
        "x = vgg(x)\n",
        "\n",
        "# last_layers\n",
        "x = layers.Flatten()(x)\n",
        "x = layers.Dense(10, activation='softmax')(x)\n",
        "model = Model(x_in, x)\n",
        "model.summary()"
      ],
      "metadata": {
        "colab": {
          "base_uri": "https://localhost:8080/"
        },
        "id": "4h8mAKM8a205",
        "outputId": "b725a257-f96f-4189-bcc0-af6a3be57386"
      },
      "execution_count": null,
      "outputs": [
        {
          "output_type": "stream",
          "name": "stdout",
          "text": [
            "Model: \"model_1\"\n",
            "_________________________________________________________________\n",
            " Layer (type)                Output Shape              Param #   \n",
            "=================================================================\n",
            " input_7 (InputLayer)        [(None, 32, 32, 1)]       0         \n",
            "                                                                 \n",
            " conv2d_25 (Conv2D)          (None, 32, 32, 3)         6         \n",
            "                                                                 \n",
            " vgg16 (Functional)          (None, None, None, 512)   14714688  \n",
            "                                                                 \n",
            " flatten_7 (Flatten)         (None, 512)               0         \n",
            "                                                                 \n",
            " dense_13 (Dense)            (None, 10)                5130      \n",
            "                                                                 \n",
            "=================================================================\n",
            "Total params: 14,719,824\n",
            "Trainable params: 14,719,824\n",
            "Non-trainable params: 0\n",
            "_________________________________________________________________\n"
          ]
        }
      ]
    },
    {
      "cell_type": "code",
      "source": [
        "X_train = tf.image.resize(X_train, (32,32))\n",
        "X_val = tf.image.resize(X_val, (32,32))"
      ],
      "metadata": {
        "id": "_d3ue6gpa26J"
      },
      "execution_count": null,
      "outputs": []
    },
    {
      "cell_type": "code",
      "source": [
        "model.compile(loss='categorical_crossentropy', optimizer='adam', metrics=[\"accuracy\"])\n",
        "history = model.fit(\n",
        "    X_train, y_train,\n",
        "    validation_data=(X_val, y_val),\n",
        "    epochs=30, batch_size = 264)"
      ],
      "metadata": {
        "colab": {
          "base_uri": "https://localhost:8080/"
        },
        "id": "zfT4206ncH0z",
        "outputId": "167df804-848a-4284-8de1-d025cd964dfa"
      },
      "execution_count": null,
      "outputs": [
        {
          "output_type": "stream",
          "name": "stdout",
          "text": [
            "Epoch 1/30\n",
            "144/144 [==============================] - 18s 88ms/step - loss: 1.2216 - accuracy: 0.5409 - val_loss: 0.2216 - val_accuracy: 0.9429\n",
            "Epoch 2/30\n",
            "144/144 [==============================] - 13s 87ms/step - loss: 0.1148 - accuracy: 0.9697 - val_loss: 0.1488 - val_accuracy: 0.9552\n",
            "Epoch 3/30\n",
            "144/144 [==============================] - 13s 89ms/step - loss: 0.0554 - accuracy: 0.9852 - val_loss: 0.0667 - val_accuracy: 0.9795\n",
            "Epoch 4/30\n",
            "144/144 [==============================] - 13s 92ms/step - loss: 0.0449 - accuracy: 0.9880 - val_loss: 0.0546 - val_accuracy: 0.9852\n",
            "Epoch 5/30\n",
            "144/144 [==============================] - 13s 92ms/step - loss: 0.0351 - accuracy: 0.9911 - val_loss: 0.0457 - val_accuracy: 0.9876\n",
            "Epoch 6/30\n",
            "144/144 [==============================] - 13s 93ms/step - loss: 0.0237 - accuracy: 0.9937 - val_loss: 0.0304 - val_accuracy: 0.9914\n",
            "Epoch 7/30\n",
            "144/144 [==============================] - 13s 93ms/step - loss: 0.0270 - accuracy: 0.9926 - val_loss: 0.0694 - val_accuracy: 0.9852\n",
            "Epoch 8/30\n",
            "144/144 [==============================] - 13s 93ms/step - loss: 0.0285 - accuracy: 0.9924 - val_loss: 0.0503 - val_accuracy: 0.9886\n",
            "Epoch 9/30\n",
            "144/144 [==============================] - 13s 92ms/step - loss: 0.0212 - accuracy: 0.9946 - val_loss: 0.0386 - val_accuracy: 0.9902\n",
            "Epoch 10/30\n",
            "144/144 [==============================] - 13s 92ms/step - loss: 0.0172 - accuracy: 0.9956 - val_loss: 0.0484 - val_accuracy: 0.9914\n",
            "Epoch 11/30\n",
            "144/144 [==============================] - 13s 92ms/step - loss: 0.0288 - accuracy: 0.9929 - val_loss: 0.0368 - val_accuracy: 0.9910\n",
            "Epoch 12/30\n",
            "144/144 [==============================] - 13s 93ms/step - loss: 0.0191 - accuracy: 0.9953 - val_loss: 0.0262 - val_accuracy: 0.9931\n",
            "Epoch 13/30\n",
            "144/144 [==============================] - 13s 93ms/step - loss: 0.0117 - accuracy: 0.9974 - val_loss: 0.0915 - val_accuracy: 0.9850\n",
            "Epoch 14/30\n",
            "144/144 [==============================] - 13s 92ms/step - loss: 0.0378 - accuracy: 0.9917 - val_loss: 0.0617 - val_accuracy: 0.9871\n",
            "Epoch 15/30\n",
            "144/144 [==============================] - 13s 91ms/step - loss: 0.0268 - accuracy: 0.9936 - val_loss: 0.0477 - val_accuracy: 0.9881\n",
            "Epoch 16/30\n",
            "144/144 [==============================] - 13s 92ms/step - loss: 0.0119 - accuracy: 0.9971 - val_loss: 0.0435 - val_accuracy: 0.9912\n",
            "Epoch 17/30\n",
            "144/144 [==============================] - 13s 92ms/step - loss: 0.0125 - accuracy: 0.9971 - val_loss: 0.0514 - val_accuracy: 0.9883\n",
            "Epoch 18/30\n",
            "144/144 [==============================] - 13s 92ms/step - loss: 0.0225 - accuracy: 0.9953 - val_loss: 0.2077 - val_accuracy: 0.9748\n",
            "Epoch 19/30\n",
            "144/144 [==============================] - 13s 92ms/step - loss: 0.0346 - accuracy: 0.9926 - val_loss: 0.0788 - val_accuracy: 0.9852\n",
            "Epoch 20/30\n",
            "144/144 [==============================] - 13s 92ms/step - loss: 0.0185 - accuracy: 0.9958 - val_loss: 0.0511 - val_accuracy: 0.9902\n",
            "Epoch 21/30\n",
            "144/144 [==============================] - 13s 90ms/step - loss: 0.0151 - accuracy: 0.9966 - val_loss: 0.0641 - val_accuracy: 0.9914\n",
            "Epoch 22/30\n",
            "144/144 [==============================] - 13s 92ms/step - loss: 0.0085 - accuracy: 0.9981 - val_loss: 0.0671 - val_accuracy: 0.9850\n",
            "Epoch 23/30\n",
            "144/144 [==============================] - 13s 90ms/step - loss: 0.0110 - accuracy: 0.9974 - val_loss: 0.0503 - val_accuracy: 0.9910\n",
            "Epoch 24/30\n",
            "144/144 [==============================] - 13s 91ms/step - loss: 0.0090 - accuracy: 0.9980 - val_loss: 0.0498 - val_accuracy: 0.9912\n",
            "Epoch 25/30\n",
            "144/144 [==============================] - 13s 90ms/step - loss: 0.0181 - accuracy: 0.9963 - val_loss: 0.0656 - val_accuracy: 0.9890\n",
            "Epoch 26/30\n",
            "144/144 [==============================] - 13s 90ms/step - loss: 0.0160 - accuracy: 0.9963 - val_loss: 0.0957 - val_accuracy: 0.9833\n",
            "Epoch 27/30\n",
            "144/144 [==============================] - 13s 90ms/step - loss: 0.0156 - accuracy: 0.9972 - val_loss: 0.0576 - val_accuracy: 0.9912\n",
            "Epoch 28/30\n",
            "144/144 [==============================] - 13s 92ms/step - loss: 0.0104 - accuracy: 0.9981 - val_loss: 0.0475 - val_accuracy: 0.9910\n",
            "Epoch 29/30\n",
            "144/144 [==============================] - 13s 90ms/step - loss: 0.0072 - accuracy: 0.9985 - val_loss: 0.0486 - val_accuracy: 0.9910\n",
            "Epoch 30/30\n",
            "144/144 [==============================] - 13s 92ms/step - loss: 0.0084 - accuracy: 0.9982 - val_loss: 0.0715 - val_accuracy: 0.9874\n"
          ]
        }
      ]
    },
    {
      "cell_type": "code",
      "source": [
        "# predict the values from the validation dataset\n",
        "y_pred = model.predict(X_val)\n",
        "\n",
        "# convert predictions classes to one hot vectors\n",
        "y_pred_classes = np.argmax(y_pred,axis = 1)\n",
        "\n",
        "# convert validation observations to one hot vectors\n",
        "y_true = np.argmax(y_val,axis = 1)\n",
        "\n",
        "# compute the confusion matrix\n",
        "confusion_mtx = confusion_matrix(y_true, y_pred_classes)\n",
        "\n",
        "# plot the confusion matrix\n",
        "plot_confusion_matrix(confusion_mtx, classes = range(10))"
      ],
      "metadata": {
        "colab": {
          "base_uri": "https://localhost:8080/",
          "height": 523
        },
        "id": "H1wsuAqji_eW",
        "outputId": "6c880fae-2147-49c1-9de6-bd85b22314c4"
      },
      "execution_count": null,
      "outputs": [
        {
          "output_type": "stream",
          "name": "stdout",
          "text": [
            "132/132 [==============================] - 1s 7ms/step\n"
          ]
        },
        {
          "output_type": "display_data",
          "data": {
            "text/plain": [
              "<Figure size 640x480 with 2 Axes>"
            ],
            "image/png": "[encoded data removed]"
          },
          "metadata": {}
        }
      ]
    },
    {
      "cell_type": "markdown",
      "source": [
        "## Exercícios"
      ],
      "metadata": {
        "id": "jHF7zU1zepXf"
      }
    },
    {
      "cell_type": "markdown",
      "source": [
        "- Submeta uma solução para o desafio: https://www.kaggle.com/competitions/dogs-vs-cats-redux-kernels-edition"
      ],
      "metadata": {
        "id": "WGJd7Ss9epaR"
      }
    },
    {
      "cell_type": "markdown",
      "source": [
        "## Onde baixar modelos pré-treinados?"
      ],
      "metadata": {
        "id": "vWO86D6gcH4C"
      }
    },
    {
      "cell_type": "markdown",
      "source": [
        "- https://tfhub.dev/"
      ],
      "metadata": {
        "id": "GK40wPuKcH7B"
      }
    },
    {
      "cell_type": "markdown",
      "source": [
        "## Modelos interessantes para olhar"
      ],
      "metadata": {
        "id": "bggIfCnncH9l"
      }
    },
    {
      "cell_type": "markdown",
      "source": [
        "- Yolo https://github.com/ultralytics/yolov5\n",
        "- Stable Difusion https://github.com/Stability-AI/stablediffusion\n",
        "- MaskRCNN https://github.com/matterport/Mask_RCNN\n",
        "- Pix2PIx https://phillipi.github.io/pix2pix/\n",
        "- Keras_OCR https://github.com/faustomorales/keras-ocr"
      ],
      "metadata": {
        "id": "kF1KQHnpcIAR"
      }
    },
    {
      "cell_type": "markdown",
      "source": [
        "## Referências\n",
        "\n",
        "- https://machinelearningmastery.com/save-load-keras-deep-learning-models/\n",
        "- https://www.kaggle.com/code/thitiwat/digit-recognizer-with-vgg16"
      ],
      "metadata": {
        "id": "zygXSjHdPh77"
      }
    },
    {
      "cell_type": "code",
      "source": [],
      "metadata": {
        "id": "JXkCY-1_QWpz"
      },
      "execution_count": null,
      "outputs": []
    }
  ]
}