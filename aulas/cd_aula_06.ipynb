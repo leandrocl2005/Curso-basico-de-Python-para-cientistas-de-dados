{
 "cells": [
  {
   "cell_type": "markdown",
   "id": "0bf36700",
   "metadata": {},
   "source": [
    "# Atividade avaliativa"
   ]
  },
  {
   "cell_type": "markdown",
   "id": "b46ab9e2",
   "metadata": {},
   "source": [
    "<b>PROBLEMA:</b> Você deve prescrever medidas para o ministro da saúde para que ele possa, de forma assertiva, destinar recursos públicos para hospitais, campanhas de saúde e demais ações que gerem melhores condições de saúde para a população brasileira."
   ]
  },
  {
   "cell_type": "markdown",
   "id": "6b66a88c",
   "metadata": {},
   "source": [
    "<b>CONJUNTO DE DADOS:</b> Para este trabalho você usará dados do SUS de Síndrome respiratória aguda grave do ano 2020 a 2023. Os mesmo podem ser baixados no link: https://opendatasus.saude.gov.br/dataset"
   ]
  },
  {
   "cell_type": "markdown",
   "id": "f6b64e42",
   "metadata": {},
   "source": [
    "<img src=\"../assets/covid_datasets.png\">"
   ]
  },
  {
   "cell_type": "markdown",
   "id": "f60d87fc",
   "metadata": {},
   "source": [
    "<b>CRITÉRIOS DE AVALIAÇÃO:</b>\n",
    "\n",
    "   - Você deve fazer pelo menos 10 prescrições para o ministro da saúde;\n",
    "   - As prescrições são frases, por exemplo: *Dado que a taxa de internações por COVID-19 são X% maior para pessoas obesas, fazer campanha para que as pessoas pratiquem exercício físico e mantenham uma dieta saudável*;\n",
    "   - Cada prescrição deve vir acompanhada por um gráfico que ilustre que a mesma foi dirigida a dados (data driven actions);\n",
    "   - O notebook com os gráficos e prescrições deve ser enviado pelo link https://www.dropbox.com/request/R5dre4hUZwexqGcpzfUL \n",
    "   - O dashboard deve ter, pelo menos, 5 análises bivariadas gráficas;\n",
    "   - O dashboard deve ter, pelo menos, 2 análises n-variadas gráficas com n>2;\n",
    "   \n",
    "   - Cada gráfico vale 3 pontos (max. 30 pontos);\n",
    "   - Cada prescrição vale 2 pontos (max. 20 pontos);\n",
    "\n",
    "   - Cada análise bivariada vale 2 pontos adicionais por análise (max. 10 pontos);\n",
    "   - Cada análise n-variada com n > 2 vale 5 pontos adicionais por análise (max. 10 pontos);\n",
    "   \n",
    "   - Se as cores seguirem uma paleta de cor adiciona 10 pontos a nota;\n",
    "   - Se os gráficos tiverem rótulo em x, rótulo em y, título e legenda (se necessário) adiciona se 2 pontos por gráfico (máx. 20 pontos);\n",
    "   - Gráficos de pizza com mais de duas categoria não serão considerados 1.\n",
    "   - Dentre os gráficos deve haver pelo menos 1 gráfico comparando alguma característica ao longo dos 3 anos (2020, 2021 e 2022) senão a nota do trabalho é dividida por 2.\n",
    "   - O trabalho deve ser postado até **30/10/2023 às 15:00**."
   ]
  },
  {
   "cell_type": "code",
   "execution_count": null,
   "id": "46950378",
   "metadata": {},
   "outputs": [],
   "source": []
  },
  {
   "cell_type": "code",
   "execution_count": null,
   "id": "1deea9e9",
   "metadata": {},
   "outputs": [],
   "source": []
  }
 ],
 "metadata": {
  "kernelspec": {
   "display_name": "Python 3 (ipykernel)",
   "language": "python",
   "name": "python3"
  },
  "language_info": {
   "codemirror_mode": {
    "name": "ipython",
    "version": 3
   },
   "file_extension": ".py",
   "mimetype": "text/x-python",
   "name": "python",
   "nbconvert_exporter": "python",
   "pygments_lexer": "ipython3",
   "version": "3.8.6"
  }
 },
 "nbformat": 4,
 "nbformat_minor": 5
}
