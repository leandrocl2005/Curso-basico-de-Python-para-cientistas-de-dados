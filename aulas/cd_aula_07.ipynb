{
 "cells": [
  {
   "cell_type": "markdown",
   "id": "146c057a",
   "metadata": {},
   "source": [
    "# Bibliotecas"
   ]
  },
  {
   "cell_type": "code",
   "execution_count": 3,
   "id": "6b72c1f3",
   "metadata": {},
   "outputs": [],
   "source": [
    "import sqlite3\n",
    "import pandas as pd"
   ]
  },
  {
   "cell_type": "markdown",
   "id": "598e30e2",
   "metadata": {},
   "source": [
    "# CONNECTION"
   ]
  },
  {
   "cell_type": "code",
   "execution_count": 4,
   "id": "70dfa733",
   "metadata": {},
   "outputs": [],
   "source": [
    "conn = sqlite3.connect(\"database.db\")"
   ]
  },
  {
   "cell_type": "markdown",
   "id": "d4590ba8",
   "metadata": {},
   "source": [
    "# CREATE TABLE"
   ]
  },
  {
   "cell_type": "code",
   "execution_count": 5,
   "id": "26f36036",
   "metadata": {},
   "outputs": [],
   "source": [
    "conn.execute(\"\"\"\n",
    "    CREATE TABLE IF NOT EXISTS tasks\n",
    "    (\n",
    "        id INTEGER PRIMARY KEY AUTOINCREMENT,\n",
    "        description TEXT,\n",
    "        done INTEGER\n",
    "    )    \n",
    "\"\"\")\n",
    "conn.commit()"
   ]
  },
  {
   "cell_type": "markdown",
   "id": "a918a183",
   "metadata": {},
   "source": [
    "# CREATE"
   ]
  },
  {
   "cell_type": "code",
   "execution_count": 4,
   "id": "1c08b3aa",
   "metadata": {},
   "outputs": [],
   "source": [
    "conn.execute(\"\"\"\n",
    "    INSERT INTO tasks (description, done)\n",
    "    VALUES ('Estudar seaborn', 0);    \n",
    "\"\"\")\n",
    "conn.commit()"
   ]
  },
  {
   "cell_type": "code",
   "execution_count": 5,
   "id": "e3e90d8f",
   "metadata": {},
   "outputs": [],
   "source": [
    "conn.execute(\"\"\"\n",
    "    INSERT INTO tasks (description, done)\n",
    "    VALUES ('Estudar python', 1);    \n",
    "\"\"\")\n",
    "conn.commit()"
   ]
  },
  {
   "cell_type": "markdown",
   "id": "c7ef76ae",
   "metadata": {},
   "source": [
    "# READ"
   ]
  },
  {
   "cell_type": "code",
   "execution_count": 6,
   "id": "741cfebc",
   "metadata": {},
   "outputs": [
    {
     "name": "stdout",
     "output_type": "stream",
     "text": [
      "(2, 'Estudar python', 1)\n",
      "(3, 'Estudar seaborn', 0)\n",
      "(4, 'Estudar python', 1)\n"
     ]
    }
   ],
   "source": [
    "results = conn.execute(\"\"\"\n",
    "    SELECT *\n",
    "    FROM tasks\n",
    "\"\"\").fetchall()\n",
    "for result in results:\n",
    "    print(result)"
   ]
  },
  {
   "cell_type": "code",
   "execution_count": 7,
   "id": "54d13852",
   "metadata": {},
   "outputs": [
    {
     "name": "stdout",
     "output_type": "stream",
     "text": [
      "('Estudar seaborn',)\n"
     ]
    }
   ],
   "source": [
    "results = conn.execute(\"\"\"\n",
    "    SELECT description\n",
    "    FROM tasks\n",
    "    WHERE done=0\n",
    "\"\"\").fetchall()\n",
    "for result in results:\n",
    "    print(result)"
   ]
  },
  {
   "cell_type": "markdown",
   "id": "c07ab10e",
   "metadata": {},
   "source": [
    "# UPDATE"
   ]
  },
  {
   "cell_type": "code",
   "execution_count": 8,
   "id": "b1a55e4c",
   "metadata": {},
   "outputs": [],
   "source": [
    "conn.execute(\"\"\"\n",
    "    UPDATE tasks\n",
    "    SET done=1\n",
    "    WHERE id=3\n",
    "\"\"\")\n",
    "conn.commit()"
   ]
  },
  {
   "cell_type": "markdown",
   "id": "d4a8d8e2",
   "metadata": {},
   "source": [
    "# DELETE"
   ]
  },
  {
   "cell_type": "code",
   "execution_count": 9,
   "id": "137a38de",
   "metadata": {},
   "outputs": [],
   "source": [
    "conn.execute(\"\"\"\n",
    "    DELETE FROM tasks\n",
    "    WHERE id=1\n",
    "\"\"\")\n",
    "conn.commit()"
   ]
  },
  {
   "cell_type": "markdown",
   "id": "3b642d3b",
   "metadata": {},
   "source": [
    "# Pandas query"
   ]
  },
  {
   "cell_type": "code",
   "execution_count": 10,
   "id": "27903865",
   "metadata": {},
   "outputs": [
    {
     "data": {
      "text/html": [
       "<div>\n",
       "<style scoped>\n",
       "    .dataframe tbody tr th:only-of-type {\n",
       "        vertical-align: middle;\n",
       "    }\n",
       "\n",
       "    .dataframe tbody tr th {\n",
       "        vertical-align: top;\n",
       "    }\n",
       "\n",
       "    .dataframe thead th {\n",
       "        text-align: right;\n",
       "    }\n",
       "</style>\n",
       "<table border=\"1\" class=\"dataframe\">\n",
       "  <thead>\n",
       "    <tr style=\"text-align: right;\">\n",
       "      <th></th>\n",
       "      <th>id</th>\n",
       "      <th>description</th>\n",
       "      <th>done</th>\n",
       "    </tr>\n",
       "  </thead>\n",
       "  <tbody>\n",
       "    <tr>\n",
       "      <th>0</th>\n",
       "      <td>2</td>\n",
       "      <td>Estudar python</td>\n",
       "      <td>1</td>\n",
       "    </tr>\n",
       "    <tr>\n",
       "      <th>1</th>\n",
       "      <td>3</td>\n",
       "      <td>Estudar seaborn</td>\n",
       "      <td>1</td>\n",
       "    </tr>\n",
       "    <tr>\n",
       "      <th>2</th>\n",
       "      <td>4</td>\n",
       "      <td>Estudar python</td>\n",
       "      <td>1</td>\n",
       "    </tr>\n",
       "  </tbody>\n",
       "</table>\n",
       "</div>"
      ],
      "text/plain": [
       "   id      description  done\n",
       "0   2   Estudar python     1\n",
       "1   3  Estudar seaborn     1\n",
       "2   4   Estudar python     1"
      ]
     },
     "execution_count": 10,
     "metadata": {},
     "output_type": "execute_result"
    }
   ],
   "source": [
    "df = pd.read_sql_query(\n",
    "    \"\"\"\n",
    "       SELECT *\n",
    "       FROM tasks\n",
    "    \"\"\",\n",
    "    conn\n",
    ")\n",
    "df"
   ]
  },
  {
   "cell_type": "markdown",
   "id": "4d9e2ce0",
   "metadata": {},
   "source": [
    "# AGRUPAMENTO E AGREGAÇÃO"
   ]
  },
  {
   "cell_type": "code",
   "execution_count": 11,
   "id": "08d7f0d0",
   "metadata": {},
   "outputs": [
    {
     "data": {
      "text/plain": [
       "1    3\n",
       "Name: done, dtype: int64"
      ]
     },
     "execution_count": 11,
     "metadata": {},
     "output_type": "execute_result"
    }
   ],
   "source": [
    "df['done'].value_counts()"
   ]
  },
  {
   "cell_type": "code",
   "execution_count": 12,
   "id": "29fb1ac8",
   "metadata": {},
   "outputs": [
    {
     "name": "stdout",
     "output_type": "stream",
     "text": [
      "(1, 3)\n"
     ]
    }
   ],
   "source": [
    "results = conn.execute(\"\"\"\n",
    "    SELECT done, COUNT(*) AS done_tasks\n",
    "    FROM tasks\n",
    "    GROUP BY done;      \n",
    "\"\"\").fetchall()\n",
    "\n",
    "for result in results:\n",
    "    print(result)"
   ]
  },
  {
   "cell_type": "markdown",
   "id": "be23aec2",
   "metadata": {},
   "source": [
    "# DELETE TABLE"
   ]
  },
  {
   "cell_type": "code",
   "execution_count": 13,
   "id": "74fbc4fe",
   "metadata": {},
   "outputs": [],
   "source": [
    "conn.execute(\"DROP TABLE tasks\")\n",
    "conn.commit()"
   ]
  },
  {
   "cell_type": "markdown",
   "id": "ccc1dc2c",
   "metadata": {},
   "source": [
    "# RELACIONAMENTO"
   ]
  },
  {
   "cell_type": "code",
   "execution_count": 14,
   "id": "4062ae07",
   "metadata": {},
   "outputs": [],
   "source": [
    "conn.execute(\"\"\"\n",
    "    CREATE TABLE categories \n",
    "    (\n",
    "      id    INTEGER PRIMARY KEY, \n",
    "      name  TEXT NOT NULL\n",
    "    );\n",
    "\"\"\")\n",
    "\n",
    "conn.execute(\n",
    "    \"\"\"\n",
    "        INSERT INTO categories (name)\n",
    "        VALUES\n",
    "          ('casa'),\n",
    "          ('laser'),\n",
    "          ('faculdade')\n",
    "    \"\"\"\n",
    ")\n",
    "conn.commit()"
   ]
  },
  {
   "cell_type": "code",
   "execution_count": 15,
   "id": "0a2d1bb8",
   "metadata": {},
   "outputs": [],
   "source": [
    "conn.execute(\"\"\"\n",
    "    CREATE TABLE tasks \n",
    "    (\n",
    "      id            INTEGER PRIMARY KEY AUTOINCREMENT, \n",
    "      description   TEXT NOT NULL,\n",
    "      done          INTEGER,\n",
    "      category_id   INTEGER NOT NULL,\n",
    "      FOREIGN KEY (category_id) REFERENCES categories (id)\n",
    "    )\n",
    "\"\"\")\n",
    "conn.commit()"
   ]
  },
  {
   "cell_type": "markdown",
   "id": "89cf4215",
   "metadata": {},
   "source": [
    "# JOIN"
   ]
  },
  {
   "cell_type": "code",
   "execution_count": 16,
   "id": "d5673e2b",
   "metadata": {},
   "outputs": [],
   "source": [
    "# insert many\n",
    "conn.execute(\n",
    "    \"\"\"\n",
    "    INSERT INTO 'tasks' (description, done, category_id)\n",
    "    VALUES\n",
    "      ('Assistir Netflix', 1, 2),\n",
    "      ('Estudar matplotlib', 0, 3),\n",
    "      ('Estudar seaborn', 0, 3),\n",
    "      ('Estudar Pandas', 0, 3),\n",
    "      ('Lavar louça', 0, 1)\n",
    "    \"\"\"\n",
    ")\n",
    "conn.commit()"
   ]
  },
  {
   "cell_type": "code",
   "execution_count": 6,
   "id": "70294311",
   "metadata": {},
   "outputs": [
    {
     "ename": "OperationalError",
     "evalue": "no such table: categories",
     "output_type": "error",
     "traceback": [
      "\u001b[1;31m---------------------------------------------------------------------------\u001b[0m",
      "\u001b[1;31mOperationalError\u001b[0m                          Traceback (most recent call last)",
      "Cell \u001b[1;32mIn[6], line 1\u001b[0m\n\u001b[1;32m----> 1\u001b[0m tasks_with_categories \u001b[38;5;241m=\u001b[39m \u001b[43mconn\u001b[49m\u001b[38;5;241;43m.\u001b[39;49m\u001b[43mexecute\u001b[49m\u001b[43m(\u001b[49m\n\u001b[0;32m      2\u001b[0m \u001b[38;5;250;43m    \u001b[39;49m\u001b[38;5;124;43;03m\"\"\"\u001b[39;49;00m\n\u001b[0;32m      3\u001b[0m \u001b[38;5;124;43;03m    SELECT t.id, t.description, t.done, c.name \u001b[39;49;00m\n\u001b[0;32m      4\u001b[0m \u001b[38;5;124;43;03m    FROM tasks AS t \u001b[39;49;00m\n\u001b[0;32m      5\u001b[0m \u001b[38;5;124;43;03m    INNER JOIN categories AS c\u001b[39;49;00m\n\u001b[0;32m      6\u001b[0m \u001b[38;5;124;43;03m      ON c.id = t.category_id\u001b[39;49;00m\n\u001b[0;32m      7\u001b[0m \u001b[38;5;124;43;03m    ORDER BY c.name\u001b[39;49;00m\n\u001b[0;32m      8\u001b[0m \u001b[38;5;124;43;03m    \"\"\"\u001b[39;49;00m\n\u001b[0;32m      9\u001b[0m \u001b[43m)\u001b[49m\u001b[38;5;241m.\u001b[39mfetchall()\n\u001b[0;32m     11\u001b[0m \u001b[38;5;28;01mfor\u001b[39;00m task \u001b[38;5;129;01min\u001b[39;00m tasks_with_categories:\n\u001b[0;32m     12\u001b[0m     \u001b[38;5;28mprint\u001b[39m(task)\n",
      "\u001b[1;31mOperationalError\u001b[0m: no such table: categories"
     ]
    }
   ],
   "source": [
    "tasks_with_categories = conn.execute(\n",
    "    \"\"\"\n",
    "    SELECT t.id, t.description, t.done, c.name \n",
    "    FROM tasks AS t \n",
    "    INNER JOIN categories AS c\n",
    "      ON c.id = t.category_id\n",
    "    ORDER BY c.name\n",
    "    \"\"\"\n",
    ").fetchall()\n",
    "\n",
    "for task in tasks_with_categories:\n",
    "    print(task)"
   ]
  },
  {
   "cell_type": "markdown",
   "id": "18a42423",
   "metadata": {},
   "source": [
    "# Close connection"
   ]
  },
  {
   "cell_type": "code",
   "execution_count": 18,
   "id": "6707c166",
   "metadata": {},
   "outputs": [],
   "source": [
    "conn.close()"
   ]
  },
  {
   "cell_type": "markdown",
   "id": "cee453f4",
   "metadata": {},
   "source": [
    "# Exercícios"
   ]
  },
  {
   "cell_type": "markdown",
   "id": "b744433a",
   "metadata": {},
   "source": [
    "<img src=\"../assets/sqlite-sample-database-color.jpg\">"
   ]
  },
  {
   "cell_type": "markdown",
   "id": "5cd4ec19",
   "metadata": {},
   "source": [
    "Faça o download do bando SQLite3 no site: https://www.sqlitetutorial.net/sqlite-sample-database/"
   ]
  },
  {
   "cell_type": "markdown",
   "id": "cbec74eb",
   "metadata": {},
   "source": [
    "Usando os conhecimentos da aula, resolva os seguinte problemas:"
   ]
  },
  {
   "cell_type": "markdown",
   "id": "13bcf72b",
   "metadata": {},
   "source": [
    "1. Fornecer uma consulta que mostre os clientes (apenas seus nomes completos, ID do cliente e país) que não estão nos EUA."
   ]
  },
  {
   "cell_type": "code",
   "execution_count": null,
   "id": "49bc36c7-e959-4412-a102-8a690145704e",
   "metadata": {},
   "outputs": [],
   "source": [
    "conn = sqlite3.connect(\"chinook.db\")\n",
    "df = pd.read_sql_query(\n",
    "    \"\"\"\n",
    "        SELECT CustomerId, FirstName || ' ' || LastName AS FullName, Country\n",
    "        FROM customers\n",
    "        WHERE Country != 'USA'\n",
    "    \"\"\",\n",
    "    conn\n",
    ")\n",
    "conn.close()\n",
    "df"
   ]
  },
  {
   "cell_type": "markdown",
   "id": "df368da0",
   "metadata": {},
   "source": [
    "2. Fornecer uma consulta que mostre apenas os clientes do Brasil."
   ]
  },
  {
   "cell_type": "code",
   "execution_count": 115,
   "id": "cffe2a1d",
   "metadata": {},
   "outputs": [],
   "source": [
    "# TODO"
   ]
  },
  {
   "cell_type": "markdown",
   "id": "cb65a215",
   "metadata": {},
   "source": [
    "3. Fornecer uma consulta que mostre as faturas dos clientes que são do Brasil. A tabela resultante deve mostrar o nome completo do cliente, ID da fatura, data da fatura e país de cobrança."
   ]
  },
  {
   "cell_type": "code",
   "execution_count": 116,
   "id": "d598ebf2",
   "metadata": {},
   "outputs": [],
   "source": [
    "# TODO"
   ]
  },
  {
   "cell_type": "markdown",
   "id": "b8c6796d",
   "metadata": {},
   "source": [
    "4. Fornecer uma consulta que mostre apenas os funcionários que são agentes de vendas."
   ]
  },
  {
   "cell_type": "code",
   "execution_count": 117,
   "id": "97aad9c6",
   "metadata": {},
   "outputs": [],
   "source": [
    "# TODO"
   ]
  },
  {
   "cell_type": "markdown",
   "id": "27431501",
   "metadata": {},
   "source": [
    "5. Fornecer uma consulta que mostre uma lista única de países de cobrança da tabela de faturas."
   ]
  },
  {
   "cell_type": "code",
   "execution_count": 118,
   "id": "213ae792",
   "metadata": {},
   "outputs": [],
   "source": [
    "# TODO"
   ]
  },
  {
   "cell_type": "markdown",
   "id": "aaea1e5f",
   "metadata": {},
   "source": [
    "6. Fornecer uma consulta que mostre as faturas associadas a cada agente de vendas. A tabela resultante deve incluir o nome completo do agente de vendas."
   ]
  },
  {
   "cell_type": "code",
   "execution_count": 119,
   "id": "d83d013a",
   "metadata": {},
   "outputs": [],
   "source": [
    "# TODO"
   ]
  },
  {
   "cell_type": "markdown",
   "id": "d7687ca9",
   "metadata": {},
   "source": [
    "7. Fornecer uma consulta que mostre o valor total da fatura, nome do cliente, país e nome do agente de vendas de todas as faturas e clientes."
   ]
  },
  {
   "cell_type": "code",
   "execution_count": 120,
   "id": "4749eafb",
   "metadata": {},
   "outputs": [],
   "source": [
    "# TODO"
   ]
  },
  {
   "cell_type": "markdown",
   "id": "8909fe57",
   "metadata": {},
   "source": [
    "8. Quantas faturas houve em 2009 e 2011? Quais são as vendas totais respectivas para cada um desses anos?"
   ]
  },
  {
   "cell_type": "code",
   "execution_count": 121,
   "id": "9486b947",
   "metadata": {},
   "outputs": [],
   "source": [
    "# TODO"
   ]
  },
  {
   "cell_type": "markdown",
   "id": "e0fff051",
   "metadata": {},
   "source": [
    "9. Analisando a tabela InvoiceLine, forneça uma consulta que CONTE o número de itens para o ID da fatura 37."
   ]
  },
  {
   "cell_type": "code",
   "execution_count": 122,
   "id": "245170ab",
   "metadata": {},
   "outputs": [],
   "source": [
    "# TODO"
   ]
  },
  {
   "cell_type": "markdown",
   "id": "34d52953",
   "metadata": {},
   "source": [
    "10. Analisando a tabela invoice_items, forneça uma consulta que CONTE o número de itens para cada fatura. DICA: AGRUPAR POR"
   ]
  },
  {
   "cell_type": "code",
   "execution_count": 123,
   "id": "9a3769a9",
   "metadata": {},
   "outputs": [],
   "source": [
    "# TODO"
   ]
  },
  {
   "cell_type": "markdown",
   "id": "6b0b64a7",
   "metadata": {},
   "source": [
    "11. Fornecer uma consulta que inclua o nome da faixa para cada linha da tabela de itens da fatura."
   ]
  },
  {
   "cell_type": "code",
   "execution_count": 40,
   "id": "c634de23",
   "metadata": {},
   "outputs": [],
   "source": [
    "# TODO"
   ]
  },
  {
   "cell_type": "markdown",
   "id": "e22689a3",
   "metadata": {},
   "source": [
    "12. Forneça uma consulta que mostre o nome da música e o artista para cada linha da tabela de itens da fatura."
   ]
  },
  {
   "cell_type": "code",
   "execution_count": 39,
   "id": "057a5fc4",
   "metadata": {},
   "outputs": [],
   "source": [
    "# todo"
   ]
  },
  {
   "cell_type": "markdown",
   "id": "9045f238",
   "metadata": {},
   "source": [
    "13. Fornecer uma consulta que mostre o número de faturas por país. DICA: AGRUPAR POR"
   ]
  },
  {
   "cell_type": "code",
   "execution_count": 38,
   "id": "272dffae",
   "metadata": {},
   "outputs": [],
   "source": [
    "# TODO"
   ]
  },
  {
   "cell_type": "markdown",
   "id": "a5bf7376",
   "metadata": {},
   "source": [
    "14. Forneça uma consulta que mostra o número total de música por playlist. O nome das playlists devem aparecer na tabela resultante."
   ]
  },
  {
   "cell_type": "code",
   "execution_count": 129,
   "id": "b76cf6c5",
   "metadata": {},
   "outputs": [],
   "source": [
    "# TODO"
   ]
  },
  {
   "cell_type": "markdown",
   "id": "540a53bd",
   "metadata": {},
   "source": [
    "15.Forneça uma consulta que mostra todos os nomes das músicas, mas não mostra ids. A tabela resultante deve incluir o nome do álbum, tipo de media e gênero."
   ]
  },
  {
   "cell_type": "code",
   "execution_count": 37,
   "id": "406a77dd",
   "metadata": {},
   "outputs": [],
   "source": [
    "# TODO"
   ]
  },
  {
   "cell_type": "markdown",
   "id": "d199eb7e",
   "metadata": {},
   "source": [
    "16. Forneça uma consulta que mostra todas as faturas por id e a contagem de itens por fatura."
   ]
  },
  {
   "cell_type": "code",
   "execution_count": null,
   "id": "f9ae4b83",
   "metadata": {},
   "outputs": [],
   "source": [
    "# TODO"
   ]
  },
  {
   "cell_type": "markdown",
   "id": "afd9b1de",
   "metadata": {},
   "source": [
    "17. Fornecer uma consulta que mostro o número total de vendas de cada vendedor."
   ]
  },
  {
   "cell_type": "code",
   "execution_count": 126,
   "id": "6fee47cf",
   "metadata": {},
   "outputs": [],
   "source": [
    "# TODO"
   ]
  },
  {
   "cell_type": "markdown",
   "id": "128237a1",
   "metadata": {},
   "source": [
    "18. Qual vendedor (sales agent) mais vendeu em 2009?"
   ]
  },
  {
   "cell_type": "code",
   "execution_count": null,
   "id": "78450a50",
   "metadata": {},
   "outputs": [],
   "source": [
    "# TODO"
   ]
  },
  {
   "cell_type": "markdown",
   "id": "ca17283b",
   "metadata": {},
   "source": [
    "19. Qual vendedor (sales agent) mais vendeu em 2010?"
   ]
  },
  {
   "cell_type": "code",
   "execution_count": 127,
   "id": "2495066a",
   "metadata": {},
   "outputs": [],
   "source": [
    "# TODO"
   ]
  },
  {
   "cell_type": "markdown",
   "id": "c025a4b5",
   "metadata": {},
   "source": [
    "20. Qual vendedor (sales agent) mais vendeu considerando toda base de dados?"
   ]
  },
  {
   "cell_type": "code",
   "execution_count": 128,
   "id": "fa542ad2",
   "metadata": {},
   "outputs": [],
   "source": [
    "# TODO"
   ]
  },
  {
   "cell_type": "markdown",
   "id": "d6232eae",
   "metadata": {},
   "source": [
    "21. Forneça uma consulta que mostra o número de clientes inscritos para cada vendedor (sales agente)."
   ]
  },
  {
   "cell_type": "code",
   "execution_count": 41,
   "id": "c5b0880e",
   "metadata": {},
   "outputs": [],
   "source": [
    "# TODO"
   ]
  },
  {
   "cell_type": "markdown",
   "id": "794f8534",
   "metadata": {},
   "source": [
    "22. Forneça uma consulta que mostra o total de vendas por país."
   ]
  },
  {
   "cell_type": "code",
   "execution_count": 43,
   "id": "8ea586f5",
   "metadata": {},
   "outputs": [],
   "source": [
    "# TODO"
   ]
  },
  {
   "cell_type": "markdown",
   "id": "a1177ce9",
   "metadata": {},
   "source": [
    "23. De qual país os clientes mais gastaram?"
   ]
  },
  {
   "cell_type": "code",
   "execution_count": 44,
   "id": "2ac01aa7",
   "metadata": {},
   "outputs": [],
   "source": [
    "# TODO"
   ]
  },
  {
   "cell_type": "markdown",
   "id": "fc631e17",
   "metadata": {},
   "source": [
    "24. Forneça uma consulta que mostra a faixa mais comprada de 2013."
   ]
  },
  {
   "cell_type": "code",
   "execution_count": null,
   "id": "199e5a5c",
   "metadata": {},
   "outputs": [],
   "source": [
    "# TODO"
   ]
  },
  {
   "cell_type": "markdown",
   "id": "3d171c55",
   "metadata": {},
   "source": [
    "25. Forneça uma consulta que mostra as top 5 faixas mais compradas de todos os tempos."
   ]
  },
  {
   "cell_type": "code",
   "execution_count": null,
   "id": "5dcb8793",
   "metadata": {},
   "outputs": [],
   "source": [
    "# TODO"
   ]
  },
  {
   "cell_type": "markdown",
   "id": "823e3079",
   "metadata": {},
   "source": [
    "26. Forneça uma consulta que mostra os top 3 artistas mais vendidos de toda base de dados."
   ]
  },
  {
   "cell_type": "code",
   "execution_count": null,
   "id": "7f9a61c2",
   "metadata": {},
   "outputs": [],
   "source": [
    "# TODO"
   ]
  },
  {
   "cell_type": "markdown",
   "id": "24e65276",
   "metadata": {},
   "source": [
    "27. Forneça uma query que mostra qual o tipo de media mais comprado."
   ]
  },
  {
   "cell_type": "code",
   "execution_count": null,
   "id": "475d2f3d",
   "metadata": {},
   "outputs": [],
   "source": [
    "# TODO"
   ]
  },
  {
   "cell_type": "markdown",
   "id": "7e802d58",
   "metadata": {},
   "source": [
    "### Referência para os exercícios:"
   ]
  },
  {
   "cell_type": "markdown",
   "id": "406334f3",
   "metadata": {},
   "source": [
    "http://www.berkut.mk.ua/download/pdf/db/task_vesna.pdf"
   ]
  },
  {
   "cell_type": "code",
   "execution_count": null,
   "id": "f304b033",
   "metadata": {},
   "outputs": [],
   "source": []
  },
  {
   "cell_type": "code",
   "execution_count": null,
   "id": "06f0a5d2",
   "metadata": {},
   "outputs": [],
   "source": []
  }
 ],
 "metadata": {
  "kernelspec": {
   "display_name": "Python 3 (ipykernel)",
   "language": "python",
   "name": "python3"
  },
  "language_info": {
   "codemirror_mode": {
    "name": "ipython",
    "version": 3
   },
   "file_extension": ".py",
   "mimetype": "text/x-python",
   "name": "python",
   "nbconvert_exporter": "python",
   "pygments_lexer": "ipython3",
   "version": "3.8.6"
  }
 },
 "nbformat": 4,
 "nbformat_minor": 5
}
