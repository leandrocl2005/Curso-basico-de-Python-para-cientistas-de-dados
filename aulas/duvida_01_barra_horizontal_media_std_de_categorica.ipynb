{
 "cells": [
  {
   "cell_type": "markdown",
   "id": "bc8a0fb4",
   "metadata": {},
   "source": [
    "<h1>Análise univariada das variáveis de interesse</h1>"
   ]
  },
  {
   "cell_type": "code",
   "execution_count": 1,
   "id": "89fd109d",
   "metadata": {},
   "outputs": [],
   "source": [
    "# Bibliotecas para o estudo\n",
    "import pandas as pd # estrutura de dados\n",
    "import matplotlib.pyplot as plt # análise por gráficos\n",
    "import seaborn as sns # análise por gráficos"
   ]
  },
  {
   "cell_type": "markdown",
   "id": "0f5fe845",
   "metadata": {},
   "source": [
    "## Variável COR/RACA"
   ]
  },
  {
   "cell_type": "code",
   "execution_count": 2,
   "id": "74df7e2e",
   "metadata": {},
   "outputs": [
    {
     "name": "stdout",
     "output_type": "stream",
     "text": [
      "<class 'pandas.core.frame.DataFrame'>\n",
      "RangeIndex: 6731278 entries, 0 to 6731277\n",
      "Data columns (total 2 columns):\n",
      " #   Column       Dtype  \n",
      "---  ------       -----  \n",
      " 0   TP_COR_RACA  int64  \n",
      " 1   NU_NOTA_MT   float64\n",
      "dtypes: float64(1), int64(1)\n",
      "memory usage: 102.7 MB\n"
     ]
    }
   ],
   "source": [
    "path = '../datasets/microdados_enem_2017/DADOS/MICRODADOS_ENEM_2017.csv'\n",
    "df = pd.read_csv(\n",
    "    path,                   # caminho do arquivo a ser lido \n",
    "    encoding='iso-8859-1',  # codificação dos caracteres \n",
    "    sep=';',                # separador de colunas\n",
    "    usecols=['TP_COR_RACA','NU_NOTA_MT'] # IMPORTANTE: ler só a coluna TP_COR_RACA\n",
    ")\n",
    "df.info() # uso de memória 51.4 MB"
   ]
  },
  {
   "cell_type": "code",
   "execution_count": 3,
   "id": "78ea7a38",
   "metadata": {},
   "outputs": [],
   "source": [
    "df['TP_COR_RACA'] = df['TP_COR_RACA'].map({\n",
    "    0: \"Não declarado\",\n",
    "    1: \"Branca\",\n",
    "    2: \"Preta\",\n",
    "    3: \"Parda\",\n",
    "    4: \"Amarela\",\n",
    "    5: \"Indígena\",\n",
    "})"
   ]
  },
  {
   "cell_type": "code",
   "execution_count": 9,
   "id": "5b79152f",
   "metadata": {},
   "outputs": [],
   "source": [
    "import numpy as np\n",
    "\n",
    "# desvio padrão\n",
    "def std(x): \n",
    "    return np.std(x)"
   ]
  },
  {
   "cell_type": "code",
   "execution_count": 18,
   "id": "2f2d13be",
   "metadata": {},
   "outputs": [
    {
     "data": {
      "text/html": [
       "<div>\n",
       "<style scoped>\n",
       "    .dataframe tbody tr th:only-of-type {\n",
       "        vertical-align: middle;\n",
       "    }\n",
       "\n",
       "    .dataframe tbody tr th {\n",
       "        vertical-align: top;\n",
       "    }\n",
       "\n",
       "    .dataframe thead th {\n",
       "        text-align: right;\n",
       "    }\n",
       "</style>\n",
       "<table border=\"1\" class=\"dataframe\">\n",
       "  <thead>\n",
       "    <tr style=\"text-align: right;\">\n",
       "      <th></th>\n",
       "      <th>TP_COR_RACA</th>\n",
       "      <th>std</th>\n",
       "      <th>mean</th>\n",
       "    </tr>\n",
       "  </thead>\n",
       "  <tbody>\n",
       "    <tr>\n",
       "      <th>0</th>\n",
       "      <td>Amarela</td>\n",
       "      <td>109.996943</td>\n",
       "      <td>521.620756</td>\n",
       "    </tr>\n",
       "    <tr>\n",
       "      <th>1</th>\n",
       "      <td>Branca</td>\n",
       "      <td>113.031564</td>\n",
       "      <td>546.271039</td>\n",
       "    </tr>\n",
       "    <tr>\n",
       "      <th>2</th>\n",
       "      <td>Indígena</td>\n",
       "      <td>84.710945</td>\n",
       "      <td>480.012989</td>\n",
       "    </tr>\n",
       "    <tr>\n",
       "      <th>3</th>\n",
       "      <td>Não declarado</td>\n",
       "      <td>117.113133</td>\n",
       "      <td>539.053409</td>\n",
       "    </tr>\n",
       "    <tr>\n",
       "      <th>4</th>\n",
       "      <td>Parda</td>\n",
       "      <td>96.280277</td>\n",
       "      <td>502.943107</td>\n",
       "    </tr>\n",
       "    <tr>\n",
       "      <th>5</th>\n",
       "      <td>Preta</td>\n",
       "      <td>90.248989</td>\n",
       "      <td>495.029013</td>\n",
       "    </tr>\n",
       "  </tbody>\n",
       "</table>\n",
       "</div>"
      ],
      "text/plain": [
       "     TP_COR_RACA         std        mean\n",
       "0        Amarela  109.996943  521.620756\n",
       "1         Branca  113.031564  546.271039\n",
       "2       Indígena   84.710945  480.012989\n",
       "3  Não declarado  117.113133  539.053409\n",
       "4          Parda   96.280277  502.943107\n",
       "5          Preta   90.248989  495.029013"
      ]
     },
     "execution_count": 18,
     "metadata": {},
     "output_type": "execute_result"
    }
   ],
   "source": [
    "df_temp = df.groupby(by=[\"TP_COR_RACA\"])['NU_NOTA_MT'].agg([std, 'mean'])\n",
    "df_temp = df_temp.reset_index()\n",
    "df_temp"
   ]
  },
  {
   "cell_type": "code",
   "execution_count": 19,
   "id": "54a696df",
   "metadata": {},
   "outputs": [
    {
     "data": {
      "image/png": "[encoded data removed]",
      "text/plain": [
       "<Figure size 640x480 with 1 Axes>"
      ]
     },
     "metadata": {},
     "output_type": "display_data"
    }
   ],
   "source": [
    "import matplotlib.pyplot as plt\n",
    "import numpy as np\n",
    "\n",
    "plt.rcdefaults()\n",
    "fig, ax = plt.subplots()\n",
    "\n",
    "# Example data\n",
    "cor_raca = df_temp['TP_COR_RACA']\n",
    "y_pos = np.arange(len(cor_raca))\n",
    "nota_media = df_temp['mean']\n",
    "nota_desvio_padrao = df_temp['std']\n",
    "\n",
    "ax.barh(y_pos, nota_media, xerr=nota_desvio_padrao, align='center')\n",
    "ax.set_yticks(y_pos, labels=cor_raca)\n",
    "ax.invert_yaxis()  # labels read top-to-bottom\n",
    "ax.set_xlabel('Nota média')\n",
    "ax.set_title('Média por cor/raça no ENEM 2017')\n",
    "\n",
    "plt.show()"
   ]
  },
  {
   "cell_type": "code",
   "execution_count": null,
   "id": "6e24a11b",
   "metadata": {},
   "outputs": [],
   "source": []
  }
 ],
 "metadata": {
  "kernelspec": {
   "display_name": "Python 3 (ipykernel)",
   "language": "python",
   "name": "python3"
  },
  "language_info": {
   "codemirror_mode": {
    "name": "ipython",
    "version": 3
   },
   "file_extension": ".py",
   "mimetype": "text/x-python",
   "name": "python",
   "nbconvert_exporter": "python",
   "pygments_lexer": "ipython3",
   "version": "3.11.0"
  }
 },
 "nbformat": 4,
 "nbformat_minor": 5
}
