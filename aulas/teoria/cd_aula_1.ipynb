{
  "nbformat": 4,
  "nbformat_minor": 0,
  "metadata": {
    "colab": {
      "provenance": []
    },
    "kernelspec": {
      "name": "python3",
      "display_name": "Python 3"
    },
    "language_info": {
      "name": "python"
    }
  },
  "cells": [
    {
      "cell_type": "markdown",
      "source": [
        "# Aula 1: Objetos da linguagem Python"
      ],
      "metadata": {
        "id": "UBTvQOUtef9Q"
      }
    },
    {
      "cell_type": "markdown",
      "source": [
        "### Meu primeiro programa:"
      ],
      "metadata": {
        "id": "I1UBeFB6eoSz"
      }
    },
    {
      "cell_type": "code",
      "execution_count": 1,
      "metadata": {
        "colab": {
          "base_uri": "https://localhost:8080/"
        },
        "id": "2MEro9B0OGUR",
        "outputId": "ca94fe58-a688-4f77-abcc-1c51fe8c751c"
      },
      "outputs": [
        {
          "output_type": "stream",
          "name": "stdout",
          "text": [
            "Hello world\n"
          ]
        }
      ],
      "source": [
        "print(\"Hello world\")"
      ]
    },
    {
      "cell_type": "markdown",
      "source": [
        "### Sintaxe do objeto do tipo string:"
      ],
      "metadata": {
        "id": "scvrPWLWenhX"
      }
    },
    {
      "cell_type": "code",
      "source": [
        "# sequência de caracteres entre aspas duplas ou simples\n",
        "\"abacaxi\""
      ],
      "metadata": {
        "colab": {
          "base_uri": "https://localhost:8080/",
          "height": 36
        },
        "id": "fYOp3k1dUDvA",
        "outputId": "4ea7f577-b9ae-48d7-a9d0-043c0332b542"
      },
      "execution_count": 2,
      "outputs": [
        {
          "output_type": "execute_result",
          "data": {
            "text/plain": [
              "'abacaxi'"
            ],
            "application/vnd.google.colaboratory.intrinsic+json": {
              "type": "string"
            }
          },
          "metadata": {},
          "execution_count": 2
        }
      ]
    },
    {
      "cell_type": "code",
      "source": [
        "# \\n significa quebra de linha\n",
        "# \\t significa tabulação\n",
        "\"Hello,\\n\\tworld!\""
      ],
      "metadata": {
        "colab": {
          "base_uri": "https://localhost:8080/",
          "height": 36
        },
        "id": "dRJHbNnYUGyH",
        "outputId": "25c7d04c-1b4a-4cd6-ec56-3d132e5fd4f9"
      },
      "execution_count": 3,
      "outputs": [
        {
          "output_type": "execute_result",
          "data": {
            "text/plain": [
              "'Hello,\\n\\tworld!'"
            ],
            "application/vnd.google.colaboratory.intrinsic+json": {
              "type": "string"
            }
          },
          "metadata": {},
          "execution_count": 3
        }
      ]
    },
    {
      "cell_type": "code",
      "source": [
        "# para usar aspa simples numa string delimitada por aspas simples\n",
        "# utilize \\'\n",
        "'\\'Hello, world!\"'"
      ],
      "metadata": {
        "colab": {
          "base_uri": "https://localhost:8080/",
          "height": 36
        },
        "id": "gA-2ErbGUJrI",
        "outputId": "b3297406-2071-487b-b846-ac2fc527b6de"
      },
      "execution_count": 4,
      "outputs": [
        {
          "output_type": "execute_result",
          "data": {
            "text/plain": [
              "'\\'Hello, world!\"'"
            ],
            "application/vnd.google.colaboratory.intrinsic+json": {
              "type": "string"
            }
          },
          "metadata": {},
          "execution_count": 4
        }
      ]
    },
    {
      "cell_type": "markdown",
      "source": [
        "### Built-in function"
      ],
      "metadata": {
        "id": "a0FKdlL1pcI3"
      }
    },
    {
      "cell_type": "code",
      "source": [
        "print(\"Hello,\\n\\tworld!\")"
      ],
      "metadata": {
        "colab": {
          "base_uri": "https://localhost:8080/"
        },
        "id": "UX1HeO0zpoec",
        "outputId": "3e9c64f1-ce4f-4990-c555-d1a4ffe3fc6b"
      },
      "execution_count": 5,
      "outputs": [
        {
          "output_type": "stream",
          "name": "stdout",
          "text": [
            "Hello,\n",
            "\tworld!\n"
          ]
        }
      ]
    },
    {
      "cell_type": "markdown",
      "source": [
        "### String é iterável?"
      ],
      "metadata": {
        "id": "L1psYQxOexKR"
      }
    },
    {
      "cell_type": "code",
      "source": [
        "# True: sim, False: nao\n",
        "from collections.abc import Iterable\n",
        "isinstance(\"abacaxi\", Iterable)"
      ],
      "metadata": {
        "colab": {
          "base_uri": "https://localhost:8080/"
        },
        "id": "xVhFII9tUcx7",
        "outputId": "fd2f0165-d919-4b0d-a244-f60364cad056"
      },
      "execution_count": 6,
      "outputs": [
        {
          "output_type": "execute_result",
          "data": {
            "text/plain": [
              "True"
            ]
          },
          "metadata": {},
          "execution_count": 6
        }
      ]
    },
    {
      "cell_type": "markdown",
      "source": [
        "### Fatiando um string"
      ],
      "metadata": {
        "id": "Ja_YlE9KfQUB"
      }
    },
    {
      "cell_type": "code",
      "source": [
        "# guardando a string num variável identificada por jedi\n",
        "# será útil para acessar esta string em futuras manipulações\n",
        "jedi = \"Skywalker\""
      ],
      "metadata": {
        "id": "lkk8jKuDVSuL"
      },
      "execution_count": 7,
      "outputs": []
    },
    {
      "cell_type": "code",
      "source": [
        "# a primeira letra\n",
        "jedi[0]"
      ],
      "metadata": {
        "colab": {
          "base_uri": "https://localhost:8080/",
          "height": 36
        },
        "id": "q9z0xUrKYjra",
        "outputId": "0a72f7e6-7449-489d-bec0-969c7d6344ea"
      },
      "execution_count": 8,
      "outputs": [
        {
          "output_type": "execute_result",
          "data": {
            "text/plain": [
              "'S'"
            ],
            "application/vnd.google.colaboratory.intrinsic+json": {
              "type": "string"
            }
          },
          "metadata": {},
          "execution_count": 8
        }
      ]
    },
    {
      "cell_type": "code",
      "source": [
        "# a segunda letra\n",
        "jedi[1]"
      ],
      "metadata": {
        "colab": {
          "base_uri": "https://localhost:8080/",
          "height": 36
        },
        "id": "cXxB3hDyYyqL",
        "outputId": "4639bd5d-1b9b-413b-ee02-6a6a108665d9"
      },
      "execution_count": 9,
      "outputs": [
        {
          "output_type": "execute_result",
          "data": {
            "text/plain": [
              "'k'"
            ],
            "application/vnd.google.colaboratory.intrinsic+json": {
              "type": "string"
            }
          },
          "metadata": {},
          "execution_count": 9
        }
      ]
    },
    {
      "cell_type": "code",
      "source": [
        "# a última letra\n",
        "jedi[-1]"
      ],
      "metadata": {
        "colab": {
          "base_uri": "https://localhost:8080/",
          "height": 36
        },
        "id": "urJHetktY2vy",
        "outputId": "97799773-2d73-4bc6-d7c0-e7d615d31413"
      },
      "execution_count": 10,
      "outputs": [
        {
          "output_type": "execute_result",
          "data": {
            "text/plain": [
              "'r'"
            ],
            "application/vnd.google.colaboratory.intrinsic+json": {
              "type": "string"
            }
          },
          "metadata": {},
          "execution_count": 10
        }
      ]
    },
    {
      "cell_type": "code",
      "source": [
        "# a penúltima letra\n",
        "jedi[-2]"
      ],
      "metadata": {
        "colab": {
          "base_uri": "https://localhost:8080/",
          "height": 36
        },
        "id": "s3cI1kDdY4_K",
        "outputId": "09ded48c-142f-47ad-a28e-08835e8daf95"
      },
      "execution_count": 11,
      "outputs": [
        {
          "output_type": "execute_result",
          "data": {
            "text/plain": [
              "'e'"
            ],
            "application/vnd.google.colaboratory.intrinsic+json": {
              "type": "string"
            }
          },
          "metadata": {},
          "execution_count": 11
        }
      ]
    },
    {
      "cell_type": "code",
      "source": [
        "# da primeira letra até a terceira\n",
        "jedi[:3]"
      ],
      "metadata": {
        "colab": {
          "base_uri": "https://localhost:8080/",
          "height": 36
        },
        "id": "KRLFVA6ZY9Ax",
        "outputId": "6675d10c-d13e-4786-c256-ffa92e0854c5"
      },
      "execution_count": 12,
      "outputs": [
        {
          "output_type": "execute_result",
          "data": {
            "text/plain": [
              "'Sky'"
            ],
            "application/vnd.google.colaboratory.intrinsic+json": {
              "type": "string"
            }
          },
          "metadata": {},
          "execution_count": 12
        }
      ]
    },
    {
      "cell_type": "code",
      "source": [
        "# da primeira letra até a penúltima\n",
        "jedi[:-2]"
      ],
      "metadata": {
        "colab": {
          "base_uri": "https://localhost:8080/",
          "height": 36
        },
        "id": "Ti8JffYJZuCT",
        "outputId": "fc2f066a-2154-4b33-e8a0-6cb5537e6588"
      },
      "execution_count": 13,
      "outputs": [
        {
          "output_type": "execute_result",
          "data": {
            "text/plain": [
              "'Skywalk'"
            ],
            "application/vnd.google.colaboratory.intrinsic+json": {
              "type": "string"
            }
          },
          "metadata": {},
          "execution_count": 13
        }
      ]
    },
    {
      "cell_type": "code",
      "source": [
        "# da quarta letra até a última\n",
        "jedi[3:]"
      ],
      "metadata": {
        "colab": {
          "base_uri": "https://localhost:8080/",
          "height": 36
        },
        "id": "QU5ZHYmPZyta",
        "outputId": "5d91e90d-7cd4-4687-9494-f8d440f88b42"
      },
      "execution_count": 14,
      "outputs": [
        {
          "output_type": "execute_result",
          "data": {
            "text/plain": [
              "'walker'"
            ],
            "application/vnd.google.colaboratory.intrinsic+json": {
              "type": "string"
            }
          },
          "metadata": {},
          "execution_count": 14
        }
      ]
    },
    {
      "cell_type": "code",
      "source": [
        "# da quarta letra até a antepenúltima\n",
        "jedi[3:-2]"
      ],
      "metadata": {
        "colab": {
          "base_uri": "https://localhost:8080/",
          "height": 36
        },
        "id": "HN2vhqthZ4CR",
        "outputId": "de64a903-072b-459d-f2a4-e5f03f17b9c6"
      },
      "execution_count": 15,
      "outputs": [
        {
          "output_type": "execute_result",
          "data": {
            "text/plain": [
              "'walk'"
            ],
            "application/vnd.google.colaboratory.intrinsic+json": {
              "type": "string"
            }
          },
          "metadata": {},
          "execution_count": 15
        }
      ]
    },
    {
      "cell_type": "code",
      "source": [
        "# da segunda até a penúltima de 2 em 2\n",
        "jedi[1:-1:2]"
      ],
      "metadata": {
        "colab": {
          "base_uri": "https://localhost:8080/",
          "height": 36
        },
        "id": "OVRNPcIMZ4OJ",
        "outputId": "3df687f1-2f58-422d-f9df-20bc5b49d442"
      },
      "execution_count": 16,
      "outputs": [
        {
          "output_type": "execute_result",
          "data": {
            "text/plain": [
              "'kwle'"
            ],
            "application/vnd.google.colaboratory.intrinsic+json": {
              "type": "string"
            }
          },
          "metadata": {},
          "execution_count": 16
        }
      ]
    },
    {
      "cell_type": "code",
      "source": [
        "# da penúltima até a segunda de 2 em 2\n",
        "jedi[-2:0:-2]"
      ],
      "metadata": {
        "colab": {
          "base_uri": "https://localhost:8080/",
          "height": 36
        },
        "id": "njRQIo-1Z4RA",
        "outputId": "64817646-a604-4908-9190-b99f0f26fe29"
      },
      "execution_count": 17,
      "outputs": [
        {
          "output_type": "execute_result",
          "data": {
            "text/plain": [
              "'elwk'"
            ],
            "application/vnd.google.colaboratory.intrinsic+json": {
              "type": "string"
            }
          },
          "metadata": {},
          "execution_count": 17
        }
      ]
    },
    {
      "cell_type": "code",
      "source": [
        "# do começo até a penúltima de 2 em 2\n",
        "jedi[:-1:2]"
      ],
      "metadata": {
        "colab": {
          "base_uri": "https://localhost:8080/",
          "height": 36
        },
        "id": "D7cpIAqtZ4To",
        "outputId": "9c4d09b3-279a-4644-a06a-e5717ce71782"
      },
      "execution_count": 18,
      "outputs": [
        {
          "output_type": "execute_result",
          "data": {
            "text/plain": [
              "'Syak'"
            ],
            "application/vnd.google.colaboratory.intrinsic+json": {
              "type": "string"
            }
          },
          "metadata": {},
          "execution_count": 18
        }
      ]
    },
    {
      "cell_type": "code",
      "source": [
        "# do começo até a última de 3 em 3\n",
        "jedi[::3]"
      ],
      "metadata": {
        "colab": {
          "base_uri": "https://localhost:8080/",
          "height": 36
        },
        "id": "dEJmQN7hanfi",
        "outputId": "209221ca-d418-437d-e692-bfad2a9699d1"
      },
      "execution_count": 19,
      "outputs": [
        {
          "output_type": "execute_result",
          "data": {
            "text/plain": [
              "'Swk'"
            ],
            "application/vnd.google.colaboratory.intrinsic+json": {
              "type": "string"
            }
          },
          "metadata": {},
          "execution_count": 19
        }
      ]
    },
    {
      "cell_type": "code",
      "source": [
        "# da última até o começo de 1 em 1\n",
        "# invertendo a string (em outras palavras)\n",
        "jedi[::-1]"
      ],
      "metadata": {
        "colab": {
          "base_uri": "https://localhost:8080/",
          "height": 36
        },
        "id": "vrZdVDvSayJb",
        "outputId": "0063cd75-cd89-4acb-887a-6c6f1f243774"
      },
      "execution_count": 20,
      "outputs": [
        {
          "output_type": "execute_result",
          "data": {
            "text/plain": [
              "'reklawykS'"
            ],
            "application/vnd.google.colaboratory.intrinsic+json": {
              "type": "string"
            }
          },
          "metadata": {},
          "execution_count": 20
        }
      ]
    },
    {
      "cell_type": "markdown",
      "source": [
        "### Uma string é mutável?"
      ],
      "metadata": {
        "id": "Vrq6kd30fsZ4"
      }
    },
    {
      "cell_type": "code",
      "source": [
        "# True: sim, False: nao\n",
        "from collections.abc import (\n",
        "    MutableMapping, MutableSequence, MutableSet\n",
        ")\n",
        "isinstance(\"abacaxi\", ( \n",
        "    MutableMapping, MutableSequence, MutableSet\n",
        "))"
      ],
      "metadata": {
        "colab": {
          "base_uri": "https://localhost:8080/"
        },
        "id": "mMEiyzSyXOFb",
        "outputId": "67b38cab-3a1c-4226-f6f9-fb5dadd5c363"
      },
      "execution_count": 21,
      "outputs": [
        {
          "output_type": "execute_result",
          "data": {
            "text/plain": [
              "False"
            ]
          },
          "metadata": {},
          "execution_count": 21
        }
      ]
    },
    {
      "cell_type": "markdown",
      "source": [
        "### Métodos de uma string"
      ],
      "metadata": {
        "id": "s_VJYujpf6cJ"
      }
    },
    {
      "cell_type": "code",
      "source": [
        "# metodos de uma string\n",
        "[m for m in dir(\"abacaxi\") if m[0] != \"_\"]"
      ],
      "metadata": {
        "colab": {
          "base_uri": "https://localhost:8080/"
        },
        "id": "GoqcQAbUZMgJ",
        "outputId": "3cc3034c-75b3-4ed0-f267-b47645616d05"
      },
      "execution_count": 22,
      "outputs": [
        {
          "output_type": "execute_result",
          "data": {
            "text/plain": [
              "['capitalize',\n",
              " 'casefold',\n",
              " 'center',\n",
              " 'count',\n",
              " 'encode',\n",
              " 'endswith',\n",
              " 'expandtabs',\n",
              " 'find',\n",
              " 'format',\n",
              " 'format_map',\n",
              " 'index',\n",
              " 'isalnum',\n",
              " 'isalpha',\n",
              " 'isascii',\n",
              " 'isdecimal',\n",
              " 'isdigit',\n",
              " 'isidentifier',\n",
              " 'islower',\n",
              " 'isnumeric',\n",
              " 'isprintable',\n",
              " 'isspace',\n",
              " 'istitle',\n",
              " 'isupper',\n",
              " 'join',\n",
              " 'ljust',\n",
              " 'lower',\n",
              " 'lstrip',\n",
              " 'maketrans',\n",
              " 'partition',\n",
              " 'removeprefix',\n",
              " 'removesuffix',\n",
              " 'replace',\n",
              " 'rfind',\n",
              " 'rindex',\n",
              " 'rjust',\n",
              " 'rpartition',\n",
              " 'rsplit',\n",
              " 'rstrip',\n",
              " 'split',\n",
              " 'splitlines',\n",
              " 'startswith',\n",
              " 'strip',\n",
              " 'swapcase',\n",
              " 'title',\n",
              " 'translate',\n",
              " 'upper',\n",
              " 'zfill']"
            ]
          },
          "metadata": {},
          "execution_count": 22
        }
      ]
    },
    {
      "cell_type": "code",
      "source": [
        "# capitalizando uma string\n",
        "# exemplo de metodo sem parametros\n",
        "\"abacaxi\".upper()"
      ],
      "metadata": {
        "colab": {
          "base_uri": "https://localhost:8080/",
          "height": 36
        },
        "id": "Pkji0APzbOaA",
        "outputId": "c2690013-d255-46cc-9ac1-ef9b2078d859"
      },
      "execution_count": 23,
      "outputs": [
        {
          "output_type": "execute_result",
          "data": {
            "text/plain": [
              "'ABACAXI'"
            ],
            "application/vnd.google.colaboratory.intrinsic+json": {
              "type": "string"
            }
          },
          "metadata": {},
          "execution_count": 23
        }
      ]
    },
    {
      "cell_type": "code",
      "source": [
        "# trocando \"xi\" por \"te\" numa string\n",
        "# exemplo de metodo com parametros\n",
        "\"abacaxi\".replace(\"xi\",\"te\")"
      ],
      "metadata": {
        "colab": {
          "base_uri": "https://localhost:8080/",
          "height": 36
        },
        "id": "9b7NA_Bxcnyo",
        "outputId": "0d3d2ed5-2090-43d0-a784-69071cc80398"
      },
      "execution_count": 24,
      "outputs": [
        {
          "output_type": "execute_result",
          "data": {
            "text/plain": [
              "'abacate'"
            ],
            "application/vnd.google.colaboratory.intrinsic+json": {
              "type": "string"
            }
          },
          "metadata": {},
          "execution_count": 24
        }
      ]
    },
    {
      "cell_type": "markdown",
      "source": [
        "### Operações com strings"
      ],
      "metadata": {
        "id": "Sl7noWEPgGbf"
      }
    },
    {
      "cell_type": "code",
      "source": [
        "# operador aritmetico '+'\n",
        "# concatena strings\n",
        "\"Hello,\" + \" world!\" "
      ],
      "metadata": {
        "colab": {
          "base_uri": "https://localhost:8080/",
          "height": 36
        },
        "id": "cIDwNCxzdLJu",
        "outputId": "fa182737-625f-4347-a0d0-228dad1ffe6c"
      },
      "execution_count": 25,
      "outputs": [
        {
          "output_type": "execute_result",
          "data": {
            "text/plain": [
              "'Hello, world!'"
            ],
            "application/vnd.google.colaboratory.intrinsic+json": {
              "type": "string"
            }
          },
          "metadata": {},
          "execution_count": 25
        }
      ]
    },
    {
      "cell_type": "code",
      "source": [
        "# hello vem apos world na ordem alfabetica?\n",
        "# True: sim, False:\n",
        "\"hello\" > \"world\""
      ],
      "metadata": {
        "colab": {
          "base_uri": "https://localhost:8080/"
        },
        "id": "xQqck2B8ePpf",
        "outputId": "082b4e6a-8aee-40ba-fced-20ea3d5ea8bf"
      },
      "execution_count": 26,
      "outputs": [
        {
          "output_type": "execute_result",
          "data": {
            "text/plain": [
              "False"
            ]
          },
          "metadata": {},
          "execution_count": 26
        }
      ]
    },
    {
      "cell_type": "code",
      "source": [],
      "metadata": {
        "id": "wufQzHPCeTc_"
      },
      "execution_count": 26,
      "outputs": []
    }
  ]
}