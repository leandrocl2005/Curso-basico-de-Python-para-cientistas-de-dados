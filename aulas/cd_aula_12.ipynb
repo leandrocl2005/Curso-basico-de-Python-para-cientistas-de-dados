{
 "cells": [
  {
   "cell_type": "markdown",
   "metadata": {},
   "source": [
    "# Atividade avaliativa 2"
   ]
  },
  {
   "cell_type": "markdown",
   "metadata": {},
   "source": [
    "## Problema de regressão supervisionada."
   ]
  },
  {
   "cell_type": "markdown",
   "metadata": {},
   "source": [
    "https://www.kaggle.com/competitions/playground-series-s3e11"
   ]
  },
  {
   "cell_type": "markdown",
   "metadata": {},
   "source": [
    "Para calcular sua nota, considere o Public Score:\n",
    "- 00-04 será proporcional à 1-0.32\n",
    "- 04-07 será proporcional à 0.32-0.31\n",
    "- 07-10 será proporcional à 0.31-0.30"
   ]
  },
  {
   "cell_type": "markdown",
   "metadata": {},
   "source": [
    "### Dicas"
   ]
  },
  {
   "cell_type": "markdown",
   "metadata": {},
   "source": [
    "- Começe por um baseline constante, submetendo a mediana para todos os casos testes, por exemplo;\n",
    "- Faça uma limpeza simples dos dados, por exemplo, removendo as variáveis categóricas e treine um modelo, por exemplo o Random Forest;\n",
    "- Faça uma limpeza mais profunda, codifique as categóricas e resolva o problema da simetria das numéricas, aplique também log na variável de interesse;\n",
    "- Busque os melhores modelos;\n",
    "- Faça um stack dos melhores modelos;"
   ]
  },
  {
   "cell_type": "code",
   "execution_count": null,
   "metadata": {},
   "outputs": [],
   "source": []
  }
 ],
 "metadata": {
  "kernelspec": {
   "display_name": "Python 3 (ipykernel)",
   "language": "python",
   "name": "python3"
  },
  "language_info": {
   "codemirror_mode": {
    "name": "ipython",
    "version": 3
   },
   "file_extension": ".py",
   "mimetype": "text/x-python",
   "name": "python",
   "nbconvert_exporter": "python",
   "pygments_lexer": "ipython3",
   "version": "3.8.6"
  }
 },
 "nbformat": 4,
 "nbformat_minor": 4
}
