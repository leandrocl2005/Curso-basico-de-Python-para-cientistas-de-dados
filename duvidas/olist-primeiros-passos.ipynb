{
 "cells": [
  {
   "cell_type": "code",
   "execution_count": 23,
   "id": "78a392e7",
   "metadata": {},
   "outputs": [],
   "source": [
    "## Import Liberaries\n",
    "import pandas as pd\n",
    "import sqlite3\n",
    "import matplotlib.pyplot as plt\n",
    "import seaborn as sns"
   ]
  },
  {
   "cell_type": "code",
   "execution_count": 3,
   "id": "dc730a61",
   "metadata": {},
   "outputs": [],
   "source": [
    "## Read data\n",
    "df_olist_customers = pd.read_csv('../datasets/olist/olist_customers_dataset.csv')\n",
    "df_olist_sellers = pd.read_csv('../datasets/olist/olist_sellers_dataset.csv')\n",
    "df_olist_order_reviews= pd.read_csv('../datasets/olist/olist_order_reviews_dataset.csv')\n",
    "df_olist_order_items= pd.read_csv('../datasets/olist/olist_order_items_dataset.csv')\n",
    "df_olist_products= pd.read_csv('../datasets/olist/olist_products_dataset.csv')\n",
    "df_olist_geolocation= pd.read_csv('../datasets/olist/olist_geolocation_dataset.csv')\n",
    "df_product_category_name_translation= pd.read_csv('../datasets/olist/product_category_name_translation.csv')\n",
    "df_olist_orders = pd.read_csv('../datasets/olist/olist_orders_dataset.csv')\n",
    "df_olist_order_payments= pd.read_csv('../datasets/olist/olist_order_payments_dataset.csv')"
   ]
  },
  {
   "cell_type": "code",
   "execution_count": 4,
   "id": "30724b25",
   "metadata": {},
   "outputs": [],
   "source": [
    "## Create a connection\n",
    "conn = sqlite3.connect(\"../datasets/olist/database.db\")"
   ]
  },
  {
   "cell_type": "code",
   "execution_count": 5,
   "id": "f22488a9",
   "metadata": {},
   "outputs": [
    {
     "data": {
      "text/plain": [
       "103886"
      ]
     },
     "execution_count": 5,
     "metadata": {},
     "output_type": "execute_result"
    }
   ],
   "source": [
    "## Populate the database with dataframes\n",
    "df_olist_customers.to_sql(\"olist_customers\", con=conn)\n",
    "df_olist_sellers.to_sql(\"olist_sellers\", con=conn)\n",
    "df_olist_order_reviews.to_sql(\"olist_order_reviews\", con=conn)\n",
    "df_olist_order_items.to_sql(\"olist_order_items\", con=conn)\n",
    "df_olist_products.to_sql(\"olist_products_dataset\", con=conn)\n",
    "df_olist_geolocation.to_sql(\"olist_geolocation\", con=conn)\n",
    "df_product_category_name_translation.to_sql(\"product_category_name_translation\", con=conn)\n",
    "df_olist_orders.to_sql(\"olist_orders\", con=conn)\n",
    "df_olist_order_payments.to_sql(\"olist_order_payments\", con=conn)"
   ]
  },
  {
   "cell_type": "code",
   "execution_count": 24,
   "id": "8c580830",
   "metadata": {},
   "outputs": [
    {
     "data": {
      "text/plain": [
       "SP    40501\n",
       "RJ    12350\n",
       "MG    11354\n",
       "RS     5345\n",
       "PR     4923\n",
       "Name: customer_state, dtype: int64"
      ]
     },
     "execution_count": 24,
     "metadata": {},
     "output_type": "execute_result"
    }
   ],
   "source": [
    "# What are the top five states by delivered orders?\n",
    "sql='''\n",
    "    SELECT o.customer_id, c.customer_state, o.order_approved_at\n",
    "    FROM olist_orders as o\n",
    "    INNER JOIN olist_customers as c\n",
    "        ON c.customer_id = o.customer_id\n",
    "    WHERE o.order_status = 'delivered'\n",
    "''';\n",
    "\n",
    "df_sql = pd.read_sql_query(sql,con=conn)\n",
    "df_sql['customer_state'].value_counts()[:5]"
   ]
  },
  {
   "cell_type": "code",
   "execution_count": null,
   "id": "8cc8bee9",
   "metadata": {},
   "outputs": [],
   "source": []
  }
 ],
 "metadata": {
  "kernelspec": {
   "display_name": "Python 3 (ipykernel)",
   "language": "python",
   "name": "python3"
  },
  "language_info": {
   "codemirror_mode": {
    "name": "ipython",
    "version": 3
   },
   "file_extension": ".py",
   "mimetype": "text/x-python",
   "name": "python",
   "nbconvert_exporter": "python",
   "pygments_lexer": "ipython3",
   "version": "3.11.0"
  }
 },
 "nbformat": 4,
 "nbformat_minor": 5
}
