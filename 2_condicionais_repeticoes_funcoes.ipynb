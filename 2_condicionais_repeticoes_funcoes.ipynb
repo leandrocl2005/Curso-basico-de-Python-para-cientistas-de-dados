{
 "cells": [
  {
   "cell_type": "markdown",
   "metadata": {},
   "source": [
    "<h1>Python: Condicionais, repetições e funções</h1>"
   ]
  },
  {
   "cell_type": "markdown",
   "metadata": {},
   "source": [
    "<h3>Sumário</h3>\n",
    "<ol>\n",
    "    <li><a href='#cap1'>Built-in function input</a></li>\n",
    "    <li><a href='#cap2'>Condicionais</a></li>\n",
    "    <li><a href='#cap3'>Repetição: For </a></li>\n",
    "    <li><a href='#cap4'>Repetição: While</a></li>\n",
    "    <li><a href='#cap5'>Funções</a></li>\n",
    "    <li><a href='#cap6'>Função Fatorial</a></li>\n",
    "    <li><a href='#cap7'>Documentação de funções</a></li>\n",
    "    <li><a href='#cap8'>Escopo</a></li>\n",
    "    <li><a href='#cap9'>File I/O</a></li>\n",
    "</ol>"
   ]
  },
  {
   "cell_type": "markdown",
   "metadata": {},
   "source": [
    "<h2> 1 - Built-in function input</h2>"
   ]
  },
  {
   "cell_type": "markdown",
   "metadata": {},
   "source": [
    "Antes de estudar condicionais, veremos alguns exemplos de built-in functions. Como primeiro exemplo apresentaremos a built-in function <b>input</b>."
   ]
  },
  {
   "cell_type": "code",
   "execution_count": 1,
   "metadata": {},
   "outputs": [
    {
     "name": "stdout",
     "output_type": "stream",
     "text": [
      "Hello\n"
     ]
    }
   ],
   "source": [
    "user_input = input()"
   ]
  },
  {
   "cell_type": "markdown",
   "metadata": {},
   "source": [
    "A função input recebe uma entrada do usuário. No exemplo acima, o usuário passou como entrada a string \"Hello!\". Podemos verificar o tipo de objeto armazenado na variável identificada por user_input. Para isso basta executar o seguinte comando:"
   ]
  },
  {
   "cell_type": "code",
   "execution_count": 2,
   "metadata": {},
   "outputs": [
    {
     "data": {
      "text/plain": [
       "str"
      ]
     },
     "execution_count": 2,
     "metadata": {},
     "output_type": "execute_result"
    }
   ],
   "source": [
    "type(user_input)"
   ]
  },
  {
   "cell_type": "markdown",
   "metadata": {},
   "source": [
    "Tentaremos agora passar um inteiro como entrada."
   ]
  },
  {
   "cell_type": "code",
   "execution_count": 3,
   "metadata": {},
   "outputs": [
    {
     "name": "stdout",
     "output_type": "stream",
     "text": [
      "3\n"
     ]
    }
   ],
   "source": [
    "user_input = input()"
   ]
  },
  {
   "cell_type": "code",
   "execution_count": 4,
   "metadata": {},
   "outputs": [
    {
     "data": {
      "text/plain": [
       "str"
      ]
     },
     "execution_count": 4,
     "metadata": {},
     "output_type": "execute_result"
    }
   ],
   "source": [
    "type(user_input)"
   ]
  },
  {
   "cell_type": "markdown",
   "metadata": {},
   "source": [
    "Observe que novamente a entrada passada pelo usuário, através da built-in function input, foi interpretada como um objeto do tipo string. Logo, para manusear entradas de usuários, faz-se necessário converter os objetos de forma adequada em relação ao problema. Conversão de objetos foi tratada na Seção 11 do Tutorial anterior."
   ]
  },
  {
   "cell_type": "markdown",
   "metadata": {},
   "source": [
    "É possivel passar um parâmetro do tipo string para a função input e assim se comunicar com o usuário para orientá-lo sobre a entrada."
   ]
  },
  {
   "cell_type": "code",
   "execution_count": 5,
   "metadata": {},
   "outputs": [
    {
     "name": "stdout",
     "output_type": "stream",
     "text": [
      "Qual sua idade?\n",
      "\n",
      "32\n"
     ]
    }
   ],
   "source": [
    "user_input = input('Qual sua idade?\\n\\n')"
   ]
  },
  {
   "cell_type": "markdown",
   "metadata": {},
   "source": [
    "No exemplo acima, passamos como entrada a string $\\text{Qual sua idade?}$."
   ]
  },
  {
   "cell_type": "markdown",
   "metadata": {},
   "source": [
    "<h2>2 - Condicionais</h2>"
   ]
  },
  {
   "cell_type": "markdown",
   "metadata": {},
   "source": [
    "Condicionais servem para controlar o fluxo do programa. Em outras palavras, partes do código só serão executadas se determinada condição, de valor booleano, for verdadeira. Vejamos um exemplo"
   ]
  },
  {
   "cell_type": "code",
   "execution_count": 1,
   "metadata": {},
   "outputs": [
    {
     "name": "stdout",
     "output_type": "stream",
     "text": [
      "Hello!\n"
     ]
    }
   ],
   "source": [
    "expression = True\n",
    "if expression:\n",
    "    print('Hello!')"
   ]
  },
  {
   "cell_type": "markdown",
   "metadata": {},
   "source": [
    "No exemplo acima, na linha 2, dizemos que se a variável identificada por expression for verdadeira, então o código deverá executar a linha 3. Observe que após a expressão booleana na linha dois, é necessário colocar dois pontos. Também observe que a linha 3 deve estar identada com 4 espaços. Se a expressão for verdadeira, tudo que estiver identado 4 espaços será executado. Vejamos outro exemplo"
   ]
  },
  {
   "cell_type": "code",
   "execution_count": 7,
   "metadata": {},
   "outputs": [
    {
     "name": "stdout",
     "output_type": "stream",
     "text": [
      "Expressão 1 é verdadeira\n",
      "Essa string será impressa\n",
      "Como essa string não está identada, ela será impressa\n"
     ]
    }
   ],
   "source": [
    "expression1 = True\n",
    "expression2 = False\n",
    "\n",
    "if expression1:\n",
    "    print('Expressão 1 é verdadeira')\n",
    "    print('Essa string será impressa')\n",
    "if expression2:\n",
    "    print('Essa string não será impressa')\n",
    "    print('Essa string também não será impressa')\n",
    "print('Como essa string não está identada, ela será impressa')"
   ]
  },
  {
   "cell_type": "markdown",
   "metadata": {},
   "source": [
    "Observe no exemplo acima que para a linha 4, a variável expression1 assume o valor verdadeiro e, portanto, após os dois pontos, todas as linhas identadas com 4 espaços serão executas (neste caso a linha 5 e a linha 6)."
   ]
  },
  {
   "cell_type": "markdown",
   "metadata": {},
   "source": [
    "Observe ainda no exemplo acima, na linha 7, a variável expression2 é assume o valor falso e, portanto, após os dois pontos, todas as linhas identadas com 4 espaços <b>NÃO</b> serão executadas (linhas 8 e 9). A linha 10 apesar de estar após os dois pontos da linha 7, ela não está identada e, portanto, não passa pela condição declarada na linha 7. Logo a linha 10 também será executada."
   ]
  },
  {
   "cell_type": "markdown",
   "metadata": {},
   "source": [
    "Quando tiver mais de uma condição é comum usar elif no lugar de um segundo if."
   ]
  },
  {
   "cell_type": "code",
   "execution_count": 8,
   "metadata": {},
   "outputs": [
    {
     "name": "stdout",
     "output_type": "stream",
     "text": [
      "Expressão 1 é verdadeira\n",
      "Essa string será impressa\n",
      "Como essa linha não está identada, essa string será impressa\n"
     ]
    }
   ],
   "source": [
    "expression1 = True\n",
    "expression2 = False\n",
    "\n",
    "if expression1:\n",
    "    print('Expressão 1 é verdadeira')\n",
    "    print('Essa string será impressa')\n",
    "elif expression2:\n",
    "    print('Essa string não será impressa')\n",
    "    print('Essa string também não será impressa')\n",
    "print('Como essa linha não está identada, essa string será impressa')"
   ]
  },
  {
   "cell_type": "markdown",
   "metadata": {},
   "source": [
    "Caso nenhuma expressão for verdadeira, quando acompanhada de if ou elif, e você desejar executar algum comando nessa situação, usa-se else."
   ]
  },
  {
   "cell_type": "code",
   "execution_count": 9,
   "metadata": {},
   "outputs": [
    {
     "name": "stdout",
     "output_type": "stream",
     "text": [
      "Como todas as condições acima foram falsas, apenas esta string será impressa!\n"
     ]
    }
   ],
   "source": [
    "expression1 = False\n",
    "expression2 = False\n",
    "\n",
    "if expression1:\n",
    "    print('Esta string não será impressa, pois expression1 é falsa')\n",
    "elif expression2:\n",
    "    print('Esta string não será impressa, pois expression2 é falsa')\n",
    "elif expression1 and expression2:\n",
    "    print('Lembra de operações com variáveis booleanas?')\n",
    "    print('Esta string não será impressa, pois falso e falso, ainda tem valor falso')\n",
    "else:\n",
    "    print('Como todas as condições acima foram falsas, apenas esta string será impressa!')"
   ]
  },
  {
   "cell_type": "markdown",
   "metadata": {},
   "source": [
    "<h3>2.1 - Praticando</h3>"
   ]
  },
  {
   "cell_type": "markdown",
   "metadata": {},
   "source": [
    "Um excelente site para praticar seus conhecimentos em Python é o <a href='https://www.urionlinejudge.com.br'>Uri Online</a>. Durante os tutoriais daremos vários exemplos baseados nesse site."
   ]
  },
  {
   "cell_type": "markdown",
   "metadata": {},
   "source": [
    "Na seção de iniciantes, o problema 1044 pede para você verificar se dois números, passados por um usuário, são múltiplos ou não. O usuário entra com dois números inteiros, numa única linha e separados por um único espaço."
   ]
  },
  {
   "cell_type": "code",
   "execution_count": 2,
   "metadata": {},
   "outputs": [
    {
     "name": "stdout",
     "output_type": "stream",
     "text": [
      "8 6\n",
      "Nao sao Multiplos\n"
     ]
    }
   ],
   "source": [
    "# para receber a entrada do usuário\n",
    "entrada = input()\n",
    "# armazenando os números numa lista\n",
    "lista = entrada.split(' ') # split é um método que se aplica a um objeto do tipo string\n",
    "# convertendo cada número da lista acima em inteiros e \n",
    "num = [ int(lista[0]), int(lista[1]) ]\n",
    "\n",
    "# checando se são múltiplos\n",
    "expression1 = num[0] % num[1] == 0\n",
    "expression2 = num[1] % num[0] == 0\n",
    "\n",
    "if expression1: # verificando se o segundo inteiro divide o primeiro\n",
    "    print(\"Sao Multiplos\")\n",
    "elif expression2: # verificando se o primeiro inteiro divide o segundo\n",
    "    print(\"Sao Multiplos\") \n",
    "else: # caso nenhuma das verificações sejam verdadeiras\n",
    "    print(\"Nao sao Multiplos\")"
   ]
  },
  {
   "cell_type": "markdown",
   "metadata": {},
   "source": [
    "Tenha certeza de testar todos os casos testes antes de submeter sua solução! remova os comentários para não haver problemas de codificação. Esteja certo de ter selecionado a linguagem certa antes de submeter. "
   ]
  },
  {
   "cell_type": "markdown",
   "metadata": {},
   "source": [
    "<h2>3 - Repetição: FOR</h2>"
   ]
  },
  {
   "cell_type": "markdown",
   "metadata": {},
   "source": [
    "Algumas vezes, uma mesma sequência de comandos deve ser executada diversas vezes. Para fazer isso utilizamos estruturas de repetição. Observe o código:"
   ]
  },
  {
   "cell_type": "code",
   "execution_count": 11,
   "metadata": {},
   "outputs": [
    {
     "name": "stdout",
     "output_type": "stream",
     "text": [
      "x = 9\n"
     ]
    }
   ],
   "source": [
    "x = 1\n",
    "x = x + 2 # x agora é 3\n",
    "x = x + 2 # x agora é 5\n",
    "x = x + 2 # x agora é 7\n",
    "x = x + 2 # x agora é 9\n",
    "print('x =',x)"
   ]
  },
  {
   "cell_type": "markdown",
   "metadata": {},
   "source": [
    "Na primeira linha atribuímos o valor inteiro 1 à variável x. Nas quatro linhas seguintes, substituímos o valor da variável x por seu valor somado 2. A linha 6 imprime o valor da variável x."
   ]
  },
  {
   "cell_type": "markdown",
   "metadata": {},
   "source": [
    "Como as linha 2, 3, 4 e 5, são repetidas, podemos utilizar um estrutura de repetição. O <b>for</b> é a keyword utilizada para tal. Vejamos:"
   ]
  },
  {
   "cell_type": "code",
   "execution_count": 12,
   "metadata": {},
   "outputs": [
    {
     "name": "stdout",
     "output_type": "stream",
     "text": [
      "x = 9\n"
     ]
    }
   ],
   "source": [
    "x = 1\n",
    "for i in [0,1,2,3]:\n",
    "    x = x + 2\n",
    "print('x =',x)"
   ]
  },
  {
   "cell_type": "markdown",
   "metadata": {},
   "source": [
    "Na linha 2 do código acima, dizemos que quando a variável i assumir os valores 0, 1, 2 e 3, as linhas identadas após os dois pontos serão executadas. Logo, como i assume 4 valores, a linha 3 será executada 4 vezes. Adicionaremos outras duas linhas com mesma identação da linha 3 imprimindo as variáveis x e i."
   ]
  },
  {
   "cell_type": "code",
   "execution_count": 13,
   "metadata": {},
   "outputs": [
    {
     "name": "stdout",
     "output_type": "stream",
     "text": [
      "x = 1\n",
      "i = 0\n",
      "x = 3\n",
      "i = 1\n",
      "x = 5\n",
      "i = 2\n",
      "x = 7\n",
      "i = 3\n",
      "x = 9\n"
     ]
    }
   ],
   "source": [
    "x = 1\n",
    "for i in [0,1,2,3]:\n",
    "    print('x =', x)\n",
    "    print('i =',i)\n",
    "    x = x + 2\n",
    "print('x =',9)"
   ]
  },
  {
   "cell_type": "markdown",
   "metadata": {},
   "source": [
    "<h3>3.1 - RANGE</h3>"
   ]
  },
  {
   "cell_type": "markdown",
   "metadata": {},
   "source": [
    "Para i assumindo valores na linha [0, 1, 2, 3], executamos as linhas identadas em 4 espaços. Listas são objetos que ocupam muito lugar na memória. O comum é utilizar a função range. Vejamos alguns exemplos de uso da função:"
   ]
  },
  {
   "cell_type": "code",
   "execution_count": 14,
   "metadata": {},
   "outputs": [
    {
     "data": {
      "text/plain": [
       "range(0, 4)"
      ]
     },
     "execution_count": 14,
     "metadata": {},
     "output_type": "execute_result"
    }
   ],
   "source": [
    "# criando um de 0 a 4\n",
    "range(4)"
   ]
  },
  {
   "cell_type": "code",
   "execution_count": 15,
   "metadata": {},
   "outputs": [
    {
     "data": {
      "text/plain": [
       "range"
      ]
     },
     "execution_count": 15,
     "metadata": {},
     "output_type": "execute_result"
    }
   ],
   "source": [
    "# Qual o tipo desse objeto?\n",
    "type(range(4))"
   ]
  },
  {
   "cell_type": "code",
   "execution_count": 16,
   "metadata": {},
   "outputs": [
    {
     "data": {
      "text/plain": [
       "[0, 1, 2, 3]"
      ]
     },
     "execution_count": 16,
     "metadata": {},
     "output_type": "execute_result"
    }
   ],
   "source": [
    "# convertendo range em lista\n",
    "list(range(4))"
   ]
  },
  {
   "cell_type": "code",
   "execution_count": 17,
   "metadata": {},
   "outputs": [
    {
     "data": {
      "text/plain": [
       "[2, 3, 4, 5, 6]"
      ]
     },
     "execution_count": 17,
     "metadata": {},
     "output_type": "execute_result"
    }
   ],
   "source": [
    "# Iniciando range em números diferentes de zero\n",
    "list(range(2,7))"
   ]
  },
  {
   "cell_type": "markdown",
   "metadata": {},
   "source": [
    "Observe que o segundo parâmetro do range não faz parte da lista."
   ]
  },
  {
   "cell_type": "code",
   "execution_count": 18,
   "metadata": {},
   "outputs": [
    {
     "data": {
      "text/plain": [
       "[15, 16, 17, 18, 19, 20]"
      ]
     },
     "execution_count": 18,
     "metadata": {},
     "output_type": "execute_result"
    }
   ],
   "source": [
    "# outro exemplo\n",
    "list( range(15,21) )"
   ]
  },
  {
   "cell_type": "code",
   "execution_count": 19,
   "metadata": {},
   "outputs": [
    {
     "data": {
      "text/plain": [
       "[13, 15, 17, 19, 21, 23]"
      ]
     },
     "execution_count": 19,
     "metadata": {},
     "output_type": "execute_result"
    }
   ],
   "source": [
    "# de 2 em 2\n",
    "list( range(13,25,2) )"
   ]
  },
  {
   "cell_type": "code",
   "execution_count": 20,
   "metadata": {},
   "outputs": [
    {
     "data": {
      "text/plain": [
       "[13, 16, 19, 22]"
      ]
     },
     "execution_count": 20,
     "metadata": {},
     "output_type": "execute_result"
    }
   ],
   "source": [
    "# de 3 em 3\n",
    "list( range(13,25,3) )"
   ]
  },
  {
   "cell_type": "code",
   "execution_count": 21,
   "metadata": {},
   "outputs": [
    {
     "data": {
      "text/plain": [
       "[-5, -3, -1, 1, 3, 5, 7, 9]"
      ]
     },
     "execution_count": 21,
     "metadata": {},
     "output_type": "execute_result"
    }
   ],
   "source": [
    "# podemos utilizar números inteiros negativos\n",
    "list(range(-5,10,2))"
   ]
  },
  {
   "cell_type": "code",
   "execution_count": 22,
   "metadata": {},
   "outputs": [
    {
     "data": {
      "text/plain": [
       "[25, 23, 21, 19, 17]"
      ]
     },
     "execution_count": 22,
     "metadata": {},
     "output_type": "execute_result"
    }
   ],
   "source": [
    "# podemos percorrer um range do maior para o menor\n",
    "list(range(25,15,-2))"
   ]
  },
  {
   "cell_type": "code",
   "execution_count": 23,
   "metadata": {},
   "outputs": [
    {
     "name": "stdout",
     "output_type": "stream",
     "text": [
      "x = 9\n"
     ]
    }
   ],
   "source": [
    "# usando range e for\n",
    "x = 1\n",
    "for i in range(4):\n",
    "    x = x + 2\n",
    "print('x =',x)"
   ]
  },
  {
   "cell_type": "code",
   "execution_count": 24,
   "metadata": {},
   "outputs": [
    {
     "name": "stdout",
     "output_type": "stream",
     "text": [
      "x = 2000001\n"
     ]
    }
   ],
   "source": [
    "# usando range e for para muitas repetições\n",
    "x = 1\n",
    "for i in range(1000000):\n",
    "    x = x + 2\n",
    "print('x =',x)"
   ]
  },
  {
   "cell_type": "markdown",
   "metadata": {},
   "source": [
    "<h3>3.2 - Praticando</h3>"
   ]
  },
  {
   "cell_type": "markdown",
   "metadata": {},
   "source": [
    "Novamente utilizaremos um problema do Uri Oline para praticar o que aprendemos sobre repetições utilizando for."
   ]
  },
  {
   "cell_type": "markdown",
   "metadata": {},
   "source": [
    "O problema número 1067 da seção iniciante pede para imprimir os números ímpares de 1 até X, inclusive X (se for o caso), com X sendo um número inteiro de 1 a 1000 recebido como entrada de um usuário."
   ]
  },
  {
   "cell_type": "code",
   "execution_count": 3,
   "metadata": {},
   "outputs": [
    {
     "name": "stdout",
     "output_type": "stream",
     "text": [
      "8\n",
      "1\n",
      "3\n",
      "5\n",
      "7\n"
     ]
    }
   ],
   "source": [
    "# recebendo a entrada do usuário\n",
    "entrada = input() # lembre-se que sempre receberá uma string\n",
    "#convertendo a entrada para um número inteiro\n",
    "X = int(entrada)\n",
    "# utilizaremos uma estrutura de repetição com for\n",
    "for i in range(1,X+1): # i assumirá todos os valores de 1 até X, inclusive X\n",
    "    expression = (i%2 == 1) # será verdadeiro se i for ímpar\n",
    "    if expression: # se expression for verdadeira\n",
    "        print(i) # imprime i"
   ]
  },
  {
   "cell_type": "markdown",
   "metadata": {},
   "source": [
    "Lembre-se de usar todos os casos testes dados no problema. Mais ainda, ao submeter sua solução no Uri Online, não se esqueça de remover os comentários e escolher a linguagem certa no site, a saber Python 3."
   ]
  },
  {
   "cell_type": "markdown",
   "metadata": {},
   "source": [
    "<h2>4 - Repetição: WHILE</h2>"
   ]
  },
  {
   "cell_type": "markdown",
   "metadata": {},
   "source": [
    "Outra estrutura de repetição da linguagem Python utiliza a keyword <b>while</b>. Esta estrura executa blocos de códigos enquanto a expressão checada for verdadeira. Considere o código abaixo:"
   ]
  },
  {
   "cell_type": "code",
   "execution_count": 26,
   "metadata": {},
   "outputs": [
    {
     "name": "stdout",
     "output_type": "stream",
     "text": [
      "x = 15\n"
     ]
    }
   ],
   "source": [
    "x = 1\n",
    "x = x + 2\n",
    "x = x + 3\n",
    "x = x + 4\n",
    "x = x + 5\n",
    "print('x =',x)"
   ]
  },
  {
   "cell_type": "markdown",
   "metadata": {},
   "source": [
    "Primeiramente, poderíamos utilizar ainda a estrutura de repetição for:"
   ]
  },
  {
   "cell_type": "code",
   "execution_count": 27,
   "metadata": {},
   "outputs": [
    {
     "name": "stdout",
     "output_type": "stream",
     "text": [
      "x = 15\n"
     ]
    }
   ],
   "source": [
    "x = 1\n",
    "for i in range(2,6):\n",
    "    x = x + i\n",
    "print('x =',x)"
   ]
  },
  {
   "cell_type": "markdown",
   "metadata": {},
   "source": [
    "Agora, vejamos como fica com while:"
   ]
  },
  {
   "cell_type": "code",
   "execution_count": 28,
   "metadata": {},
   "outputs": [
    {
     "name": "stdout",
     "output_type": "stream",
     "text": [
      "x = 15\n"
     ]
    }
   ],
   "source": [
    "x = 1\n",
    "i = 2\n",
    "expression = (i < 6)\n",
    "while expression:\n",
    "    x = x + i\n",
    "    i = i + 1\n",
    "    expression = i < 6\n",
    "print('x =',x)"
   ]
  },
  {
   "cell_type": "markdown",
   "metadata": {},
   "source": [
    "A linha 4 do código acima diz que, enquanto o valor da variável expression for True, as linhas 5, 6 e 7 serão repetidas. A linha 5, atribui a variável x seu valor somado i. A linha 6, atribui a variável i seu valor somado 1. O valor da variável expression é então atualizado de acordo com a atualização do valor da variável i."
   ]
  },
  {
   "cell_type": "markdown",
   "metadata": {},
   "source": [
    "Caso você não atualize os valores da variável i ou da variável expression, a condição sempre será verdadeira e seu programa será executado infinitas vezes. Portanto não esqueça de atualizar as variáveis e o valor da expressão."
   ]
  },
  {
   "cell_type": "markdown",
   "metadata": {},
   "source": [
    "<h3>4.1 - Praticando</h3>"
   ]
  },
  {
   "cell_type": "markdown",
   "metadata": {},
   "source": [
    "Revolveremos novamente o problema de número 1067 da seção de problemas iniciantes do site Uri Online, só que dessa vez, não utilizaremos for, mas sim while."
   ]
  },
  {
   "cell_type": "code",
   "execution_count": 29,
   "metadata": {},
   "outputs": [
    {
     "name": "stdout",
     "output_type": "stream",
     "text": [
      "8\n",
      "1\n",
      "3\n",
      "5\n",
      "7\n"
     ]
    }
   ],
   "source": [
    "# recebendo a entrada do usuário\n",
    "entrada = input() # lembre-se que sempre receberá uma string\n",
    "#convertendo a entrada para um número inteiro\n",
    "X = int(entrada)\n",
    "# utilizaremos uma estrutura de repetição com while\n",
    "i = 1 # valor inicial de i\n",
    "expression1 = (i < X + 1) # valor inicial de expression1\n",
    "while expression1: \n",
    "    expression2 = (i%2 == 1) # será verdadeiro se i for ímpar\n",
    "    if expression2: # se expression for verdadeira\n",
    "        print(i) # imprime i\n",
    "    i = i + 1 # atualizando i\n",
    "    expression1 = (i < X + 1) # atuazliando expression1    "
   ]
  },
  {
   "cell_type": "markdown",
   "metadata": {},
   "source": [
    "<h2> 5 - Funções </h2>"
   ]
  },
  {
   "cell_type": "markdown",
   "metadata": {},
   "source": [
    "Funções são utilizadas para agrupar uma série de comandos na intenção de reutilizálos. Por exemplo, se você quer saber se três variáveis X, Y e Z têm valores inteiros pares, uma opção seria:"
   ]
  },
  {
   "cell_type": "code",
   "execution_count": 30,
   "metadata": {},
   "outputs": [
    {
     "name": "stdout",
     "output_type": "stream",
     "text": [
      "Impar\n",
      "Par\n",
      "Par\n"
     ]
    }
   ],
   "source": [
    "X = 7\n",
    "if X % 2 == 0:\n",
    "    print(\"Par\")\n",
    "else:\n",
    "    print(\"Impar\")\n",
    "Y = 2 \n",
    "if Y % 2 == 0:\n",
    "    print(\"Par\")\n",
    "else:\n",
    "    print(\"Impar\")\n",
    "Z = 42\n",
    "if Z % 2 == 0:\n",
    "    print(\"Par\")\n",
    "else:\n",
    "    print(\"Impar\")"
   ]
  },
  {
   "cell_type": "markdown",
   "metadata": {},
   "source": [
    "No exemplo acima, há muita repetição de código, alterando apenas as variáveis X, Y e Z. Vejamos como ficaria com função, depois veremos os detalhes de sintaxe."
   ]
  },
  {
   "cell_type": "code",
   "execution_count": 31,
   "metadata": {},
   "outputs": [
    {
     "name": "stdout",
     "output_type": "stream",
     "text": [
      "Impar\n",
      "Par\n",
      "Par\n"
     ]
    }
   ],
   "source": [
    "def isPar(var):\n",
    "    if var % 2 == 0:\n",
    "        print(\"Par\")\n",
    "    else:\n",
    "        print(\"Impar\")\n",
    "isPar(X)\n",
    "isPar(Y)\n",
    "isPar(Z)"
   ]
  },
  {
   "cell_type": "markdown",
   "metadata": {},
   "source": [
    "Na linha 1 do exemplo acima, declaramos o nome da função e entre parênteses o parâmetro de entrada. Nesse caso o parâmetro de entrada é a variável var. Nas linhas 2, 3, 4 e 5, executamos alguns comandos dependendo da variável var. Nas linhas 6, 7 e 8 aplicamos a função isPar nas variáveis X, Y e Z. Observe que os comandos que fazem parte do <b>escopo</b> da função aparecem após os dois pontos e identados em 4 espaços como nas linhas 2, 3, 4 e 5. No caso das linhas 3 e 5, a identação tem também mais 4 espaços uma vez que os comandos se encontram também dentro do <b>escopo</b> das condicionais determinadas por if e else."
   ]
  },
  {
   "cell_type": "code",
   "execution_count": 32,
   "metadata": {},
   "outputs": [
    {
     "data": {
      "text/plain": [
       "function"
      ]
     },
     "execution_count": 32,
     "metadata": {},
     "output_type": "execute_result"
    }
   ],
   "source": [
    "# qual o tipo de uma função?\n",
    "type(isPar)"
   ]
  },
  {
   "cell_type": "markdown",
   "metadata": {},
   "source": [
    "Uma função pode não ter parâmetros:"
   ]
  },
  {
   "cell_type": "code",
   "execution_count": 33,
   "metadata": {
    "collapsed": true
   },
   "outputs": [],
   "source": [
    "def digaHello():\n",
    "    print('Hello!')"
   ]
  },
  {
   "cell_type": "markdown",
   "metadata": {},
   "source": [
    "Observe que o nome da função acima é digaHello e entre parênteses não há parâmetros. Quando você chama uma função sem parâmetos ela simplesmente executa as linhas identadas em 4 espaços após os dois pontos. nesse caso a linha 2."
   ]
  },
  {
   "cell_type": "code",
   "execution_count": 34,
   "metadata": {},
   "outputs": [
    {
     "name": "stdout",
     "output_type": "stream",
     "text": [
      "Hello!\n"
     ]
    }
   ],
   "source": [
    "# chamando a função\n",
    "digaHello()"
   ]
  },
  {
   "cell_type": "markdown",
   "metadata": {},
   "source": [
    "Uma função pode ter 2 ou mais parâmetros:"
   ]
  },
  {
   "cell_type": "code",
   "execution_count": 35,
   "metadata": {
    "collapsed": true
   },
   "outputs": [],
   "source": [
    "def max_numbers(x, y):\n",
    "    if x > y:\n",
    "        print(x)\n",
    "    else:\n",
    "        print(y)"
   ]
  },
  {
   "cell_type": "markdown",
   "metadata": {},
   "source": [
    "Observe que os parâmetros da função max_numbers são x e y."
   ]
  },
  {
   "cell_type": "code",
   "execution_count": 36,
   "metadata": {},
   "outputs": [
    {
     "name": "stdout",
     "output_type": "stream",
     "text": [
      "6\n"
     ]
    }
   ],
   "source": [
    "# chamando a função max_numbers\n",
    "x = 5\n",
    "y = 6\n",
    "max_numbers(x,y)"
   ]
  },
  {
   "cell_type": "code",
   "execution_count": 37,
   "metadata": {},
   "outputs": [
    {
     "name": "stdout",
     "output_type": "stream",
     "text": [
      "6\n"
     ]
    }
   ],
   "source": [
    "# outra maneira de chamar a função max_numbers\n",
    "max_numbers(x=5, y=6)"
   ]
  },
  {
   "cell_type": "markdown",
   "metadata": {},
   "source": [
    "Uma função pode ter parâmetros não obrigatórios ou <b>default</b>."
   ]
  },
  {
   "cell_type": "code",
   "execution_count": 38,
   "metadata": {
    "collapsed": true
   },
   "outputs": [],
   "source": [
    "def seApresente(nome, pais='Brasil'):\n",
    "    print('Eu sou',nome,'do',pais)"
   ]
  },
  {
   "cell_type": "code",
   "execution_count": 39,
   "metadata": {},
   "outputs": [
    {
     "name": "stdout",
     "output_type": "stream",
     "text": [
      "Eu sou Leandro do Brasil\n"
     ]
    }
   ],
   "source": [
    "# chamando a função seApresente apenas com o parâmetros nome\n",
    "nome = \"Leandro\"\n",
    "seApresente(nome)"
   ]
  },
  {
   "cell_type": "code",
   "execution_count": 40,
   "metadata": {},
   "outputs": [
    {
     "name": "stdout",
     "output_type": "stream",
     "text": [
      "Eu sou Trump do Estados Unidos\n"
     ]
    }
   ],
   "source": [
    "# chamando a função seApresente com os parâmetros nome e com pais\n",
    "nome = \"Trump\"\n",
    "pais = \"Estados Unidos\"\n",
    "seApresente(nome,pais)"
   ]
  },
  {
   "cell_type": "markdown",
   "metadata": {},
   "source": [
    "<h3>5.1 - Print vs Return</h3>"
   ]
  },
  {
   "cell_type": "markdown",
   "metadata": {},
   "source": [
    "Tentaremos agora guardar a apresentação do Trump na variavel apresentacao:"
   ]
  },
  {
   "cell_type": "code",
   "execution_count": 41,
   "metadata": {},
   "outputs": [
    {
     "name": "stdout",
     "output_type": "stream",
     "text": [
      "Eu sou Trump do Estados Unidos\n"
     ]
    }
   ],
   "source": [
    "apresentacao = seApresente(nome='Trump', pais='Estados Unidos')"
   ]
  },
  {
   "cell_type": "markdown",
   "metadata": {},
   "source": [
    "Primeira coisa estranha é que ao atribuir uma string a variável apresentacao, a string foi impressa. Mas atribuições não imprimem nada. Algo está errado. Vejamos o tipo de valor armazenado na variável apresentacao."
   ]
  },
  {
   "cell_type": "code",
   "execution_count": 42,
   "metadata": {},
   "outputs": [
    {
     "data": {
      "text/plain": [
       "NoneType"
      ]
     },
     "execution_count": 42,
     "metadata": {},
     "output_type": "execute_result"
    }
   ],
   "source": [
    "type(apresentacao)"
   ]
  },
  {
   "cell_type": "markdown",
   "metadata": {},
   "source": [
    "Nada foi armazenado na variável apresentacao. Isso porque não utilizamos <b>return</b>. Alteraremos a função pra tentar novamente."
   ]
  },
  {
   "cell_type": "code",
   "execution_count": 43,
   "metadata": {
    "collapsed": true
   },
   "outputs": [],
   "source": [
    "def seApresente(nome, pais='Brasil'):\n",
    "    return 'Eu sou' + str(nome) + 'do' + str(pais)"
   ]
  },
  {
   "cell_type": "markdown",
   "metadata": {},
   "source": [
    "Tentaremos novamente:"
   ]
  },
  {
   "cell_type": "code",
   "execution_count": 44,
   "metadata": {
    "collapsed": true
   },
   "outputs": [],
   "source": [
    "apresentacao = seApresente(nome='Trump', pais='Estados Unidos')"
   ]
  },
  {
   "cell_type": "markdown",
   "metadata": {},
   "source": [
    "Dessa vez nada foi impresso. Vejamos qual o tipo de valor atribuido a variável apresentacao."
   ]
  },
  {
   "cell_type": "code",
   "execution_count": 45,
   "metadata": {},
   "outputs": [
    {
     "data": {
      "text/plain": [
       "str"
      ]
     },
     "execution_count": 45,
     "metadata": {},
     "output_type": "execute_result"
    }
   ],
   "source": [
    "type(apresentacao)"
   ]
  },
  {
   "cell_type": "markdown",
   "metadata": {},
   "source": [
    "Parece tudo estar ok, por fim vamos imprimir a apresentacao do Trump."
   ]
  },
  {
   "cell_type": "code",
   "execution_count": 46,
   "metadata": {},
   "outputs": [
    {
     "name": "stdout",
     "output_type": "stream",
     "text": [
      "Eu souTrumpdoEstados Unidos\n"
     ]
    }
   ],
   "source": [
    "print(apresentacao)"
   ]
  },
  {
   "cell_type": "markdown",
   "metadata": {},
   "source": [
    "Excelente, agora você sabe quando utilizar <b>print</b> e quando utilizar <b>return</b>."
   ]
  },
  {
   "cell_type": "markdown",
   "metadata": {},
   "source": [
    "<h3>5.2 - Funções com vários parâmetros</h3>"
   ]
  },
  {
   "cell_type": "markdown",
   "metadata": {},
   "source": [
    "Considere a seguinte função:"
   ]
  },
  {
   "cell_type": "code",
   "execution_count": 47,
   "metadata": {
    "collapsed": true
   },
   "outputs": [],
   "source": [
    "def crazySum(a,b,c,d=1,e=2,f=3):\n",
    "    print( a + b + c + d + 2*e + 3*f )"
   ]
  },
  {
   "cell_type": "markdown",
   "metadata": {},
   "source": [
    "Vejamos o que acontece com as chamadas a seguir:"
   ]
  },
  {
   "cell_type": "code",
   "execution_count": 48,
   "metadata": {},
   "outputs": [
    {
     "name": "stdout",
     "output_type": "stream",
     "text": [
      "74\n"
     ]
    }
   ],
   "source": [
    "# chamando a função apenas com parâmetros obrigátorios e não default\n",
    "crazySum(10,20,30)"
   ]
  },
  {
   "cell_type": "code",
   "execution_count": 49,
   "metadata": {},
   "outputs": [
    {
     "name": "stdout",
     "output_type": "stream",
     "text": [
      "81\n"
     ]
    }
   ],
   "source": [
    "# chamando a função com todos os parâmetros\n",
    "crazySum(10,20,30,0,3,5)"
   ]
  },
  {
   "cell_type": "code",
   "execution_count": 50,
   "metadata": {},
   "outputs": [
    {
     "name": "stdout",
     "output_type": "stream",
     "text": [
      "79\n"
     ]
    }
   ],
   "source": [
    "# chamando a função com parâmetros default misturados\n",
    "crazySum(10,20,30,f=5,d=4,e=0)"
   ]
  },
  {
   "cell_type": "markdown",
   "metadata": {},
   "source": [
    "<h2>6 - Função fatorial</h2>"
   ]
  },
  {
   "cell_type": "markdown",
   "metadata": {},
   "source": [
    "Esta seção tem o objetivo de praticar quase tudo visto nesse tutorial. Para isso criaremos uma função, chamada fatorial, que retorna o fatorial de um número n dado como parâmetro de entrada da função."
   ]
  },
  {
   "cell_type": "code",
   "execution_count": 51,
   "metadata": {
    "collapsed": true
   },
   "outputs": [],
   "source": [
    "def fatorial(n):\n",
    "    if n == 0:\n",
    "        return n\n",
    "    elif n == 1:\n",
    "        return n\n",
    "    else:\n",
    "        resultado = 1\n",
    "        for i in range(1,n+1):\n",
    "            resultado = resultado * i\n",
    "        return resultado"
   ]
  },
  {
   "cell_type": "markdown",
   "metadata": {},
   "source": [
    "Note que a função acima usa if, elif, else, for, range e return. Além de ainda ser uma função de nome fatorial com um parâmetro de entrada n. Observe ainda as identações, quais linhas são executadas dentro de quais escopos? Temos estruturas de função, repetição e condicionais. Esse exemplo é muito rico e você deve entender cada linha desse exemplo para ter um maior domínio sobre o conteúdo abordado nesse tutorial."
   ]
  },
  {
   "cell_type": "code",
   "execution_count": 52,
   "metadata": {},
   "outputs": [
    {
     "data": {
      "text/plain": [
       "120"
      ]
     },
     "execution_count": 52,
     "metadata": {},
     "output_type": "execute_result"
    }
   ],
   "source": [
    "# testando a função\n",
    "fatorial(5)"
   ]
  },
  {
   "cell_type": "code",
   "execution_count": 53,
   "metadata": {},
   "outputs": [
    {
     "data": {
      "text/plain": [
       "720"
      ]
     },
     "execution_count": 53,
     "metadata": {},
     "output_type": "execute_result"
    }
   ],
   "source": [
    "# testando a função\n",
    "fatorial(6)"
   ]
  },
  {
   "cell_type": "code",
   "execution_count": 54,
   "metadata": {},
   "outputs": [
    {
     "data": {
      "text/plain": [
       "3628800"
      ]
     },
     "execution_count": 54,
     "metadata": {},
     "output_type": "execute_result"
    }
   ],
   "source": [
    "# testando a função\n",
    "fatorial(10)"
   ]
  },
  {
   "cell_type": "markdown",
   "metadata": {},
   "source": [
    "É possível também chamar a função dentro da própria função. Isso é chamado de recurssão. O exemplo abaixo é outra forma de escrever a função fatorial:"
   ]
  },
  {
   "cell_type": "code",
   "execution_count": 55,
   "metadata": {
    "collapsed": true
   },
   "outputs": [],
   "source": [
    "def fatorial(n):\n",
    "    if n == 0:\n",
    "        return 1\n",
    "    elif n == 1:\n",
    "        return 1\n",
    "    else:\n",
    "        return n * fatorial(n-1)"
   ]
  },
  {
   "cell_type": "code",
   "execution_count": 56,
   "metadata": {},
   "outputs": [
    {
     "data": {
      "text/plain": [
       "120"
      ]
     },
     "execution_count": 56,
     "metadata": {},
     "output_type": "execute_result"
    }
   ],
   "source": [
    "# testando a função\n",
    "fatorial(5)"
   ]
  },
  {
   "cell_type": "code",
   "execution_count": 57,
   "metadata": {},
   "outputs": [
    {
     "data": {
      "text/plain": [
       "720"
      ]
     },
     "execution_count": 57,
     "metadata": {},
     "output_type": "execute_result"
    }
   ],
   "source": [
    "# testando a função\n",
    "fatorial(6)"
   ]
  },
  {
   "cell_type": "code",
   "execution_count": 58,
   "metadata": {},
   "outputs": [
    {
     "data": {
      "text/plain": [
       "3628800"
      ]
     },
     "execution_count": 58,
     "metadata": {},
     "output_type": "execute_result"
    }
   ],
   "source": [
    "# testando a função\n",
    "fatorial(10)"
   ]
  },
  {
   "cell_type": "markdown",
   "metadata": {},
   "source": [
    "Por fim faremos a função fatorial utilizando a estrutura de repetição while no lugar da estrutura for:"
   ]
  },
  {
   "cell_type": "code",
   "execution_count": 59,
   "metadata": {
    "collapsed": true
   },
   "outputs": [],
   "source": [
    "def fatorial(n):\n",
    "    if n == 0:\n",
    "        return n\n",
    "    elif n == 1:\n",
    "        return n\n",
    "    else:\n",
    "        resultado = 1\n",
    "        while n > 1:\n",
    "            resultado = resultado * n\n",
    "            n = n - 1\n",
    "        return resultado"
   ]
  },
  {
   "cell_type": "code",
   "execution_count": 60,
   "metadata": {},
   "outputs": [
    {
     "data": {
      "text/plain": [
       "120"
      ]
     },
     "execution_count": 60,
     "metadata": {},
     "output_type": "execute_result"
    }
   ],
   "source": [
    "# testando a função\n",
    "fatorial(5)"
   ]
  },
  {
   "cell_type": "code",
   "execution_count": 61,
   "metadata": {},
   "outputs": [
    {
     "data": {
      "text/plain": [
       "720"
      ]
     },
     "execution_count": 61,
     "metadata": {},
     "output_type": "execute_result"
    }
   ],
   "source": [
    "# testando a função\n",
    "fatorial(6)"
   ]
  },
  {
   "cell_type": "code",
   "execution_count": 62,
   "metadata": {},
   "outputs": [
    {
     "data": {
      "text/plain": [
       "3628800"
      ]
     },
     "execution_count": 62,
     "metadata": {},
     "output_type": "execute_result"
    }
   ],
   "source": [
    "# testando a função\n",
    "fatorial(10)"
   ]
  },
  {
   "cell_type": "markdown",
   "metadata": {},
   "source": [
    "<h2>7 - Documentação de funções</h2>"
   ]
  },
  {
   "cell_type": "markdown",
   "metadata": {},
   "source": [
    "Considere a seguinte função:"
   ]
  },
  {
   "cell_type": "code",
   "execution_count": 1,
   "metadata": {
    "collapsed": true
   },
   "outputs": [],
   "source": [
    "def quadrado(x):\n",
    "    \"\"\"\n",
    "        input:\n",
    "            x - a float number\n",
    "        output:\n",
    "            return x times x    \n",
    "    \"\"\"\n",
    "    return x * x"
   ]
  },
  {
   "cell_type": "markdown",
   "metadata": {},
   "source": [
    "A função quadrado recebe um parâmetro x e retorna x * x."
   ]
  },
  {
   "cell_type": "code",
   "execution_count": 2,
   "metadata": {},
   "outputs": [
    {
     "data": {
      "text/plain": [
       "81"
      ]
     },
     "execution_count": 2,
     "metadata": {},
     "output_type": "execute_result"
    }
   ],
   "source": [
    "# chamando a função quadrado\n",
    "quadrado(9)"
   ]
  },
  {
   "cell_type": "markdown",
   "metadata": {},
   "source": [
    "O texto entre aspas triplas, nas linhas 3, 4, 5 e 6 é um comentário com várias linhas dentro de uma função e serve para ajudar o usuário quando este procurar informações a respeito da função considerada. Para acessar essa informação para utilizar a built-in function help:"
   ]
  },
  {
   "cell_type": "code",
   "execution_count": 3,
   "metadata": {},
   "outputs": [
    {
     "name": "stdout",
     "output_type": "stream",
     "text": [
      "Help on function quadrado in module __main__:\n",
      "\n",
      "quadrado(x)\n",
      "    input:\n",
      "        x - a float number\n",
      "    output:\n",
      "        return x times x\n",
      "\n"
     ]
    }
   ],
   "source": [
    "help(quadrado)"
   ]
  },
  {
   "cell_type": "markdown",
   "metadata": {
    "collapsed": true
   },
   "source": [
    "<h2>8 - Escopo</h2>"
   ]
  },
  {
   "cell_type": "markdown",
   "metadata": {},
   "source": [
    "As linhas identadas dentro de uma estrutura de função é chamada de escopo da função. Variáveis declaradas dentro do escopo de uma função só possuem valor dentro daquele escopo. Por exemplo:"
   ]
  },
  {
   "cell_type": "code",
   "execution_count": 4,
   "metadata": {
    "collapsed": true
   },
   "outputs": [],
   "source": [
    "def minha_funcao():\n",
    "    y = 3"
   ]
  },
  {
   "cell_type": "markdown",
   "metadata": {},
   "source": [
    "Na função acima a variável y não tem valor fora do escopo da funcao <b>minha_funcao</b>"
   ]
  },
  {
   "cell_type": "code",
   "execution_count": 6,
   "metadata": {},
   "outputs": [
    {
     "ename": "NameError",
     "evalue": "name 'y' is not defined",
     "output_type": "error",
     "traceback": [
      "\u001b[0;31m---------------------------------------------------------------------------\u001b[0m",
      "\u001b[0;31mNameError\u001b[0m                                 Traceback (most recent call last)",
      "\u001b[0;32m<ipython-input-6-2f2841d60cc3>\u001b[0m in \u001b[0;36m<module>\u001b[0;34m()\u001b[0m\n\u001b[1;32m      1\u001b[0m \u001b[0mminha_funcao\u001b[0m\u001b[0;34m(\u001b[0m\u001b[0;34m)\u001b[0m\u001b[0;34m\u001b[0m\u001b[0m\n\u001b[0;32m----> 2\u001b[0;31m \u001b[0my\u001b[0m\u001b[0;34m\u001b[0m\u001b[0m\n\u001b[0m",
      "\u001b[0;31mNameError\u001b[0m: name 'y' is not defined"
     ]
    }
   ],
   "source": [
    "minha_funcao()\n",
    "y"
   ]
  },
  {
   "cell_type": "markdown",
   "metadata": {},
   "source": [
    "Observe que ao tentar acessar a variável y, um erro ocorre. A mensagem de erro diz que o valor da variável de nome y não está definido. Observe que a função foi executada corretamente, pois o erro aparece na segunda linha de comandos. Vejamos agora o que ocorre quando definimos y antes."
   ]
  },
  {
   "cell_type": "code",
   "execution_count": 7,
   "metadata": {},
   "outputs": [
    {
     "name": "stdout",
     "output_type": "stream",
     "text": [
      "2\n"
     ]
    }
   ],
   "source": [
    "y = 2\n",
    "def minha_funcao():\n",
    "    y = 3\n",
    "minha_funcao()\n",
    "print(y)"
   ]
  },
  {
   "cell_type": "markdown",
   "metadata": {},
   "source": [
    "No código acima, atribui-se o valor inteiro 2 a variável y. Após definir a função e chamá-la, o valor de y não se alterou. Para que uma função reconheça o valor de uma variável fora do seu escopo é necessário o uso da keyword <b>global</b>:"
   ]
  },
  {
   "cell_type": "code",
   "execution_count": 8,
   "metadata": {},
   "outputs": [
    {
     "name": "stdout",
     "output_type": "stream",
     "text": [
      "3\n"
     ]
    }
   ],
   "source": [
    "y = 2\n",
    "def minha_funcao():\n",
    "    global y\n",
    "    y = 3\n",
    "minha_funcao()\n",
    "print(y)"
   ]
  },
  {
   "cell_type": "markdown",
   "metadata": {},
   "source": [
    "Pratique bastante todas as ferramentas vistas nesse tutorial. Para ser um bom programador é necessário muita prática. Os exercícios do Uri Online são excelentes para esse fim."
   ]
  },
  {
   "cell_type": "code",
   "execution_count": null,
   "metadata": {
    "collapsed": true
   },
   "outputs": [],
   "source": []
  }
 ],
 "metadata": {
  "kernelspec": {
   "display_name": "Python 3 (ipykernel)",
   "language": "python",
   "name": "python3"
  },
  "language_info": {
   "codemirror_mode": {
    "name": "ipython",
    "version": 3
   },
   "file_extension": ".py",
   "mimetype": "text/x-python",
   "name": "python",
   "nbconvert_exporter": "python",
   "pygments_lexer": "ipython3",
   "version": "3.10.2"
  }
 },
 "nbformat": 4,
 "nbformat_minor": 2
}
